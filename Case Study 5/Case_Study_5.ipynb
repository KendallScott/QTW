{
  "nbformat": 4,
  "nbformat_minor": 0,
  "metadata": {
    "colab": {
      "provenance": [],
      "gpuType": "A100",
      "include_colab_link": true
    },
    "kernelspec": {
      "name": "python3",
      "display_name": "Python 3"
    },
    "language_info": {
      "name": "python"
    }
  },
  "cells": [
    {
      "cell_type": "markdown",
      "metadata": {
        "id": "view-in-github",
        "colab_type": "text"
      },
      "source": [
        "<a href=\"https://colab.research.google.com/github/KendallScott/QTW/blob/main/Case%20Study%205/Case_Study_5.ipynb\" target=\"_parent\"><img src=\"https://colab.research.google.com/assets/colab-badge.svg\" alt=\"Open In Colab\"/></a>"
      ]
    },
    {
      "cell_type": "code",
      "source": [
        "!pip install scikit-learn-intelex"
      ],
      "metadata": {
        "id": "TIYBinuLC3te",
        "outputId": "2089cc26-52c2-4029-eb4c-fdcca7cfe9ba",
        "colab": {
          "base_uri": "https://localhost:8080/"
        }
      },
      "execution_count": 1,
      "outputs": [
        {
          "output_type": "stream",
          "name": "stdout",
          "text": [
            "Requirement already satisfied: scikit-learn-intelex in c:\\users\\migbo\\anaconda3\\lib\\site-packages (2023.1.1)\n",
            "Requirement already satisfied: daal4py==2023.1.1 in c:\\users\\migbo\\anaconda3\\lib\\site-packages (from scikit-learn-intelex) (2023.1.1)\n",
            "Requirement already satisfied: scikit-learn>=0.22 in c:\\users\\migbo\\anaconda3\\lib\\site-packages (from scikit-learn-intelex) (1.3.0)\n",
            "Requirement already satisfied: daal==2023.1.1 in c:\\users\\migbo\\anaconda3\\lib\\site-packages (from daal4py==2023.1.1->scikit-learn-intelex) (2023.1.1)\n",
            "Requirement already satisfied: numpy>=1.19 in c:\\users\\migbo\\anaconda3\\lib\\site-packages (from daal4py==2023.1.1->scikit-learn-intelex) (1.24.3)\n",
            "Requirement already satisfied: tbb==2021.* in c:\\users\\migbo\\anaconda3\\lib\\site-packages (from daal==2023.1.1->daal4py==2023.1.1->scikit-learn-intelex) (2021.9.0)\n",
            "Requirement already satisfied: scipy>=1.5.0 in c:\\users\\migbo\\anaconda3\\lib\\site-packages (from scikit-learn>=0.22->scikit-learn-intelex) (1.10.1)\n",
            "Requirement already satisfied: threadpoolctl>=2.0.0 in c:\\users\\migbo\\anaconda3\\lib\\site-packages (from scikit-learn>=0.22->scikit-learn-intelex) (3.1.0)\n",
            "Requirement already satisfied: joblib>=1.1.1 in c:\\users\\migbo\\anaconda3\\lib\\site-packages (from scikit-learn>=0.22->scikit-learn-intelex) (1.1.1)\n"
          ]
        }
      ]
    },
    {
      "cell_type": "code",
      "execution_count": 2,
      "metadata": {
        "id": "ejTBb7_5uVao"
      },
      "outputs": [],
      "source": [
        "import numpy as np\n",
        "import pandas as pd\n",
        "from sklearn.preprocessing import label_binarize, OneHotEncoder, StandardScaler\n",
        "import matplotlib.pyplot as plt\n",
        "import seaborn as sns\n",
        "from sklearn.metrics import precision_score, recall_score, f1_score, accuracy_score, classification_report\n",
        "from sklearn.model_selection import train_test_split\n",
        "from yellowbrick.classifier import ConfusionMatrix\n",
        "from sklearn.preprocessing import StandardScaler\n",
        "from numpy import arange\n",
        "import time\n",
        "\n",
        "#from example SVM notebook\n",
        "from sklearn.svm import SVC, LinearSVC\n",
        "from sklearn.metrics import accuracy_score\n",
        "from sklearn.metrics import ConfusionMatrixDisplay\n",
        "\n",
        "from sklearn.linear_model import SGDClassifier"
      ]
    },
    {
      "cell_type": "markdown",
      "source": [
        "Prediction on the Action column, for use with a firewall.\n",
        "\n",
        "Port is like an address that allows connection like a tv channel.\n"
      ],
      "metadata": {
        "id": "705209bRRIEN"
      }
    },
    {
      "cell_type": "code",
      "source": [
        "df = pd.read_csv(\"https://raw.githubusercontent.com/KendallScott/QTW/main/Case%20Study%205/log2.csv\")\n",
        "df"
      ],
      "metadata": {
        "id": "MCE3ceeuuZnt",
        "outputId": "2b8ac4d7-b2a4-4837-8e3a-ccb8c080c2aa",
        "colab": {
          "base_uri": "https://localhost:8080/",
          "height": 424
        }
      },
      "execution_count": 3,
      "outputs": [
        {
          "output_type": "execute_result",
          "data": {
            "text/plain": [
              "       Source Port  Destination Port  NAT Source Port  NAT Destination Port  \\\n",
              "0            57222                53            54587                    53   \n",
              "1            56258              3389            56258                  3389   \n",
              "2             6881             50321            43265                 50321   \n",
              "3            50553              3389            50553                  3389   \n",
              "4            50002               443            45848                   443   \n",
              "...            ...               ...              ...                   ...   \n",
              "65527        63691                80            13237                    80   \n",
              "65528        50964                80            13485                    80   \n",
              "65529        54871               445                0                     0   \n",
              "65530        54870               445                0                     0   \n",
              "65531        54867               445                0                     0   \n",
              "\n",
              "      Action    Bytes  Bytes Sent  Bytes Received  Packets  \\\n",
              "0      allow      177          94              83        2   \n",
              "1      allow     4768        1600            3168       19   \n",
              "2      allow      238         118             120        2   \n",
              "3      allow     3327        1438            1889       15   \n",
              "4      allow    25358        6778           18580       31   \n",
              "...      ...      ...         ...             ...      ...   \n",
              "65527  allow      314         192             122        6   \n",
              "65528  allow  4680740       67312         4613428     4675   \n",
              "65529   drop       70          70               0        1   \n",
              "65530   drop       70          70               0        1   \n",
              "65531   drop       70          70               0        1   \n",
              "\n",
              "       Elapsed Time (sec)  pkts_sent  pkts_received  \n",
              "0                      30          1              1  \n",
              "1                      17         10              9  \n",
              "2                    1199          1              1  \n",
              "3                      17          8              7  \n",
              "4                      16         13             18  \n",
              "...                   ...        ...            ...  \n",
              "65527                  15          4              2  \n",
              "65528                  77        985           3690  \n",
              "65529                   0          1              0  \n",
              "65530                   0          1              0  \n",
              "65531                   0          1              0  \n",
              "\n",
              "[65532 rows x 12 columns]"
            ],
            "text/html": [
              "<div>\n",
              "<style scoped>\n",
              "    .dataframe tbody tr th:only-of-type {\n",
              "        vertical-align: middle;\n",
              "    }\n",
              "\n",
              "    .dataframe tbody tr th {\n",
              "        vertical-align: top;\n",
              "    }\n",
              "\n",
              "    .dataframe thead th {\n",
              "        text-align: right;\n",
              "    }\n",
              "</style>\n",
              "<table border=\"1\" class=\"dataframe\">\n",
              "  <thead>\n",
              "    <tr style=\"text-align: right;\">\n",
              "      <th></th>\n",
              "      <th>Source Port</th>\n",
              "      <th>Destination Port</th>\n",
              "      <th>NAT Source Port</th>\n",
              "      <th>NAT Destination Port</th>\n",
              "      <th>Action</th>\n",
              "      <th>Bytes</th>\n",
              "      <th>Bytes Sent</th>\n",
              "      <th>Bytes Received</th>\n",
              "      <th>Packets</th>\n",
              "      <th>Elapsed Time (sec)</th>\n",
              "      <th>pkts_sent</th>\n",
              "      <th>pkts_received</th>\n",
              "    </tr>\n",
              "  </thead>\n",
              "  <tbody>\n",
              "    <tr>\n",
              "      <th>0</th>\n",
              "      <td>57222</td>\n",
              "      <td>53</td>\n",
              "      <td>54587</td>\n",
              "      <td>53</td>\n",
              "      <td>allow</td>\n",
              "      <td>177</td>\n",
              "      <td>94</td>\n",
              "      <td>83</td>\n",
              "      <td>2</td>\n",
              "      <td>30</td>\n",
              "      <td>1</td>\n",
              "      <td>1</td>\n",
              "    </tr>\n",
              "    <tr>\n",
              "      <th>1</th>\n",
              "      <td>56258</td>\n",
              "      <td>3389</td>\n",
              "      <td>56258</td>\n",
              "      <td>3389</td>\n",
              "      <td>allow</td>\n",
              "      <td>4768</td>\n",
              "      <td>1600</td>\n",
              "      <td>3168</td>\n",
              "      <td>19</td>\n",
              "      <td>17</td>\n",
              "      <td>10</td>\n",
              "      <td>9</td>\n",
              "    </tr>\n",
              "    <tr>\n",
              "      <th>2</th>\n",
              "      <td>6881</td>\n",
              "      <td>50321</td>\n",
              "      <td>43265</td>\n",
              "      <td>50321</td>\n",
              "      <td>allow</td>\n",
              "      <td>238</td>\n",
              "      <td>118</td>\n",
              "      <td>120</td>\n",
              "      <td>2</td>\n",
              "      <td>1199</td>\n",
              "      <td>1</td>\n",
              "      <td>1</td>\n",
              "    </tr>\n",
              "    <tr>\n",
              "      <th>3</th>\n",
              "      <td>50553</td>\n",
              "      <td>3389</td>\n",
              "      <td>50553</td>\n",
              "      <td>3389</td>\n",
              "      <td>allow</td>\n",
              "      <td>3327</td>\n",
              "      <td>1438</td>\n",
              "      <td>1889</td>\n",
              "      <td>15</td>\n",
              "      <td>17</td>\n",
              "      <td>8</td>\n",
              "      <td>7</td>\n",
              "    </tr>\n",
              "    <tr>\n",
              "      <th>4</th>\n",
              "      <td>50002</td>\n",
              "      <td>443</td>\n",
              "      <td>45848</td>\n",
              "      <td>443</td>\n",
              "      <td>allow</td>\n",
              "      <td>25358</td>\n",
              "      <td>6778</td>\n",
              "      <td>18580</td>\n",
              "      <td>31</td>\n",
              "      <td>16</td>\n",
              "      <td>13</td>\n",
              "      <td>18</td>\n",
              "    </tr>\n",
              "    <tr>\n",
              "      <th>...</th>\n",
              "      <td>...</td>\n",
              "      <td>...</td>\n",
              "      <td>...</td>\n",
              "      <td>...</td>\n",
              "      <td>...</td>\n",
              "      <td>...</td>\n",
              "      <td>...</td>\n",
              "      <td>...</td>\n",
              "      <td>...</td>\n",
              "      <td>...</td>\n",
              "      <td>...</td>\n",
              "      <td>...</td>\n",
              "    </tr>\n",
              "    <tr>\n",
              "      <th>65527</th>\n",
              "      <td>63691</td>\n",
              "      <td>80</td>\n",
              "      <td>13237</td>\n",
              "      <td>80</td>\n",
              "      <td>allow</td>\n",
              "      <td>314</td>\n",
              "      <td>192</td>\n",
              "      <td>122</td>\n",
              "      <td>6</td>\n",
              "      <td>15</td>\n",
              "      <td>4</td>\n",
              "      <td>2</td>\n",
              "    </tr>\n",
              "    <tr>\n",
              "      <th>65528</th>\n",
              "      <td>50964</td>\n",
              "      <td>80</td>\n",
              "      <td>13485</td>\n",
              "      <td>80</td>\n",
              "      <td>allow</td>\n",
              "      <td>4680740</td>\n",
              "      <td>67312</td>\n",
              "      <td>4613428</td>\n",
              "      <td>4675</td>\n",
              "      <td>77</td>\n",
              "      <td>985</td>\n",
              "      <td>3690</td>\n",
              "    </tr>\n",
              "    <tr>\n",
              "      <th>65529</th>\n",
              "      <td>54871</td>\n",
              "      <td>445</td>\n",
              "      <td>0</td>\n",
              "      <td>0</td>\n",
              "      <td>drop</td>\n",
              "      <td>70</td>\n",
              "      <td>70</td>\n",
              "      <td>0</td>\n",
              "      <td>1</td>\n",
              "      <td>0</td>\n",
              "      <td>1</td>\n",
              "      <td>0</td>\n",
              "    </tr>\n",
              "    <tr>\n",
              "      <th>65530</th>\n",
              "      <td>54870</td>\n",
              "      <td>445</td>\n",
              "      <td>0</td>\n",
              "      <td>0</td>\n",
              "      <td>drop</td>\n",
              "      <td>70</td>\n",
              "      <td>70</td>\n",
              "      <td>0</td>\n",
              "      <td>1</td>\n",
              "      <td>0</td>\n",
              "      <td>1</td>\n",
              "      <td>0</td>\n",
              "    </tr>\n",
              "    <tr>\n",
              "      <th>65531</th>\n",
              "      <td>54867</td>\n",
              "      <td>445</td>\n",
              "      <td>0</td>\n",
              "      <td>0</td>\n",
              "      <td>drop</td>\n",
              "      <td>70</td>\n",
              "      <td>70</td>\n",
              "      <td>0</td>\n",
              "      <td>1</td>\n",
              "      <td>0</td>\n",
              "      <td>1</td>\n",
              "      <td>0</td>\n",
              "    </tr>\n",
              "  </tbody>\n",
              "</table>\n",
              "<p>65532 rows × 12 columns</p>\n",
              "</div>"
            ]
          },
          "metadata": {},
          "execution_count": 3
        }
      ]
    },
    {
      "cell_type": "code",
      "source": [
        "df.info()"
      ],
      "metadata": {
        "id": "2wsbgvwnQV1q",
        "outputId": "9610c314-ccb6-49bc-a9d3-966b0a04c229",
        "colab": {
          "base_uri": "https://localhost:8080/"
        }
      },
      "execution_count": 4,
      "outputs": [
        {
          "output_type": "stream",
          "name": "stdout",
          "text": [
            "<class 'pandas.core.frame.DataFrame'>\n",
            "RangeIndex: 65532 entries, 0 to 65531\n",
            "Data columns (total 12 columns):\n",
            " #   Column                Non-Null Count  Dtype \n",
            "---  ------                --------------  ----- \n",
            " 0   Source Port           65532 non-null  int64 \n",
            " 1   Destination Port      65532 non-null  int64 \n",
            " 2   NAT Source Port       65532 non-null  int64 \n",
            " 3   NAT Destination Port  65532 non-null  int64 \n",
            " 4   Action                65532 non-null  object\n",
            " 5   Bytes                 65532 non-null  int64 \n",
            " 6   Bytes Sent            65532 non-null  int64 \n",
            " 7   Bytes Received        65532 non-null  int64 \n",
            " 8   Packets               65532 non-null  int64 \n",
            " 9   Elapsed Time (sec)    65532 non-null  int64 \n",
            " 10  pkts_sent             65532 non-null  int64 \n",
            " 11  pkts_received         65532 non-null  int64 \n",
            "dtypes: int64(11), object(1)\n",
            "memory usage: 6.0+ MB\n"
          ]
        }
      ]
    },
    {
      "cell_type": "code",
      "source": [
        "df.head()"
      ],
      "metadata": {
        "id": "4MOjihLUvN5D",
        "outputId": "3c608ad8-0d24-4979-d4ee-7bc329d94c43",
        "colab": {
          "base_uri": "https://localhost:8080/",
          "height": 206
        }
      },
      "execution_count": 5,
      "outputs": [
        {
          "output_type": "execute_result",
          "data": {
            "text/plain": [
              "   Source Port  Destination Port  NAT Source Port  NAT Destination Port  \\\n",
              "0        57222                53            54587                    53   \n",
              "1        56258              3389            56258                  3389   \n",
              "2         6881             50321            43265                 50321   \n",
              "3        50553              3389            50553                  3389   \n",
              "4        50002               443            45848                   443   \n",
              "\n",
              "  Action  Bytes  Bytes Sent  Bytes Received  Packets  Elapsed Time (sec)  \\\n",
              "0  allow    177          94              83        2                  30   \n",
              "1  allow   4768        1600            3168       19                  17   \n",
              "2  allow    238         118             120        2                1199   \n",
              "3  allow   3327        1438            1889       15                  17   \n",
              "4  allow  25358        6778           18580       31                  16   \n",
              "\n",
              "   pkts_sent  pkts_received  \n",
              "0          1              1  \n",
              "1         10              9  \n",
              "2          1              1  \n",
              "3          8              7  \n",
              "4         13             18  "
            ],
            "text/html": [
              "<div>\n",
              "<style scoped>\n",
              "    .dataframe tbody tr th:only-of-type {\n",
              "        vertical-align: middle;\n",
              "    }\n",
              "\n",
              "    .dataframe tbody tr th {\n",
              "        vertical-align: top;\n",
              "    }\n",
              "\n",
              "    .dataframe thead th {\n",
              "        text-align: right;\n",
              "    }\n",
              "</style>\n",
              "<table border=\"1\" class=\"dataframe\">\n",
              "  <thead>\n",
              "    <tr style=\"text-align: right;\">\n",
              "      <th></th>\n",
              "      <th>Source Port</th>\n",
              "      <th>Destination Port</th>\n",
              "      <th>NAT Source Port</th>\n",
              "      <th>NAT Destination Port</th>\n",
              "      <th>Action</th>\n",
              "      <th>Bytes</th>\n",
              "      <th>Bytes Sent</th>\n",
              "      <th>Bytes Received</th>\n",
              "      <th>Packets</th>\n",
              "      <th>Elapsed Time (sec)</th>\n",
              "      <th>pkts_sent</th>\n",
              "      <th>pkts_received</th>\n",
              "    </tr>\n",
              "  </thead>\n",
              "  <tbody>\n",
              "    <tr>\n",
              "      <th>0</th>\n",
              "      <td>57222</td>\n",
              "      <td>53</td>\n",
              "      <td>54587</td>\n",
              "      <td>53</td>\n",
              "      <td>allow</td>\n",
              "      <td>177</td>\n",
              "      <td>94</td>\n",
              "      <td>83</td>\n",
              "      <td>2</td>\n",
              "      <td>30</td>\n",
              "      <td>1</td>\n",
              "      <td>1</td>\n",
              "    </tr>\n",
              "    <tr>\n",
              "      <th>1</th>\n",
              "      <td>56258</td>\n",
              "      <td>3389</td>\n",
              "      <td>56258</td>\n",
              "      <td>3389</td>\n",
              "      <td>allow</td>\n",
              "      <td>4768</td>\n",
              "      <td>1600</td>\n",
              "      <td>3168</td>\n",
              "      <td>19</td>\n",
              "      <td>17</td>\n",
              "      <td>10</td>\n",
              "      <td>9</td>\n",
              "    </tr>\n",
              "    <tr>\n",
              "      <th>2</th>\n",
              "      <td>6881</td>\n",
              "      <td>50321</td>\n",
              "      <td>43265</td>\n",
              "      <td>50321</td>\n",
              "      <td>allow</td>\n",
              "      <td>238</td>\n",
              "      <td>118</td>\n",
              "      <td>120</td>\n",
              "      <td>2</td>\n",
              "      <td>1199</td>\n",
              "      <td>1</td>\n",
              "      <td>1</td>\n",
              "    </tr>\n",
              "    <tr>\n",
              "      <th>3</th>\n",
              "      <td>50553</td>\n",
              "      <td>3389</td>\n",
              "      <td>50553</td>\n",
              "      <td>3389</td>\n",
              "      <td>allow</td>\n",
              "      <td>3327</td>\n",
              "      <td>1438</td>\n",
              "      <td>1889</td>\n",
              "      <td>15</td>\n",
              "      <td>17</td>\n",
              "      <td>8</td>\n",
              "      <td>7</td>\n",
              "    </tr>\n",
              "    <tr>\n",
              "      <th>4</th>\n",
              "      <td>50002</td>\n",
              "      <td>443</td>\n",
              "      <td>45848</td>\n",
              "      <td>443</td>\n",
              "      <td>allow</td>\n",
              "      <td>25358</td>\n",
              "      <td>6778</td>\n",
              "      <td>18580</td>\n",
              "      <td>31</td>\n",
              "      <td>16</td>\n",
              "      <td>13</td>\n",
              "      <td>18</td>\n",
              "    </tr>\n",
              "  </tbody>\n",
              "</table>\n",
              "</div>"
            ]
          },
          "metadata": {},
          "execution_count": 5
        }
      ]
    },
    {
      "cell_type": "code",
      "source": [
        "plt.bar(df['Action'].value_counts(normalize=True).index,df['Action'].value_counts(normalize=True))\n",
        "plt.grid(axis='x')\n",
        "plt.title('Action Type Distribution')\n",
        "plt.show()"
      ],
      "metadata": {
        "id": "EW3WeYVYAk8f",
        "outputId": "85ad11de-c5ab-4a6f-d425-f338000866d7",
        "colab": {
          "base_uri": "https://localhost:8080/",
          "height": 502
        }
      },
      "execution_count": 6,
      "outputs": [
        {
          "output_type": "display_data",
          "data": {
            "text/plain": [
              "<Figure size 800x550 with 1 Axes>"
            ],
            "image/png": "[encoded data removed]"
          },
          "metadata": {}
        }
      ]
    },
    {
      "cell_type": "code",
      "source": [
        "df['Action'].value_counts(normalize=True)\n",
        "\n"
      ],
      "metadata": {
        "id": "v3Bbua6dMLFg",
        "outputId": "cb75af70-4a89-4a17-e755-d0c23d7903aa",
        "colab": {
          "base_uri": "https://localhost:8080/"
        }
      },
      "execution_count": 7,
      "outputs": [
        {
          "output_type": "execute_result",
          "data": {
            "text/plain": [
              "allow         0.574376\n",
              "deny          0.228697\n",
              "drop          0.196103\n",
              "reset-both    0.000824\n",
              "Name: Action, dtype: float64"
            ]
          },
          "metadata": {},
          "execution_count": 7
        }
      ]
    },
    {
      "cell_type": "code",
      "source": [
        "df['Source Port'] = df['Source Port'].astype(str)\n",
        "df['Destination Port'] = df['Destination Port'].astype(str)\n",
        "df['NAT Source Port'] = df['NAT Source Port'].astype(str)\n",
        "df['NAT Destination Port'] = df['NAT Destination Port'].astype(str)"
      ],
      "metadata": {
        "id": "eIpzn5o0YtX_"
      },
      "execution_count": 8,
      "outputs": []
    },
    {
      "cell_type": "code",
      "source": [
        "df.describe()"
      ],
      "metadata": {
        "colab": {
          "base_uri": "https://localhost:8080/",
          "height": 300
        },
        "id": "PrhBIvha0AQn",
        "outputId": "0e26f0ff-08df-4cdf-968c-946c8a4e52b5"
      },
      "execution_count": 9,
      "outputs": [
        {
          "output_type": "execute_result",
          "data": {
            "text/plain": [
              "              Bytes    Bytes Sent  Bytes Received       Packets  \\\n",
              "count  6.553200e+04  6.553200e+04    6.553200e+04  6.553200e+04   \n",
              "mean   9.712395e+04  2.238580e+04    7.473815e+04  1.028660e+02   \n",
              "std    5.618439e+06  3.828139e+06    2.463208e+06  5.133002e+03   \n",
              "min    6.000000e+01  6.000000e+01    0.000000e+00  1.000000e+00   \n",
              "25%    6.600000e+01  6.600000e+01    0.000000e+00  1.000000e+00   \n",
              "50%    1.680000e+02  9.000000e+01    7.900000e+01  2.000000e+00   \n",
              "75%    7.522500e+02  2.100000e+02    4.490000e+02  6.000000e+00   \n",
              "max    1.269359e+09  9.484772e+08    3.208818e+08  1.036116e+06   \n",
              "\n",
              "       Elapsed Time (sec)      pkts_sent  pkts_received  \n",
              "count        65532.000000   65532.000000   65532.000000  \n",
              "mean            65.833577      41.399530      61.466505  \n",
              "std            302.461762    3218.871288    2223.332271  \n",
              "min              0.000000       1.000000       0.000000  \n",
              "25%              0.000000       1.000000       0.000000  \n",
              "50%             15.000000       1.000000       1.000000  \n",
              "75%             30.000000       3.000000       2.000000  \n",
              "max          10824.000000  747520.000000  327208.000000  "
            ],
            "text/html": [
              "<div>\n",
              "<style scoped>\n",
              "    .dataframe tbody tr th:only-of-type {\n",
              "        vertical-align: middle;\n",
              "    }\n",
              "\n",
              "    .dataframe tbody tr th {\n",
              "        vertical-align: top;\n",
              "    }\n",
              "\n",
              "    .dataframe thead th {\n",
              "        text-align: right;\n",
              "    }\n",
              "</style>\n",
              "<table border=\"1\" class=\"dataframe\">\n",
              "  <thead>\n",
              "    <tr style=\"text-align: right;\">\n",
              "      <th></th>\n",
              "      <th>Bytes</th>\n",
              "      <th>Bytes Sent</th>\n",
              "      <th>Bytes Received</th>\n",
              "      <th>Packets</th>\n",
              "      <th>Elapsed Time (sec)</th>\n",
              "      <th>pkts_sent</th>\n",
              "      <th>pkts_received</th>\n",
              "    </tr>\n",
              "  </thead>\n",
              "  <tbody>\n",
              "    <tr>\n",
              "      <th>count</th>\n",
              "      <td>6.553200e+04</td>\n",
              "      <td>6.553200e+04</td>\n",
              "      <td>6.553200e+04</td>\n",
              "      <td>6.553200e+04</td>\n",
              "      <td>65532.000000</td>\n",
              "      <td>65532.000000</td>\n",
              "      <td>65532.000000</td>\n",
              "    </tr>\n",
              "    <tr>\n",
              "      <th>mean</th>\n",
              "      <td>9.712395e+04</td>\n",
              "      <td>2.238580e+04</td>\n",
              "      <td>7.473815e+04</td>\n",
              "      <td>1.028660e+02</td>\n",
              "      <td>65.833577</td>\n",
              "      <td>41.399530</td>\n",
              "      <td>61.466505</td>\n",
              "    </tr>\n",
              "    <tr>\n",
              "      <th>std</th>\n",
              "      <td>5.618439e+06</td>\n",
              "      <td>3.828139e+06</td>\n",
              "      <td>2.463208e+06</td>\n",
              "      <td>5.133002e+03</td>\n",
              "      <td>302.461762</td>\n",
              "      <td>3218.871288</td>\n",
              "      <td>2223.332271</td>\n",
              "    </tr>\n",
              "    <tr>\n",
              "      <th>min</th>\n",
              "      <td>6.000000e+01</td>\n",
              "      <td>6.000000e+01</td>\n",
              "      <td>0.000000e+00</td>\n",
              "      <td>1.000000e+00</td>\n",
              "      <td>0.000000</td>\n",
              "      <td>1.000000</td>\n",
              "      <td>0.000000</td>\n",
              "    </tr>\n",
              "    <tr>\n",
              "      <th>25%</th>\n",
              "      <td>6.600000e+01</td>\n",
              "      <td>6.600000e+01</td>\n",
              "      <td>0.000000e+00</td>\n",
              "      <td>1.000000e+00</td>\n",
              "      <td>0.000000</td>\n",
              "      <td>1.000000</td>\n",
              "      <td>0.000000</td>\n",
              "    </tr>\n",
              "    <tr>\n",
              "      <th>50%</th>\n",
              "      <td>1.680000e+02</td>\n",
              "      <td>9.000000e+01</td>\n",
              "      <td>7.900000e+01</td>\n",
              "      <td>2.000000e+00</td>\n",
              "      <td>15.000000</td>\n",
              "      <td>1.000000</td>\n",
              "      <td>1.000000</td>\n",
              "    </tr>\n",
              "    <tr>\n",
              "      <th>75%</th>\n",
              "      <td>7.522500e+02</td>\n",
              "      <td>2.100000e+02</td>\n",
              "      <td>4.490000e+02</td>\n",
              "      <td>6.000000e+00</td>\n",
              "      <td>30.000000</td>\n",
              "      <td>3.000000</td>\n",
              "      <td>2.000000</td>\n",
              "    </tr>\n",
              "    <tr>\n",
              "      <th>max</th>\n",
              "      <td>1.269359e+09</td>\n",
              "      <td>9.484772e+08</td>\n",
              "      <td>3.208818e+08</td>\n",
              "      <td>1.036116e+06</td>\n",
              "      <td>10824.000000</td>\n",
              "      <td>747520.000000</td>\n",
              "      <td>327208.000000</td>\n",
              "    </tr>\n",
              "  </tbody>\n",
              "</table>\n",
              "</div>"
            ]
          },
          "metadata": {},
          "execution_count": 9
        }
      ]
    },
    {
      "cell_type": "code",
      "source": [
        "value_counts = df['Source Port'].value_counts()\n",
        "value_counts"
      ],
      "metadata": {
        "colab": {
          "base_uri": "https://localhost:8080/"
        },
        "id": "-bfc6bglPHVL",
        "outputId": "ebb6dcdf-ee05-4b1e-d82a-0e98d30daaf6"
      },
      "execution_count": 10,
      "outputs": [
        {
          "output_type": "execute_result",
          "data": {
            "text/plain": [
              "58638    840\n",
              "27005    513\n",
              "443      273\n",
              "57470    222\n",
              "49418    210\n",
              "        ... \n",
              "32996      1\n",
              "60574      1\n",
              "60570      1\n",
              "65368      1\n",
              "54871      1\n",
              "Name: Source Port, Length: 22724, dtype: int64"
            ]
          },
          "metadata": {},
          "execution_count": 10
        }
      ]
    },
    {
      "cell_type": "code",
      "source": [
        "sp_agg = df.groupby(['Source Port']).size().reset_index(name='counts')\n",
        "sp_agg"
      ],
      "metadata": {
        "id": "Ey-7RPFZlOd_",
        "outputId": "ef5b3779-d69e-4924-9085-395b92fb3643",
        "colab": {
          "base_uri": "https://localhost:8080/",
          "height": 424
        }
      },
      "execution_count": 11,
      "outputs": [
        {
          "output_type": "execute_result",
          "data": {
            "text/plain": [
              "      Source Port  counts\n",
              "0               0     173\n",
              "1           10000       3\n",
              "2           10001       2\n",
              "3           10002       2\n",
              "4           10003       8\n",
              "...           ...     ...\n",
              "22719         993      19\n",
              "22720        9957       3\n",
              "22721        9968       1\n",
              "22722        9969       1\n",
              "22723        9997       1\n",
              "\n",
              "[22724 rows x 2 columns]"
            ],
            "text/html": [
              "<div>\n",
              "<style scoped>\n",
              "    .dataframe tbody tr th:only-of-type {\n",
              "        vertical-align: middle;\n",
              "    }\n",
              "\n",
              "    .dataframe tbody tr th {\n",
              "        vertical-align: top;\n",
              "    }\n",
              "\n",
              "    .dataframe thead th {\n",
              "        text-align: right;\n",
              "    }\n",
              "</style>\n",
              "<table border=\"1\" class=\"dataframe\">\n",
              "  <thead>\n",
              "    <tr style=\"text-align: right;\">\n",
              "      <th></th>\n",
              "      <th>Source Port</th>\n",
              "      <th>counts</th>\n",
              "    </tr>\n",
              "  </thead>\n",
              "  <tbody>\n",
              "    <tr>\n",
              "      <th>0</th>\n",
              "      <td>0</td>\n",
              "      <td>173</td>\n",
              "    </tr>\n",
              "    <tr>\n",
              "      <th>1</th>\n",
              "      <td>10000</td>\n",
              "      <td>3</td>\n",
              "    </tr>\n",
              "    <tr>\n",
              "      <th>2</th>\n",
              "      <td>10001</td>\n",
              "      <td>2</td>\n",
              "    </tr>\n",
              "    <tr>\n",
              "      <th>3</th>\n",
              "      <td>10002</td>\n",
              "      <td>2</td>\n",
              "    </tr>\n",
              "    <tr>\n",
              "      <th>4</th>\n",
              "      <td>10003</td>\n",
              "      <td>8</td>\n",
              "    </tr>\n",
              "    <tr>\n",
              "      <th>...</th>\n",
              "      <td>...</td>\n",
              "      <td>...</td>\n",
              "    </tr>\n",
              "    <tr>\n",
              "      <th>22719</th>\n",
              "      <td>993</td>\n",
              "      <td>19</td>\n",
              "    </tr>\n",
              "    <tr>\n",
              "      <th>22720</th>\n",
              "      <td>9957</td>\n",
              "      <td>3</td>\n",
              "    </tr>\n",
              "    <tr>\n",
              "      <th>22721</th>\n",
              "      <td>9968</td>\n",
              "      <td>1</td>\n",
              "    </tr>\n",
              "    <tr>\n",
              "      <th>22722</th>\n",
              "      <td>9969</td>\n",
              "      <td>1</td>\n",
              "    </tr>\n",
              "    <tr>\n",
              "      <th>22723</th>\n",
              "      <td>9997</td>\n",
              "      <td>1</td>\n",
              "    </tr>\n",
              "  </tbody>\n",
              "</table>\n",
              "<p>22724 rows × 2 columns</p>\n",
              "</div>"
            ]
          },
          "metadata": {},
          "execution_count": 11
        }
      ]
    },
    {
      "cell_type": "code",
      "source": [
        "sp_counts = sp_agg.groupby(['counts']).size().reset_index(name='Number_of_counts')\n",
        "sp_counts"
      ],
      "metadata": {
        "id": "hlqKiNoRr-g0",
        "outputId": "b8525351-f605-4aa1-8eb0-148ab589480d",
        "colab": {
          "base_uri": "https://localhost:8080/",
          "height": 1000
        }
      },
      "execution_count": 12,
      "outputs": [
        {
          "output_type": "execute_result",
          "data": {
            "text/plain": [
              "    counts  Number_of_counts\n",
              "0        1              9102\n",
              "1        2              4456\n",
              "2        3              3481\n",
              "3        4              1932\n",
              "4        5              1282\n",
              "5        6               916\n",
              "6        7               581\n",
              "7        8               337\n",
              "8        9               234\n",
              "9       10               144\n",
              "10      11                84\n",
              "11      12                51\n",
              "12      13                24\n",
              "13      14                18\n",
              "14      15                 5\n",
              "15      16                 7\n",
              "16      17                 1\n",
              "17      18                 3\n",
              "18      19                 7\n",
              "19      20                 1\n",
              "20      21                 1\n",
              "21      22                 5\n",
              "22      23                 3\n",
              "23      24                 2\n",
              "24      25                 3\n",
              "25      26                 3\n",
              "26      27                 2\n",
              "27      28                 3\n",
              "28      29                 1\n",
              "29      30                 1\n",
              "30      31                 1\n",
              "31      32                 2\n",
              "32      33                 1\n",
              "33      34                 1\n",
              "34      35                 1\n",
              "35      36                 1\n",
              "36      37                 1\n",
              "37      46                 4\n",
              "38      47                 1\n",
              "39      53                 2\n",
              "40      67                 1\n",
              "41      68                 1\n",
              "42      72                 1\n",
              "43      73                 1\n",
              "44      75                 1\n",
              "45      77                 1\n",
              "46      82                 1\n",
              "47      84                 1\n",
              "48      87                 1\n",
              "49     102                 1\n",
              "50     105                 1\n",
              "51     116                 1\n",
              "52     173                 1\n",
              "53     177                 1\n",
              "54     210                 1\n",
              "55     222                 1\n",
              "56     273                 1\n",
              "57     513                 1\n",
              "58     840                 1"
            ],
            "text/html": [
              "<div>\n",
              "<style scoped>\n",
              "    .dataframe tbody tr th:only-of-type {\n",
              "        vertical-align: middle;\n",
              "    }\n",
              "\n",
              "    .dataframe tbody tr th {\n",
              "        vertical-align: top;\n",
              "    }\n",
              "\n",
              "    .dataframe thead th {\n",
              "        text-align: right;\n",
              "    }\n",
              "</style>\n",
              "<table border=\"1\" class=\"dataframe\">\n",
              "  <thead>\n",
              "    <tr style=\"text-align: right;\">\n",
              "      <th></th>\n",
              "      <th>counts</th>\n",
              "      <th>Number_of_counts</th>\n",
              "    </tr>\n",
              "  </thead>\n",
              "  <tbody>\n",
              "    <tr>\n",
              "      <th>0</th>\n",
              "      <td>1</td>\n",
              "      <td>9102</td>\n",
              "    </tr>\n",
              "    <tr>\n",
              "      <th>1</th>\n",
              "      <td>2</td>\n",
              "      <td>4456</td>\n",
              "    </tr>\n",
              "    <tr>\n",
              "      <th>2</th>\n",
              "      <td>3</td>\n",
              "      <td>3481</td>\n",
              "    </tr>\n",
              "    <tr>\n",
              "      <th>3</th>\n",
              "      <td>4</td>\n",
              "      <td>1932</td>\n",
              "    </tr>\n",
              "    <tr>\n",
              "      <th>4</th>\n",
              "      <td>5</td>\n",
              "      <td>1282</td>\n",
              "    </tr>\n",
              "    <tr>\n",
              "      <th>5</th>\n",
              "      <td>6</td>\n",
              "      <td>916</td>\n",
              "    </tr>\n",
              "    <tr>\n",
              "      <th>6</th>\n",
              "      <td>7</td>\n",
              "      <td>581</td>\n",
              "    </tr>\n",
              "    <tr>\n",
              "      <th>7</th>\n",
              "      <td>8</td>\n",
              "      <td>337</td>\n",
              "    </tr>\n",
              "    <tr>\n",
              "      <th>8</th>\n",
              "      <td>9</td>\n",
              "      <td>234</td>\n",
              "    </tr>\n",
              "    <tr>\n",
              "      <th>9</th>\n",
              "      <td>10</td>\n",
              "      <td>144</td>\n",
              "    </tr>\n",
              "    <tr>\n",
              "      <th>10</th>\n",
              "      <td>11</td>\n",
              "      <td>84</td>\n",
              "    </tr>\n",
              "    <tr>\n",
              "      <th>11</th>\n",
              "      <td>12</td>\n",
              "      <td>51</td>\n",
              "    </tr>\n",
              "    <tr>\n",
              "      <th>12</th>\n",
              "      <td>13</td>\n",
              "      <td>24</td>\n",
              "    </tr>\n",
              "    <tr>\n",
              "      <th>13</th>\n",
              "      <td>14</td>\n",
              "      <td>18</td>\n",
              "    </tr>\n",
              "    <tr>\n",
              "      <th>14</th>\n",
              "      <td>15</td>\n",
              "      <td>5</td>\n",
              "    </tr>\n",
              "    <tr>\n",
              "      <th>15</th>\n",
              "      <td>16</td>\n",
              "      <td>7</td>\n",
              "    </tr>\n",
              "    <tr>\n",
              "      <th>16</th>\n",
              "      <td>17</td>\n",
              "      <td>1</td>\n",
              "    </tr>\n",
              "    <tr>\n",
              "      <th>17</th>\n",
              "      <td>18</td>\n",
              "      <td>3</td>\n",
              "    </tr>\n",
              "    <tr>\n",
              "      <th>18</th>\n",
              "      <td>19</td>\n",
              "      <td>7</td>\n",
              "    </tr>\n",
              "    <tr>\n",
              "      <th>19</th>\n",
              "      <td>20</td>\n",
              "      <td>1</td>\n",
              "    </tr>\n",
              "    <tr>\n",
              "      <th>20</th>\n",
              "      <td>21</td>\n",
              "      <td>1</td>\n",
              "    </tr>\n",
              "    <tr>\n",
              "      <th>21</th>\n",
              "      <td>22</td>\n",
              "      <td>5</td>\n",
              "    </tr>\n",
              "    <tr>\n",
              "      <th>22</th>\n",
              "      <td>23</td>\n",
              "      <td>3</td>\n",
              "    </tr>\n",
              "    <tr>\n",
              "      <th>23</th>\n",
              "      <td>24</td>\n",
              "      <td>2</td>\n",
              "    </tr>\n",
              "    <tr>\n",
              "      <th>24</th>\n",
              "      <td>25</td>\n",
              "      <td>3</td>\n",
              "    </tr>\n",
              "    <tr>\n",
              "      <th>25</th>\n",
              "      <td>26</td>\n",
              "      <td>3</td>\n",
              "    </tr>\n",
              "    <tr>\n",
              "      <th>26</th>\n",
              "      <td>27</td>\n",
              "      <td>2</td>\n",
              "    </tr>\n",
              "    <tr>\n",
              "      <th>27</th>\n",
              "      <td>28</td>\n",
              "      <td>3</td>\n",
              "    </tr>\n",
              "    <tr>\n",
              "      <th>28</th>\n",
              "      <td>29</td>\n",
              "      <td>1</td>\n",
              "    </tr>\n",
              "    <tr>\n",
              "      <th>29</th>\n",
              "      <td>30</td>\n",
              "      <td>1</td>\n",
              "    </tr>\n",
              "    <tr>\n",
              "      <th>30</th>\n",
              "      <td>31</td>\n",
              "      <td>1</td>\n",
              "    </tr>\n",
              "    <tr>\n",
              "      <th>31</th>\n",
              "      <td>32</td>\n",
              "      <td>2</td>\n",
              "    </tr>\n",
              "    <tr>\n",
              "      <th>32</th>\n",
              "      <td>33</td>\n",
              "      <td>1</td>\n",
              "    </tr>\n",
              "    <tr>\n",
              "      <th>33</th>\n",
              "      <td>34</td>\n",
              "      <td>1</td>\n",
              "    </tr>\n",
              "    <tr>\n",
              "      <th>34</th>\n",
              "      <td>35</td>\n",
              "      <td>1</td>\n",
              "    </tr>\n",
              "    <tr>\n",
              "      <th>35</th>\n",
              "      <td>36</td>\n",
              "      <td>1</td>\n",
              "    </tr>\n",
              "    <tr>\n",
              "      <th>36</th>\n",
              "      <td>37</td>\n",
              "      <td>1</td>\n",
              "    </tr>\n",
              "    <tr>\n",
              "      <th>37</th>\n",
              "      <td>46</td>\n",
              "      <td>4</td>\n",
              "    </tr>\n",
              "    <tr>\n",
              "      <th>38</th>\n",
              "      <td>47</td>\n",
              "      <td>1</td>\n",
              "    </tr>\n",
              "    <tr>\n",
              "      <th>39</th>\n",
              "      <td>53</td>\n",
              "      <td>2</td>\n",
              "    </tr>\n",
              "    <tr>\n",
              "      <th>40</th>\n",
              "      <td>67</td>\n",
              "      <td>1</td>\n",
              "    </tr>\n",
              "    <tr>\n",
              "      <th>41</th>\n",
              "      <td>68</td>\n",
              "      <td>1</td>\n",
              "    </tr>\n",
              "    <tr>\n",
              "      <th>42</th>\n",
              "      <td>72</td>\n",
              "      <td>1</td>\n",
              "    </tr>\n",
              "    <tr>\n",
              "      <th>43</th>\n",
              "      <td>73</td>\n",
              "      <td>1</td>\n",
              "    </tr>\n",
              "    <tr>\n",
              "      <th>44</th>\n",
              "      <td>75</td>\n",
              "      <td>1</td>\n",
              "    </tr>\n",
              "    <tr>\n",
              "      <th>45</th>\n",
              "      <td>77</td>\n",
              "      <td>1</td>\n",
              "    </tr>\n",
              "    <tr>\n",
              "      <th>46</th>\n",
              "      <td>82</td>\n",
              "      <td>1</td>\n",
              "    </tr>\n",
              "    <tr>\n",
              "      <th>47</th>\n",
              "      <td>84</td>\n",
              "      <td>1</td>\n",
              "    </tr>\n",
              "    <tr>\n",
              "      <th>48</th>\n",
              "      <td>87</td>\n",
              "      <td>1</td>\n",
              "    </tr>\n",
              "    <tr>\n",
              "      <th>49</th>\n",
              "      <td>102</td>\n",
              "      <td>1</td>\n",
              "    </tr>\n",
              "    <tr>\n",
              "      <th>50</th>\n",
              "      <td>105</td>\n",
              "      <td>1</td>\n",
              "    </tr>\n",
              "    <tr>\n",
              "      <th>51</th>\n",
              "      <td>116</td>\n",
              "      <td>1</td>\n",
              "    </tr>\n",
              "    <tr>\n",
              "      <th>52</th>\n",
              "      <td>173</td>\n",
              "      <td>1</td>\n",
              "    </tr>\n",
              "    <tr>\n",
              "      <th>53</th>\n",
              "      <td>177</td>\n",
              "      <td>1</td>\n",
              "    </tr>\n",
              "    <tr>\n",
              "      <th>54</th>\n",
              "      <td>210</td>\n",
              "      <td>1</td>\n",
              "    </tr>\n",
              "    <tr>\n",
              "      <th>55</th>\n",
              "      <td>222</td>\n",
              "      <td>1</td>\n",
              "    </tr>\n",
              "    <tr>\n",
              "      <th>56</th>\n",
              "      <td>273</td>\n",
              "      <td>1</td>\n",
              "    </tr>\n",
              "    <tr>\n",
              "      <th>57</th>\n",
              "      <td>513</td>\n",
              "      <td>1</td>\n",
              "    </tr>\n",
              "    <tr>\n",
              "      <th>58</th>\n",
              "      <td>840</td>\n",
              "      <td>1</td>\n",
              "    </tr>\n",
              "  </tbody>\n",
              "</table>\n",
              "</div>"
            ]
          },
          "metadata": {},
          "execution_count": 12
        }
      ]
    },
    {
      "cell_type": "code",
      "source": [
        "dp_agg = df.groupby(['Destination Port']).size().reset_index(name='counts')\n",
        "dp_agg"
      ],
      "metadata": {
        "id": "xvzOMtELmZKH",
        "outputId": "c499a345-71a0-4c22-f3e1-3b4b51342c81",
        "colab": {
          "base_uri": "https://localhost:8080/",
          "height": 424
        }
      },
      "execution_count": 13,
      "outputs": [
        {
          "output_type": "execute_result",
          "data": {
            "text/plain": [
              "     Destination Port  counts\n",
              "0                   0     173\n",
              "1                   1      85\n",
              "2               10004       2\n",
              "3               10010       9\n",
              "4               10012       2\n",
              "...               ...     ...\n",
              "3268              993      40\n",
              "3269              995      10\n",
              "3270             9986       7\n",
              "3271             9992       1\n",
              "3272             9999       2\n",
              "\n",
              "[3273 rows x 2 columns]"
            ],
            "text/html": [
              "<div>\n",
              "<style scoped>\n",
              "    .dataframe tbody tr th:only-of-type {\n",
              "        vertical-align: middle;\n",
              "    }\n",
              "\n",
              "    .dataframe tbody tr th {\n",
              "        vertical-align: top;\n",
              "    }\n",
              "\n",
              "    .dataframe thead th {\n",
              "        text-align: right;\n",
              "    }\n",
              "</style>\n",
              "<table border=\"1\" class=\"dataframe\">\n",
              "  <thead>\n",
              "    <tr style=\"text-align: right;\">\n",
              "      <th></th>\n",
              "      <th>Destination Port</th>\n",
              "      <th>counts</th>\n",
              "    </tr>\n",
              "  </thead>\n",
              "  <tbody>\n",
              "    <tr>\n",
              "      <th>0</th>\n",
              "      <td>0</td>\n",
              "      <td>173</td>\n",
              "    </tr>\n",
              "    <tr>\n",
              "      <th>1</th>\n",
              "      <td>1</td>\n",
              "      <td>85</td>\n",
              "    </tr>\n",
              "    <tr>\n",
              "      <th>2</th>\n",
              "      <td>10004</td>\n",
              "      <td>2</td>\n",
              "    </tr>\n",
              "    <tr>\n",
              "      <th>3</th>\n",
              "      <td>10010</td>\n",
              "      <td>9</td>\n",
              "    </tr>\n",
              "    <tr>\n",
              "      <th>4</th>\n",
              "      <td>10012</td>\n",
              "      <td>2</td>\n",
              "    </tr>\n",
              "    <tr>\n",
              "      <th>...</th>\n",
              "      <td>...</td>\n",
              "      <td>...</td>\n",
              "    </tr>\n",
              "    <tr>\n",
              "      <th>3268</th>\n",
              "      <td>993</td>\n",
              "      <td>40</td>\n",
              "    </tr>\n",
              "    <tr>\n",
              "      <th>3269</th>\n",
              "      <td>995</td>\n",
              "      <td>10</td>\n",
              "    </tr>\n",
              "    <tr>\n",
              "      <th>3270</th>\n",
              "      <td>9986</td>\n",
              "      <td>7</td>\n",
              "    </tr>\n",
              "    <tr>\n",
              "      <th>3271</th>\n",
              "      <td>9992</td>\n",
              "      <td>1</td>\n",
              "    </tr>\n",
              "    <tr>\n",
              "      <th>3272</th>\n",
              "      <td>9999</td>\n",
              "      <td>2</td>\n",
              "    </tr>\n",
              "  </tbody>\n",
              "</table>\n",
              "<p>3273 rows × 2 columns</p>\n",
              "</div>"
            ]
          },
          "metadata": {},
          "execution_count": 13
        }
      ]
    },
    {
      "cell_type": "code",
      "source": [
        "value_counts = df['Source Port'].value_counts()\n",
        "\n",
        "#creating list of columns with fewer than 32 values to remove before turning into categorical column (equals .05% of the rows in this dataset)\n",
        "droplist = pd.DataFrame(value_counts)\n",
        "droplist = droplist[droplist['Source Port']< 32]\n",
        "droplist = list(droplist.index.values)\n",
        "\n",
        "value_counts_DP = df['Destination Port'].value_counts()\n",
        "\n",
        "#creating list of columns with fewer than 32 values to remove before turning into categorical column (equals .05% of the rows in this dataset)\n",
        "droplist_DP = pd.DataFrame(value_counts_DP)\n",
        "droplist_DP = droplist_DP[droplist_DP['Destination Port']< 32]\n",
        "droplist_DP = list(droplist_DP.index.values)\n",
        "\n",
        "value_counts_NAT = df['NAT Source Port'].value_counts()\n",
        "droplist_NAT = pd.DataFrame(value_counts_NAT)\n",
        "droplist_NAT = droplist_NAT[droplist_NAT['NAT Source Port']< 32]\n",
        "droplist_NAT = list(droplist_NAT.index.values)\n",
        "\n",
        "value_counts_NAT_DP = df['NAT Destination Port'].value_counts()\n",
        "droplist_NAT_DP = pd.DataFrame(value_counts_NAT_DP)\n",
        "droplist_NAT_DP = droplist_NAT_DP[droplist_NAT_DP['NAT Destination Port']<32]\n",
        "droplist_NAT_DP = list(droplist_NAT_DP.index.values)"
      ],
      "metadata": {
        "id": "K6pMvmSqZD--"
      },
      "execution_count": 14,
      "outputs": []
    },
    {
      "cell_type": "code",
      "source": [
        "df['Source Port'].value_counts().count()"
      ],
      "metadata": {
        "id": "U_FGZHyGQJeM",
        "outputId": "2318a331-1e27-468d-98ae-02a1d478f8c6",
        "colab": {
          "base_uri": "https://localhost:8080/"
        }
      },
      "execution_count": 15,
      "outputs": [
        {
          "output_type": "execute_result",
          "data": {
            "text/plain": [
              "22724"
            ]
          },
          "metadata": {},
          "execution_count": 15
        }
      ]
    },
    {
      "cell_type": "code",
      "source": [
        "df['Destination Port'].value_counts().count()"
      ],
      "metadata": {
        "id": "QoRhnLnyQ_ZV",
        "outputId": "0d066d80-a0b6-44de-f494-615a876831e7",
        "colab": {
          "base_uri": "https://localhost:8080/"
        }
      },
      "execution_count": 16,
      "outputs": [
        {
          "output_type": "execute_result",
          "data": {
            "text/plain": [
              "3273"
            ]
          },
          "metadata": {},
          "execution_count": 16
        }
      ]
    },
    {
      "cell_type": "code",
      "source": [
        "df['NAT Source Port'].value_counts().count()"
      ],
      "metadata": {
        "id": "qoDbXPyQRFVn",
        "outputId": "7b62b158-89af-4fce-dfcb-5207d2ffa030",
        "colab": {
          "base_uri": "https://localhost:8080/"
        }
      },
      "execution_count": 17,
      "outputs": [
        {
          "output_type": "execute_result",
          "data": {
            "text/plain": [
              "29152"
            ]
          },
          "metadata": {},
          "execution_count": 17
        }
      ]
    },
    {
      "cell_type": "code",
      "source": [
        "df['NAT Destination Port'].value_counts().count()"
      ],
      "metadata": {
        "id": "CP6gy42fRJv9",
        "outputId": "c420f81f-4712-4691-9ffc-4863c756dab7",
        "colab": {
          "base_uri": "https://localhost:8080/"
        }
      },
      "execution_count": 18,
      "outputs": [
        {
          "output_type": "execute_result",
          "data": {
            "text/plain": [
              "2533"
            ]
          },
          "metadata": {},
          "execution_count": 18
        }
      ]
    },
    {
      "cell_type": "code",
      "source": [],
      "metadata": {
        "id": "TZHSjQQ2RFcC"
      },
      "execution_count": 18,
      "outputs": []
    },
    {
      "cell_type": "code",
      "source": [
        "len(droplist)"
      ],
      "metadata": {
        "colab": {
          "base_uri": "https://localhost:8080/"
        },
        "id": "i8i2zLK5KXlF",
        "outputId": "255cf710-d2a6-4f2b-db2b-6983d072d315"
      },
      "execution_count": 19,
      "outputs": [
        {
          "output_type": "execute_result",
          "data": {
            "text/plain": [
              "22691"
            ]
          },
          "metadata": {},
          "execution_count": 19
        }
      ]
    },
    {
      "cell_type": "code",
      "source": [
        "len(droplist_DP)"
      ],
      "metadata": {
        "colab": {
          "base_uri": "https://localhost:8080/"
        },
        "id": "bgRn09PAKgbX",
        "outputId": "16ce0aa9-e159-4a7a-c597-852cfacc5a25"
      },
      "execution_count": 20,
      "outputs": [
        {
          "output_type": "execute_result",
          "data": {
            "text/plain": [
              "3196"
            ]
          },
          "metadata": {},
          "execution_count": 20
        }
      ]
    },
    {
      "cell_type": "code",
      "source": [
        "len(droplist_NAT)"
      ],
      "metadata": {
        "id": "bS-DwInbAseI",
        "outputId": "c6255c69-6736-41fd-b57c-745fb573678b",
        "colab": {
          "base_uri": "https://localhost:8080/"
        }
      },
      "execution_count": 21,
      "outputs": [
        {
          "output_type": "execute_result",
          "data": {
            "text/plain": [
              "29149"
            ]
          },
          "metadata": {},
          "execution_count": 21
        }
      ]
    },
    {
      "cell_type": "code",
      "source": [
        "len(droplist_NAT_DP)"
      ],
      "metadata": {
        "id": "cMOcl4QZAtfX",
        "outputId": "33750e28-9918-429a-c1ec-2d11cb1d9043",
        "colab": {
          "base_uri": "https://localhost:8080/"
        }
      },
      "execution_count": 22,
      "outputs": [
        {
          "output_type": "execute_result",
          "data": {
            "text/plain": [
              "2510"
            ]
          },
          "metadata": {},
          "execution_count": 22
        }
      ]
    },
    {
      "cell_type": "markdown",
      "source": [
        "There are 22,724 distinct Source Ports in this dataset."
      ],
      "metadata": {
        "id": "KnqEqD8vpog_"
      }
    },
    {
      "cell_type": "code",
      "source": [
        "#i=0\n",
        "\n",
        "#Replacing low frequency Source Ports (under .05%), with \"low-frequency\" value, to limit the size of the dataframe\n",
        "\n",
        "#while i < len(droplist):\n",
        "#  df['Source Port']=df['Source Port'].replace((droplist[i]),\"low-frequency\")\n",
        "#  print(droplist[i])\n",
        "#  i+=1\n",
        "\n",
        "# runs a bit faster\n",
        "sp_list = []\n",
        "for i in df.index:\n",
        "    if df['Source Port'][i] in droplist:\n",
        "        sp_list.append('low-frequency')\n",
        "    else:\n",
        "        sp_list.append(df['Source Port'][i])\n",
        "df['Source Port']=sp_list"
      ],
      "metadata": {
        "id": "3fQErrD3fT7j"
      },
      "execution_count": 23,
      "outputs": []
    },
    {
      "cell_type": "code",
      "source": [
        "#i=0\n",
        "\n",
        "#Replacing low frequency Source Ports (under .05%), with \"Dropped\" value, to limit the size of the dataframe\n",
        "\n",
        "#while i < len(droplist_DP):\n",
        "#  df['Destination Port']=df['Destination Port'].replace((droplist_DP[i]),\"low-frequency\")\n",
        "#  print(droplist_DP[i])\n",
        "#  i+=1\n",
        "\n",
        "# runs a bit faster\n",
        "dp_list = []\n",
        "for i in df.index:\n",
        "    if df['Destination Port'][i] in droplist_DP:\n",
        "        dp_list.append('low-frequency')\n",
        "    else:\n",
        "        dp_list.append(df['Destination Port'][i])\n",
        "df['Destination Port'] = dp_list"
      ],
      "metadata": {
        "id": "gXwqSOBFiwp0"
      },
      "execution_count": 24,
      "outputs": []
    },
    {
      "cell_type": "code",
      "source": [
        "nat_list = []\n",
        "for i in df.index:\n",
        "    if df['NAT Source Port'][i] in droplist_NAT:\n",
        "        nat_list.append('low-frequency')\n",
        "    else:\n",
        "        nat_list.append(df['NAT Source Port'][i])\n",
        "df['NAT Source Port'] = nat_list"
      ],
      "metadata": {
        "id": "E5u_YqI8A47Q"
      },
      "execution_count": 25,
      "outputs": []
    },
    {
      "cell_type": "code",
      "source": [
        "nat_dp_list = []\n",
        "for i in df.index:\n",
        "    if df['NAT Destination Port'][i] in droplist_NAT_DP:\n",
        "        nat_dp_list.append('low-frequency')\n",
        "    else:\n",
        "        nat_dp_list.append(df['NAT Destination Port'][i])\n",
        "df['NAT Destination Port'] = nat_dp_list"
      ],
      "metadata": {
        "id": "zJlioAEjA8F_"
      },
      "execution_count": 26,
      "outputs": []
    },
    {
      "cell_type": "code",
      "source": [
        "df['Source Port'].value_counts().count()"
      ],
      "metadata": {
        "id": "_IGjkFdtRdUT",
        "outputId": "ec9e5c70-53a7-4b81-dd94-f5eccfae778f",
        "colab": {
          "base_uri": "https://localhost:8080/"
        }
      },
      "execution_count": 27,
      "outputs": [
        {
          "output_type": "execute_result",
          "data": {
            "text/plain": [
              "34"
            ]
          },
          "metadata": {},
          "execution_count": 27
        }
      ]
    },
    {
      "cell_type": "code",
      "source": [
        "df['Destination Port'].value_counts().count()"
      ],
      "metadata": {
        "id": "zr101oPSRh84",
        "outputId": "927c457d-b251-47b0-dc81-7ba92a491ad2",
        "colab": {
          "base_uri": "https://localhost:8080/"
        }
      },
      "execution_count": 28,
      "outputs": [
        {
          "output_type": "execute_result",
          "data": {
            "text/plain": [
              "78"
            ]
          },
          "metadata": {},
          "execution_count": 28
        }
      ]
    },
    {
      "cell_type": "code",
      "source": [
        "df['NAT Source Port'].value_counts().count()"
      ],
      "metadata": {
        "id": "ELq_GzHMRiAA",
        "outputId": "c26d0777-104b-4c9a-971b-ef36186c4db3",
        "colab": {
          "base_uri": "https://localhost:8080/"
        }
      },
      "execution_count": 29,
      "outputs": [
        {
          "output_type": "execute_result",
          "data": {
            "text/plain": [
              "4"
            ]
          },
          "metadata": {},
          "execution_count": 29
        }
      ]
    },
    {
      "cell_type": "code",
      "source": [
        "df['NAT Destination Port'].value_counts().count()"
      ],
      "metadata": {
        "id": "y8m6Q8lwRiLZ",
        "outputId": "14748c7d-b218-4030-d5c3-f381c30ecf2d",
        "colab": {
          "base_uri": "https://localhost:8080/"
        }
      },
      "execution_count": 30,
      "outputs": [
        {
          "output_type": "execute_result",
          "data": {
            "text/plain": [
              "24"
            ]
          },
          "metadata": {},
          "execution_count": 30
        }
      ]
    },
    {
      "cell_type": "code",
      "source": [
        "# Make dataframe for model input\n",
        "X = df.loc[:, df.columns != 'Action']\n",
        "\n",
        "#one hot encoding categorical variables for model\n",
        "cols = X.columns\n",
        "num_cols = X._get_numeric_data().columns\n",
        "cat_cols = list((set(cols) - set(num_cols)))\n",
        "\n",
        "#creating dataframe of categorical columns\n",
        "cat_df = X[cat_cols]\n",
        "cat_df = pd.get_dummies(cat_df, columns=cat_df.columns,sparse=True)\n",
        "\n",
        "#creating dataframe of numeric columns\n",
        "scaler = StandardScaler()\n",
        "num_df = scaler.fit_transform(X[num_cols])\n",
        "\n",
        "X=cat_df.join(pd.DataFrame(num_df,columns=X[num_cols].columns, index=X[num_cols].index))\n",
        "\n",
        "#save column names\n",
        "col_names = X.columns\n",
        "X"
      ],
      "metadata": {
        "colab": {
          "base_uri": "https://localhost:8080/",
          "height": 496
        },
        "id": "a2BI7M-TuF8k",
        "outputId": "213b4bc4-943a-43d6-9a23-588d653ef50c"
      },
      "execution_count": 122,
      "outputs": [
        {
          "output_type": "execute_result",
          "data": {
            "text/plain": [
              "       Destination Port_0  Destination Port_1  Destination Port_11392  \\\n",
              "0                       0                   0                       0   \n",
              "1                       0                   0                       0   \n",
              "2                       0                   0                       0   \n",
              "3                       0                   0                       0   \n",
              "4                       0                   0                       0   \n",
              "...                   ...                 ...                     ...   \n",
              "65527                   0                   0                       0   \n",
              "65528                   0                   0                       0   \n",
              "65529                   0                   0                       0   \n",
              "65530                   0                   0                       0   \n",
              "65531                   0                   0                       0   \n",
              "\n",
              "       Destination Port_123  Destination Port_1433  Destination Port_15000  \\\n",
              "0                         0                      0                       0   \n",
              "1                         0                      0                       0   \n",
              "2                         0                      0                       0   \n",
              "3                         0                      0                       0   \n",
              "4                         0                      0                       0   \n",
              "...                     ...                    ...                     ...   \n",
              "65527                     0                      0                       0   \n",
              "65528                     0                      0                       0   \n",
              "65529                     0                      0                       0   \n",
              "65530                     0                      0                       0   \n",
              "65531                     0                      0                       0   \n",
              "\n",
              "       Destination Port_15503  Destination Port_161  Destination Port_17372  \\\n",
              "0                           0                     0                       0   \n",
              "1                           0                     0                       0   \n",
              "2                           0                     0                       0   \n",
              "3                           0                     0                       0   \n",
              "4                           0                     0                       0   \n",
              "...                       ...                   ...                     ...   \n",
              "65527                       0                     0                       0   \n",
              "65528                       0                     0                       0   \n",
              "65529                       0                     0                       0   \n",
              "65530                       0                     0                       0   \n",
              "65531                       0                     0                       0   \n",
              "\n",
              "       Destination Port_21247  ...  NAT Destination Port_8999  \\\n",
              "0                           0  ...                          0   \n",
              "1                           0  ...                          0   \n",
              "2                           0  ...                          0   \n",
              "3                           0  ...                          0   \n",
              "4                           0  ...                          0   \n",
              "...                       ...  ...                        ...   \n",
              "65527                       0  ...                          0   \n",
              "65528                       0  ...                          0   \n",
              "65529                       0  ...                          0   \n",
              "65530                       0  ...                          0   \n",
              "65531                       0  ...                          0   \n",
              "\n",
              "       NAT Destination Port_993  NAT Destination Port_low-frequency     Bytes  \\\n",
              "0                             0                                   0 -0.017255   \n",
              "1                             0                                   0 -0.016438   \n",
              "2                             0                                   1 -0.017244   \n",
              "3                             0                                   0 -0.016695   \n",
              "4                             0                                   0 -0.012773   \n",
              "...                         ...                                 ...       ...   \n",
              "65527                         0                                   0 -0.017231   \n",
              "65528                         0                                   0  0.815823   \n",
              "65529                         0                                   0 -0.017274   \n",
              "65530                         0                                   0 -0.017274   \n",
              "65531                         0                                   0 -0.017274   \n",
              "\n",
              "       Bytes Sent  Bytes Received   Packets  Elapsed Time (sec)  pkts_sent  \\\n",
              "0       -0.005823       -0.030308 -0.019651           -0.118474  -0.012551   \n",
              "1       -0.005430       -0.029056 -0.016339           -0.161455  -0.009755   \n",
              "2       -0.005817       -0.030293 -0.019651            3.746507  -0.012551   \n",
              "3       -0.005472       -0.029575 -0.017118           -0.161455  -0.010376   \n",
              "4       -0.004077       -0.022799 -0.014001           -0.164761  -0.008823   \n",
              "...           ...             ...       ...                 ...        ...   \n",
              "65527   -0.005798       -0.030293 -0.018871           -0.168067  -0.011619   \n",
              "65528    0.011736        1.842607  0.890740            0.036919   0.293149   \n",
              "65529   -0.005829       -0.030342 -0.019845           -0.217661  -0.012551   \n",
              "65530   -0.005829       -0.030342 -0.019845           -0.217661  -0.012551   \n",
              "65531   -0.005829       -0.030342 -0.019845           -0.217661  -0.012551   \n",
              "\n",
              "       pkts_received  \n",
              "0          -0.027197  \n",
              "1          -0.023598  \n",
              "2          -0.027197  \n",
              "3          -0.024498  \n",
              "4          -0.019550  \n",
              "...              ...  \n",
              "65527      -0.026747  \n",
              "65528       1.632037  \n",
              "65529      -0.027646  \n",
              "65530      -0.027646  \n",
              "65531      -0.027646  \n",
              "\n",
              "[65532 rows x 147 columns]"
            ],
            "text/html": [
              "<div>\n",
              "<style scoped>\n",
              "    .dataframe tbody tr th:only-of-type {\n",
              "        vertical-align: middle;\n",
              "    }\n",
              "\n",
              "    .dataframe tbody tr th {\n",
              "        vertical-align: top;\n",
              "    }\n",
              "\n",
              "    .dataframe thead th {\n",
              "        text-align: right;\n",
              "    }\n",
              "</style>\n",
              "<table border=\"1\" class=\"dataframe\">\n",
              "  <thead>\n",
              "    <tr style=\"text-align: right;\">\n",
              "      <th></th>\n",
              "      <th>Destination Port_0</th>\n",
              "      <th>Destination Port_1</th>\n",
              "      <th>Destination Port_11392</th>\n",
              "      <th>Destination Port_123</th>\n",
              "      <th>Destination Port_1433</th>\n",
              "      <th>Destination Port_15000</th>\n",
              "      <th>Destination Port_15503</th>\n",
              "      <th>Destination Port_161</th>\n",
              "      <th>Destination Port_17372</th>\n",
              "      <th>Destination Port_21247</th>\n",
              "      <th>...</th>\n",
              "      <th>NAT Destination Port_8999</th>\n",
              "      <th>NAT Destination Port_993</th>\n",
              "      <th>NAT Destination Port_low-frequency</th>\n",
              "      <th>Bytes</th>\n",
              "      <th>Bytes Sent</th>\n",
              "      <th>Bytes Received</th>\n",
              "      <th>Packets</th>\n",
              "      <th>Elapsed Time (sec)</th>\n",
              "      <th>pkts_sent</th>\n",
              "      <th>pkts_received</th>\n",
              "    </tr>\n",
              "  </thead>\n",
              "  <tbody>\n",
              "    <tr>\n",
              "      <th>0</th>\n",
              "      <td>0</td>\n",
              "      <td>0</td>\n",
              "      <td>0</td>\n",
              "      <td>0</td>\n",
              "      <td>0</td>\n",
              "      <td>0</td>\n",
              "      <td>0</td>\n",
              "      <td>0</td>\n",
              "      <td>0</td>\n",
              "      <td>0</td>\n",
              "      <td>...</td>\n",
              "      <td>0</td>\n",
              "      <td>0</td>\n",
              "      <td>0</td>\n",
              "      <td>-0.017255</td>\n",
              "      <td>-0.005823</td>\n",
              "      <td>-0.030308</td>\n",
              "      <td>-0.019651</td>\n",
              "      <td>-0.118474</td>\n",
              "      <td>-0.012551</td>\n",
              "      <td>-0.027197</td>\n",
              "    </tr>\n",
              "    <tr>\n",
              "      <th>1</th>\n",
              "      <td>0</td>\n",
              "      <td>0</td>\n",
              "      <td>0</td>\n",
              "      <td>0</td>\n",
              "      <td>0</td>\n",
              "      <td>0</td>\n",
              "      <td>0</td>\n",
              "      <td>0</td>\n",
              "      <td>0</td>\n",
              "      <td>0</td>\n",
              "      <td>...</td>\n",
              "      <td>0</td>\n",
              "      <td>0</td>\n",
              "      <td>0</td>\n",
              "      <td>-0.016438</td>\n",
              "      <td>-0.005430</td>\n",
              "      <td>-0.029056</td>\n",
              "      <td>-0.016339</td>\n",
              "      <td>-0.161455</td>\n",
              "      <td>-0.009755</td>\n",
              "      <td>-0.023598</td>\n",
              "    </tr>\n",
              "    <tr>\n",
              "      <th>2</th>\n",
              "      <td>0</td>\n",
              "      <td>0</td>\n",
              "      <td>0</td>\n",
              "      <td>0</td>\n",
              "      <td>0</td>\n",
              "      <td>0</td>\n",
              "      <td>0</td>\n",
              "      <td>0</td>\n",
              "      <td>0</td>\n",
              "      <td>0</td>\n",
              "      <td>...</td>\n",
              "      <td>0</td>\n",
              "      <td>0</td>\n",
              "      <td>1</td>\n",
              "      <td>-0.017244</td>\n",
              "      <td>-0.005817</td>\n",
              "      <td>-0.030293</td>\n",
              "      <td>-0.019651</td>\n",
              "      <td>3.746507</td>\n",
              "      <td>-0.012551</td>\n",
              "      <td>-0.027197</td>\n",
              "    </tr>\n",
              "    <tr>\n",
              "      <th>3</th>\n",
              "      <td>0</td>\n",
              "      <td>0</td>\n",
              "      <td>0</td>\n",
              "      <td>0</td>\n",
              "      <td>0</td>\n",
              "      <td>0</td>\n",
              "      <td>0</td>\n",
              "      <td>0</td>\n",
              "      <td>0</td>\n",
              "      <td>0</td>\n",
              "      <td>...</td>\n",
              "      <td>0</td>\n",
              "      <td>0</td>\n",
              "      <td>0</td>\n",
              "      <td>-0.016695</td>\n",
              "      <td>-0.005472</td>\n",
              "      <td>-0.029575</td>\n",
              "      <td>-0.017118</td>\n",
              "      <td>-0.161455</td>\n",
              "      <td>-0.010376</td>\n",
              "      <td>-0.024498</td>\n",
              "    </tr>\n",
              "    <tr>\n",
              "      <th>4</th>\n",
              "      <td>0</td>\n",
              "      <td>0</td>\n",
              "      <td>0</td>\n",
              "      <td>0</td>\n",
              "      <td>0</td>\n",
              "      <td>0</td>\n",
              "      <td>0</td>\n",
              "      <td>0</td>\n",
              "      <td>0</td>\n",
              "      <td>0</td>\n",
              "      <td>...</td>\n",
              "      <td>0</td>\n",
              "      <td>0</td>\n",
              "      <td>0</td>\n",
              "      <td>-0.012773</td>\n",
              "      <td>-0.004077</td>\n",
              "      <td>-0.022799</td>\n",
              "      <td>-0.014001</td>\n",
              "      <td>-0.164761</td>\n",
              "      <td>-0.008823</td>\n",
              "      <td>-0.019550</td>\n",
              "    </tr>\n",
              "    <tr>\n",
              "      <th>...</th>\n",
              "      <td>...</td>\n",
              "      <td>...</td>\n",
              "      <td>...</td>\n",
              "      <td>...</td>\n",
              "      <td>...</td>\n",
              "      <td>...</td>\n",
              "      <td>...</td>\n",
              "      <td>...</td>\n",
              "      <td>...</td>\n",
              "      <td>...</td>\n",
              "      <td>...</td>\n",
              "      <td>...</td>\n",
              "      <td>...</td>\n",
              "      <td>...</td>\n",
              "      <td>...</td>\n",
              "      <td>...</td>\n",
              "      <td>...</td>\n",
              "      <td>...</td>\n",
              "      <td>...</td>\n",
              "      <td>...</td>\n",
              "      <td>...</td>\n",
              "    </tr>\n",
              "    <tr>\n",
              "      <th>65527</th>\n",
              "      <td>0</td>\n",
              "      <td>0</td>\n",
              "      <td>0</td>\n",
              "      <td>0</td>\n",
              "      <td>0</td>\n",
              "      <td>0</td>\n",
              "      <td>0</td>\n",
              "      <td>0</td>\n",
              "      <td>0</td>\n",
              "      <td>0</td>\n",
              "      <td>...</td>\n",
              "      <td>0</td>\n",
              "      <td>0</td>\n",
              "      <td>0</td>\n",
              "      <td>-0.017231</td>\n",
              "      <td>-0.005798</td>\n",
              "      <td>-0.030293</td>\n",
              "      <td>-0.018871</td>\n",
              "      <td>-0.168067</td>\n",
              "      <td>-0.011619</td>\n",
              "      <td>-0.026747</td>\n",
              "    </tr>\n",
              "    <tr>\n",
              "      <th>65528</th>\n",
              "      <td>0</td>\n",
              "      <td>0</td>\n",
              "      <td>0</td>\n",
              "      <td>0</td>\n",
              "      <td>0</td>\n",
              "      <td>0</td>\n",
              "      <td>0</td>\n",
              "      <td>0</td>\n",
              "      <td>0</td>\n",
              "      <td>0</td>\n",
              "      <td>...</td>\n",
              "      <td>0</td>\n",
              "      <td>0</td>\n",
              "      <td>0</td>\n",
              "      <td>0.815823</td>\n",
              "      <td>0.011736</td>\n",
              "      <td>1.842607</td>\n",
              "      <td>0.890740</td>\n",
              "      <td>0.036919</td>\n",
              "      <td>0.293149</td>\n",
              "      <td>1.632037</td>\n",
              "    </tr>\n",
              "    <tr>\n",
              "      <th>65529</th>\n",
              "      <td>0</td>\n",
              "      <td>0</td>\n",
              "      <td>0</td>\n",
              "      <td>0</td>\n",
              "      <td>0</td>\n",
              "      <td>0</td>\n",
              "      <td>0</td>\n",
              "      <td>0</td>\n",
              "      <td>0</td>\n",
              "      <td>0</td>\n",
              "      <td>...</td>\n",
              "      <td>0</td>\n",
              "      <td>0</td>\n",
              "      <td>0</td>\n",
              "      <td>-0.017274</td>\n",
              "      <td>-0.005829</td>\n",
              "      <td>-0.030342</td>\n",
              "      <td>-0.019845</td>\n",
              "      <td>-0.217661</td>\n",
              "      <td>-0.012551</td>\n",
              "      <td>-0.027646</td>\n",
              "    </tr>\n",
              "    <tr>\n",
              "      <th>65530</th>\n",
              "      <td>0</td>\n",
              "      <td>0</td>\n",
              "      <td>0</td>\n",
              "      <td>0</td>\n",
              "      <td>0</td>\n",
              "      <td>0</td>\n",
              "      <td>0</td>\n",
              "      <td>0</td>\n",
              "      <td>0</td>\n",
              "      <td>0</td>\n",
              "      <td>...</td>\n",
              "      <td>0</td>\n",
              "      <td>0</td>\n",
              "      <td>0</td>\n",
              "      <td>-0.017274</td>\n",
              "      <td>-0.005829</td>\n",
              "      <td>-0.030342</td>\n",
              "      <td>-0.019845</td>\n",
              "      <td>-0.217661</td>\n",
              "      <td>-0.012551</td>\n",
              "      <td>-0.027646</td>\n",
              "    </tr>\n",
              "    <tr>\n",
              "      <th>65531</th>\n",
              "      <td>0</td>\n",
              "      <td>0</td>\n",
              "      <td>0</td>\n",
              "      <td>0</td>\n",
              "      <td>0</td>\n",
              "      <td>0</td>\n",
              "      <td>0</td>\n",
              "      <td>0</td>\n",
              "      <td>0</td>\n",
              "      <td>0</td>\n",
              "      <td>...</td>\n",
              "      <td>0</td>\n",
              "      <td>0</td>\n",
              "      <td>0</td>\n",
              "      <td>-0.017274</td>\n",
              "      <td>-0.005829</td>\n",
              "      <td>-0.030342</td>\n",
              "      <td>-0.019845</td>\n",
              "      <td>-0.217661</td>\n",
              "      <td>-0.012551</td>\n",
              "      <td>-0.027646</td>\n",
              "    </tr>\n",
              "  </tbody>\n",
              "</table>\n",
              "<p>65532 rows × 147 columns</p>\n",
              "</div>"
            ]
          },
          "metadata": {},
          "execution_count": 122
        }
      ]
    },
    {
      "cell_type": "markdown",
      "source": [
        "Updates for Source & Destination Port, changed column number from 57,689 down to 31,805 by replacing values which represented less than 99.95% of the data overall (to help make the model more efficient, since that is a requirement for this model to be leveraged)."
      ],
      "metadata": {
        "id": "dJwB0EMQiD3S"
      }
    },
    {
      "cell_type": "code",
      "source": [
        "import scipy.sparse\n",
        "\n",
        "X = scipy.sparse.coo_matrix(X)\n",
        "X.shape"
      ],
      "metadata": {
        "colab": {
          "base_uri": "https://localhost:8080/"
        },
        "id": "ZU4jAAcdS9_n",
        "outputId": "ac297e95-902b-4d41-a085-a7aef6365e35"
      },
      "execution_count": 123,
      "outputs": [
        {
          "output_type": "execute_result",
          "data": {
            "text/plain": [
              "(65532, 147)"
            ]
          },
          "metadata": {},
          "execution_count": 123
        }
      ]
    },
    {
      "cell_type": "code",
      "source": [
        "#creating dataframe to find where there is high readmitted rates for a variable\n",
        "y_alt = df[['Action']].values.flatten()\n",
        "#y_alt = pd.get_dummies(y_alt, columns=y_alt.columns)"
      ],
      "metadata": {
        "id": "2aMHS8hBC_SS"
      },
      "execution_count": 33,
      "outputs": []
    },
    {
      "cell_type": "code",
      "source": [
        "y_alt"
      ],
      "metadata": {
        "colab": {
          "base_uri": "https://localhost:8080/"
        },
        "id": "mx3Y-2mUd1KS",
        "outputId": "ec64f91c-4087-488c-860d-7ef7e1013035"
      },
      "execution_count": 34,
      "outputs": [
        {
          "output_type": "execute_result",
          "data": {
            "text/plain": [
              "array(['allow', 'allow', 'allow', ..., 'drop', 'drop', 'drop'],\n",
              "      dtype=object)"
            ]
          },
          "metadata": {},
          "execution_count": 34
        }
      ]
    },
    {
      "cell_type": "code",
      "source": [
        "len(y_alt)"
      ],
      "metadata": {
        "id": "gtmEZK0tmgIm",
        "outputId": "053ac4ed-f1fd-44a5-dba4-9abf26d36e0f",
        "colab": {
          "base_uri": "https://localhost:8080/"
        }
      },
      "execution_count": 35,
      "outputs": [
        {
          "output_type": "execute_result",
          "data": {
            "text/plain": [
              "65532"
            ]
          },
          "metadata": {},
          "execution_count": 35
        }
      ]
    },
    {
      "cell_type": "code",
      "source": [
        "#linear svc\n",
        "model = LinearSVC(max_iter=100000,tol=0.01,random_state=709,dual=True,class_weight = 'balanced')\n",
        "X_train,X_test, y_train,y_test = train_test_split(X,y_alt,random_state = 709)\n",
        "C_list = [.001,.005,.01,.05,.1,.2,.5,.8,1,3,5,10,20,50,100,500,1000,5000,10000,100000]"
      ],
      "metadata": {
        "id": "ke1y9B4Jr5e6"
      },
      "execution_count": 36,
      "outputs": []
    },
    {
      "cell_type": "code",
      "source": [
        "train_lsvc = pd.DataFrame()\n",
        "for C in C_list:\n",
        "    model.C = C\n",
        "    model.fit(X_train,y_train)\n",
        "    p=model.predict(X_test)\n",
        "    df_search = pd.DataFrame({'accuracy':[accuracy_score(y_test,p)]},index=[C])\n",
        "    train_lsvc = pd.concat([train_lsvc,df_search])\n",
        "train_lsvc"
      ],
      "metadata": {
        "id": "CvglLeHaqVu2",
        "colab": {
          "base_uri": "https://localhost:8080/",
          "height": 920
        },
        "outputId": "f42fb2a5-1e9e-4a6e-b29f-30a3db2e6f75"
      },
      "execution_count": 37,
      "outputs": [
        {
          "output_type": "stream",
          "name": "stderr",
          "text": [
            "C:\\Users\\migbo\\anaconda3\\lib\\site-packages\\sklearn\\svm\\_base.py:1242: ConvergenceWarning: Liblinear failed to converge, increase the number of iterations.\n",
            "  warnings.warn(\n",
            "C:\\Users\\migbo\\anaconda3\\lib\\site-packages\\sklearn\\svm\\_base.py:1242: ConvergenceWarning: Liblinear failed to converge, increase the number of iterations.\n",
            "  warnings.warn(\n",
            "C:\\Users\\migbo\\anaconda3\\lib\\site-packages\\sklearn\\svm\\_base.py:1242: ConvergenceWarning: Liblinear failed to converge, increase the number of iterations.\n",
            "  warnings.warn(\n",
            "C:\\Users\\migbo\\anaconda3\\lib\\site-packages\\sklearn\\svm\\_base.py:1242: ConvergenceWarning: Liblinear failed to converge, increase the number of iterations.\n",
            "  warnings.warn(\n",
            "C:\\Users\\migbo\\anaconda3\\lib\\site-packages\\sklearn\\svm\\_base.py:1242: ConvergenceWarning: Liblinear failed to converge, increase the number of iterations.\n",
            "  warnings.warn(\n",
            "C:\\Users\\migbo\\anaconda3\\lib\\site-packages\\sklearn\\svm\\_base.py:1242: ConvergenceWarning: Liblinear failed to converge, increase the number of iterations.\n",
            "  warnings.warn(\n",
            "C:\\Users\\migbo\\anaconda3\\lib\\site-packages\\sklearn\\svm\\_base.py:1242: ConvergenceWarning: Liblinear failed to converge, increase the number of iterations.\n",
            "  warnings.warn(\n"
          ]
        },
        {
          "output_type": "execute_result",
          "data": {
            "text/plain": [
              "            accuracy\n",
              "0.001       0.989013\n",
              "0.005       0.994018\n",
              "0.010       0.994018\n",
              "0.050       0.994873\n",
              "0.100       0.995361\n",
              "0.200       0.997131\n",
              "0.500       0.997436\n",
              "0.800       0.997436\n",
              "1.000       0.997742\n",
              "3.000       0.997742\n",
              "5.000       0.997742\n",
              "10.000      0.997742\n",
              "20.000      0.997803\n",
              "50.000      0.997864\n",
              "100.000     0.997864\n",
              "500.000     0.997925\n",
              "1000.000    0.997986\n",
              "5000.000    0.962156\n",
              "10000.000   0.998230\n",
              "100000.000  0.998169"
            ],
            "text/html": [
              "<div>\n",
              "<style scoped>\n",
              "    .dataframe tbody tr th:only-of-type {\n",
              "        vertical-align: middle;\n",
              "    }\n",
              "\n",
              "    .dataframe tbody tr th {\n",
              "        vertical-align: top;\n",
              "    }\n",
              "\n",
              "    .dataframe thead th {\n",
              "        text-align: right;\n",
              "    }\n",
              "</style>\n",
              "<table border=\"1\" class=\"dataframe\">\n",
              "  <thead>\n",
              "    <tr style=\"text-align: right;\">\n",
              "      <th></th>\n",
              "      <th>accuracy</th>\n",
              "    </tr>\n",
              "  </thead>\n",
              "  <tbody>\n",
              "    <tr>\n",
              "      <th>0.001</th>\n",
              "      <td>0.989013</td>\n",
              "    </tr>\n",
              "    <tr>\n",
              "      <th>0.005</th>\n",
              "      <td>0.994018</td>\n",
              "    </tr>\n",
              "    <tr>\n",
              "      <th>0.010</th>\n",
              "      <td>0.994018</td>\n",
              "    </tr>\n",
              "    <tr>\n",
              "      <th>0.050</th>\n",
              "      <td>0.994873</td>\n",
              "    </tr>\n",
              "    <tr>\n",
              "      <th>0.100</th>\n",
              "      <td>0.995361</td>\n",
              "    </tr>\n",
              "    <tr>\n",
              "      <th>0.200</th>\n",
              "      <td>0.997131</td>\n",
              "    </tr>\n",
              "    <tr>\n",
              "      <th>0.500</th>\n",
              "      <td>0.997436</td>\n",
              "    </tr>\n",
              "    <tr>\n",
              "      <th>0.800</th>\n",
              "      <td>0.997436</td>\n",
              "    </tr>\n",
              "    <tr>\n",
              "      <th>1.000</th>\n",
              "      <td>0.997742</td>\n",
              "    </tr>\n",
              "    <tr>\n",
              "      <th>3.000</th>\n",
              "      <td>0.997742</td>\n",
              "    </tr>\n",
              "    <tr>\n",
              "      <th>5.000</th>\n",
              "      <td>0.997742</td>\n",
              "    </tr>\n",
              "    <tr>\n",
              "      <th>10.000</th>\n",
              "      <td>0.997742</td>\n",
              "    </tr>\n",
              "    <tr>\n",
              "      <th>20.000</th>\n",
              "      <td>0.997803</td>\n",
              "    </tr>\n",
              "    <tr>\n",
              "      <th>50.000</th>\n",
              "      <td>0.997864</td>\n",
              "    </tr>\n",
              "    <tr>\n",
              "      <th>100.000</th>\n",
              "      <td>0.997864</td>\n",
              "    </tr>\n",
              "    <tr>\n",
              "      <th>500.000</th>\n",
              "      <td>0.997925</td>\n",
              "    </tr>\n",
              "    <tr>\n",
              "      <th>1000.000</th>\n",
              "      <td>0.997986</td>\n",
              "    </tr>\n",
              "    <tr>\n",
              "      <th>5000.000</th>\n",
              "      <td>0.962156</td>\n",
              "    </tr>\n",
              "    <tr>\n",
              "      <th>10000.000</th>\n",
              "      <td>0.998230</td>\n",
              "    </tr>\n",
              "    <tr>\n",
              "      <th>100000.000</th>\n",
              "      <td>0.998169</td>\n",
              "    </tr>\n",
              "  </tbody>\n",
              "</table>\n",
              "</div>"
            ]
          },
          "metadata": {},
          "execution_count": 37
        }
      ]
    },
    {
      "cell_type": "code",
      "source": [
        "from sklearnex import patch_sklearn\n",
        "patch_sklearn()\n",
        "from sklearn.svm import SVC"
      ],
      "metadata": {
        "id": "V0yR2GbfB1VS",
        "outputId": "ac1864ad-1ca7-49ee-93c7-37bf980ffc9e",
        "colab": {
          "base_uri": "https://localhost:8080/"
        }
      },
      "execution_count": 38,
      "outputs": [
        {
          "output_type": "stream",
          "name": "stderr",
          "text": [
            "Intel(R) Extension for Scikit-learn* enabled (https://github.com/intel/scikit-learn-intelex)\n"
          ]
        }
      ]
    },
    {
      "cell_type": "code",
      "source": [
        "# kernel linear\n",
        "model_svc_l = SVC(max_iter=100000,tol=0.01,random_state=709,class_weight='balanced',kernel='linear')\n",
        "train_svc_l = pd.DataFrame()\n",
        "for C in C_list:\n",
        "    model_svc_l.C = C\n",
        "    model_svc_l.fit(X_train,y_train)\n",
        "    p=model_svc_l.predict(X_test)\n",
        "    df_search = pd.DataFrame({'accuracy':[accuracy_score(y_test,p)]}, index=[C])\n",
        "    train_svc_l = pd.concat([train_svc_l,df_search])\n",
        "train_svc_l"
      ],
      "metadata": {
        "id": "AYPCmayvB4IS",
        "colab": {
          "base_uri": "https://localhost:8080/",
          "height": 677
        },
        "outputId": "84570b8a-dcb6-4e18-9314-c2eb5e4b83f3"
      },
      "execution_count": 39,
      "outputs": [
        {
          "output_type": "execute_result",
          "data": {
            "text/plain": [
              "            accuracy\n",
              "0.001       0.942929\n",
              "0.005       0.952329\n",
              "0.010       0.952329\n",
              "0.050       0.957334\n",
              "0.100       0.957334\n",
              "0.200       0.957334\n",
              "0.500       0.958616\n",
              "0.800       0.958738\n",
              "1.000       0.958738\n",
              "3.000       0.959653\n",
              "5.000       0.960508\n",
              "10.000      0.960752\n",
              "20.000      0.960752\n",
              "50.000      0.960752\n",
              "100.000     0.960691\n",
              "500.000     0.960935\n",
              "1000.000    0.961179\n",
              "5000.000    0.961240\n",
              "10000.000   0.961362\n",
              "100000.000  0.961607"
            ],
            "text/html": [
              "<div>\n",
              "<style scoped>\n",
              "    .dataframe tbody tr th:only-of-type {\n",
              "        vertical-align: middle;\n",
              "    }\n",
              "\n",
              "    .dataframe tbody tr th {\n",
              "        vertical-align: top;\n",
              "    }\n",
              "\n",
              "    .dataframe thead th {\n",
              "        text-align: right;\n",
              "    }\n",
              "</style>\n",
              "<table border=\"1\" class=\"dataframe\">\n",
              "  <thead>\n",
              "    <tr style=\"text-align: right;\">\n",
              "      <th></th>\n",
              "      <th>accuracy</th>\n",
              "    </tr>\n",
              "  </thead>\n",
              "  <tbody>\n",
              "    <tr>\n",
              "      <th>0.001</th>\n",
              "      <td>0.942929</td>\n",
              "    </tr>\n",
              "    <tr>\n",
              "      <th>0.005</th>\n",
              "      <td>0.952329</td>\n",
              "    </tr>\n",
              "    <tr>\n",
              "      <th>0.010</th>\n",
              "      <td>0.952329</td>\n",
              "    </tr>\n",
              "    <tr>\n",
              "      <th>0.050</th>\n",
              "      <td>0.957334</td>\n",
              "    </tr>\n",
              "    <tr>\n",
              "      <th>0.100</th>\n",
              "      <td>0.957334</td>\n",
              "    </tr>\n",
              "    <tr>\n",
              "      <th>0.200</th>\n",
              "      <td>0.957334</td>\n",
              "    </tr>\n",
              "    <tr>\n",
              "      <th>0.500</th>\n",
              "      <td>0.958616</td>\n",
              "    </tr>\n",
              "    <tr>\n",
              "      <th>0.800</th>\n",
              "      <td>0.958738</td>\n",
              "    </tr>\n",
              "    <tr>\n",
              "      <th>1.000</th>\n",
              "      <td>0.958738</td>\n",
              "    </tr>\n",
              "    <tr>\n",
              "      <th>3.000</th>\n",
              "      <td>0.959653</td>\n",
              "    </tr>\n",
              "    <tr>\n",
              "      <th>5.000</th>\n",
              "      <td>0.960508</td>\n",
              "    </tr>\n",
              "    <tr>\n",
              "      <th>10.000</th>\n",
              "      <td>0.960752</td>\n",
              "    </tr>\n",
              "    <tr>\n",
              "      <th>20.000</th>\n",
              "      <td>0.960752</td>\n",
              "    </tr>\n",
              "    <tr>\n",
              "      <th>50.000</th>\n",
              "      <td>0.960752</td>\n",
              "    </tr>\n",
              "    <tr>\n",
              "      <th>100.000</th>\n",
              "      <td>0.960691</td>\n",
              "    </tr>\n",
              "    <tr>\n",
              "      <th>500.000</th>\n",
              "      <td>0.960935</td>\n",
              "    </tr>\n",
              "    <tr>\n",
              "      <th>1000.000</th>\n",
              "      <td>0.961179</td>\n",
              "    </tr>\n",
              "    <tr>\n",
              "      <th>5000.000</th>\n",
              "      <td>0.961240</td>\n",
              "    </tr>\n",
              "    <tr>\n",
              "      <th>10000.000</th>\n",
              "      <td>0.961362</td>\n",
              "    </tr>\n",
              "    <tr>\n",
              "      <th>100000.000</th>\n",
              "      <td>0.961607</td>\n",
              "    </tr>\n",
              "  </tbody>\n",
              "</table>\n",
              "</div>"
            ]
          },
          "metadata": {},
          "execution_count": 39
        }
      ]
    },
    {
      "cell_type": "code",
      "source": [
        "#kernel rbf\n",
        "model_svc_r = SVC(max_iter=100000,tol=0.01,random_state=709,class_weight='balanced',kernel='rbf')\n",
        "train_svc_r = pd.DataFrame()\n",
        "for C in C_list:\n",
        "    model_svc_r.C = C\n",
        "    model_svc_r.fit(X_train,y_train)\n",
        "    p=model_svc_r.predict(X_test)\n",
        "    df_search = pd.DataFrame({'accuracy':[accuracy_score(y_test,p)]}, index=[C])\n",
        "    train_svc_r = pd.concat([train_svc_r,df_search])\n",
        "train_svc_r"
      ],
      "metadata": {
        "id": "friky1MTB6N4",
        "colab": {
          "base_uri": "https://localhost:8080/",
          "height": 677
        },
        "outputId": "1c8a52c8-2d49-4581-8fbc-91b4d2ef67e6"
      },
      "execution_count": 40,
      "outputs": [
        {
          "output_type": "execute_result",
          "data": {
            "text/plain": [
              "            accuracy\n",
              "0.001       0.942929\n",
              "0.005       0.942929\n",
              "0.010       0.947018\n",
              "0.050       0.952329\n",
              "0.100       0.957334\n",
              "0.200       0.957334\n",
              "0.500       0.957334\n",
              "0.800       0.957334\n",
              "1.000       0.957334\n",
              "3.000       0.958433\n",
              "5.000       0.958738\n",
              "10.000      0.958738\n",
              "20.000      0.959714\n",
              "50.000      0.960813\n",
              "100.000     0.960813\n",
              "500.000     0.960691\n",
              "1000.000    0.960752\n",
              "5000.000    0.961179\n",
              "10000.000   0.961240\n",
              "100000.000  0.961362"
            ],
            "text/html": [
              "<div>\n",
              "<style scoped>\n",
              "    .dataframe tbody tr th:only-of-type {\n",
              "        vertical-align: middle;\n",
              "    }\n",
              "\n",
              "    .dataframe tbody tr th {\n",
              "        vertical-align: top;\n",
              "    }\n",
              "\n",
              "    .dataframe thead th {\n",
              "        text-align: right;\n",
              "    }\n",
              "</style>\n",
              "<table border=\"1\" class=\"dataframe\">\n",
              "  <thead>\n",
              "    <tr style=\"text-align: right;\">\n",
              "      <th></th>\n",
              "      <th>accuracy</th>\n",
              "    </tr>\n",
              "  </thead>\n",
              "  <tbody>\n",
              "    <tr>\n",
              "      <th>0.001</th>\n",
              "      <td>0.942929</td>\n",
              "    </tr>\n",
              "    <tr>\n",
              "      <th>0.005</th>\n",
              "      <td>0.942929</td>\n",
              "    </tr>\n",
              "    <tr>\n",
              "      <th>0.010</th>\n",
              "      <td>0.947018</td>\n",
              "    </tr>\n",
              "    <tr>\n",
              "      <th>0.050</th>\n",
              "      <td>0.952329</td>\n",
              "    </tr>\n",
              "    <tr>\n",
              "      <th>0.100</th>\n",
              "      <td>0.957334</td>\n",
              "    </tr>\n",
              "    <tr>\n",
              "      <th>0.200</th>\n",
              "      <td>0.957334</td>\n",
              "    </tr>\n",
              "    <tr>\n",
              "      <th>0.500</th>\n",
              "      <td>0.957334</td>\n",
              "    </tr>\n",
              "    <tr>\n",
              "      <th>0.800</th>\n",
              "      <td>0.957334</td>\n",
              "    </tr>\n",
              "    <tr>\n",
              "      <th>1.000</th>\n",
              "      <td>0.957334</td>\n",
              "    </tr>\n",
              "    <tr>\n",
              "      <th>3.000</th>\n",
              "      <td>0.958433</td>\n",
              "    </tr>\n",
              "    <tr>\n",
              "      <th>5.000</th>\n",
              "      <td>0.958738</td>\n",
              "    </tr>\n",
              "    <tr>\n",
              "      <th>10.000</th>\n",
              "      <td>0.958738</td>\n",
              "    </tr>\n",
              "    <tr>\n",
              "      <th>20.000</th>\n",
              "      <td>0.959714</td>\n",
              "    </tr>\n",
              "    <tr>\n",
              "      <th>50.000</th>\n",
              "      <td>0.960813</td>\n",
              "    </tr>\n",
              "    <tr>\n",
              "      <th>100.000</th>\n",
              "      <td>0.960813</td>\n",
              "    </tr>\n",
              "    <tr>\n",
              "      <th>500.000</th>\n",
              "      <td>0.960691</td>\n",
              "    </tr>\n",
              "    <tr>\n",
              "      <th>1000.000</th>\n",
              "      <td>0.960752</td>\n",
              "    </tr>\n",
              "    <tr>\n",
              "      <th>5000.000</th>\n",
              "      <td>0.961179</td>\n",
              "    </tr>\n",
              "    <tr>\n",
              "      <th>10000.000</th>\n",
              "      <td>0.961240</td>\n",
              "    </tr>\n",
              "    <tr>\n",
              "      <th>100000.000</th>\n",
              "      <td>0.961362</td>\n",
              "    </tr>\n",
              "  </tbody>\n",
              "</table>\n",
              "</div>"
            ]
          },
          "metadata": {},
          "execution_count": 40
        }
      ]
    },
    {
      "cell_type": "code",
      "source": [
        "#kernel sigmoid\n",
        "model_svc_s = SVC(max_iter=100000,tol=0.01,random_state=709,class_weight='balanced',kernel='sigmoid')\n",
        "train_svc_s = pd.DataFrame()\n",
        "for C in C_list:\n",
        "    model_svc_s.C = C\n",
        "    model_svc_s.fit(X_train,y_train)\n",
        "    p=model_svc_s.predict(X_test)\n",
        "    df_search = pd.DataFrame({'accuracy':[accuracy_score(y_test,p)]}, index=[C])\n",
        "    train_svc_s = pd.concat([train_svc_s,df_search])\n",
        "train_svc_s"
      ],
      "metadata": {
        "id": "YHvVMERAB8Np",
        "colab": {
          "base_uri": "https://localhost:8080/",
          "height": 677
        },
        "outputId": "e6c732f7-6caf-4741-ea06-bcbbd666e1a3"
      },
      "execution_count": 41,
      "outputs": [
        {
          "output_type": "execute_result",
          "data": {
            "text/plain": [
              "            accuracy\n",
              "0.001       0.990722\n",
              "0.005       0.942929\n",
              "0.010       0.942929\n",
              "0.050       0.953244\n",
              "0.100       0.952329\n",
              "0.200       0.957334\n",
              "0.500       0.957334\n",
              "0.800       0.957334\n",
              "1.000       0.957334\n",
              "3.000       0.957334\n",
              "5.000       0.958433\n",
              "10.000      0.958738\n",
              "20.000      0.958738\n",
              "50.000      0.959653\n",
              "100.000     0.960447\n",
              "500.000     0.960752\n",
              "1000.000    0.960691\n",
              "5000.000    0.960935\n",
              "10000.000   0.961118\n",
              "100000.000  0.961240"
            ],
            "text/html": [
              "<div>\n",
              "<style scoped>\n",
              "    .dataframe tbody tr th:only-of-type {\n",
              "        vertical-align: middle;\n",
              "    }\n",
              "\n",
              "    .dataframe tbody tr th {\n",
              "        vertical-align: top;\n",
              "    }\n",
              "\n",
              "    .dataframe thead th {\n",
              "        text-align: right;\n",
              "    }\n",
              "</style>\n",
              "<table border=\"1\" class=\"dataframe\">\n",
              "  <thead>\n",
              "    <tr style=\"text-align: right;\">\n",
              "      <th></th>\n",
              "      <th>accuracy</th>\n",
              "    </tr>\n",
              "  </thead>\n",
              "  <tbody>\n",
              "    <tr>\n",
              "      <th>0.001</th>\n",
              "      <td>0.990722</td>\n",
              "    </tr>\n",
              "    <tr>\n",
              "      <th>0.005</th>\n",
              "      <td>0.942929</td>\n",
              "    </tr>\n",
              "    <tr>\n",
              "      <th>0.010</th>\n",
              "      <td>0.942929</td>\n",
              "    </tr>\n",
              "    <tr>\n",
              "      <th>0.050</th>\n",
              "      <td>0.953244</td>\n",
              "    </tr>\n",
              "    <tr>\n",
              "      <th>0.100</th>\n",
              "      <td>0.952329</td>\n",
              "    </tr>\n",
              "    <tr>\n",
              "      <th>0.200</th>\n",
              "      <td>0.957334</td>\n",
              "    </tr>\n",
              "    <tr>\n",
              "      <th>0.500</th>\n",
              "      <td>0.957334</td>\n",
              "    </tr>\n",
              "    <tr>\n",
              "      <th>0.800</th>\n",
              "      <td>0.957334</td>\n",
              "    </tr>\n",
              "    <tr>\n",
              "      <th>1.000</th>\n",
              "      <td>0.957334</td>\n",
              "    </tr>\n",
              "    <tr>\n",
              "      <th>3.000</th>\n",
              "      <td>0.957334</td>\n",
              "    </tr>\n",
              "    <tr>\n",
              "      <th>5.000</th>\n",
              "      <td>0.958433</td>\n",
              "    </tr>\n",
              "    <tr>\n",
              "      <th>10.000</th>\n",
              "      <td>0.958738</td>\n",
              "    </tr>\n",
              "    <tr>\n",
              "      <th>20.000</th>\n",
              "      <td>0.958738</td>\n",
              "    </tr>\n",
              "    <tr>\n",
              "      <th>50.000</th>\n",
              "      <td>0.959653</td>\n",
              "    </tr>\n",
              "    <tr>\n",
              "      <th>100.000</th>\n",
              "      <td>0.960447</td>\n",
              "    </tr>\n",
              "    <tr>\n",
              "      <th>500.000</th>\n",
              "      <td>0.960752</td>\n",
              "    </tr>\n",
              "    <tr>\n",
              "      <th>1000.000</th>\n",
              "      <td>0.960691</td>\n",
              "    </tr>\n",
              "    <tr>\n",
              "      <th>5000.000</th>\n",
              "      <td>0.960935</td>\n",
              "    </tr>\n",
              "    <tr>\n",
              "      <th>10000.000</th>\n",
              "      <td>0.961118</td>\n",
              "    </tr>\n",
              "    <tr>\n",
              "      <th>100000.000</th>\n",
              "      <td>0.961240</td>\n",
              "    </tr>\n",
              "  </tbody>\n",
              "</table>\n",
              "</div>"
            ]
          },
          "metadata": {},
          "execution_count": 41
        }
      ]
    },
    {
      "cell_type": "code",
      "source": [
        "train_lsvc.sort_values(by='accuracy',ascending=False).head(3)"
      ],
      "metadata": {
        "id": "SxWRgWgyB-Jg",
        "colab": {
          "base_uri": "https://localhost:8080/",
          "height": 143
        },
        "outputId": "0014fd96-5f0c-499e-9490-3085258ab681"
      },
      "execution_count": 42,
      "outputs": [
        {
          "output_type": "execute_result",
          "data": {
            "text/plain": [
              "          accuracy\n",
              "10000.0   0.998230\n",
              "100000.0  0.998169\n",
              "1000.0    0.997986"
            ],
            "text/html": [
              "<div>\n",
              "<style scoped>\n",
              "    .dataframe tbody tr th:only-of-type {\n",
              "        vertical-align: middle;\n",
              "    }\n",
              "\n",
              "    .dataframe tbody tr th {\n",
              "        vertical-align: top;\n",
              "    }\n",
              "\n",
              "    .dataframe thead th {\n",
              "        text-align: right;\n",
              "    }\n",
              "</style>\n",
              "<table border=\"1\" class=\"dataframe\">\n",
              "  <thead>\n",
              "    <tr style=\"text-align: right;\">\n",
              "      <th></th>\n",
              "      <th>accuracy</th>\n",
              "    </tr>\n",
              "  </thead>\n",
              "  <tbody>\n",
              "    <tr>\n",
              "      <th>10000.0</th>\n",
              "      <td>0.998230</td>\n",
              "    </tr>\n",
              "    <tr>\n",
              "      <th>100000.0</th>\n",
              "      <td>0.998169</td>\n",
              "    </tr>\n",
              "    <tr>\n",
              "      <th>1000.0</th>\n",
              "      <td>0.997986</td>\n",
              "    </tr>\n",
              "  </tbody>\n",
              "</table>\n",
              "</div>"
            ]
          },
          "metadata": {},
          "execution_count": 42
        }
      ]
    },
    {
      "cell_type": "code",
      "source": [
        "train_svc_l.sort_values(by='accuracy',ascending=False).head(3)"
      ],
      "metadata": {
        "id": "SvpF2_CTB-xR",
        "colab": {
          "base_uri": "https://localhost:8080/",
          "height": 143
        },
        "outputId": "52e20ef7-2457-4990-9336-2f57b98e43ee"
      },
      "execution_count": 43,
      "outputs": [
        {
          "output_type": "execute_result",
          "data": {
            "text/plain": [
              "          accuracy\n",
              "100000.0  0.961607\n",
              "10000.0   0.961362\n",
              "5000.0    0.961240"
            ],
            "text/html": [
              "<div>\n",
              "<style scoped>\n",
              "    .dataframe tbody tr th:only-of-type {\n",
              "        vertical-align: middle;\n",
              "    }\n",
              "\n",
              "    .dataframe tbody tr th {\n",
              "        vertical-align: top;\n",
              "    }\n",
              "\n",
              "    .dataframe thead th {\n",
              "        text-align: right;\n",
              "    }\n",
              "</style>\n",
              "<table border=\"1\" class=\"dataframe\">\n",
              "  <thead>\n",
              "    <tr style=\"text-align: right;\">\n",
              "      <th></th>\n",
              "      <th>accuracy</th>\n",
              "    </tr>\n",
              "  </thead>\n",
              "  <tbody>\n",
              "    <tr>\n",
              "      <th>100000.0</th>\n",
              "      <td>0.961607</td>\n",
              "    </tr>\n",
              "    <tr>\n",
              "      <th>10000.0</th>\n",
              "      <td>0.961362</td>\n",
              "    </tr>\n",
              "    <tr>\n",
              "      <th>5000.0</th>\n",
              "      <td>0.961240</td>\n",
              "    </tr>\n",
              "  </tbody>\n",
              "</table>\n",
              "</div>"
            ]
          },
          "metadata": {},
          "execution_count": 43
        }
      ]
    },
    {
      "cell_type": "code",
      "source": [
        "train_svc_r.sort_values(by='accuracy',ascending=False).head(3)"
      ],
      "metadata": {
        "id": "St67bJoPCAvU",
        "colab": {
          "base_uri": "https://localhost:8080/",
          "height": 143
        },
        "outputId": "421d662a-fb7c-4b41-8a14-e8e9df8382df"
      },
      "execution_count": 44,
      "outputs": [
        {
          "output_type": "execute_result",
          "data": {
            "text/plain": [
              "          accuracy\n",
              "100000.0  0.961362\n",
              "10000.0   0.961240\n",
              "5000.0    0.961179"
            ],
            "text/html": [
              "<div>\n",
              "<style scoped>\n",
              "    .dataframe tbody tr th:only-of-type {\n",
              "        vertical-align: middle;\n",
              "    }\n",
              "\n",
              "    .dataframe tbody tr th {\n",
              "        vertical-align: top;\n",
              "    }\n",
              "\n",
              "    .dataframe thead th {\n",
              "        text-align: right;\n",
              "    }\n",
              "</style>\n",
              "<table border=\"1\" class=\"dataframe\">\n",
              "  <thead>\n",
              "    <tr style=\"text-align: right;\">\n",
              "      <th></th>\n",
              "      <th>accuracy</th>\n",
              "    </tr>\n",
              "  </thead>\n",
              "  <tbody>\n",
              "    <tr>\n",
              "      <th>100000.0</th>\n",
              "      <td>0.961362</td>\n",
              "    </tr>\n",
              "    <tr>\n",
              "      <th>10000.0</th>\n",
              "      <td>0.961240</td>\n",
              "    </tr>\n",
              "    <tr>\n",
              "      <th>5000.0</th>\n",
              "      <td>0.961179</td>\n",
              "    </tr>\n",
              "  </tbody>\n",
              "</table>\n",
              "</div>"
            ]
          },
          "metadata": {},
          "execution_count": 44
        }
      ]
    },
    {
      "cell_type": "code",
      "source": [
        "train_svc_s.sort_values(by='accuracy',ascending=False).head(3)"
      ],
      "metadata": {
        "id": "AbzsOqqtCCHp",
        "colab": {
          "base_uri": "https://localhost:8080/",
          "height": 143
        },
        "outputId": "7401b720-8db0-42fc-c859-a1378ba84c55"
      },
      "execution_count": 45,
      "outputs": [
        {
          "output_type": "execute_result",
          "data": {
            "text/plain": [
              "            accuracy\n",
              "0.001       0.990722\n",
              "100000.000  0.961240\n",
              "10000.000   0.961118"
            ],
            "text/html": [
              "<div>\n",
              "<style scoped>\n",
              "    .dataframe tbody tr th:only-of-type {\n",
              "        vertical-align: middle;\n",
              "    }\n",
              "\n",
              "    .dataframe tbody tr th {\n",
              "        vertical-align: top;\n",
              "    }\n",
              "\n",
              "    .dataframe thead th {\n",
              "        text-align: right;\n",
              "    }\n",
              "</style>\n",
              "<table border=\"1\" class=\"dataframe\">\n",
              "  <thead>\n",
              "    <tr style=\"text-align: right;\">\n",
              "      <th></th>\n",
              "      <th>accuracy</th>\n",
              "    </tr>\n",
              "  </thead>\n",
              "  <tbody>\n",
              "    <tr>\n",
              "      <th>0.001</th>\n",
              "      <td>0.990722</td>\n",
              "    </tr>\n",
              "    <tr>\n",
              "      <th>100000.000</th>\n",
              "      <td>0.961240</td>\n",
              "    </tr>\n",
              "    <tr>\n",
              "      <th>10000.000</th>\n",
              "      <td>0.961118</td>\n",
              "    </tr>\n",
              "  </tbody>\n",
              "</table>\n",
              "</div>"
            ]
          },
          "metadata": {},
          "execution_count": 45
        }
      ]
    },
    {
      "cell_type": "code",
      "source": [
        "model_lin = LinearSVC(max_iter=100000,tol=0.01,random_state=709,C = 10000,dual=True,class_weight='balanced')\n",
        "model_lin.fit(X_train,y_train)\n",
        "start = time.time()\n",
        "p_linSVC = model_lin.predict(X_test)\n",
        "stop = time.time()\n",
        "linsvc_rep = classification_report(y_test,p_linSVC,output_dict=True)\n",
        "lsvcTime = stop-start"
      ],
      "metadata": {
        "colab": {
          "base_uri": "https://localhost:8080/"
        },
        "id": "47VlbGvAiGjW",
        "outputId": "8d31fcc0-9535-4100-c95c-0921ba44ff63"
      },
      "execution_count": 73,
      "outputs": [
        {
          "output_type": "stream",
          "name": "stderr",
          "text": [
            "C:\\Users\\migbo\\anaconda3\\lib\\site-packages\\sklearn\\svm\\_base.py:1242: ConvergenceWarning: Liblinear failed to converge, increase the number of iterations.\n",
            "  warnings.warn(\n"
          ]
        }
      ]
    },
    {
      "cell_type": "code",
      "source": [
        "model_svc_lin = SVC(max_iter=100000,tol=0.01,random_state=709,class_weight='balanced',kernel='linear',C=100000)\n",
        "model_svc_lin.fit(X_train,y_train)\n",
        "start = time.time()\n",
        "p_SVClin = model_svc_lin.predict(X_test)\n",
        "stop=time.time()\n",
        "svc_lin_rep = classification_report(y_test,p_SVClin,output_dict=True)\n",
        "svc_linTime = stop-start"
      ],
      "metadata": {
        "id": "rTzRlSd8iu5M"
      },
      "execution_count": 74,
      "outputs": []
    },
    {
      "cell_type": "code",
      "source": [
        "model_svc_rbf = SVC(max_iter=100000,tol=0.01,random_state=709,class_weight='balanced',kernel='rbf',C=100000)\n",
        "model_svc_rbf.fit(X_train,y_train)\n",
        "start = time.time()\n",
        "p_SVCrbf = model_svc_rbf.predict(X_test)\n",
        "stop=time.time()\n",
        "svc_rbf_rep = classification_report(y_test,p_SVCrbf,output_dict=True)\n",
        "svc_rbfTime = stop-start"
      ],
      "metadata": {
        "id": "PeyNDigeiu78"
      },
      "execution_count": 75,
      "outputs": []
    },
    {
      "cell_type": "code",
      "source": [
        "model_svc_sig = SVC(max_iter=100000,tol=0.01,random_state=709,class_weight='balanced',kernel='sigmoid',C=.001)\n",
        "model_svc_sig.fit(X_train,y_train)\n",
        "start = time.time()\n",
        "p_SVCsig = model_svc_sig.predict(X_test)\n",
        "stop=time.time()\n",
        "svc_sig_rep = classification_report(y_test,p_SVCsig,output_dict=True)\n",
        "svc_sigTime = stop-start"
      ],
      "metadata": {
        "id": "GgZGegKGiu-k",
        "colab": {
          "base_uri": "https://localhost:8080/"
        },
        "outputId": "d813067b-811d-4c80-fac7-77369ea19981"
      },
      "execution_count": 72,
      "outputs": [
        {
          "output_type": "stream",
          "name": "stderr",
          "text": [
            "C:\\Users\\migbo\\anaconda3\\lib\\site-packages\\sklearn\\metrics\\_classification.py:1469: UndefinedMetricWarning: Precision and F-score are ill-defined and being set to 0.0 in labels with no predicted samples. Use `zero_division` parameter to control this behavior.\n",
            "  _warn_prf(average, modifier, msg_start, len(result))\n",
            "C:\\Users\\migbo\\anaconda3\\lib\\site-packages\\sklearn\\metrics\\_classification.py:1469: UndefinedMetricWarning: Precision and F-score are ill-defined and being set to 0.0 in labels with no predicted samples. Use `zero_division` parameter to control this behavior.\n",
            "  _warn_prf(average, modifier, msg_start, len(result))\n",
            "C:\\Users\\migbo\\anaconda3\\lib\\site-packages\\sklearn\\metrics\\_classification.py:1469: UndefinedMetricWarning: Precision and F-score are ill-defined and being set to 0.0 in labels with no predicted samples. Use `zero_division` parameter to control this behavior.\n",
            "  _warn_prf(average, modifier, msg_start, len(result))\n"
          ]
        }
      ]
    },
    {
      "cell_type": "code",
      "source": [
        "fig, ax = plt.subplots(2,2,figsize = (12,10))\n",
        "disp_1 = ConfusionMatrixDisplay.from_predictions(y_test,p_linSVC,ax=ax[0][0],colorbar=False,cmap='Blues')\n",
        "disp_2 = ConfusionMatrixDisplay.from_predictions(y_test,p_SVClin,ax=ax[0][1],colorbar=False,cmap='Blues')\n",
        "disp_3 = ConfusionMatrixDisplay.from_predictions(y_test,p_SVCrbf,ax=ax[1][0],colorbar=False,cmap = 'Blues')\n",
        "disp_4 = ConfusionMatrixDisplay.from_predictions(y_test,p_SVCsig,ax=ax[1][1],colorbar=False,cmap = 'Blues')\n",
        "ax[0][0].grid(False)\n",
        "ax[0][0].set_title('LinearSVC',fontsize=12)\n",
        "ax[0][1].grid(False)\n",
        "ax[0][1].set_title('SVC Linear Kernel',fontsize=12)\n",
        "ax[1][0].grid(False)\n",
        "ax[1][0].set_title('SVC RBF Kernel',fontsize=12)\n",
        "ax[1][1].grid(False)\n",
        "ax[1][1].set_title('SVC Sigmoid Kernel',fontsize=12)\n",
        "plt.suptitle('Confusion Matrices for SVC Models',y=.93)\n",
        "plt.show()"
      ],
      "metadata": {
        "colab": {
          "base_uri": "https://localhost:8080/",
          "height": 898
        },
        "id": "CBikmO_EivBH",
        "outputId": "9f3ff0a5-d3c0-49cb-d23e-c4174ed9792a"
      },
      "execution_count": 76,
      "outputs": [
        {
          "output_type": "display_data",
          "data": {
            "text/plain": [
              "<Figure size 1200x1000 with 4 Axes>"
            ],
            "image/png": "[encoded data removed]"
          },
          "metadata": {}
        }
      ]
    },
    {
      "cell_type": "code",
      "source": [
        "a_list = [0.0001, 0.0005, .001,.005,.01,.05,.1,.2,.5,.8,1,5,10,50,100,500,1000,5000,10000,100000]"
      ],
      "metadata": {
        "id": "D4OomEEoEpJ0"
      },
      "execution_count": 51,
      "outputs": []
    },
    {
      "cell_type": "code",
      "source": [
        "#sgd with hinge\n",
        "from sklearn.linear_model import SGDClassifier\n",
        "sgd_hin = SGDClassifier(early_stopping=True,n_iter_no_change=8,class_weight='balanced',max_iter=100000,random_state=709,loss='hinge')\n",
        "train_sgd_hin = pd.DataFrame()\n",
        "for a in a_list:\n",
        "    sgd_hin.alpha = a\n",
        "    sgd_hin.fit(X_train,y_train)\n",
        "    p = sgd_hin.predict(X_test)\n",
        "    df_search = pd.DataFrame({'accuracy':[accuracy_score(y_test,p)]},index=[a])\n",
        "    train_sgd_hin = pd.concat([train_sgd_hin,df_search])\n",
        "train_sgd_hin"
      ],
      "metadata": {
        "id": "FkGoyzjIE7ly",
        "outputId": "5df48928-2a45-45c9-b167-1b1d0fd9d387",
        "colab": {
          "base_uri": "https://localhost:8080/",
          "height": 677
        }
      },
      "execution_count": 52,
      "outputs": [
        {
          "output_type": "execute_result",
          "data": {
            "text/plain": [
              "             accuracy\n",
              "0.0001       0.958249\n",
              "0.0005       0.958066\n",
              "0.0010       0.958249\n",
              "0.0050       0.989013\n",
              "0.0100       0.989013\n",
              "0.0500       0.989501\n",
              "0.1000       0.989868\n",
              "0.2000       0.989868\n",
              "0.5000       0.989868\n",
              "0.8000       0.989868\n",
              "1.0000       0.989868\n",
              "5.0000       0.989868\n",
              "10.0000      0.989868\n",
              "50.0000      0.792651\n",
              "100.0000     0.792651\n",
              "500.0000     0.792651\n",
              "1000.0000    0.769273\n",
              "5000.0000    0.228835\n",
              "10000.0000   0.226943\n",
              "100000.0000  0.226637"
            ],
            "text/html": [
              "<div>\n",
              "<style scoped>\n",
              "    .dataframe tbody tr th:only-of-type {\n",
              "        vertical-align: middle;\n",
              "    }\n",
              "\n",
              "    .dataframe tbody tr th {\n",
              "        vertical-align: top;\n",
              "    }\n",
              "\n",
              "    .dataframe thead th {\n",
              "        text-align: right;\n",
              "    }\n",
              "</style>\n",
              "<table border=\"1\" class=\"dataframe\">\n",
              "  <thead>\n",
              "    <tr style=\"text-align: right;\">\n",
              "      <th></th>\n",
              "      <th>accuracy</th>\n",
              "    </tr>\n",
              "  </thead>\n",
              "  <tbody>\n",
              "    <tr>\n",
              "      <th>0.0001</th>\n",
              "      <td>0.958249</td>\n",
              "    </tr>\n",
              "    <tr>\n",
              "      <th>0.0005</th>\n",
              "      <td>0.958066</td>\n",
              "    </tr>\n",
              "    <tr>\n",
              "      <th>0.0010</th>\n",
              "      <td>0.958249</td>\n",
              "    </tr>\n",
              "    <tr>\n",
              "      <th>0.0050</th>\n",
              "      <td>0.989013</td>\n",
              "    </tr>\n",
              "    <tr>\n",
              "      <th>0.0100</th>\n",
              "      <td>0.989013</td>\n",
              "    </tr>\n",
              "    <tr>\n",
              "      <th>0.0500</th>\n",
              "      <td>0.989501</td>\n",
              "    </tr>\n",
              "    <tr>\n",
              "      <th>0.1000</th>\n",
              "      <td>0.989868</td>\n",
              "    </tr>\n",
              "    <tr>\n",
              "      <th>0.2000</th>\n",
              "      <td>0.989868</td>\n",
              "    </tr>\n",
              "    <tr>\n",
              "      <th>0.5000</th>\n",
              "      <td>0.989868</td>\n",
              "    </tr>\n",
              "    <tr>\n",
              "      <th>0.8000</th>\n",
              "      <td>0.989868</td>\n",
              "    </tr>\n",
              "    <tr>\n",
              "      <th>1.0000</th>\n",
              "      <td>0.989868</td>\n",
              "    </tr>\n",
              "    <tr>\n",
              "      <th>5.0000</th>\n",
              "      <td>0.989868</td>\n",
              "    </tr>\n",
              "    <tr>\n",
              "      <th>10.0000</th>\n",
              "      <td>0.989868</td>\n",
              "    </tr>\n",
              "    <tr>\n",
              "      <th>50.0000</th>\n",
              "      <td>0.792651</td>\n",
              "    </tr>\n",
              "    <tr>\n",
              "      <th>100.0000</th>\n",
              "      <td>0.792651</td>\n",
              "    </tr>\n",
              "    <tr>\n",
              "      <th>500.0000</th>\n",
              "      <td>0.792651</td>\n",
              "    </tr>\n",
              "    <tr>\n",
              "      <th>1000.0000</th>\n",
              "      <td>0.769273</td>\n",
              "    </tr>\n",
              "    <tr>\n",
              "      <th>5000.0000</th>\n",
              "      <td>0.228835</td>\n",
              "    </tr>\n",
              "    <tr>\n",
              "      <th>10000.0000</th>\n",
              "      <td>0.226943</td>\n",
              "    </tr>\n",
              "    <tr>\n",
              "      <th>100000.0000</th>\n",
              "      <td>0.226637</td>\n",
              "    </tr>\n",
              "  </tbody>\n",
              "</table>\n",
              "</div>"
            ]
          },
          "metadata": {},
          "execution_count": 52
        }
      ]
    },
    {
      "cell_type": "code",
      "source": [
        "#sgd with log-loss\n",
        "from sklearn.linear_model import SGDClassifier\n",
        "sgd_log = SGDClassifier(early_stopping=True,n_iter_no_change=8,class_weight='balanced',max_iter=100000,random_state=709,loss='log_loss')\n",
        "train_sgd_log = pd.DataFrame()\n",
        "for a in a_list:\n",
        "    sgd_log.alpha = a\n",
        "    sgd_log.fit(X_train,y_train)\n",
        "    p = sgd_log.predict(X_test)\n",
        "    df_search = pd.DataFrame({'accuracy':[accuracy_score(y_test,p)]},index=[a])\n",
        "    train_sgd_log = pd.concat([train_sgd_log,df_search])\n",
        "train_sgd_log"
      ],
      "metadata": {
        "id": "QYPbKQDeFHbV",
        "outputId": "f03922a2-6ef8-40a4-dc34-863c3093de6d",
        "colab": {
          "base_uri": "https://localhost:8080/",
          "height": 677
        }
      },
      "execution_count": 53,
      "outputs": [
        {
          "output_type": "execute_result",
          "data": {
            "text/plain": [
              "             accuracy\n",
              "0.0001       0.994018\n",
              "0.0005       0.989013\n",
              "0.0010       0.989562\n",
              "0.0050       0.989868\n",
              "0.0100       0.989868\n",
              "0.0500       0.989868\n",
              "0.1000       0.989868\n",
              "0.2000       0.989868\n",
              "0.5000       0.989868\n",
              "0.8000       0.989868\n",
              "1.0000       0.989868\n",
              "5.0000       0.989868\n",
              "10.0000      0.989868\n",
              "50.0000      0.792651\n",
              "100.0000     0.792651\n",
              "500.0000     0.792651\n",
              "1000.0000    0.769273\n",
              "5000.0000    0.228835\n",
              "10000.0000   0.226943\n",
              "100000.0000  0.226637"
            ],
            "text/html": [
              "<div>\n",
              "<style scoped>\n",
              "    .dataframe tbody tr th:only-of-type {\n",
              "        vertical-align: middle;\n",
              "    }\n",
              "\n",
              "    .dataframe tbody tr th {\n",
              "        vertical-align: top;\n",
              "    }\n",
              "\n",
              "    .dataframe thead th {\n",
              "        text-align: right;\n",
              "    }\n",
              "</style>\n",
              "<table border=\"1\" class=\"dataframe\">\n",
              "  <thead>\n",
              "    <tr style=\"text-align: right;\">\n",
              "      <th></th>\n",
              "      <th>accuracy</th>\n",
              "    </tr>\n",
              "  </thead>\n",
              "  <tbody>\n",
              "    <tr>\n",
              "      <th>0.0001</th>\n",
              "      <td>0.994018</td>\n",
              "    </tr>\n",
              "    <tr>\n",
              "      <th>0.0005</th>\n",
              "      <td>0.989013</td>\n",
              "    </tr>\n",
              "    <tr>\n",
              "      <th>0.0010</th>\n",
              "      <td>0.989562</td>\n",
              "    </tr>\n",
              "    <tr>\n",
              "      <th>0.0050</th>\n",
              "      <td>0.989868</td>\n",
              "    </tr>\n",
              "    <tr>\n",
              "      <th>0.0100</th>\n",
              "      <td>0.989868</td>\n",
              "    </tr>\n",
              "    <tr>\n",
              "      <th>0.0500</th>\n",
              "      <td>0.989868</td>\n",
              "    </tr>\n",
              "    <tr>\n",
              "      <th>0.1000</th>\n",
              "      <td>0.989868</td>\n",
              "    </tr>\n",
              "    <tr>\n",
              "      <th>0.2000</th>\n",
              "      <td>0.989868</td>\n",
              "    </tr>\n",
              "    <tr>\n",
              "      <th>0.5000</th>\n",
              "      <td>0.989868</td>\n",
              "    </tr>\n",
              "    <tr>\n",
              "      <th>0.8000</th>\n",
              "      <td>0.989868</td>\n",
              "    </tr>\n",
              "    <tr>\n",
              "      <th>1.0000</th>\n",
              "      <td>0.989868</td>\n",
              "    </tr>\n",
              "    <tr>\n",
              "      <th>5.0000</th>\n",
              "      <td>0.989868</td>\n",
              "    </tr>\n",
              "    <tr>\n",
              "      <th>10.0000</th>\n",
              "      <td>0.989868</td>\n",
              "    </tr>\n",
              "    <tr>\n",
              "      <th>50.0000</th>\n",
              "      <td>0.792651</td>\n",
              "    </tr>\n",
              "    <tr>\n",
              "      <th>100.0000</th>\n",
              "      <td>0.792651</td>\n",
              "    </tr>\n",
              "    <tr>\n",
              "      <th>500.0000</th>\n",
              "      <td>0.792651</td>\n",
              "    </tr>\n",
              "    <tr>\n",
              "      <th>1000.0000</th>\n",
              "      <td>0.769273</td>\n",
              "    </tr>\n",
              "    <tr>\n",
              "      <th>5000.0000</th>\n",
              "      <td>0.228835</td>\n",
              "    </tr>\n",
              "    <tr>\n",
              "      <th>10000.0000</th>\n",
              "      <td>0.226943</td>\n",
              "    </tr>\n",
              "    <tr>\n",
              "      <th>100000.0000</th>\n",
              "      <td>0.226637</td>\n",
              "    </tr>\n",
              "  </tbody>\n",
              "</table>\n",
              "</div>"
            ]
          },
          "metadata": {},
          "execution_count": 53
        }
      ]
    },
    {
      "cell_type": "code",
      "source": [
        "#sgd with modified huber\n",
        "from sklearn.linear_model import SGDClassifier\n",
        "sgd_hub = SGDClassifier(early_stopping=True,n_iter_no_change=8,class_weight='balanced',max_iter=100000,random_state=709,loss='modified_huber')\n",
        "train_sgd_hub = pd.DataFrame()\n",
        "for a in a_list:\n",
        "    sgd_hub.alpha = a\n",
        "    sgd_hub.fit(X_train,y_train)\n",
        "    p = sgd_hub.predict(X_test)\n",
        "    df_search = pd.DataFrame({'accuracy':[accuracy_score(y_test,p)]},index=[a])\n",
        "    train_sgd_hub = pd.concat([train_sgd_hub,df_search])\n",
        "train_sgd_hub"
      ],
      "metadata": {
        "id": "Xg00vw3XF3_1",
        "outputId": "b9325e0d-f654-4b7f-e2cf-97be3cc559fe",
        "colab": {
          "base_uri": "https://localhost:8080/",
          "height": 677
        }
      },
      "execution_count": 54,
      "outputs": [
        {
          "output_type": "execute_result",
          "data": {
            "text/plain": [
              "             accuracy\n",
              "0.0001       0.958433\n",
              "0.0005       0.958555\n",
              "0.0010       0.995727\n",
              "0.0050       0.993896\n",
              "0.0100       0.989013\n",
              "0.0500       0.989868\n",
              "0.1000       0.989868\n",
              "0.2000       0.989868\n",
              "0.5000       0.989868\n",
              "0.8000       0.989868\n",
              "1.0000       0.989868\n",
              "5.0000       0.989868\n",
              "10.0000      0.989868\n",
              "50.0000      0.989807\n",
              "100.0000     0.792651\n",
              "500.0000     0.792651\n",
              "1000.0000    0.769395\n",
              "5000.0000    0.228835\n",
              "10000.0000   0.226943\n",
              "100000.0000  0.226637"
            ],
            "text/html": [
              "<div>\n",
              "<style scoped>\n",
              "    .dataframe tbody tr th:only-of-type {\n",
              "        vertical-align: middle;\n",
              "    }\n",
              "\n",
              "    .dataframe tbody tr th {\n",
              "        vertical-align: top;\n",
              "    }\n",
              "\n",
              "    .dataframe thead th {\n",
              "        text-align: right;\n",
              "    }\n",
              "</style>\n",
              "<table border=\"1\" class=\"dataframe\">\n",
              "  <thead>\n",
              "    <tr style=\"text-align: right;\">\n",
              "      <th></th>\n",
              "      <th>accuracy</th>\n",
              "    </tr>\n",
              "  </thead>\n",
              "  <tbody>\n",
              "    <tr>\n",
              "      <th>0.0001</th>\n",
              "      <td>0.958433</td>\n",
              "    </tr>\n",
              "    <tr>\n",
              "      <th>0.0005</th>\n",
              "      <td>0.958555</td>\n",
              "    </tr>\n",
              "    <tr>\n",
              "      <th>0.0010</th>\n",
              "      <td>0.995727</td>\n",
              "    </tr>\n",
              "    <tr>\n",
              "      <th>0.0050</th>\n",
              "      <td>0.993896</td>\n",
              "    </tr>\n",
              "    <tr>\n",
              "      <th>0.0100</th>\n",
              "      <td>0.989013</td>\n",
              "    </tr>\n",
              "    <tr>\n",
              "      <th>0.0500</th>\n",
              "      <td>0.989868</td>\n",
              "    </tr>\n",
              "    <tr>\n",
              "      <th>0.1000</th>\n",
              "      <td>0.989868</td>\n",
              "    </tr>\n",
              "    <tr>\n",
              "      <th>0.2000</th>\n",
              "      <td>0.989868</td>\n",
              "    </tr>\n",
              "    <tr>\n",
              "      <th>0.5000</th>\n",
              "      <td>0.989868</td>\n",
              "    </tr>\n",
              "    <tr>\n",
              "      <th>0.8000</th>\n",
              "      <td>0.989868</td>\n",
              "    </tr>\n",
              "    <tr>\n",
              "      <th>1.0000</th>\n",
              "      <td>0.989868</td>\n",
              "    </tr>\n",
              "    <tr>\n",
              "      <th>5.0000</th>\n",
              "      <td>0.989868</td>\n",
              "    </tr>\n",
              "    <tr>\n",
              "      <th>10.0000</th>\n",
              "      <td>0.989868</td>\n",
              "    </tr>\n",
              "    <tr>\n",
              "      <th>50.0000</th>\n",
              "      <td>0.989807</td>\n",
              "    </tr>\n",
              "    <tr>\n",
              "      <th>100.0000</th>\n",
              "      <td>0.792651</td>\n",
              "    </tr>\n",
              "    <tr>\n",
              "      <th>500.0000</th>\n",
              "      <td>0.792651</td>\n",
              "    </tr>\n",
              "    <tr>\n",
              "      <th>1000.0000</th>\n",
              "      <td>0.769395</td>\n",
              "    </tr>\n",
              "    <tr>\n",
              "      <th>5000.0000</th>\n",
              "      <td>0.228835</td>\n",
              "    </tr>\n",
              "    <tr>\n",
              "      <th>10000.0000</th>\n",
              "      <td>0.226943</td>\n",
              "    </tr>\n",
              "    <tr>\n",
              "      <th>100000.0000</th>\n",
              "      <td>0.226637</td>\n",
              "    </tr>\n",
              "  </tbody>\n",
              "</table>\n",
              "</div>"
            ]
          },
          "metadata": {},
          "execution_count": 54
        }
      ]
    },
    {
      "cell_type": "code",
      "source": [
        "train_sgd_hin.sort_values(by='accuracy',ascending=False).head(3)"
      ],
      "metadata": {
        "id": "RwQdyEfjE8v6",
        "outputId": "3863670d-cc9d-42fb-9365-e3f0cbb67969",
        "colab": {
          "base_uri": "https://localhost:8080/",
          "height": 143
        }
      },
      "execution_count": 55,
      "outputs": [
        {
          "output_type": "execute_result",
          "data": {
            "text/plain": [
              "      accuracy\n",
              "1.0   0.989868\n",
              "5.0   0.989868\n",
              "10.0  0.989868"
            ],
            "text/html": [
              "<div>\n",
              "<style scoped>\n",
              "    .dataframe tbody tr th:only-of-type {\n",
              "        vertical-align: middle;\n",
              "    }\n",
              "\n",
              "    .dataframe tbody tr th {\n",
              "        vertical-align: top;\n",
              "    }\n",
              "\n",
              "    .dataframe thead th {\n",
              "        text-align: right;\n",
              "    }\n",
              "</style>\n",
              "<table border=\"1\" class=\"dataframe\">\n",
              "  <thead>\n",
              "    <tr style=\"text-align: right;\">\n",
              "      <th></th>\n",
              "      <th>accuracy</th>\n",
              "    </tr>\n",
              "  </thead>\n",
              "  <tbody>\n",
              "    <tr>\n",
              "      <th>1.0</th>\n",
              "      <td>0.989868</td>\n",
              "    </tr>\n",
              "    <tr>\n",
              "      <th>5.0</th>\n",
              "      <td>0.989868</td>\n",
              "    </tr>\n",
              "    <tr>\n",
              "      <th>10.0</th>\n",
              "      <td>0.989868</td>\n",
              "    </tr>\n",
              "  </tbody>\n",
              "</table>\n",
              "</div>"
            ]
          },
          "metadata": {},
          "execution_count": 55
        }
      ]
    },
    {
      "cell_type": "code",
      "source": [
        "train_sgd_log.sort_values(by='accuracy',ascending=False).head(3)"
      ],
      "metadata": {
        "id": "27imunNRFy0N",
        "outputId": "7f46e4e2-7c3b-4055-ce25-31de82e34dd3",
        "colab": {
          "base_uri": "https://localhost:8080/",
          "height": 143
        }
      },
      "execution_count": 56,
      "outputs": [
        {
          "output_type": "execute_result",
          "data": {
            "text/plain": [
              "         accuracy\n",
              "0.0001   0.994018\n",
              "0.2000   0.989868\n",
              "10.0000  0.989868"
            ],
            "text/html": [
              "<div>\n",
              "<style scoped>\n",
              "    .dataframe tbody tr th:only-of-type {\n",
              "        vertical-align: middle;\n",
              "    }\n",
              "\n",
              "    .dataframe tbody tr th {\n",
              "        vertical-align: top;\n",
              "    }\n",
              "\n",
              "    .dataframe thead th {\n",
              "        text-align: right;\n",
              "    }\n",
              "</style>\n",
              "<table border=\"1\" class=\"dataframe\">\n",
              "  <thead>\n",
              "    <tr style=\"text-align: right;\">\n",
              "      <th></th>\n",
              "      <th>accuracy</th>\n",
              "    </tr>\n",
              "  </thead>\n",
              "  <tbody>\n",
              "    <tr>\n",
              "      <th>0.0001</th>\n",
              "      <td>0.994018</td>\n",
              "    </tr>\n",
              "    <tr>\n",
              "      <th>0.2000</th>\n",
              "      <td>0.989868</td>\n",
              "    </tr>\n",
              "    <tr>\n",
              "      <th>10.0000</th>\n",
              "      <td>0.989868</td>\n",
              "    </tr>\n",
              "  </tbody>\n",
              "</table>\n",
              "</div>"
            ]
          },
          "metadata": {},
          "execution_count": 56
        }
      ]
    },
    {
      "cell_type": "code",
      "source": [
        "train_sgd_hub.sort_values(by='accuracy',ascending=False).head(3)"
      ],
      "metadata": {
        "id": "IZ0jcZaPF6MO",
        "outputId": "35973b5e-910c-4a19-fa4a-31a910bb8e5f",
        "colab": {
          "base_uri": "https://localhost:8080/",
          "height": 143
        }
      },
      "execution_count": 57,
      "outputs": [
        {
          "output_type": "execute_result",
          "data": {
            "text/plain": [
              "       accuracy\n",
              "0.001  0.995727\n",
              "0.005  0.993896\n",
              "1.000  0.989868"
            ],
            "text/html": [
              "<div>\n",
              "<style scoped>\n",
              "    .dataframe tbody tr th:only-of-type {\n",
              "        vertical-align: middle;\n",
              "    }\n",
              "\n",
              "    .dataframe tbody tr th {\n",
              "        vertical-align: top;\n",
              "    }\n",
              "\n",
              "    .dataframe thead th {\n",
              "        text-align: right;\n",
              "    }\n",
              "</style>\n",
              "<table border=\"1\" class=\"dataframe\">\n",
              "  <thead>\n",
              "    <tr style=\"text-align: right;\">\n",
              "      <th></th>\n",
              "      <th>accuracy</th>\n",
              "    </tr>\n",
              "  </thead>\n",
              "  <tbody>\n",
              "    <tr>\n",
              "      <th>0.001</th>\n",
              "      <td>0.995727</td>\n",
              "    </tr>\n",
              "    <tr>\n",
              "      <th>0.005</th>\n",
              "      <td>0.993896</td>\n",
              "    </tr>\n",
              "    <tr>\n",
              "      <th>1.000</th>\n",
              "      <td>0.989868</td>\n",
              "    </tr>\n",
              "  </tbody>\n",
              "</table>\n",
              "</div>"
            ]
          },
          "metadata": {},
          "execution_count": 57
        }
      ]
    },
    {
      "cell_type": "code",
      "source": [
        "model_sgdHin = SGDClassifier(early_stopping=True,n_iter_no_change=8,class_weight='balanced',max_iter=100000,random_state=709,loss='hinge',alpha=.05)\n",
        "model_sgdHin.fit(X_train,y_train)\n",
        "start=time.time()\n",
        "p_sgdHin = model_sgdHin.predict(X_test)\n",
        "stop = time.time()\n",
        "sgdHin_rep = classification_report(y_test,p_sgdHin,output_dict=True)\n",
        "sgdHinTime=stop-start"
      ],
      "metadata": {
        "id": "qU0HDNNfiPTU"
      },
      "execution_count": 58,
      "outputs": []
    },
    {
      "cell_type": "code",
      "source": [
        "model_sgdLog = SGDClassifier(early_stopping=True,n_iter_no_change=8,class_weight='balanced',max_iter=100000,random_state=709,loss='log_loss',alpha=.001)\n",
        "model_sgdLog.fit(X_train,y_train)\n",
        "start=time.time()\n",
        "p_sgdLog = model_sgdLog.predict(X_test)\n",
        "stop = time.time()\n",
        "sgdLog_rep = classification_report(y_test,p_sgdLog,output_dict=True)\n",
        "sgdLogTime=stop-start"
      ],
      "metadata": {
        "id": "JSN-Pt4EGQn_"
      },
      "execution_count": 59,
      "outputs": []
    },
    {
      "cell_type": "code",
      "source": [
        "model_sgdHub = SGDClassifier(early_stopping=True,n_iter_no_change=8,class_weight='balanced',max_iter=100000,random_state=709,loss='modified_huber',alpha=.0005)\n",
        "model_sgdHub.fit(X_train,y_train)\n",
        "start = time.time()\n",
        "p_sgdHub = model_sgdHub.predict(X_test)\n",
        "stop = time.time()\n",
        "sgdHub_rep = classification_report(y_test,p_sgdHub,output_dict=True)\n",
        "sgdHubTime = stop-start"
      ],
      "metadata": {
        "id": "Y1U5WKezbecq"
      },
      "execution_count": 60,
      "outputs": []
    },
    {
      "cell_type": "code",
      "source": [
        "model_lin = LinearSVC(max_iter=100000,tol=0.01,random_state=709,C = 20000)\n",
        "model_lin.fit(X_train,y_train)\n",
        "start = time.time()\n",
        "p_linSVC = model_lin.predict(X_test)\n",
        "stop = time.time()\n",
        "linsvc_rep = classification_report(y_test,p_linSVC,output_dict=True)\n",
        "lsvcTime = stop-start"
      ],
      "metadata": {
        "id": "7X6oavKgiUWL",
        "colab": {
          "base_uri": "https://localhost:8080/"
        },
        "outputId": "ce757d90-71ba-4420-f944-08064d11ee5c"
      },
      "execution_count": 61,
      "outputs": [
        {
          "output_type": "stream",
          "name": "stderr",
          "text": [
            "C:\\Users\\migbo\\anaconda3\\lib\\site-packages\\sklearn\\svm\\_classes.py:32: FutureWarning: The default value of `dual` will change from `True` to `'auto'` in 1.5. Set the value of `dual` explicitly to suppress the warning.\n",
            "  warnings.warn(\n",
            "C:\\Users\\migbo\\anaconda3\\lib\\site-packages\\sklearn\\svm\\_base.py:1242: ConvergenceWarning: Liblinear failed to converge, increase the number of iterations.\n",
            "  warnings.warn(\n"
          ]
        }
      ]
    },
    {
      "cell_type": "code",
      "source": [
        "\n",
        "fig, ax = plt.subplots(2,2,figsize = (12,10))\n",
        "disp_1 = ConfusionMatrixDisplay.from_predictions(y_test,p_linSVC,ax=ax[0][0],colorbar=False,cmap='Blues')\n",
        "disp_2 = ConfusionMatrixDisplay.from_predictions(y_test,p_sgdHub,ax=ax[0][1],colorbar=False,cmap='Blues')\n",
        "disp_3 = ConfusionMatrixDisplay.from_predictions(y_test,p_sgdLog,ax=ax[1][0],colorbar=False,cmap='Blues')\n",
        "disp_4 = ConfusionMatrixDisplay.from_predictions(y_test, p_sgdHin,ax=ax[1][1],colorbar=False,cmap = 'Blues')\n",
        "ax[0][0].grid(False)\n",
        "ax[0][0].set_title('LinearSVC',fontsize=12)\n",
        "ax[0][1].grid(False)\n",
        "ax[0][1].set_title('SGD Modified Huber  ',fontsize=12)\n",
        "ax[1][0].grid(False)\n",
        "ax[1][0].set_title('SGD Log Loss',fontsize=12)\n",
        "ax[1][1].grid(False)\n",
        "ax[1][1].set_title('SGD Hinge Loss',fontsize=12)\n",
        "plt.suptitle('Confusion Matrices for SGD Models vs. Top performing SVC Model',y=.93)\n",
        "plt.show()"
      ],
      "metadata": {
        "id": "ZvGb0xCX4eFR",
        "outputId": "b8c6f2f5-8f47-44b2-8da4-d8212f34b7b7",
        "colab": {
          "base_uri": "https://localhost:8080/",
          "height": 898
        }
      },
      "execution_count": 77,
      "outputs": [
        {
          "output_type": "display_data",
          "data": {
            "text/plain": [
              "<Figure size 1200x1000 with 4 Axes>"
            ],
            "image/png": "[encoded data removed]"
          },
          "metadata": {}
        }
      ]
    },
    {
      "cell_type": "code",
      "source": [
        "df_results = pd.concat([\n",
        "    pd.DataFrame({'accuracy':linsvc_rep.get('accuracy'),'weighted avg precision':linsvc_rep.get('weighted avg').get('precision'),'weighted avg recall':linsvc_rep.get('weighted avg').get('recall'),'time':lsvcTime},index=['Linear SVC']),\n",
        "    pd.DataFrame({'accuracy':svc_lin_rep.get('accuracy'),'weighted avg precision':svc_lin_rep.get('weighted avg').get('precision'),'weighted avg recall':svc_lin_rep.get('weighted avg').get('recall'),'time':svc_linTime},index=['SVC linear kernel']),\n",
        "    pd.DataFrame({'accuracy':svc_rbf_rep.get('accuracy'),'weighted avg precision':svc_rbf_rep.get('weighted avg').get('precision'),'weighted avg recall':svc_rbf_rep.get('weighted avg').get('recall'),'time':svc_rbfTime},index=['SVC rbf kernel']),\n",
        "    pd.DataFrame({'accuracy':svc_sig_rep.get('accuracy'),'weighted avg precision':svc_sig_rep.get('weighted avg').get('precision'),'weighted avg recall':svc_sig_rep.get('weighted avg').get('recall'),'time':svc_sigTime},index=['SVC sigmoid kernel']),\n",
        "    pd.DataFrame({'accuracy':sgdHin_rep.get('accuracy'),'weighted avg precision':sgdHin_rep.get('weighted avg').get('precision'),'weighted avg recall':sgdHin_rep.get('weighted avg').get('recall'),'time':sgdHinTime},index=['SGD hinge loss']),\n",
        "    pd.DataFrame({'accuracy':sgdLog_rep.get('accuracy'),'weighted avg precision':sgdLog_rep.get('weighted avg').get('precision'),'weighted avg recall':sgdLog_rep.get('weighted avg').get('recall'),'time':sgdLogTime},index=['SGD log loss']),\n",
        "    pd.DataFrame({'accuracy':sgdHub_rep.get('accuracy'),'weighted avg precision':sgdHub_rep.get('weighted avg').get('precision'),'weighted avg recall':sgdHub_rep.get('weighted avg').get('recall'),'time':sgdHubTime},index=['SGD modified huber loss'])\n",
        "])"
      ],
      "metadata": {
        "id": "N9VuuLRecFdr"
      },
      "execution_count": 105,
      "outputs": []
    },
    {
      "cell_type": "code",
      "source": [
        "df_results"
      ],
      "metadata": {
        "colab": {
          "base_uri": "https://localhost:8080/",
          "height": 269
        },
        "id": "e_tDJiCRnu47",
        "outputId": "304ec099-f753-4227-d639-ac397b461c74"
      },
      "execution_count": 106,
      "outputs": [
        {
          "output_type": "execute_result",
          "data": {
            "text/plain": [
              "                         accuracy  weighted avg precision  \\\n",
              "Linear SVC               0.998230                0.998235   \n",
              "SVC linear kernel        0.961607                0.997865   \n",
              "SVC rbf kernel           0.961362                0.997576   \n",
              "SVC sigmoid kernel       0.990722                0.990577   \n",
              "SGD hinge loss           0.989501                0.990811   \n",
              "SGD log loss             0.989562                0.990813   \n",
              "SGD modified huber loss  0.958555                0.996636   \n",
              "\n",
              "                         weighted avg recall      time  \n",
              "Linear SVC                          0.998230  0.002992  \n",
              "SVC linear kernel                   0.961607  0.152593  \n",
              "SVC rbf kernel                      0.961362  0.137897  \n",
              "SVC sigmoid kernel                  0.990722  7.591684  \n",
              "SGD hinge loss                      0.989501  0.001994  \n",
              "SGD log loss                        0.989562  0.002003  \n",
              "SGD modified huber loss             0.958555  0.001987  "
            ],
            "text/html": [
              "<div>\n",
              "<style scoped>\n",
              "    .dataframe tbody tr th:only-of-type {\n",
              "        vertical-align: middle;\n",
              "    }\n",
              "\n",
              "    .dataframe tbody tr th {\n",
              "        vertical-align: top;\n",
              "    }\n",
              "\n",
              "    .dataframe thead th {\n",
              "        text-align: right;\n",
              "    }\n",
              "</style>\n",
              "<table border=\"1\" class=\"dataframe\">\n",
              "  <thead>\n",
              "    <tr style=\"text-align: right;\">\n",
              "      <th></th>\n",
              "      <th>accuracy</th>\n",
              "      <th>weighted avg precision</th>\n",
              "      <th>weighted avg recall</th>\n",
              "      <th>time</th>\n",
              "    </tr>\n",
              "  </thead>\n",
              "  <tbody>\n",
              "    <tr>\n",
              "      <th>Linear SVC</th>\n",
              "      <td>0.998230</td>\n",
              "      <td>0.998235</td>\n",
              "      <td>0.998230</td>\n",
              "      <td>0.002992</td>\n",
              "    </tr>\n",
              "    <tr>\n",
              "      <th>SVC linear kernel</th>\n",
              "      <td>0.961607</td>\n",
              "      <td>0.997865</td>\n",
              "      <td>0.961607</td>\n",
              "      <td>0.152593</td>\n",
              "    </tr>\n",
              "    <tr>\n",
              "      <th>SVC rbf kernel</th>\n",
              "      <td>0.961362</td>\n",
              "      <td>0.997576</td>\n",
              "      <td>0.961362</td>\n",
              "      <td>0.137897</td>\n",
              "    </tr>\n",
              "    <tr>\n",
              "      <th>SVC sigmoid kernel</th>\n",
              "      <td>0.990722</td>\n",
              "      <td>0.990577</td>\n",
              "      <td>0.990722</td>\n",
              "      <td>7.591684</td>\n",
              "    </tr>\n",
              "    <tr>\n",
              "      <th>SGD hinge loss</th>\n",
              "      <td>0.989501</td>\n",
              "      <td>0.990811</td>\n",
              "      <td>0.989501</td>\n",
              "      <td>0.001994</td>\n",
              "    </tr>\n",
              "    <tr>\n",
              "      <th>SGD log loss</th>\n",
              "      <td>0.989562</td>\n",
              "      <td>0.990813</td>\n",
              "      <td>0.989562</td>\n",
              "      <td>0.002003</td>\n",
              "    </tr>\n",
              "    <tr>\n",
              "      <th>SGD modified huber loss</th>\n",
              "      <td>0.958555</td>\n",
              "      <td>0.996636</td>\n",
              "      <td>0.958555</td>\n",
              "      <td>0.001987</td>\n",
              "    </tr>\n",
              "  </tbody>\n",
              "</table>\n",
              "</div>"
            ]
          },
          "metadata": {},
          "execution_count": 106
        }
      ]
    },
    {
      "cell_type": "code",
      "source": [
        "\n",
        "from textwrap import wrap\n",
        "labels = [ '\\n'.join(wrap(l, 20)) for l in df_results.index]\n",
        "\n",
        "ax = df_results.plot.bar(figsize=(12,3), secondary_y= 'time', rot= 0 )\n",
        "#df.plot( kind= 'bar' , secondary_y= 'amount' , rot= 0 )\n",
        "ax.set_xticklabels(labels)\n",
        "plt.grid(False)\n",
        "plt.title('Accuracy and Time by Model')\n",
        "plt.subplots_adjust(top=1.9)\n",
        "\n",
        "plt.show()"
      ],
      "metadata": {
        "id": "vUDErXEk8APk",
        "outputId": "49986c54-4db1-4cb7-e261-236a4b6195c7",
        "colab": {
          "base_uri": "https://localhost:8080/",
          "height": 629
        }
      },
      "execution_count": 98,
      "outputs": [
        {
          "output_type": "display_data",
          "data": {
            "text/plain": [
              "<Figure size 1200x300 with 2 Axes>"
            ],
            "image/png": "[encoded data removed]"
          },
          "metadata": {}
        }
      ]
    },
    {
      "cell_type": "code",
      "source": [
        "class_labels = model_lin.classes_\n",
        "df_importances = pd.DataFrame()\n",
        "for i in range(len(class_labels)):\n",
        "  importances = model_lin.coef_[i]\n",
        "  df_temp = pd.DataFrame({'class':class_labels[i],'feature':col_names,'importance':importances})\n",
        "  df_importances = pd.concat([df_importances,df_temp])\n"
      ],
      "metadata": {
        "id": "me39UBymDCET"
      },
      "execution_count": 127,
      "outputs": []
    },
    {
      "cell_type": "code",
      "source": [
        "df_allow = df_importances[df_importances['class']=='allow'].sort_values(by='importance',key=abs,ascending=False).head(10)\n",
        "plt.style.use('ggplot')\n",
        "sns.barplot(x='importance',y='feature',data= df_allow).set(title = 'Top Feature Importances for Response (Allow)')\n",
        "#plt.bar(data=df_allow,x='feature',height='importance')"
      ],
      "metadata": {
        "id": "D8KXg-ibEQLh",
        "outputId": "63759245-53eb-4aca-d154-6072f24a8359",
        "colab": {
          "base_uri": "https://localhost:8080/",
          "height": 543
        }
      },
      "execution_count": 164,
      "outputs": [
        {
          "output_type": "execute_result",
          "data": {
            "text/plain": [
              "[Text(0.5, 1.0, 'Top Feature Importances for Response (Allow)')]"
            ]
          },
          "metadata": {},
          "execution_count": 164
        },
        {
          "output_type": "display_data",
          "data": {
            "text/plain": [
              "<Figure size 800x550 with 1 Axes>"
            ],
            "image/png": "[encoded data removed]"
          },
          "metadata": {}
        }
      ]
    },
    {
      "cell_type": "code",
      "source": [
        "df_deny = df_importances[df_importances['class']=='deny'].sort_values(by='importance',key=abs,ascending=False).head(10)\n",
        "sns.barplot(x='importance',y='feature',data= df_deny).set(title = 'Top Feature Importances for Response (Deny)')"
      ],
      "metadata": {
        "id": "GHTo69DZHh7K",
        "outputId": "112374c0-41d6-4a44-8917-ff070541176f",
        "colab": {
          "base_uri": "https://localhost:8080/",
          "height": 543
        }
      },
      "execution_count": 165,
      "outputs": [
        {
          "output_type": "execute_result",
          "data": {
            "text/plain": [
              "[Text(0.5, 1.0, 'Top Feature Importances for Response (Deny)')]"
            ]
          },
          "metadata": {},
          "execution_count": 165
        },
        {
          "output_type": "display_data",
          "data": {
            "text/plain": [
              "<Figure size 800x550 with 1 Axes>"
            ],
            "image/png": "[encoded data removed]"
          },
          "metadata": {}
        }
      ]
    },
    {
      "cell_type": "code",
      "source": [
        "df_drop = df_importances[df_importances['class']=='drop'].sort_values(by='importance',key=abs,ascending=False).head(10)\n",
        "sns.barplot(x='importance',y='feature',data= df_drop).set(title = 'Top Feature Importances for Response (Drop)')"
      ],
      "metadata": {
        "id": "G5VbaBSwHoZa",
        "outputId": "2dd440c0-78f5-4de1-c1ce-7899630fcd34",
        "colab": {
          "base_uri": "https://localhost:8080/",
          "height": 543
        }
      },
      "execution_count": 166,
      "outputs": [
        {
          "output_type": "execute_result",
          "data": {
            "text/plain": [
              "[Text(0.5, 1.0, 'Top Feature Importances for Response (Drop)')]"
            ]
          },
          "metadata": {},
          "execution_count": 166
        },
        {
          "output_type": "display_data",
          "data": {
            "text/plain": [
              "<Figure size 800x550 with 1 Axes>"
            ],
            "image/png": "[encoded data removed]"
          },
          "metadata": {}
        }
      ]
    },
    {
      "cell_type": "code",
      "source": [
        "df_reset = df_importances[df_importances['class']=='reset-both'].sort_values(by='importance',key=abs,ascending=False).head(10)\n",
        "sns.barplot(x='importance',y='feature',data= df_reset).set(title = 'Top Feature Importances for Response (Reset-Both)')"
      ],
      "metadata": {
        "id": "FU-unybyHrfq",
        "outputId": "06cdaa8a-c0b0-4bdc-c152-4ee50ff594da",
        "colab": {
          "base_uri": "https://localhost:8080/",
          "height": 543
        }
      },
      "execution_count": 167,
      "outputs": [
        {
          "output_type": "execute_result",
          "data": {
            "text/plain": [
              "[Text(0.5, 1.0, 'Top Feature Importances for Response (Reset-Both)')]"
            ]
          },
          "metadata": {},
          "execution_count": 167
        },
        {
          "output_type": "display_data",
          "data": {
            "text/plain": [
              "<Figure size 800x550 with 1 Axes>"
            ],
            "image/png": "[encoded data removed]"
          },
          "metadata": {}
        }
      ]
    }
  ]
}