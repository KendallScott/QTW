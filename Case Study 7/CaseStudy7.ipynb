{
  "nbformat": 4,
  "nbformat_minor": 0,
  "metadata": {
    "colab": {
      "provenance": [],
      "include_colab_link": true
    },
    "kernelspec": {
      "name": "python3",
      "display_name": "Python 3"
    },
    "language_info": {
      "name": "python"
    }
  },
  "cells": [
    {
      "cell_type": "markdown",
      "metadata": {
        "id": "view-in-github",
        "colab_type": "text"
      },
      "source": [
        "<a href=\"https://colab.research.google.com/github/KendallScott/QTW/blob/main/Case%20Study%207/CaseStudy7.ipynb\" target=\"_parent\"><img src=\"https://colab.research.google.com/assets/colab-badge.svg\" alt=\"Open In Colab\"/></a>"
      ]
    },
    {
      "cell_type": "code",
      "execution_count": 74,
      "metadata": {
        "id": "OZryWKHR3JAd",
        "outputId": "0feacdd5-8624-4957-e913-14076bd60971",
        "colab": {
          "base_uri": "https://localhost:8080/"
        }
      },
      "outputs": [
        {
          "output_type": "stream",
          "name": "stdout",
          "text": [
            "Requirement already satisfied: scikit-learn-intelex in /usr/local/lib/python3.10/dist-packages (2023.2.1)\n",
            "Requirement already satisfied: daal4py==2023.2.1 in /usr/local/lib/python3.10/dist-packages (from scikit-learn-intelex) (2023.2.1)\n",
            "Requirement already satisfied: scikit-learn>=0.22 in /usr/local/lib/python3.10/dist-packages (from scikit-learn-intelex) (1.2.2)\n",
            "Requirement already satisfied: daal==2023.2.1 in /usr/local/lib/python3.10/dist-packages (from daal4py==2023.2.1->scikit-learn-intelex) (2023.2.1)\n",
            "Requirement already satisfied: numpy>=1.19 in /usr/local/lib/python3.10/dist-packages (from daal4py==2023.2.1->scikit-learn-intelex) (1.22.4)\n",
            "Requirement already satisfied: tbb==2021.* in /usr/local/lib/python3.10/dist-packages (from daal==2023.2.1->daal4py==2023.2.1->scikit-learn-intelex) (2021.10.0)\n",
            "Requirement already satisfied: scipy>=1.3.2 in /usr/local/lib/python3.10/dist-packages (from scikit-learn>=0.22->scikit-learn-intelex) (1.10.1)\n",
            "Requirement already satisfied: joblib>=1.1.1 in /usr/local/lib/python3.10/dist-packages (from scikit-learn>=0.22->scikit-learn-intelex) (1.3.1)\n",
            "Requirement already satisfied: threadpoolctl>=2.0.0 in /usr/local/lib/python3.10/dist-packages (from scikit-learn>=0.22->scikit-learn-intelex) (3.2.0)\n"
          ]
        }
      ],
      "source": [
        "!pip install scikit-learn-intelex\n"
      ]
    },
    {
      "cell_type": "code",
      "source": [
        "import pandas as pd\n",
        "import numpy as np\n",
        "import matplotlib.pyplot as plt\n",
        "import seaborn as sns\n",
        "#from sklearnex import patch_sklearn\n",
        "#patch_sklearn()\n",
        "from sklearn.linear_model import LogisticRegression\n",
        "from sklearn.ensemble import RandomForestClassifier\n",
        "from sklearn.preprocessing import StandardScaler, OneHotEncoder\n",
        "from sklearn.model_selection import StratifiedKFold, GridSearchCV\n",
        "\n",
        "from sklearn.utils import shuffle\n",
        "from numpy import random\n",
        "from itertools import product\n",
        "\n",
        "from sklearn.metrics import confusion_matrix, accuracy_score, recall_score, classification_report\n",
        "from sklearn.pipeline import Pipeline\n",
        "\n",
        "import xgboost as xgb\n",
        "from xgboost import DMatrix"
      ],
      "metadata": {
        "id": "HrVUsV_b8Ezp"
      },
      "execution_count": 75,
      "outputs": []
    },
    {
      "cell_type": "code",
      "source": [
        "from google.colab import drive\n",
        "drive.mount('drive')"
      ],
      "metadata": {
        "id": "T6H6L4bc8YlZ"
      },
      "execution_count": null,
      "outputs": []
    },
    {
      "cell_type": "code",
      "source": [
        "df = pd.read_csv(\"drive/My Drive/final_project(5).csv\")"
      ],
      "metadata": {
        "id": "hngzaeNL-EXs"
      },
      "execution_count": null,
      "outputs": []
    },
    {
      "cell_type": "code",
      "source": [
        "df.info()\n",
        "#there are NAs will need handling"
      ],
      "metadata": {
        "id": "kjzOue9y_SuK",
        "outputId": "f354bffb-efdb-4857-b967-6f2a323cf806",
        "colab": {
          "base_uri": "https://localhost:8080/"
        }
      },
      "execution_count": null,
      "outputs": [
        {
          "output_type": "stream",
          "name": "stdout",
          "text": [
            "<class 'pandas.core.frame.DataFrame'>\n",
            "RangeIndex: 160000 entries, 0 to 159999\n",
            "Data columns (total 51 columns):\n",
            " #   Column  Non-Null Count   Dtype  \n",
            "---  ------  --------------   -----  \n",
            " 0   x0      159974 non-null  float64\n",
            " 1   x1      159975 non-null  float64\n",
            " 2   x2      159962 non-null  float64\n",
            " 3   x3      159963 non-null  float64\n",
            " 4   x4      159974 non-null  float64\n",
            " 5   x5      159963 non-null  float64\n",
            " 6   x6      159974 non-null  float64\n",
            " 7   x7      159973 non-null  float64\n",
            " 8   x8      159979 non-null  float64\n",
            " 9   x9      159970 non-null  float64\n",
            " 10  x10     159957 non-null  float64\n",
            " 11  x11     159970 non-null  float64\n",
            " 12  x12     159964 non-null  float64\n",
            " 13  x13     159969 non-null  float64\n",
            " 14  x14     159966 non-null  float64\n",
            " 15  x15     159965 non-null  float64\n",
            " 16  x16     159974 non-null  float64\n",
            " 17  x17     159973 non-null  float64\n",
            " 18  x18     159960 non-null  float64\n",
            " 19  x19     159965 non-null  float64\n",
            " 20  x20     159962 non-null  float64\n",
            " 21  x21     159971 non-null  float64\n",
            " 22  x22     159973 non-null  float64\n",
            " 23  x23     159953 non-null  float64\n",
            " 24  x24     159972 non-null  object \n",
            " 25  x25     159978 non-null  float64\n",
            " 26  x26     159964 non-null  float64\n",
            " 27  x27     159970 non-null  float64\n",
            " 28  x28     159965 non-null  float64\n",
            " 29  x29     159970 non-null  object \n",
            " 30  x30     159970 non-null  object \n",
            " 31  x31     159961 non-null  float64\n",
            " 32  x32     159969 non-null  object \n",
            " 33  x33     159959 non-null  float64\n",
            " 34  x34     159959 non-null  float64\n",
            " 35  x35     159970 non-null  float64\n",
            " 36  x36     159973 non-null  float64\n",
            " 37  x37     159977 non-null  object \n",
            " 38  x38     159969 non-null  float64\n",
            " 39  x39     159977 non-null  float64\n",
            " 40  x40     159964 non-null  float64\n",
            " 41  x41     159960 non-null  float64\n",
            " 42  x42     159974 non-null  float64\n",
            " 43  x43     159963 non-null  float64\n",
            " 44  x44     159960 non-null  float64\n",
            " 45  x45     159971 non-null  float64\n",
            " 46  x46     159969 non-null  float64\n",
            " 47  x47     159963 non-null  float64\n",
            " 48  x48     159968 non-null  float64\n",
            " 49  x49     159968 non-null  float64\n",
            " 50  y       160000 non-null  int64  \n",
            "dtypes: float64(45), int64(1), object(5)\n",
            "memory usage: 62.3+ MB\n"
          ]
        }
      ]
    },
    {
      "cell_type": "code",
      "source": [
        "for i in df.columns:\n",
        "    if df[i].isna().sum() > 0:\n",
        "        print('{} has {}% NAs'.format(i,(df[i].isna().sum() / len(df))*100))"
      ],
      "metadata": {
        "id": "CC3yFJ6BzzOw"
      },
      "execution_count": null,
      "outputs": []
    },
    {
      "cell_type": "code",
      "source": [
        "df['x24'].value_counts()"
      ],
      "metadata": {
        "id": "TybuIbMLz6Ng",
        "outputId": "ad2bd909-9c96-4aaa-98ef-5c4c01e446ae",
        "colab": {
          "base_uri": "https://localhost:8080/"
        }
      },
      "execution_count": null,
      "outputs": [
        {
          "output_type": "execute_result",
          "data": {
            "text/plain": [
              "asia       138965\n",
              "euorpe      16538\n",
              "america      4469\n",
              "Name: x24, dtype: int64"
            ]
          },
          "metadata": {},
          "execution_count": 7
        }
      ]
    },
    {
      "cell_type": "code",
      "source": [
        "plt.bar(x=df['x24'].value_counts().index,height=df['x24'].value_counts().values)"
      ],
      "metadata": {
        "id": "ME56MKaIz7sN",
        "outputId": "2d89ccf3-b8f0-4657-c3d5-2acac4c31c39",
        "colab": {
          "base_uri": "https://localhost:8080/",
          "height": 448
        }
      },
      "execution_count": null,
      "outputs": [
        {
          "output_type": "execute_result",
          "data": {
            "text/plain": [
              "<BarContainer object of 3 artists>"
            ]
          },
          "metadata": {},
          "execution_count": 8
        },
        {
          "output_type": "display_data",
          "data": {
            "text/plain": [
              "<Figure size 640x480 with 1 Axes>"
            ],
            "image/png": "[encoded data removed]"
          },
          "metadata": {}
        }
      ]
    },
    {
      "cell_type": "code",
      "source": [
        "df['x29'].value_counts()"
      ],
      "metadata": {
        "id": "P7rMlCalz9WH",
        "outputId": "4e4df003-10c9-48fb-f72c-eab812e73aa7",
        "colab": {
          "base_uri": "https://localhost:8080/"
        }
      },
      "execution_count": null,
      "outputs": [
        {
          "output_type": "execute_result",
          "data": {
            "text/plain": [
              "July       45569\n",
              "Jun        41329\n",
              "Aug        29406\n",
              "May        21939\n",
              "sept.      10819\n",
              "Apr         6761\n",
              "Oct         2407\n",
              "Mar         1231\n",
              "Nov          337\n",
              "Feb          140\n",
              "Dev           23\n",
              "January        9\n",
              "Name: x29, dtype: int64"
            ]
          },
          "metadata": {},
          "execution_count": 9
        }
      ]
    },
    {
      "cell_type": "code",
      "source": [
        "#clean up month formatting to standard 3 letters\n",
        "df['x29'].replace(to_replace=['July','sept.','Dev','January'],value=['Jul','Sep','Dec','Jan'],inplace=True)"
      ],
      "metadata": {
        "id": "gB-gkjC2z_fK"
      },
      "execution_count": null,
      "outputs": []
    },
    {
      "cell_type": "code",
      "source": [
        "mo = ['Jan','Feb','Mar','Apr','May','Jun','Jul','Aug','Sep','Oct','Nov','Dec']\n",
        "heights = []\n",
        "for i in mo:\n",
        "    x = df['x29'].to_list().count(i)\n",
        "    heights.append(x)\n",
        "plt.bar(x=mo,height=heights)"
      ],
      "metadata": {
        "id": "eZTNOL9P0CM3"
      },
      "execution_count": null,
      "outputs": []
    },
    {
      "cell_type": "code",
      "source": [
        "df['x30'].value_counts()"
      ],
      "metadata": {
        "id": "_1LSKgy80ENF"
      },
      "execution_count": null,
      "outputs": []
    },
    {
      "cell_type": "code",
      "source": [
        "# thursday is incorrect\n",
        "df['x30'].replace(to_replace = 'thurday',value='thursday')\n",
        "days = ['monday','tuesday','wednesday','thursday','friday']\n",
        "d_heights = []\n",
        "for i in days:\n",
        "    x = df['x30'].to_list().count(i)\n",
        "    d_heights.append(x)\n",
        "plt.bar(x=days,height = d_heights)"
      ],
      "metadata": {
        "id": "3hFwgArL0GAB"
      },
      "execution_count": null,
      "outputs": []
    },
    {
      "cell_type": "code",
      "source": [
        "df['x32'].value_counts()"
      ],
      "metadata": {
        "id": "WErTHaJ70Ia2"
      },
      "execution_count": null,
      "outputs": []
    },
    {
      "cell_type": "code",
      "source": [
        "df['x37'].value_counts()\n"
      ],
      "metadata": {
        "id": "r98Zehw50LS1"
      },
      "execution_count": null,
      "outputs": []
    },
    {
      "cell_type": "code",
      "source": [
        "### x32 and x37 are actually numeric with string format (even though x32 has few \"levels\" or possible values)\n",
        "### x32 is in percentage, but don't think it needs to be transformed to proportion since data will be scaled later (will double check, but should make no difference)\n",
        "\n",
        "df['x32'] = df['x32'].transform(lambda x: float(str(x).replace('%','')))\n",
        "df['x37'] = df['x37'].transform(lambda x: float(str(x).replace('$','')))"
      ],
      "metadata": {
        "id": "-8HSIli70VDX"
      },
      "execution_count": null,
      "outputs": []
    },
    {
      "cell_type": "code",
      "source": [
        "#all significanlty less than 5%, should be no issue imputing,\n",
        "#imputing categorical features with modes\n",
        "# imputing continent with mode, then dates by mode grouped by continent\n",
        "\n",
        "print('imputing continent with mode: {}'.format(df['x24'].aggregate(pd.Series.mode)))\n",
        "df['x24'] = df['x24'].transform(lambda x: x.fillna(pd.Series.mode(x)[0]))\n",
        "\n",
        "print('imputing month with mode by cont: {}'.format(df[['x24','x29']].groupby(by='x24').aggregate(pd.Series.mode)))\n",
        "idx_29 = df.loc[df['x29'].isna(),:].index #saving NAs indices to quick check what they've been imputed with\n",
        "df['x29'] = df[['x24','x29']].groupby(by='x24').transform(lambda grp: grp.fillna(pd.Series.mode(grp)[0]))\n",
        "\n",
        "# will fix index showing on print later\n"
      ],
      "metadata": {
        "id": "qyAc5R1u209T"
      },
      "execution_count": null,
      "outputs": []
    },
    {
      "cell_type": "code",
      "source": [
        "df[['x24','x29','x30']].groupby(by=['x24','x29']).aggregate(pd.Series.mode)\n",
        "# could just impute with wednesday since Wed is mode per month, but adding continent gives more context and different days for some months"
      ],
      "metadata": {
        "id": "2iV02zDI3Emu"
      },
      "execution_count": null,
      "outputs": []
    },
    {
      "cell_type": "code",
      "source": [
        "# impute day\n",
        "df['x30'] = df[['x24','x29','x30']].groupby(by=['x24','x29']).transform(lambda grp: grp.fillna(pd.Series.mode(grp)[0]))"
      ],
      "metadata": {
        "id": "HVQavir8IV9m"
      },
      "execution_count": null,
      "outputs": []
    },
    {
      "cell_type": "code",
      "source": [
        "X = df.loc[:,df.columns != 'y']\n",
        "y = df['y'].values.flatten()\n",
        "\n",
        "df_num = X.select_dtypes(exclude='object')\n",
        "num_cols = df_num.columns\n",
        "\n",
        "# impute numeric with median\n",
        "for i in num_cols:\n",
        "    df_num[i] = df_num[i].transform(lambda x: x.fillna(pd.Series.mode(x)[0]))\n",
        "df_num.info()\n",
        "\n",
        "df_cat = X.select_dtypes(include='object')\n",
        "cat_cols = df_cat.columns\n",
        "\n",
        "# scale numerical data\n",
        "scaler = StandardScaler()\n",
        "df_num = scaler.fit_transform(df_num)\n",
        "\n",
        "#one hot encode cat data\n",
        "encoder = OneHotEncoder(sparse_output=False)\n",
        "df_cat = encoder.fit_transform(df_cat)"
      ],
      "metadata": {
        "id": "w8Uy9xG3Iern"
      },
      "execution_count": null,
      "outputs": []
    },
    {
      "cell_type": "code",
      "source": [
        "X = np.hstack([df_num,df_cat])"
      ],
      "metadata": {
        "id": "R4oaw8CgIkXV"
      },
      "execution_count": null,
      "outputs": []
    },
    {
      "cell_type": "code",
      "source": [
        "df['y'].value_counts() # not balanced"
      ],
      "metadata": {
        "id": "xbzdACUdImVy"
      },
      "execution_count": null,
      "outputs": []
    },
    {
      "cell_type": "code",
      "source": [
        "#add y plot"
      ],
      "metadata": {
        "id": "vUXTcWUZIoot"
      },
      "execution_count": null,
      "outputs": []
    },
    {
      "cell_type": "code",
      "source": [
        "skf = StratifiedKFold(n_splits=5,random_state=807,shuffle=True)\n",
        "skf.get_n_splits(X,y)"
      ],
      "metadata": {
        "id": "qIgBnSnHIqjU"
      },
      "execution_count": null,
      "outputs": []
    },
    {
      "cell_type": "code",
      "source": [
        "from sklearnex import patch_sklearn\n",
        "patch_sklearn()\n",
        "from sklearn.ensemble import RandomForestClassifier\n",
        "from sklearn.model_selection import GridSearchCV\n",
        "rf = RandomForestClassifier(random_state=624,n_jobs=-1,n_estimators=50,criterion='gini', class_weight='balanced')"
      ],
      "metadata": {
        "id": "WXQS85Rpdpsi"
      },
      "execution_count": null,
      "outputs": []
    },
    {
      "cell_type": "code",
      "source": [
        "from numpy import random\n",
        "from itertools import product\n",
        "from sklearn.utils import shuffle"
      ],
      "metadata": {
        "id": "c9qo1To0fp0y"
      },
      "execution_count": null,
      "outputs": []
    },
    {
      "cell_type": "code",
      "source": [
        "#setting up a hyperparameter dataframe\n",
        "\n",
        "learning_rates = [0.15, 0.25, 0.35]\n",
        "max_depths = [3, 5, 10, 20]\n",
        "gamma = [0,1,3]\n",
        "lambda_ls = [1,2,3]\n",
        "alpha = [0,0.1,1]\n",
        "\n",
        "xgb_param = pd.DataFrame(list(product(learning_rates, max_depths, gamma, lambda_ls, alpha)), columns=['learning_rate', 'max_depth', 'gamma', 'lambda', 'alpha'])\n",
        "\n",
        "#randomizing the dataframe order\n",
        "xgb_param = shuffle(xgb_param)\n",
        "xgb_param = xgb_param.reset_index()\n",
        "xgb_param=xgb_param.drop(['index'], axis=1)\n",
        "xgb_param"
      ],
      "metadata": {
        "id": "t9VGhpgOg2Hy",
        "outputId": "8375d046-61b7-4d9f-f054-0c3e627ba6ac",
        "colab": {
          "base_uri": "https://localhost:8080/",
          "height": 423
        }
      },
      "execution_count": null,
      "outputs": [
        {
          "output_type": "execute_result",
          "data": {
            "text/plain": [
              "     learning_rate  max_depth  gamma  lambda  alpha\n",
              "0             0.25         10      0       1    0.0\n",
              "1             0.10         20      0       1    0.1\n",
              "2             0.10          5      1       3    1.0\n",
              "3             0.10          3      3       1    0.1\n",
              "4             0.10         20      3       3    0.0\n",
              "..             ...        ...    ...     ...    ...\n",
              "211           0.25          3      0       1    0.1\n",
              "212           0.25          3      0       2    1.0\n",
              "213           0.10          3      0       3    0.0\n",
              "214           0.10         10      1       2    1.0\n",
              "215           0.25          5      3       1    0.0\n",
              "\n",
              "[216 rows x 5 columns]"
            ],
            "text/html": [
              "\n",
              "\n",
              "  <div id=\"df-0abb8af1-ab32-494d-92e5-309601a4acf0\">\n",
              "    <div class=\"colab-df-container\">\n",
              "      <div>\n",
              "<style scoped>\n",
              "    .dataframe tbody tr th:only-of-type {\n",
              "        vertical-align: middle;\n",
              "    }\n",
              "\n",
              "    .dataframe tbody tr th {\n",
              "        vertical-align: top;\n",
              "    }\n",
              "\n",
              "    .dataframe thead th {\n",
              "        text-align: right;\n",
              "    }\n",
              "</style>\n",
              "<table border=\"1\" class=\"dataframe\">\n",
              "  <thead>\n",
              "    <tr style=\"text-align: right;\">\n",
              "      <th></th>\n",
              "      <th>learning_rate</th>\n",
              "      <th>max_depth</th>\n",
              "      <th>gamma</th>\n",
              "      <th>lambda</th>\n",
              "      <th>alpha</th>\n",
              "    </tr>\n",
              "  </thead>\n",
              "  <tbody>\n",
              "    <tr>\n",
              "      <th>0</th>\n",
              "      <td>0.25</td>\n",
              "      <td>10</td>\n",
              "      <td>0</td>\n",
              "      <td>1</td>\n",
              "      <td>0.0</td>\n",
              "    </tr>\n",
              "    <tr>\n",
              "      <th>1</th>\n",
              "      <td>0.10</td>\n",
              "      <td>20</td>\n",
              "      <td>0</td>\n",
              "      <td>1</td>\n",
              "      <td>0.1</td>\n",
              "    </tr>\n",
              "    <tr>\n",
              "      <th>2</th>\n",
              "      <td>0.10</td>\n",
              "      <td>5</td>\n",
              "      <td>1</td>\n",
              "      <td>3</td>\n",
              "      <td>1.0</td>\n",
              "    </tr>\n",
              "    <tr>\n",
              "      <th>3</th>\n",
              "      <td>0.10</td>\n",
              "      <td>3</td>\n",
              "      <td>3</td>\n",
              "      <td>1</td>\n",
              "      <td>0.1</td>\n",
              "    </tr>\n",
              "    <tr>\n",
              "      <th>4</th>\n",
              "      <td>0.10</td>\n",
              "      <td>20</td>\n",
              "      <td>3</td>\n",
              "      <td>3</td>\n",
              "      <td>0.0</td>\n",
              "    </tr>\n",
              "    <tr>\n",
              "      <th>...</th>\n",
              "      <td>...</td>\n",
              "      <td>...</td>\n",
              "      <td>...</td>\n",
              "      <td>...</td>\n",
              "      <td>...</td>\n",
              "    </tr>\n",
              "    <tr>\n",
              "      <th>211</th>\n",
              "      <td>0.25</td>\n",
              "      <td>3</td>\n",
              "      <td>0</td>\n",
              "      <td>1</td>\n",
              "      <td>0.1</td>\n",
              "    </tr>\n",
              "    <tr>\n",
              "      <th>212</th>\n",
              "      <td>0.25</td>\n",
              "      <td>3</td>\n",
              "      <td>0</td>\n",
              "      <td>2</td>\n",
              "      <td>1.0</td>\n",
              "    </tr>\n",
              "    <tr>\n",
              "      <th>213</th>\n",
              "      <td>0.10</td>\n",
              "      <td>3</td>\n",
              "      <td>0</td>\n",
              "      <td>3</td>\n",
              "      <td>0.0</td>\n",
              "    </tr>\n",
              "    <tr>\n",
              "      <th>214</th>\n",
              "      <td>0.10</td>\n",
              "      <td>10</td>\n",
              "      <td>1</td>\n",
              "      <td>2</td>\n",
              "      <td>1.0</td>\n",
              "    </tr>\n",
              "    <tr>\n",
              "      <th>215</th>\n",
              "      <td>0.25</td>\n",
              "      <td>5</td>\n",
              "      <td>3</td>\n",
              "      <td>1</td>\n",
              "      <td>0.0</td>\n",
              "    </tr>\n",
              "  </tbody>\n",
              "</table>\n",
              "<p>216 rows × 5 columns</p>\n",
              "</div>\n",
              "      <button class=\"colab-df-convert\" onclick=\"convertToInteractive('df-0abb8af1-ab32-494d-92e5-309601a4acf0')\"\n",
              "              title=\"Convert this dataframe to an interactive table.\"\n",
              "              style=\"display:none;\">\n",
              "\n",
              "  <svg xmlns=\"http://www.w3.org/2000/svg\" height=\"24px\"viewBox=\"0 0 24 24\"\n",
              "       width=\"24px\">\n",
              "    <path d=\"M0 0h24v24H0V0z\" fill=\"none\"/>\n",
              "    <path d=\"M18.56 5.44l.94 2.06.94-2.06 2.06-.94-2.06-.94-.94-2.06-.94 2.06-2.06.94zm-11 1L8.5 8.5l.94-2.06 2.06-.94-2.06-.94L8.5 2.5l-.94 2.06-2.06.94zm10 10l.94 2.06.94-2.06 2.06-.94-2.06-.94-.94-2.06-.94 2.06-2.06.94z\"/><path d=\"M17.41 7.96l-1.37-1.37c-.4-.4-.92-.59-1.43-.59-.52 0-1.04.2-1.43.59L10.3 9.45l-7.72 7.72c-.78.78-.78 2.05 0 2.83L4 21.41c.39.39.9.59 1.41.59.51 0 1.02-.2 1.41-.59l7.78-7.78 2.81-2.81c.8-.78.8-2.07 0-2.86zM5.41 20L4 18.59l7.72-7.72 1.47 1.35L5.41 20z\"/>\n",
              "  </svg>\n",
              "      </button>\n",
              "\n",
              "\n",
              "\n",
              "    <div id=\"df-93a5af6e-0898-4bf2-aaf6-b2395f36bd92\">\n",
              "      <button class=\"colab-df-quickchart\" onclick=\"quickchart('df-93a5af6e-0898-4bf2-aaf6-b2395f36bd92')\"\n",
              "              title=\"Suggest charts.\"\n",
              "              style=\"display:none;\">\n",
              "\n",
              "<svg xmlns=\"http://www.w3.org/2000/svg\" height=\"24px\"viewBox=\"0 0 24 24\"\n",
              "     width=\"24px\">\n",
              "    <g>\n",
              "        <path d=\"M19 3H5c-1.1 0-2 .9-2 2v14c0 1.1.9 2 2 2h14c1.1 0 2-.9 2-2V5c0-1.1-.9-2-2-2zM9 17H7v-7h2v7zm4 0h-2V7h2v10zm4 0h-2v-4h2v4z\"/>\n",
              "    </g>\n",
              "</svg>\n",
              "      </button>\n",
              "    </div>\n",
              "\n",
              "<style>\n",
              "  .colab-df-quickchart {\n",
              "    background-color: #E8F0FE;\n",
              "    border: none;\n",
              "    border-radius: 50%;\n",
              "    cursor: pointer;\n",
              "    display: none;\n",
              "    fill: #1967D2;\n",
              "    height: 32px;\n",
              "    padding: 0 0 0 0;\n",
              "    width: 32px;\n",
              "  }\n",
              "\n",
              "  .colab-df-quickchart:hover {\n",
              "    background-color: #E2EBFA;\n",
              "    box-shadow: 0px 1px 2px rgba(60, 64, 67, 0.3), 0px 1px 3px 1px rgba(60, 64, 67, 0.15);\n",
              "    fill: #174EA6;\n",
              "  }\n",
              "\n",
              "  [theme=dark] .colab-df-quickchart {\n",
              "    background-color: #3B4455;\n",
              "    fill: #D2E3FC;\n",
              "  }\n",
              "\n",
              "  [theme=dark] .colab-df-quickchart:hover {\n",
              "    background-color: #434B5C;\n",
              "    box-shadow: 0px 1px 3px 1px rgba(0, 0, 0, 0.15);\n",
              "    filter: drop-shadow(0px 1px 2px rgba(0, 0, 0, 0.3));\n",
              "    fill: #FFFFFF;\n",
              "  }\n",
              "</style>\n",
              "\n",
              "    <script>\n",
              "      async function quickchart(key) {\n",
              "        const containerElement = document.querySelector('#' + key);\n",
              "        const charts = await google.colab.kernel.invokeFunction(\n",
              "            'suggestCharts', [key], {});\n",
              "      }\n",
              "    </script>\n",
              "\n",
              "      <script>\n",
              "\n",
              "function displayQuickchartButton(domScope) {\n",
              "  let quickchartButtonEl =\n",
              "    domScope.querySelector('#df-93a5af6e-0898-4bf2-aaf6-b2395f36bd92 button.colab-df-quickchart');\n",
              "  quickchartButtonEl.style.display =\n",
              "    google.colab.kernel.accessAllowed ? 'block' : 'none';\n",
              "}\n",
              "\n",
              "        displayQuickchartButton(document);\n",
              "      </script>\n",
              "      <style>\n",
              "    .colab-df-container {\n",
              "      display:flex;\n",
              "      flex-wrap:wrap;\n",
              "      gap: 12px;\n",
              "    }\n",
              "\n",
              "    .colab-df-convert {\n",
              "      background-color: #E8F0FE;\n",
              "      border: none;\n",
              "      border-radius: 50%;\n",
              "      cursor: pointer;\n",
              "      display: none;\n",
              "      fill: #1967D2;\n",
              "      height: 32px;\n",
              "      padding: 0 0 0 0;\n",
              "      width: 32px;\n",
              "    }\n",
              "\n",
              "    .colab-df-convert:hover {\n",
              "      background-color: #E2EBFA;\n",
              "      box-shadow: 0px 1px 2px rgba(60, 64, 67, 0.3), 0px 1px 3px 1px rgba(60, 64, 67, 0.15);\n",
              "      fill: #174EA6;\n",
              "    }\n",
              "\n",
              "    [theme=dark] .colab-df-convert {\n",
              "      background-color: #3B4455;\n",
              "      fill: #D2E3FC;\n",
              "    }\n",
              "\n",
              "    [theme=dark] .colab-df-convert:hover {\n",
              "      background-color: #434B5C;\n",
              "      box-shadow: 0px 1px 3px 1px rgba(0, 0, 0, 0.15);\n",
              "      filter: drop-shadow(0px 1px 2px rgba(0, 0, 0, 0.3));\n",
              "      fill: #FFFFFF;\n",
              "    }\n",
              "  </style>\n",
              "\n",
              "      <script>\n",
              "        const buttonEl =\n",
              "          document.querySelector('#df-0abb8af1-ab32-494d-92e5-309601a4acf0 button.colab-df-convert');\n",
              "        buttonEl.style.display =\n",
              "          google.colab.kernel.accessAllowed ? 'block' : 'none';\n",
              "\n",
              "        async function convertToInteractive(key) {\n",
              "          const element = document.querySelector('#df-0abb8af1-ab32-494d-92e5-309601a4acf0');\n",
              "          const dataTable =\n",
              "            await google.colab.kernel.invokeFunction('convertToInteractive',\n",
              "                                                     [key], {});\n",
              "          if (!dataTable) return;\n",
              "\n",
              "          const docLinkHtml = 'Like what you see? Visit the ' +\n",
              "            '<a target=\"_blank\" href=https://colab.research.google.com/notebooks/data_table.ipynb>data table notebook</a>'\n",
              "            + ' to learn more about interactive tables.';\n",
              "          element.innerHTML = '';\n",
              "          dataTable['output_type'] = 'display_data';\n",
              "          await google.colab.output.renderOutput(dataTable, element);\n",
              "          const docLink = document.createElement('div');\n",
              "          docLink.innerHTML = docLinkHtml;\n",
              "          element.appendChild(docLink);\n",
              "        }\n",
              "      </script>\n",
              "    </div>\n",
              "  </div>\n"
            ]
          },
          "metadata": {},
          "execution_count": 33
        }
      ]
    },
    {
      "cell_type": "code",
      "source": [
        "dtrain = xgb.DMatrix(X, label=y, enable_categorical=True)\n",
        "\n",
        "trials = 20\n",
        "best_params = {}\n",
        "i=0\n",
        "\n",
        "for i in range(trials):\n",
        "  #random sampling from paramdf\n",
        "  hyperparams = {'objective': 'binary:logistic', 'eta': xgb_param['learning_rate'][i], 'max_depth': xgb_param['max_depth'][i], 'gamma': xgb_param['gamma'][i], 'lambda': xgb_param['lambda'][i], 'alpha': xgb_param['alpha'][i]}\n",
        "\n",
        "  print(hyperparams)\n",
        "  out=xgb.cv(params=hyperparams,  num_boost_round=50, dtrain=dtrain, nfold=5, stratified=True, early_stopping_rounds=5, verbose_eval=1)\n",
        "  index=out.shape[0]-1\n",
        "  result=out.iloc[index,2]\n",
        "  if i< 1:\n",
        "    best_result = result\n",
        "    best_params = hyperparams\n",
        "\n",
        "  if result< best_result:\n",
        "      best_result = result\n",
        "      best_params = hyperparams\n",
        "      print('result: ' ,result)\n",
        "      print('best result: ' ,best_result)\n",
        "      print('hyperparameters: ' ,hyperparams)\n",
        "      print('best hyperparameters: ' ,best_params)\n",
        "      i+=1"
      ],
      "metadata": {
        "id": "fW-aDSOCggxO",
        "outputId": "cbdeb8a5-e487-4f33-c2da-10f46c6d1dfa",
        "colab": {
          "base_uri": "https://localhost:8080/",
          "height": 1000
        }
      },
      "execution_count": 73,
      "outputs": [
        {
          "output_type": "stream",
          "name": "stdout",
          "text": [
            "{'objective': 'binary:logistic', 'eta': 0.35, 'max_depth': 10, 'gamma': 3, 'lambda': 3, 'alpha': 0.1}\n",
            "[0]\ttrain-logloss:0.52347+0.00089\ttest-logloss:0.53287+0.00086\n",
            "[1]\ttrain-logloss:0.42200+0.00135\ttest-logloss:0.43823+0.00250\n",
            "[2]\ttrain-logloss:0.35605+0.00217\ttest-logloss:0.37741+0.00232\n",
            "[3]\ttrain-logloss:0.30864+0.00196\ttest-logloss:0.33444+0.00283\n",
            "[4]\ttrain-logloss:0.27521+0.00165\ttest-logloss:0.30450+0.00181\n",
            "[5]\ttrain-logloss:0.24832+0.00328\ttest-logloss:0.28089+0.00287\n",
            "[6]\ttrain-logloss:0.22842+0.00348\ttest-logloss:0.26298+0.00365\n",
            "[7]\ttrain-logloss:0.21206+0.00317\ttest-logloss:0.24917+0.00228\n",
            "[8]\ttrain-logloss:0.19956+0.00379\ttest-logloss:0.23854+0.00386\n",
            "[9]\ttrain-logloss:0.18974+0.00295\ttest-logloss:0.22977+0.00396\n",
            "[10]\ttrain-logloss:0.17923+0.00452\ttest-logloss:0.22109+0.00385\n",
            "[11]\ttrain-logloss:0.17094+0.00368\ttest-logloss:0.21419+0.00321\n",
            "[12]\ttrain-logloss:0.16597+0.00380\ttest-logloss:0.20978+0.00274\n",
            "[13]\ttrain-logloss:0.16018+0.00238\ttest-logloss:0.20511+0.00277\n",
            "[14]\ttrain-logloss:0.15370+0.00370\ttest-logloss:0.20025+0.00357\n",
            "[15]\ttrain-logloss:0.15011+0.00333\ttest-logloss:0.19756+0.00308\n",
            "[16]\ttrain-logloss:0.14610+0.00278\ttest-logloss:0.19450+0.00313\n",
            "[17]\ttrain-logloss:0.14384+0.00264\ttest-logloss:0.19294+0.00294\n",
            "[18]\ttrain-logloss:0.14127+0.00320\ttest-logloss:0.19147+0.00245\n",
            "[19]\ttrain-logloss:0.13810+0.00314\ttest-logloss:0.18924+0.00328\n",
            "[20]\ttrain-logloss:0.13517+0.00406\ttest-logloss:0.18733+0.00383\n",
            "[21]\ttrain-logloss:0.13341+0.00424\ttest-logloss:0.18670+0.00389\n",
            "[22]\ttrain-logloss:0.13154+0.00382\ttest-logloss:0.18635+0.00380\n",
            "[23]\ttrain-logloss:0.12838+0.00362\ttest-logloss:0.18424+0.00382\n",
            "[24]\ttrain-logloss:0.12701+0.00398\ttest-logloss:0.18406+0.00371\n",
            "[25]\ttrain-logloss:0.12403+0.00396\ttest-logloss:0.18295+0.00312\n",
            "[26]\ttrain-logloss:0.12186+0.00395\ttest-logloss:0.18194+0.00363\n",
            "[27]\ttrain-logloss:0.12050+0.00390\ttest-logloss:0.18128+0.00386\n",
            "[28]\ttrain-logloss:0.11922+0.00321\ttest-logloss:0.18078+0.00398\n",
            "[29]\ttrain-logloss:0.11752+0.00393\ttest-logloss:0.18012+0.00350\n",
            "[30]\ttrain-logloss:0.11648+0.00356\ttest-logloss:0.17967+0.00326\n",
            "[31]\ttrain-logloss:0.11542+0.00388\ttest-logloss:0.17942+0.00358\n",
            "[32]\ttrain-logloss:0.11339+0.00417\ttest-logloss:0.17865+0.00304\n",
            "[33]\ttrain-logloss:0.11195+0.00408\ttest-logloss:0.17815+0.00319\n",
            "[34]\ttrain-logloss:0.11042+0.00459\ttest-logloss:0.17779+0.00335\n",
            "[35]\ttrain-logloss:0.10930+0.00421\ttest-logloss:0.17731+0.00372\n",
            "[36]\ttrain-logloss:0.10798+0.00456\ttest-logloss:0.17674+0.00274\n",
            "[37]\ttrain-logloss:0.10687+0.00448\ttest-logloss:0.17675+0.00257\n",
            "[38]\ttrain-logloss:0.10613+0.00458\ttest-logloss:0.17653+0.00283\n",
            "[39]\ttrain-logloss:0.10455+0.00477\ttest-logloss:0.17577+0.00254\n",
            "[40]\ttrain-logloss:0.10317+0.00502\ttest-logloss:0.17527+0.00281\n",
            "[41]\ttrain-logloss:0.10256+0.00524\ttest-logloss:0.17527+0.00280\n",
            "[42]\ttrain-logloss:0.10189+0.00564\ttest-logloss:0.17516+0.00269\n",
            "[43]\ttrain-logloss:0.10136+0.00551\ttest-logloss:0.17521+0.00258\n",
            "[44]\ttrain-logloss:0.10063+0.00547\ttest-logloss:0.17514+0.00245\n",
            "[45]\ttrain-logloss:0.09964+0.00561\ttest-logloss:0.17516+0.00241\n",
            "[46]\ttrain-logloss:0.09821+0.00493\ttest-logloss:0.17464+0.00269\n",
            "[47]\ttrain-logloss:0.09762+0.00456\ttest-logloss:0.17458+0.00262\n",
            "[48]\ttrain-logloss:0.09616+0.00405\ttest-logloss:0.17404+0.00272\n",
            "[49]\ttrain-logloss:0.09529+0.00453\ttest-logloss:0.17396+0.00257\n",
            "{'objective': 'binary:logistic', 'eta': 0.15, 'max_depth': 10, 'gamma': 1, 'lambda': 1, 'alpha': 1.0}\n",
            "[0]\ttrain-logloss:0.61099+0.00038\ttest-logloss:0.61534+0.00029\n",
            "[1]\ttrain-logloss:0.54540+0.00068\ttest-logloss:0.55344+0.00127\n",
            "[2]\ttrain-logloss:0.49422+0.00108\ttest-logloss:0.50559+0.00185\n",
            "[3]\ttrain-logloss:0.45030+0.00223\ttest-logloss:0.46477+0.00305\n",
            "[4]\ttrain-logloss:0.41416+0.00121\ttest-logloss:0.43125+0.00163\n",
            "[5]\ttrain-logloss:0.38282+0.00137\ttest-logloss:0.40262+0.00285\n",
            "[6]\ttrain-logloss:0.35703+0.00136\ttest-logloss:0.37894+0.00329\n",
            "[7]\ttrain-logloss:0.33414+0.00187\ttest-logloss:0.35810+0.00321\n",
            "[8]\ttrain-logloss:0.31337+0.00144\ttest-logloss:0.33923+0.00361\n",
            "[9]\ttrain-logloss:0.29681+0.00170\ttest-logloss:0.32422+0.00429\n",
            "[10]\ttrain-logloss:0.28158+0.00122\ttest-logloss:0.31056+0.00417\n",
            "[11]\ttrain-logloss:0.26766+0.00094\ttest-logloss:0.29823+0.00347\n",
            "[12]\ttrain-logloss:0.25526+0.00141\ttest-logloss:0.28733+0.00372\n",
            "[13]\ttrain-logloss:0.24437+0.00123\ttest-logloss:0.27791+0.00339\n",
            "[14]\ttrain-logloss:0.23435+0.00161\ttest-logloss:0.26906+0.00352\n",
            "[15]\ttrain-logloss:0.22524+0.00176\ttest-logloss:0.26128+0.00377\n",
            "[16]\ttrain-logloss:0.21703+0.00164\ttest-logloss:0.25416+0.00354\n",
            "[17]\ttrain-logloss:0.20899+0.00089\ttest-logloss:0.24722+0.00338\n",
            "[18]\ttrain-logloss:0.20213+0.00165\ttest-logloss:0.24130+0.00308\n",
            "[19]\ttrain-logloss:0.19662+0.00076\ttest-logloss:0.23654+0.00363\n",
            "[20]\ttrain-logloss:0.19147+0.00097\ttest-logloss:0.23206+0.00334\n",
            "[21]\ttrain-logloss:0.18685+0.00153\ttest-logloss:0.22798+0.00323\n",
            "[22]\ttrain-logloss:0.18254+0.00136\ttest-logloss:0.22424+0.00403\n",
            "[23]\ttrain-logloss:0.17858+0.00220\ttest-logloss:0.22085+0.00386\n",
            "[24]\ttrain-logloss:0.17495+0.00179\ttest-logloss:0.21773+0.00347\n",
            "[25]\ttrain-logloss:0.17187+0.00175\ttest-logloss:0.21512+0.00398\n",
            "[26]\ttrain-logloss:0.16879+0.00213\ttest-logloss:0.21253+0.00432\n",
            "[27]\ttrain-logloss:0.16555+0.00220\ttest-logloss:0.20982+0.00430\n",
            "[28]\ttrain-logloss:0.16278+0.00224\ttest-logloss:0.20745+0.00470\n",
            "[29]\ttrain-logloss:0.16097+0.00258\ttest-logloss:0.20592+0.00469\n",
            "[30]\ttrain-logloss:0.15853+0.00238\ttest-logloss:0.20381+0.00483\n",
            "[31]\ttrain-logloss:0.15617+0.00214\ttest-logloss:0.20190+0.00446\n",
            "[32]\ttrain-logloss:0.15333+0.00131\ttest-logloss:0.19952+0.00420\n",
            "[33]\ttrain-logloss:0.15080+0.00095\ttest-logloss:0.19751+0.00434\n",
            "[34]\ttrain-logloss:0.14865+0.00103\ttest-logloss:0.19584+0.00434\n",
            "[35]\ttrain-logloss:0.14707+0.00094\ttest-logloss:0.19453+0.00458\n",
            "[36]\ttrain-logloss:0.14517+0.00068\ttest-logloss:0.19315+0.00455\n",
            "[37]\ttrain-logloss:0.14350+0.00126\ttest-logloss:0.19196+0.00459\n",
            "[38]\ttrain-logloss:0.14126+0.00110\ttest-logloss:0.19037+0.00406\n",
            "[39]\ttrain-logloss:0.13906+0.00180\ttest-logloss:0.18875+0.00384\n",
            "[40]\ttrain-logloss:0.13828+0.00179\ttest-logloss:0.18823+0.00401\n",
            "[41]\ttrain-logloss:0.13626+0.00195\ttest-logloss:0.18699+0.00393\n",
            "[42]\ttrain-logloss:0.13519+0.00189\ttest-logloss:0.18639+0.00395\n",
            "[43]\ttrain-logloss:0.13395+0.00195\ttest-logloss:0.18545+0.00382\n",
            "[44]\ttrain-logloss:0.13216+0.00251\ttest-logloss:0.18446+0.00331\n",
            "[45]\ttrain-logloss:0.13100+0.00274\ttest-logloss:0.18394+0.00380\n",
            "[46]\ttrain-logloss:0.12992+0.00245\ttest-logloss:0.18342+0.00412\n",
            "[47]\ttrain-logloss:0.12830+0.00291\ttest-logloss:0.18286+0.00438\n",
            "[48]\ttrain-logloss:0.12728+0.00314\ttest-logloss:0.18219+0.00460\n",
            "[49]\ttrain-logloss:0.12660+0.00317\ttest-logloss:0.18205+0.00462\n",
            "{'objective': 'binary:logistic', 'eta': 0.15, 'max_depth': 3, 'gamma': 1, 'lambda': 3, 'alpha': 0.0}\n",
            "[0]\ttrain-logloss:0.66471+0.00006\ttest-logloss:0.66495+0.00029\n",
            "[1]\ttrain-logloss:0.64043+0.00011\ttest-logloss:0.64084+0.00032\n",
            "[2]\ttrain-logloss:0.62138+0.00067\ttest-logloss:0.62191+0.00067\n",
            "[3]\ttrain-logloss:0.60462+0.00085\ttest-logloss:0.60522+0.00063\n",
            "[4]\ttrain-logloss:0.59064+0.00091\ttest-logloss:0.59147+0.00123\n",
            "[5]\ttrain-logloss:0.57909+0.00108\ttest-logloss:0.58009+0.00093\n",
            "[6]\ttrain-logloss:0.56878+0.00158\ttest-logloss:0.56999+0.00117\n",
            "[7]\ttrain-logloss:0.55995+0.00196\ttest-logloss:0.56134+0.00139\n",
            "[8]\ttrain-logloss:0.55228+0.00173\ttest-logloss:0.55381+0.00143\n",
            "[9]\ttrain-logloss:0.54547+0.00184\ttest-logloss:0.54717+0.00120\n",
            "[10]\ttrain-logloss:0.53932+0.00157\ttest-logloss:0.54117+0.00120\n",
            "[11]\ttrain-logloss:0.53308+0.00206\ttest-logloss:0.53502+0.00154\n",
            "[12]\ttrain-logloss:0.52743+0.00213\ttest-logloss:0.52953+0.00142\n",
            "[13]\ttrain-logloss:0.52225+0.00210\ttest-logloss:0.52445+0.00139\n",
            "[14]\ttrain-logloss:0.51692+0.00194\ttest-logloss:0.51916+0.00148\n",
            "[15]\ttrain-logloss:0.51213+0.00276\ttest-logloss:0.51447+0.00221\n",
            "[16]\ttrain-logloss:0.50679+0.00162\ttest-logloss:0.50934+0.00265\n",
            "[17]\ttrain-logloss:0.50230+0.00179\ttest-logloss:0.50488+0.00302\n",
            "[18]\ttrain-logloss:0.49807+0.00171\ttest-logloss:0.50075+0.00260\n",
            "[19]\ttrain-logloss:0.49444+0.00168\ttest-logloss:0.49717+0.00225\n",
            "[20]\ttrain-logloss:0.49085+0.00135\ttest-logloss:0.49365+0.00209\n",
            "[21]\ttrain-logloss:0.48664+0.00173\ttest-logloss:0.48947+0.00244\n",
            "[22]\ttrain-logloss:0.48360+0.00143\ttest-logloss:0.48649+0.00211\n",
            "[23]\ttrain-logloss:0.47992+0.00135\ttest-logloss:0.48283+0.00215\n",
            "[24]\ttrain-logloss:0.47604+0.00268\ttest-logloss:0.47899+0.00316\n",
            "[25]\ttrain-logloss:0.47307+0.00294\ttest-logloss:0.47610+0.00358\n",
            "[26]\ttrain-logloss:0.47032+0.00294\ttest-logloss:0.47345+0.00355\n",
            "[27]\ttrain-logloss:0.46699+0.00322\ttest-logloss:0.47026+0.00401\n",
            "[28]\ttrain-logloss:0.46444+0.00287\ttest-logloss:0.46775+0.00368\n",
            "[29]\ttrain-logloss:0.46130+0.00326\ttest-logloss:0.46466+0.00404\n",
            "[30]\ttrain-logloss:0.45777+0.00367\ttest-logloss:0.46117+0.00441\n",
            "[31]\ttrain-logloss:0.45528+0.00334\ttest-logloss:0.45874+0.00409\n",
            "[32]\ttrain-logloss:0.45307+0.00342\ttest-logloss:0.45662+0.00412\n",
            "[33]\ttrain-logloss:0.45105+0.00373\ttest-logloss:0.45467+0.00421\n",
            "[34]\ttrain-logloss:0.44856+0.00383\ttest-logloss:0.45223+0.00416\n",
            "[35]\ttrain-logloss:0.44666+0.00376\ttest-logloss:0.45041+0.00430\n",
            "[36]\ttrain-logloss:0.44455+0.00361\ttest-logloss:0.44839+0.00404\n",
            "[37]\ttrain-logloss:0.44182+0.00418\ttest-logloss:0.44569+0.00485\n",
            "[38]\ttrain-logloss:0.43894+0.00472\ttest-logloss:0.44288+0.00538\n",
            "[39]\ttrain-logloss:0.43708+0.00488\ttest-logloss:0.44111+0.00553\n",
            "[40]\ttrain-logloss:0.43537+0.00493\ttest-logloss:0.43948+0.00549\n",
            "[41]\ttrain-logloss:0.43319+0.00448\ttest-logloss:0.43736+0.00525\n",
            "[42]\ttrain-logloss:0.43146+0.00485\ttest-logloss:0.43567+0.00549\n",
            "[43]\ttrain-logloss:0.42900+0.00446\ttest-logloss:0.43331+0.00497\n",
            "[44]\ttrain-logloss:0.42771+0.00454\ttest-logloss:0.43203+0.00501\n",
            "[45]\ttrain-logloss:0.42523+0.00423\ttest-logloss:0.42960+0.00459\n",
            "[46]\ttrain-logloss:0.42287+0.00446\ttest-logloss:0.42729+0.00478\n",
            "[47]\ttrain-logloss:0.42155+0.00460\ttest-logloss:0.42603+0.00491\n",
            "[48]\ttrain-logloss:0.42002+0.00433\ttest-logloss:0.42458+0.00462\n",
            "[49]\ttrain-logloss:0.41840+0.00400\ttest-logloss:0.42300+0.00448\n",
            "{'objective': 'binary:logistic', 'eta': 0.35, 'max_depth': 10, 'gamma': 0, 'lambda': 2, 'alpha': 0.1}\n",
            "[0]\ttrain-logloss:0.52161+0.00090\ttest-logloss:0.53167+0.00083\n",
            "[1]\ttrain-logloss:0.41842+0.00146\ttest-logloss:0.43612+0.00244\n",
            "[2]\ttrain-logloss:0.35160+0.00152\ttest-logloss:0.37524+0.00200\n",
            "[3]\ttrain-logloss:0.30375+0.00084\ttest-logloss:0.33246+0.00384\n",
            "[4]\ttrain-logloss:0.26868+0.00152\ttest-logloss:0.30209+0.00351\n",
            "[5]\ttrain-logloss:0.24515+0.00231\ttest-logloss:0.28156+0.00449\n",
            "[6]\ttrain-logloss:0.22411+0.00321\ttest-logloss:0.26369+0.00343\n",
            "[7]\ttrain-logloss:0.20650+0.00257\ttest-logloss:0.24888+0.00391\n",
            "[8]\ttrain-logloss:0.19240+0.00324\ttest-logloss:0.23712+0.00450\n",
            "[9]\ttrain-logloss:0.18308+0.00235\ttest-logloss:0.22964+0.00427\n",
            "[10]\ttrain-logloss:0.17502+0.00192\ttest-logloss:0.22286+0.00528\n",
            "[11]\ttrain-logloss:0.16754+0.00296\ttest-logloss:0.21648+0.00568\n",
            "[12]\ttrain-logloss:0.15745+0.00189\ttest-logloss:0.20854+0.00538\n",
            "[13]\ttrain-logloss:0.15168+0.00334\ttest-logloss:0.20428+0.00586\n",
            "[14]\ttrain-logloss:0.14801+0.00315\ttest-logloss:0.20142+0.00557\n",
            "[15]\ttrain-logloss:0.14249+0.00295\ttest-logloss:0.19690+0.00579\n",
            "[16]\ttrain-logloss:0.13793+0.00295\ttest-logloss:0.19394+0.00633\n",
            "[17]\ttrain-logloss:0.13507+0.00299\ttest-logloss:0.19209+0.00636\n",
            "[18]\ttrain-logloss:0.13213+0.00267\ttest-logloss:0.18999+0.00626\n",
            "[19]\ttrain-logloss:0.12983+0.00287\ttest-logloss:0.18926+0.00637\n",
            "[20]\ttrain-logloss:0.12627+0.00190\ttest-logloss:0.18747+0.00535\n",
            "[21]\ttrain-logloss:0.12416+0.00158\ttest-logloss:0.18655+0.00502\n",
            "[22]\ttrain-logloss:0.12237+0.00137\ttest-logloss:0.18617+0.00472\n",
            "[23]\ttrain-logloss:0.12039+0.00130\ttest-logloss:0.18529+0.00552\n",
            "[24]\ttrain-logloss:0.11755+0.00218\ttest-logloss:0.18417+0.00617\n",
            "[25]\ttrain-logloss:0.11488+0.00327\ttest-logloss:0.18347+0.00707\n",
            "[26]\ttrain-logloss:0.11204+0.00370\ttest-logloss:0.18283+0.00717\n",
            "[27]\ttrain-logloss:0.11032+0.00355\ttest-logloss:0.18234+0.00682\n",
            "[28]\ttrain-logloss:0.10804+0.00401\ttest-logloss:0.18127+0.00684\n",
            "[29]\ttrain-logloss:0.10527+0.00376\ttest-logloss:0.18045+0.00559\n",
            "[30]\ttrain-logloss:0.10320+0.00424\ttest-logloss:0.18002+0.00604\n",
            "[31]\ttrain-logloss:0.10156+0.00389\ttest-logloss:0.17986+0.00603\n",
            "[32]\ttrain-logloss:0.10015+0.00394\ttest-logloss:0.17992+0.00625\n",
            "[33]\ttrain-logloss:0.09839+0.00454\ttest-logloss:0.17944+0.00667\n",
            "[34]\ttrain-logloss:0.09685+0.00333\ttest-logloss:0.17876+0.00596\n",
            "[35]\ttrain-logloss:0.09493+0.00356\ttest-logloss:0.17856+0.00598\n",
            "[36]\ttrain-logloss:0.09330+0.00409\ttest-logloss:0.17870+0.00615\n",
            "[37]\ttrain-logloss:0.09045+0.00257\ttest-logloss:0.17711+0.00492\n",
            "[38]\ttrain-logloss:0.08859+0.00254\ttest-logloss:0.17642+0.00477\n",
            "[39]\ttrain-logloss:0.08627+0.00246\ttest-logloss:0.17552+0.00521\n",
            "[40]\ttrain-logloss:0.08497+0.00250\ttest-logloss:0.17548+0.00537\n",
            "[41]\ttrain-logloss:0.08277+0.00272\ttest-logloss:0.17444+0.00546\n",
            "[42]\ttrain-logloss:0.08076+0.00339\ttest-logloss:0.17365+0.00551\n",
            "[43]\ttrain-logloss:0.07958+0.00392\ttest-logloss:0.17343+0.00548\n",
            "[44]\ttrain-logloss:0.07759+0.00367\ttest-logloss:0.17255+0.00508\n",
            "[45]\ttrain-logloss:0.07633+0.00383\ttest-logloss:0.17217+0.00551\n",
            "[46]\ttrain-logloss:0.07515+0.00419\ttest-logloss:0.17175+0.00588\n",
            "[47]\ttrain-logloss:0.07348+0.00415\ttest-logloss:0.17156+0.00565\n",
            "[48]\ttrain-logloss:0.07186+0.00381\ttest-logloss:0.17142+0.00552\n",
            "[49]\ttrain-logloss:0.07122+0.00373\ttest-logloss:0.17135+0.00525\n",
            "result:  0.1713479041880477\n",
            "best result:  0.1713479041880477\n",
            "hyperparameters:  {'objective': 'binary:logistic', 'eta': 0.35, 'max_depth': 10, 'gamma': 0, 'lambda': 2, 'alpha': 0.1}\n",
            "best hyperparameters:  {'objective': 'binary:logistic', 'eta': 0.35, 'max_depth': 10, 'gamma': 0, 'lambda': 2, 'alpha': 0.1}\n",
            "{'objective': 'binary:logistic', 'eta': 0.25, 'max_depth': 5, 'gamma': 0, 'lambda': 2, 'alpha': 1.0}\n",
            "[0]\ttrain-logloss:0.61691+0.00043\ttest-logloss:0.61801+0.00091\n",
            "[1]\ttrain-logloss:0.56596+0.00066\ttest-logloss:0.56787+0.00110\n",
            "[2]\ttrain-logloss:0.52819+0.00170\ttest-logloss:0.53087+0.00121\n",
            "[3]\ttrain-logloss:0.49912+0.00259\ttest-logloss:0.50240+0.00220\n",
            "[4]\ttrain-logloss:0.47487+0.00210\ttest-logloss:0.47877+0.00174\n",
            "[5]\ttrain-logloss:0.45491+0.00113\ttest-logloss:0.45942+0.00121\n",
            "[6]\ttrain-logloss:0.43805+0.00188\ttest-logloss:0.44270+0.00212\n",
            "[7]\ttrain-logloss:0.42475+0.00268\ttest-logloss:0.42979+0.00334\n",
            "[8]\ttrain-logloss:0.41275+0.00220\ttest-logloss:0.41833+0.00327\n",
            "[9]\ttrain-logloss:0.40181+0.00264\ttest-logloss:0.40789+0.00405\n",
            "[10]\ttrain-logloss:0.39216+0.00186\ttest-logloss:0.39848+0.00435\n",
            "[11]\ttrain-logloss:0.38315+0.00138\ttest-logloss:0.38977+0.00345\n",
            "[12]\ttrain-logloss:0.37596+0.00151\ttest-logloss:0.38288+0.00373\n",
            "[13]\ttrain-logloss:0.36831+0.00133\ttest-logloss:0.37550+0.00409\n",
            "[14]\ttrain-logloss:0.36153+0.00137\ttest-logloss:0.36902+0.00371\n",
            "[15]\ttrain-logloss:0.35533+0.00213\ttest-logloss:0.36318+0.00362\n",
            "[16]\ttrain-logloss:0.34914+0.00214\ttest-logloss:0.35734+0.00357\n",
            "[17]\ttrain-logloss:0.34510+0.00216\ttest-logloss:0.35351+0.00437\n",
            "[18]\ttrain-logloss:0.33809+0.00287\ttest-logloss:0.34669+0.00486\n",
            "[19]\ttrain-logloss:0.33277+0.00293\ttest-logloss:0.34162+0.00453\n",
            "[20]\ttrain-logloss:0.32923+0.00273\ttest-logloss:0.33840+0.00370\n",
            "[21]\ttrain-logloss:0.32544+0.00169\ttest-logloss:0.33483+0.00329\n",
            "[22]\ttrain-logloss:0.32070+0.00176\ttest-logloss:0.33035+0.00296\n",
            "[23]\ttrain-logloss:0.31608+0.00259\ttest-logloss:0.32578+0.00401\n",
            "[24]\ttrain-logloss:0.31247+0.00307\ttest-logloss:0.32234+0.00467\n",
            "[25]\ttrain-logloss:0.30850+0.00228\ttest-logloss:0.31871+0.00450\n",
            "[26]\ttrain-logloss:0.30662+0.00223\ttest-logloss:0.31701+0.00460\n",
            "[27]\ttrain-logloss:0.30362+0.00155\ttest-logloss:0.31420+0.00374\n",
            "[28]\ttrain-logloss:0.30062+0.00081\ttest-logloss:0.31129+0.00357\n",
            "[29]\ttrain-logloss:0.29790+0.00162\ttest-logloss:0.30875+0.00271\n",
            "[30]\ttrain-logloss:0.29513+0.00191\ttest-logloss:0.30623+0.00212\n",
            "[31]\ttrain-logloss:0.29144+0.00270\ttest-logloss:0.30283+0.00157\n",
            "[32]\ttrain-logloss:0.28804+0.00377\ttest-logloss:0.29959+0.00172\n",
            "[33]\ttrain-logloss:0.28491+0.00385\ttest-logloss:0.29665+0.00055\n"
          ]
        },
        {
          "output_type": "error",
          "ename": "KeyboardInterrupt",
          "evalue": "ignored",
          "traceback": [
            "\u001b[0;31m---------------------------------------------------------------------------\u001b[0m",
            "\u001b[0;31mKeyboardInterrupt\u001b[0m                         Traceback (most recent call last)",
            "\u001b[0;32m<ipython-input-73-e2efa0b873ba>\u001b[0m in \u001b[0;36m<cell line: 7>\u001b[0;34m()\u001b[0m\n\u001b[1;32m     10\u001b[0m \u001b[0;34m\u001b[0m\u001b[0m\n\u001b[1;32m     11\u001b[0m   \u001b[0mprint\u001b[0m\u001b[0;34m(\u001b[0m\u001b[0mhyperparams\u001b[0m\u001b[0;34m)\u001b[0m\u001b[0;34m\u001b[0m\u001b[0;34m\u001b[0m\u001b[0m\n\u001b[0;32m---> 12\u001b[0;31m   \u001b[0mout\u001b[0m\u001b[0;34m=\u001b[0m\u001b[0mxgb\u001b[0m\u001b[0;34m.\u001b[0m\u001b[0mcv\u001b[0m\u001b[0;34m(\u001b[0m\u001b[0mparams\u001b[0m\u001b[0;34m=\u001b[0m\u001b[0mhyperparams\u001b[0m\u001b[0;34m,\u001b[0m  \u001b[0mnum_boost_round\u001b[0m\u001b[0;34m=\u001b[0m\u001b[0;36m50\u001b[0m\u001b[0;34m,\u001b[0m \u001b[0mdtrain\u001b[0m\u001b[0;34m=\u001b[0m\u001b[0mdtrain\u001b[0m\u001b[0;34m,\u001b[0m \u001b[0mnfold\u001b[0m\u001b[0;34m=\u001b[0m\u001b[0;36m5\u001b[0m\u001b[0;34m,\u001b[0m \u001b[0mstratified\u001b[0m\u001b[0;34m=\u001b[0m\u001b[0;32mTrue\u001b[0m\u001b[0;34m,\u001b[0m \u001b[0mearly_stopping_rounds\u001b[0m\u001b[0;34m=\u001b[0m\u001b[0;36m5\u001b[0m\u001b[0;34m,\u001b[0m \u001b[0mverbose_eval\u001b[0m\u001b[0;34m=\u001b[0m\u001b[0;36m1\u001b[0m\u001b[0;34m)\u001b[0m\u001b[0;34m\u001b[0m\u001b[0;34m\u001b[0m\u001b[0m\n\u001b[0m\u001b[1;32m     13\u001b[0m   \u001b[0mindex\u001b[0m\u001b[0;34m=\u001b[0m\u001b[0mout\u001b[0m\u001b[0;34m.\u001b[0m\u001b[0mshape\u001b[0m\u001b[0;34m[\u001b[0m\u001b[0;36m0\u001b[0m\u001b[0;34m]\u001b[0m\u001b[0;34m-\u001b[0m\u001b[0;36m1\u001b[0m\u001b[0;34m\u001b[0m\u001b[0;34m\u001b[0m\u001b[0m\n\u001b[1;32m     14\u001b[0m   \u001b[0mresult\u001b[0m\u001b[0;34m=\u001b[0m\u001b[0mout\u001b[0m\u001b[0;34m.\u001b[0m\u001b[0miloc\u001b[0m\u001b[0;34m[\u001b[0m\u001b[0mindex\u001b[0m\u001b[0;34m,\u001b[0m\u001b[0;36m2\u001b[0m\u001b[0;34m]\u001b[0m\u001b[0;34m\u001b[0m\u001b[0;34m\u001b[0m\u001b[0m\n",
            "\u001b[0;32m/usr/local/lib/python3.10/dist-packages/xgboost/training.py\u001b[0m in \u001b[0;36mcv\u001b[0;34m(params, dtrain, num_boost_round, nfold, stratified, folds, metrics, obj, feval, maximize, early_stopping_rounds, fpreproc, as_pandas, verbose_eval, show_stdv, seed, callbacks, shuffle, custom_metric)\u001b[0m\n\u001b[1;32m    536\u001b[0m         \u001b[0;32mif\u001b[0m \u001b[0mcallbacks_container\u001b[0m\u001b[0;34m.\u001b[0m\u001b[0mbefore_iteration\u001b[0m\u001b[0;34m(\u001b[0m\u001b[0mbooster\u001b[0m\u001b[0;34m,\u001b[0m \u001b[0mi\u001b[0m\u001b[0;34m,\u001b[0m \u001b[0mdtrain\u001b[0m\u001b[0;34m,\u001b[0m \u001b[0;32mNone\u001b[0m\u001b[0;34m)\u001b[0m\u001b[0;34m:\u001b[0m\u001b[0;34m\u001b[0m\u001b[0;34m\u001b[0m\u001b[0m\n\u001b[1;32m    537\u001b[0m             \u001b[0;32mbreak\u001b[0m\u001b[0;34m\u001b[0m\u001b[0;34m\u001b[0m\u001b[0m\n\u001b[0;32m--> 538\u001b[0;31m         \u001b[0mbooster\u001b[0m\u001b[0;34m.\u001b[0m\u001b[0mupdate\u001b[0m\u001b[0;34m(\u001b[0m\u001b[0mi\u001b[0m\u001b[0;34m,\u001b[0m \u001b[0mobj\u001b[0m\u001b[0;34m)\u001b[0m\u001b[0;34m\u001b[0m\u001b[0;34m\u001b[0m\u001b[0m\n\u001b[0m\u001b[1;32m    539\u001b[0m \u001b[0;34m\u001b[0m\u001b[0m\n\u001b[1;32m    540\u001b[0m         \u001b[0mshould_break\u001b[0m \u001b[0;34m=\u001b[0m \u001b[0mcallbacks_container\u001b[0m\u001b[0;34m.\u001b[0m\u001b[0mafter_iteration\u001b[0m\u001b[0;34m(\u001b[0m\u001b[0mbooster\u001b[0m\u001b[0;34m,\u001b[0m \u001b[0mi\u001b[0m\u001b[0;34m,\u001b[0m \u001b[0mdtrain\u001b[0m\u001b[0;34m,\u001b[0m \u001b[0;32mNone\u001b[0m\u001b[0;34m)\u001b[0m\u001b[0;34m\u001b[0m\u001b[0;34m\u001b[0m\u001b[0m\n",
            "\u001b[0;32m/usr/local/lib/python3.10/dist-packages/xgboost/training.py\u001b[0m in \u001b[0;36mupdate\u001b[0;34m(self, iteration, obj)\u001b[0m\n\u001b[1;32m    227\u001b[0m         \u001b[0;34m'''Iterate through folds for update'''\u001b[0m\u001b[0;34m\u001b[0m\u001b[0;34m\u001b[0m\u001b[0m\n\u001b[1;32m    228\u001b[0m         \u001b[0;32mfor\u001b[0m \u001b[0mfold\u001b[0m \u001b[0;32min\u001b[0m \u001b[0mself\u001b[0m\u001b[0;34m.\u001b[0m\u001b[0mcvfolds\u001b[0m\u001b[0;34m:\u001b[0m\u001b[0;34m\u001b[0m\u001b[0;34m\u001b[0m\u001b[0m\n\u001b[0;32m--> 229\u001b[0;31m             \u001b[0mfold\u001b[0m\u001b[0;34m.\u001b[0m\u001b[0mupdate\u001b[0m\u001b[0;34m(\u001b[0m\u001b[0miteration\u001b[0m\u001b[0;34m,\u001b[0m \u001b[0mobj\u001b[0m\u001b[0;34m)\u001b[0m\u001b[0;34m\u001b[0m\u001b[0;34m\u001b[0m\u001b[0m\n\u001b[0m\u001b[1;32m    230\u001b[0m \u001b[0;34m\u001b[0m\u001b[0m\n\u001b[1;32m    231\u001b[0m     \u001b[0;32mdef\u001b[0m \u001b[0meval\u001b[0m\u001b[0;34m(\u001b[0m\u001b[0mself\u001b[0m\u001b[0;34m,\u001b[0m \u001b[0miteration\u001b[0m\u001b[0;34m:\u001b[0m \u001b[0mint\u001b[0m\u001b[0;34m,\u001b[0m \u001b[0mfeval\u001b[0m\u001b[0;34m:\u001b[0m \u001b[0mOptional\u001b[0m\u001b[0;34m[\u001b[0m\u001b[0mMetric\u001b[0m\u001b[0;34m]\u001b[0m\u001b[0;34m,\u001b[0m \u001b[0moutput_margin\u001b[0m\u001b[0;34m:\u001b[0m \u001b[0mbool\u001b[0m\u001b[0;34m)\u001b[0m \u001b[0;34m->\u001b[0m \u001b[0mList\u001b[0m\u001b[0;34m[\u001b[0m\u001b[0mstr\u001b[0m\u001b[0;34m]\u001b[0m\u001b[0;34m:\u001b[0m\u001b[0;34m\u001b[0m\u001b[0;34m\u001b[0m\u001b[0m\n",
            "\u001b[0;32m/usr/local/lib/python3.10/dist-packages/xgboost/training.py\u001b[0m in \u001b[0;36mupdate\u001b[0;34m(self, iteration, fobj)\u001b[0m\n\u001b[1;32m    213\u001b[0m     \u001b[0;32mdef\u001b[0m \u001b[0mupdate\u001b[0m\u001b[0;34m(\u001b[0m\u001b[0mself\u001b[0m\u001b[0;34m,\u001b[0m \u001b[0miteration\u001b[0m\u001b[0;34m:\u001b[0m \u001b[0mint\u001b[0m\u001b[0;34m,\u001b[0m \u001b[0mfobj\u001b[0m\u001b[0;34m:\u001b[0m \u001b[0mOptional\u001b[0m\u001b[0;34m[\u001b[0m\u001b[0mObjective\u001b[0m\u001b[0;34m]\u001b[0m\u001b[0;34m)\u001b[0m \u001b[0;34m->\u001b[0m \u001b[0;32mNone\u001b[0m\u001b[0;34m:\u001b[0m\u001b[0;34m\u001b[0m\u001b[0;34m\u001b[0m\u001b[0m\n\u001b[1;32m    214\u001b[0m         \u001b[0;34m\"\"\"\"Update the boosters for one iteration\"\"\"\u001b[0m\u001b[0;34m\u001b[0m\u001b[0;34m\u001b[0m\u001b[0m\n\u001b[0;32m--> 215\u001b[0;31m         \u001b[0mself\u001b[0m\u001b[0;34m.\u001b[0m\u001b[0mbst\u001b[0m\u001b[0;34m.\u001b[0m\u001b[0mupdate\u001b[0m\u001b[0;34m(\u001b[0m\u001b[0mself\u001b[0m\u001b[0;34m.\u001b[0m\u001b[0mdtrain\u001b[0m\u001b[0;34m,\u001b[0m \u001b[0miteration\u001b[0m\u001b[0;34m,\u001b[0m \u001b[0mfobj\u001b[0m\u001b[0;34m)\u001b[0m\u001b[0;34m\u001b[0m\u001b[0;34m\u001b[0m\u001b[0m\n\u001b[0m\u001b[1;32m    216\u001b[0m \u001b[0;34m\u001b[0m\u001b[0m\n\u001b[1;32m    217\u001b[0m     \u001b[0;32mdef\u001b[0m \u001b[0meval\u001b[0m\u001b[0;34m(\u001b[0m\u001b[0mself\u001b[0m\u001b[0;34m,\u001b[0m \u001b[0miteration\u001b[0m\u001b[0;34m:\u001b[0m \u001b[0mint\u001b[0m\u001b[0;34m,\u001b[0m \u001b[0mfeval\u001b[0m\u001b[0;34m:\u001b[0m \u001b[0mOptional\u001b[0m\u001b[0;34m[\u001b[0m\u001b[0mMetric\u001b[0m\u001b[0;34m]\u001b[0m\u001b[0;34m,\u001b[0m \u001b[0moutput_margin\u001b[0m\u001b[0;34m:\u001b[0m \u001b[0mbool\u001b[0m\u001b[0;34m)\u001b[0m \u001b[0;34m->\u001b[0m \u001b[0mstr\u001b[0m\u001b[0;34m:\u001b[0m\u001b[0;34m\u001b[0m\u001b[0;34m\u001b[0m\u001b[0m\n",
            "\u001b[0;32m/usr/local/lib/python3.10/dist-packages/xgboost/core.py\u001b[0m in \u001b[0;36mupdate\u001b[0;34m(self, dtrain, iteration, fobj)\u001b[0m\n\u001b[1;32m   1916\u001b[0m \u001b[0;34m\u001b[0m\u001b[0m\n\u001b[1;32m   1917\u001b[0m         \u001b[0;32mif\u001b[0m \u001b[0mfobj\u001b[0m \u001b[0;32mis\u001b[0m \u001b[0;32mNone\u001b[0m\u001b[0;34m:\u001b[0m\u001b[0;34m\u001b[0m\u001b[0;34m\u001b[0m\u001b[0m\n\u001b[0;32m-> 1918\u001b[0;31m             _check_call(_LIB.XGBoosterUpdateOneIter(self.handle,\n\u001b[0m\u001b[1;32m   1919\u001b[0m                                                     \u001b[0mctypes\u001b[0m\u001b[0;34m.\u001b[0m\u001b[0mc_int\u001b[0m\u001b[0;34m(\u001b[0m\u001b[0miteration\u001b[0m\u001b[0;34m)\u001b[0m\u001b[0;34m,\u001b[0m\u001b[0;34m\u001b[0m\u001b[0;34m\u001b[0m\u001b[0m\n\u001b[1;32m   1920\u001b[0m                                                     dtrain.handle))\n",
            "\u001b[0;31mKeyboardInterrupt\u001b[0m: "
          ]
        }
      ]
    },
    {
      "cell_type": "code",
      "source": [
        "best_params"
      ],
      "metadata": {
        "id": "bTn_ilNmgnsT"
      },
      "execution_count": null,
      "outputs": []
    },
    {
      "cell_type": "code",
      "source": [
        "hyperparams = { 'eta':0.1, 'max_depth': 20, 'gamma': 3, 'lambda': 3, 'alpha': 1.0, 'objective': 'binary:logistic'}\n",
        "\n",
        "XGBModel = xgb.XGBClassifier(params=hyperparams, num_boost_round=200, dtrain=dtrain, nfold=5, stratified=True, early_stopping_rounds=5, verbose_eval=1)"
      ],
      "metadata": {
        "id": "JOCalnvhhad1"
      },
      "execution_count": null,
      "outputs": []
    },
    {
      "cell_type": "code",
      "source": [
        "skf_results = skf(XGBModel,X,y,scoring = ['roc_auc','accuracy','precision','recall'])\n",
        "skf_results"
      ],
      "metadata": {
        "id": "69Pjl8pBkWT_"
      },
      "execution_count": null,
      "outputs": []
    },
    {
      "cell_type": "code",
      "source": [
        "#setting up a hyperparameter dataframe for RF\n",
        "min_samples_leaf = [3,4,5]\n",
        "max_features = ['sqrt',7,10,'log2',None]\n",
        "min_samples_split = [2,4,8]\n",
        "\n",
        "rf_param = pd.DataFrame(list(product(min_samples_leaf, max_features, min_samples_split)), columns=['min_samples_leaf', 'max_features', 'min_samples_split'])\n",
        "\n",
        "#randomizing the dataframe order\n",
        "rf_param = shuffle(rf_param)\n",
        "rf_param = rf_param.reset_index()\n",
        "rf_param=rf_param.drop(['index'], axis=1)\n",
        "rf_param"
      ],
      "metadata": {
        "id": "6c_QgIughvvJ"
      },
      "execution_count": null,
      "outputs": []
    },
    {
      "cell_type": "code",
      "source": [
        "trials = 20\n",
        "best_params = {}\n",
        "i=0\n",
        "\n",
        "for i in range(trials):\n",
        "  #random sampling from paramdf\n",
        "\n",
        "  hyperparams = {'objective': 'binary:logistic', 'min_samples_leaf': rf_param['min_samples_leaf'][i], 'max_features': rf_param['max_features'][i], 'min_samples_split': rf_param['min_samples_split'][i]}\n",
        "  print(hyperparams)\n",
        "\n",
        "  rf = RandomForestClassifier(random_state=624,n_jobs=-1,n_estimators=50,criterion='entropy', class_weight='balanced')\n",
        "  outrf=rf.cv(params=hyperparams, nfold=5, stratified=True)\n",
        "\n",
        "  index=out.shape[0]-1\n",
        "  result=outrf.iloc[index,2]\n",
        "  if i< 1:\n",
        "    best_result = result\n",
        "    rf_best_params = hyperparams\n",
        "\n",
        "  if result< best_result:\n",
        "      best_result = result\n",
        "      rf_best_params = hyperparams\n",
        "      print('result: ' ,result)\n",
        "      print('best result: ' ,best_result)\n",
        "      print('hyperparameters: ' ,hyperparams)\n",
        "      print('best hyperparameters: ' ,rf_best_params)\n",
        "\n",
        "      i+=1"
      ],
      "metadata": {
        "id": "epW-97oSitS8"
      },
      "execution_count": null,
      "outputs": []
    }
  ]
}