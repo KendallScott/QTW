{
  "nbformat": 4,
  "nbformat_minor": 0,
  "metadata": {
    "colab": {
      "provenance": [],
      "include_colab_link": true
    },
    "kernelspec": {
      "name": "python3",
      "display_name": "Python 3"
    },
    "language_info": {
      "name": "python"
    }
  },
  "cells": [
    {
      "cell_type": "markdown",
      "metadata": {
        "id": "view-in-github",
        "colab_type": "text"
      },
      "source": [
        "<a href=\"https://colab.research.google.com/github/boneeyah/QTW/blob/main/Case%20Study%201/Case_Study_1.ipynb\" target=\"_parent\"><img src=\"https://colab.research.google.com/assets/colab-badge.svg\" alt=\"Open In Colab\"/></a>"
      ]
    },
    {
      "cell_type": "code",
      "source": [
        "!pip install scikit-learn-intelex"
      ],
      "metadata": {
        "colab": {
          "base_uri": "https://localhost:8080/"
        },
        "id": "z23MNhDAxtgM",
        "outputId": "996c6af5-17b2-45c6-c525-a4da6443ab4f"
      },
      "execution_count": 1,
      "outputs": [
        {
          "output_type": "stream",
          "name": "stdout",
          "text": [
            "Looking in indexes: https://pypi.org/simple, https://us-python.pkg.dev/colab-wheels/public/simple/\n",
            "Requirement already satisfied: scikit-learn-intelex in /usr/local/lib/python3.10/dist-packages (2023.1.1)\n",
            "Requirement already satisfied: daal4py==2023.1.1 in /usr/local/lib/python3.10/dist-packages (from scikit-learn-intelex) (2023.1.1)\n",
            "Requirement already satisfied: scikit-learn>=0.22 in /usr/local/lib/python3.10/dist-packages (from scikit-learn-intelex) (1.2.2)\n",
            "Requirement already satisfied: daal==2023.1.1 in /usr/local/lib/python3.10/dist-packages (from daal4py==2023.1.1->scikit-learn-intelex) (2023.1.1)\n",
            "Requirement already satisfied: numpy>=1.19 in /usr/local/lib/python3.10/dist-packages (from daal4py==2023.1.1->scikit-learn-intelex) (1.22.4)\n",
            "Requirement already satisfied: tbb==2021.* in /usr/local/lib/python3.10/dist-packages (from daal==2023.1.1->daal4py==2023.1.1->scikit-learn-intelex) (2021.9.0)\n",
            "Requirement already satisfied: scipy>=1.3.2 in /usr/local/lib/python3.10/dist-packages (from scikit-learn>=0.22->scikit-learn-intelex) (1.10.1)\n",
            "Requirement already satisfied: joblib>=1.1.1 in /usr/local/lib/python3.10/dist-packages (from scikit-learn>=0.22->scikit-learn-intelex) (1.2.0)\n",
            "Requirement already satisfied: threadpoolctl>=2.0.0 in /usr/local/lib/python3.10/dist-packages (from scikit-learn>=0.22->scikit-learn-intelex) (3.1.0)\n"
          ]
        }
      ]
    },
    {
      "cell_type": "code",
      "source": [
        "import pandas as pd\n",
        "import numpy as np\n",
        "import matplotlib.pyplot as plt\n",
        "import seaborn as sns\n",
        "from sklearn.model_selection import cross_val_score\n",
        "from sklearn.linear_model import Ridge\n",
        "from sklearn.preprocessing import StandardScaler\n",
        "from sklearn import metrics\n",
        "from sklearn.linear_model import LinearRegression\n",
        "from sklearn.model_selection import KFold\n",
        "from tabulate import tabulate\n",
        "from sklearn.linear_model import ElasticNet\n",
        "from sklearn.datasets import make_regression\n",
        "from sklearn.model_selection import GridSearchCV\n",
        "from numpy import arange\n",
        "from sklearnex import patch_sklearn"
      ],
      "metadata": {
        "id": "tiJ1b1GMyQDI"
      },
      "execution_count": 2,
      "outputs": []
    },
    {
      "cell_type": "code",
      "source": [
        "df = pd.read_csv('https://raw.githubusercontent.com/KendallScott/QTW/main/Case%20Study%201/train.csv') "
      ],
      "metadata": {
        "id": "8yeoDQfnyMI8"
      },
      "execution_count": 3,
      "outputs": []
    },
    {
      "cell_type": "code",
      "source": [
        "df.info()"
      ],
      "metadata": {
        "colab": {
          "base_uri": "https://localhost:8080/"
        },
        "id": "qGK01rz5yZb2",
        "outputId": "fc5e2292-80c0-4a33-da79-b6236895f9d0"
      },
      "execution_count": 4,
      "outputs": [
        {
          "output_type": "stream",
          "name": "stdout",
          "text": [
            "<class 'pandas.core.frame.DataFrame'>\n",
            "RangeIndex: 21263 entries, 0 to 21262\n",
            "Data columns (total 82 columns):\n",
            " #   Column                           Non-Null Count  Dtype  \n",
            "---  ------                           --------------  -----  \n",
            " 0   number_of_elements               21263 non-null  int64  \n",
            " 1   mean_atomic_mass                 21263 non-null  float64\n",
            " 2   wtd_mean_atomic_mass             21263 non-null  float64\n",
            " 3   gmean_atomic_mass                21263 non-null  float64\n",
            " 4   wtd_gmean_atomic_mass            21263 non-null  float64\n",
            " 5   entropy_atomic_mass              21263 non-null  float64\n",
            " 6   wtd_entropy_atomic_mass          21263 non-null  float64\n",
            " 7   range_atomic_mass                21263 non-null  float64\n",
            " 8   wtd_range_atomic_mass            21263 non-null  float64\n",
            " 9   std_atomic_mass                  21263 non-null  float64\n",
            " 10  wtd_std_atomic_mass              21263 non-null  float64\n",
            " 11  mean_fie                         21263 non-null  float64\n",
            " 12  wtd_mean_fie                     21263 non-null  float64\n",
            " 13  gmean_fie                        21263 non-null  float64\n",
            " 14  wtd_gmean_fie                    21263 non-null  float64\n",
            " 15  entropy_fie                      21263 non-null  float64\n",
            " 16  wtd_entropy_fie                  21263 non-null  float64\n",
            " 17  range_fie                        21263 non-null  float64\n",
            " 18  wtd_range_fie                    21263 non-null  float64\n",
            " 19  std_fie                          21263 non-null  float64\n",
            " 20  wtd_std_fie                      21263 non-null  float64\n",
            " 21  mean_atomic_radius               21263 non-null  float64\n",
            " 22  wtd_mean_atomic_radius           21263 non-null  float64\n",
            " 23  gmean_atomic_radius              21263 non-null  float64\n",
            " 24  wtd_gmean_atomic_radius          21263 non-null  float64\n",
            " 25  entropy_atomic_radius            21263 non-null  float64\n",
            " 26  wtd_entropy_atomic_radius        21263 non-null  float64\n",
            " 27  range_atomic_radius              21263 non-null  int64  \n",
            " 28  wtd_range_atomic_radius          21263 non-null  float64\n",
            " 29  std_atomic_radius                21263 non-null  float64\n",
            " 30  wtd_std_atomic_radius            21263 non-null  float64\n",
            " 31  mean_Density                     21263 non-null  float64\n",
            " 32  wtd_mean_Density                 21263 non-null  float64\n",
            " 33  gmean_Density                    21263 non-null  float64\n",
            " 34  wtd_gmean_Density                21263 non-null  float64\n",
            " 35  entropy_Density                  21263 non-null  float64\n",
            " 36  wtd_entropy_Density              21263 non-null  float64\n",
            " 37  range_Density                    21263 non-null  float64\n",
            " 38  wtd_range_Density                21263 non-null  float64\n",
            " 39  std_Density                      21263 non-null  float64\n",
            " 40  wtd_std_Density                  21263 non-null  float64\n",
            " 41  mean_ElectronAffinity            21263 non-null  float64\n",
            " 42  wtd_mean_ElectronAffinity        21263 non-null  float64\n",
            " 43  gmean_ElectronAffinity           21263 non-null  float64\n",
            " 44  wtd_gmean_ElectronAffinity       21263 non-null  float64\n",
            " 45  entropy_ElectronAffinity         21263 non-null  float64\n",
            " 46  wtd_entropy_ElectronAffinity     21263 non-null  float64\n",
            " 47  range_ElectronAffinity           21263 non-null  float64\n",
            " 48  wtd_range_ElectronAffinity       21263 non-null  float64\n",
            " 49  std_ElectronAffinity             21263 non-null  float64\n",
            " 50  wtd_std_ElectronAffinity         21263 non-null  float64\n",
            " 51  mean_FusionHeat                  21263 non-null  float64\n",
            " 52  wtd_mean_FusionHeat              21263 non-null  float64\n",
            " 53  gmean_FusionHeat                 21263 non-null  float64\n",
            " 54  wtd_gmean_FusionHeat             21263 non-null  float64\n",
            " 55  entropy_FusionHeat               21263 non-null  float64\n",
            " 56  wtd_entropy_FusionHeat           21263 non-null  float64\n",
            " 57  range_FusionHeat                 21263 non-null  float64\n",
            " 58  wtd_range_FusionHeat             21263 non-null  float64\n",
            " 59  std_FusionHeat                   21263 non-null  float64\n",
            " 60  wtd_std_FusionHeat               21263 non-null  float64\n",
            " 61  mean_ThermalConductivity         21263 non-null  float64\n",
            " 62  wtd_mean_ThermalConductivity     21263 non-null  float64\n",
            " 63  gmean_ThermalConductivity        21263 non-null  float64\n",
            " 64  wtd_gmean_ThermalConductivity    21263 non-null  float64\n",
            " 65  entropy_ThermalConductivity      21263 non-null  float64\n",
            " 66  wtd_entropy_ThermalConductivity  21263 non-null  float64\n",
            " 67  range_ThermalConductivity        21263 non-null  float64\n",
            " 68  wtd_range_ThermalConductivity    21263 non-null  float64\n",
            " 69  std_ThermalConductivity          21263 non-null  float64\n",
            " 70  wtd_std_ThermalConductivity      21263 non-null  float64\n",
            " 71  mean_Valence                     21263 non-null  float64\n",
            " 72  wtd_mean_Valence                 21263 non-null  float64\n",
            " 73  gmean_Valence                    21263 non-null  float64\n",
            " 74  wtd_gmean_Valence                21263 non-null  float64\n",
            " 75  entropy_Valence                  21263 non-null  float64\n",
            " 76  wtd_entropy_Valence              21263 non-null  float64\n",
            " 77  range_Valence                    21263 non-null  int64  \n",
            " 78  wtd_range_Valence                21263 non-null  float64\n",
            " 79  std_Valence                      21263 non-null  float64\n",
            " 80  wtd_std_Valence                  21263 non-null  float64\n",
            " 81  critical_temp                    21263 non-null  float64\n",
            "dtypes: float64(79), int64(3)\n",
            "memory usage: 13.3 MB\n"
          ]
        }
      ]
    },
    {
      "cell_type": "code",
      "source": [
        "unique = pd.read_csv('https://raw.githubusercontent.com/KendallScott/QTW/main/Case%20Study%201/unique_m.csv') \n",
        "unique = unique.loc[:, unique.columns != 'critical_temp']\n",
        "unique = unique.loc[:, unique.columns != 'material']\n",
        "\n",
        "df=df.join(unique)"
      ],
      "metadata": {
        "id": "IgJg_oo2yVmA"
      },
      "execution_count": 5,
      "outputs": []
    },
    {
      "cell_type": "code",
      "source": [
        "#dropping correlated values reference: https://www.projectpro.io/recipes/drop-out-highly-correlated-features-in-python\n",
        "corr_matrix = df.corr().abs()\n",
        "corr_matrix\n",
        "\n",
        "upper = corr_matrix.where(np.triu(np.ones(corr_matrix.shape), k=1).astype(np.bool))\n",
        "\n",
        "# find features with correlation greater than 0.95\n",
        "\n",
        "to_drop = [column for column in upper.columns if any(upper[column] > 0.95)]\n",
        "\n",
        "# drop highly correlated features\n",
        "\n",
        "df.drop(to_drop, axis=1, inplace=True)"
      ],
      "metadata": {
        "colab": {
          "base_uri": "https://localhost:8080/"
        },
        "id": "FMyKARwFCAI1",
        "outputId": "058231b0-dca9-4428-a921-d0f928e3d525"
      },
      "execution_count": 6,
      "outputs": [
        {
          "output_type": "stream",
          "name": "stderr",
          "text": [
            "<ipython-input-6-7c1233e99907>:5: DeprecationWarning: `np.bool` is a deprecated alias for the builtin `bool`. To silence this warning, use `bool` by itself. Doing this will not modify any behavior and is safe. If you specifically wanted the numpy scalar type, use `np.bool_` here.\n",
            "Deprecated in NumPy 1.20; for more details and guidance: https://numpy.org/devdocs/release/1.20.0-notes.html#deprecations\n",
            "  upper = corr_matrix.where(np.triu(np.ones(corr_matrix.shape), k=1).astype(np.bool))\n"
          ]
        }
      ]
    },
    {
      "cell_type": "code",
      "source": [
        "# Make target and predictive datasets\n",
        "y = df[['critical_temp']]\n",
        "X = df.loc[:, df.columns != 'critical_temp']"
      ],
      "metadata": {
        "id": "W48c9uGt0Cat"
      },
      "execution_count": 7,
      "outputs": []
    },
    {
      "cell_type": "code",
      "source": [
        "Scaler = StandardScaler()\n",
        "X_Scaled= Scaler.fit_transform(X)\n",
        "X_Scaled = pd.DataFrame(X_Scaled, columns = X.columns)\n",
        "y = pd.DataFrame(y)"
      ],
      "metadata": {
        "id": "xo2mPk9a02pu"
      },
      "execution_count": 8,
      "outputs": []
    },
    {
      "cell_type": "code",
      "source": [
        "# patch\n",
        "patch_sklearn()\n",
        "from sklearn.linear_model import ElasticNet\n",
        "from sklearn.model_selection import GridSearchCV\n",
        "\n",
        "# define grid\n",
        "grid = dict()\n",
        "grid['alpha'] = [0, 1e-5, 1e-4, 1e-3, 1e-2, 1e-1, 1.0, 10.0, 100.0]\n",
        "grid['l1_ratio'] = arange(0, 1.01, 0.01)\n",
        "\n",
        "#define the search\n",
        "regr = ElasticNet(random_state=0)\n",
        "cv = 5\n",
        "search = GridSearchCV(regr, grid, scoring = 'neg_mean_absolute_error', cv=cv, n_jobs=-1)\n",
        "\n",
        "#perform the search\n",
        "results = search.fit(X_Scaled, y)\n",
        "# summarize\n",
        "print('MAE: %.3f' % results.best_score_)\n",
        "print('Config: %s' % results.best_params_)"
      ],
      "metadata": {
        "colab": {
          "base_uri": "https://localhost:8080/"
        },
        "id": "AXiVPePqze3H",
        "outputId": "38df5711-c9dc-4d7f-d5e6-1f11bfaf324f"
      },
      "execution_count": 9,
      "outputs": [
        {
          "output_type": "stream",
          "name": "stderr",
          "text": [
            "Intel(R) Extension for Scikit-learn* enabled (https://github.com/intel/scikit-learn-intelex)\n"
          ]
        },
        {
          "output_type": "stream",
          "name": "stdout",
          "text": [
            "MAE: -14.251\n",
            "Config: {'alpha': 0.1, 'l1_ratio': 0.74}\n"
          ]
        }
      ]
    },
    {
      "cell_type": "code",
      "source": [
        "regr = ElasticNet(random_state=0, alpha=.1, l1_ratio= 0.74)\n",
        "\n",
        "i=0\n",
        "\n",
        "# Create a 10-fold cross-validation \n",
        "cv = KFold(n_splits = 10, \n",
        "           shuffle = True, \n",
        "           random_state = 42)\n",
        "\n",
        "MAE = []\n",
        "\n",
        "#i=0\n",
        "for train, test in cv.split(X_Scaled, y):\n",
        "    X_train, X_test = X_Scaled.iloc[train], X_Scaled.iloc[test]\n",
        "    y_train, y_test = y.iloc[train], y.iloc[test]\n",
        "\n",
        "    X_train, y_train = make_regression(n_features=2, random_state=0)\n",
        "    \n",
        "    regr.fit(X_Scaled, y)\n",
        "\n",
        "    # Predict \n",
        "    y_pred_lin_reg = regr.predict(X_test)\n",
        "  \n",
        "    # Calculate  mean squared error\n",
        "    lin_MAE_reg= metrics.mean_absolute_error(y_test, y_pred_lin_reg)\n",
        "\n",
        "    i=i+1\n",
        "    # Append to the list\n",
        "    MAE.append(lin_MAE_reg)\n",
        "\n",
        "    # Print the scores\n",
        "    print(tabulate([[i, lin_MAE_reg, ]], \n",
        "               headers=['MAE']))"
      ],
      "metadata": {
        "colab": {
          "base_uri": "https://localhost:8080/"
        },
        "id": "OLGi7KmLWiLN",
        "outputId": "0e6b0ce3-3688-400a-8130-d5923605bf73"
      },
      "execution_count": 10,
      "outputs": [
        {
          "output_type": "stream",
          "name": "stdout",
          "text": [
            "        MAE\n",
            "--  -------\n",
            " 1  12.8279\n",
            "        MAE\n",
            "--  -------\n",
            " 2  12.4171\n",
            "        MAE\n",
            "--  -------\n",
            " 3  13.5385\n",
            "       MAE\n",
            "--  ------\n",
            " 4  12.955\n",
            "        MAE\n",
            "--  -------\n",
            " 5  12.9521\n",
            "        MAE\n",
            "--  -------\n",
            " 6  12.6641\n",
            "        MAE\n",
            "--  -------\n",
            " 7  13.4323\n",
            "        MAE\n",
            "--  -------\n",
            " 8  12.9171\n",
            "        MAE\n",
            "--  -------\n",
            " 9  12.8899\n",
            "        MAE\n",
            "--  -------\n",
            "10  13.1926\n"
          ]
        }
      ]
    },
    {
      "cell_type": "code",
      "source": [
        "from sklearn.model_selection import cross_val_predict\n",
        "y_pred = cross_val_predict(regr,X_Scaled,y,cv=10)\n",
        "\n",
        "fig, axs = plt.subplots(ncols = 2,figsize = (8,4))\n",
        "axs[0].scatter(x = y_pred, y = y)\n",
        "axs[0].set_title('Actual vs. Predicted Values')\n",
        "axs[1].scatter(x = y_pred, y = (y.critical_temp - y_pred))\n",
        "axs[1].set_title('Residuals vs. Predicted Values')\n",
        "fig.suptitle('Cross-Validated Predictions Plot')"
      ],
      "metadata": {
        "id": "bl_vsr_8JYs0",
        "outputId": "18d7f27b-064f-4533-a3bd-4dd1e374baf8",
        "colab": {
          "base_uri": "https://localhost:8080/",
          "height": 425
        }
      },
      "execution_count": 11,
      "outputs": [
        {
          "output_type": "execute_result",
          "data": {
            "text/plain": [
              "Text(0.5, 0.98, 'Cross-Validated Predictions Plot')"
            ]
          },
          "metadata": {},
          "execution_count": 11
        },
        {
          "output_type": "display_data",
          "data": {
            "text/plain": [
              "<Figure size 800x400 with 2 Axes>"
            ],
            "image/png": "[encoded data removed]"
          },
          "metadata": {}
        }
      ]
    },
    {
      "cell_type": "markdown",
      "source": [
        "The residual vs fitted values plot on the right shows evidence of a violation of linearity. The residuals are not randomly spread around zero, and exhibit a trend.\n",
        "\n",
        "Will log transform the target variable."
      ],
      "metadata": {
        "id": "oY4GvsEbMXEA"
      }
    },
    {
      "cell_type": "code",
      "source": [
        "# patch\n",
        "patch_sklearn()\n",
        "from sklearn.linear_model import ElasticNet\n",
        "from sklearn.model_selection import GridSearchCV\n",
        "y_log = np.log(y)\n",
        "# define grid\n",
        "grid = dict()\n",
        "grid['alpha'] = [0, 1e-5, 1e-4, 1e-3, 1e-2, 1e-1, 1.0, 10.0, 100.0]\n",
        "grid['l1_ratio'] = arange(0, 1.01, 0.01)\n",
        "\n",
        "#define the search\n",
        "regr = ElasticNet(random_state=0)\n",
        "cv = 5\n",
        "search2 = GridSearchCV(regr, grid, scoring = 'neg_mean_absolute_error', cv=cv, n_jobs=-1)\n",
        "#perform the search again with log transformed y\n",
        "results2 = search2.fit(X_Scaled, y_log)\n",
        "# summarize\n",
        "print('MAE: %.3f' % results2.best_score_)\n",
        "print('Config: %s' % results2.best_params_)"
      ],
      "metadata": {
        "id": "AJUIXJMrNpPM",
        "outputId": "995ba7ac-a90c-4c82-d585-6f5e701f493a",
        "colab": {
          "base_uri": "https://localhost:8080/"
        }
      },
      "execution_count": 12,
      "outputs": [
        {
          "output_type": "stream",
          "name": "stderr",
          "text": [
            "Intel(R) Extension for Scikit-learn* enabled (https://github.com/intel/scikit-learn-intelex)\n"
          ]
        },
        {
          "output_type": "stream",
          "name": "stdout",
          "text": [
            "MAE: -0.666\n",
            "Config: {'alpha': 0.01, 'l1_ratio': 1.0}\n"
          ]
        }
      ]
    },
    {
      "cell_type": "markdown",
      "source": [
        "l1_ratio = 1 is corresponds to Lasso, will run the model with using Lasso()"
      ],
      "metadata": {
        "id": "OAIE5jJUmA3H"
      }
    },
    {
      "cell_type": "code",
      "source": [
        "grid_results_table = pd.concat([pd.DataFrame(search2.cv_results_[\"params\"]),pd.DataFrame(search2.cv_results_[\"mean_test_score\"]*-1, columns=[\"MAE\"])],axis=1)\n"
      ],
      "metadata": {
        "id": "7gffBvf8oxyE"
      },
      "execution_count": 13,
      "outputs": []
    },
    {
      "cell_type": "code",
      "source": [
        "grid_results_table"
      ],
      "metadata": {
        "colab": {
          "base_uri": "https://localhost:8080/",
          "height": 424
        },
        "id": "Eo-wcLtmo9q5",
        "outputId": "c06ed929-a178-4bf3-e84a-6aa236ab7303"
      },
      "execution_count": 14,
      "outputs": [
        {
          "output_type": "execute_result",
          "data": {
            "text/plain": [
              "     alpha  l1_ratio       MAE\n",
              "0      0.0      0.00  0.711128\n",
              "1      0.0      0.01  0.711128\n",
              "2      0.0      0.02  0.711128\n",
              "3      0.0      0.03  0.711128\n",
              "4      0.0      0.04  0.711128\n",
              "..     ...       ...       ...\n",
              "904  100.0      0.96  1.451119\n",
              "905  100.0      0.97  1.451119\n",
              "906  100.0      0.98  1.451119\n",
              "907  100.0      0.99  1.451119\n",
              "908  100.0      1.00  1.451119\n",
              "\n",
              "[909 rows x 3 columns]"
            ],
            "text/html": [
              "\n",
              "  <div id=\"df-21eb3b91-fecd-431b-b3d8-f227dcb8907f\">\n",
              "    <div class=\"colab-df-container\">\n",
              "      <div>\n",
              "<style scoped>\n",
              "    .dataframe tbody tr th:only-of-type {\n",
              "        vertical-align: middle;\n",
              "    }\n",
              "\n",
              "    .dataframe tbody tr th {\n",
              "        vertical-align: top;\n",
              "    }\n",
              "\n",
              "    .dataframe thead th {\n",
              "        text-align: right;\n",
              "    }\n",
              "</style>\n",
              "<table border=\"1\" class=\"dataframe\">\n",
              "  <thead>\n",
              "    <tr style=\"text-align: right;\">\n",
              "      <th></th>\n",
              "      <th>alpha</th>\n",
              "      <th>l1_ratio</th>\n",
              "      <th>MAE</th>\n",
              "    </tr>\n",
              "  </thead>\n",
              "  <tbody>\n",
              "    <tr>\n",
              "      <th>0</th>\n",
              "      <td>0.0</td>\n",
              "      <td>0.00</td>\n",
              "      <td>0.711128</td>\n",
              "    </tr>\n",
              "    <tr>\n",
              "      <th>1</th>\n",
              "      <td>0.0</td>\n",
              "      <td>0.01</td>\n",
              "      <td>0.711128</td>\n",
              "    </tr>\n",
              "    <tr>\n",
              "      <th>2</th>\n",
              "      <td>0.0</td>\n",
              "      <td>0.02</td>\n",
              "      <td>0.711128</td>\n",
              "    </tr>\n",
              "    <tr>\n",
              "      <th>3</th>\n",
              "      <td>0.0</td>\n",
              "      <td>0.03</td>\n",
              "      <td>0.711128</td>\n",
              "    </tr>\n",
              "    <tr>\n",
              "      <th>4</th>\n",
              "      <td>0.0</td>\n",
              "      <td>0.04</td>\n",
              "      <td>0.711128</td>\n",
              "    </tr>\n",
              "    <tr>\n",
              "      <th>...</th>\n",
              "      <td>...</td>\n",
              "      <td>...</td>\n",
              "      <td>...</td>\n",
              "    </tr>\n",
              "    <tr>\n",
              "      <th>904</th>\n",
              "      <td>100.0</td>\n",
              "      <td>0.96</td>\n",
              "      <td>1.451119</td>\n",
              "    </tr>\n",
              "    <tr>\n",
              "      <th>905</th>\n",
              "      <td>100.0</td>\n",
              "      <td>0.97</td>\n",
              "      <td>1.451119</td>\n",
              "    </tr>\n",
              "    <tr>\n",
              "      <th>906</th>\n",
              "      <td>100.0</td>\n",
              "      <td>0.98</td>\n",
              "      <td>1.451119</td>\n",
              "    </tr>\n",
              "    <tr>\n",
              "      <th>907</th>\n",
              "      <td>100.0</td>\n",
              "      <td>0.99</td>\n",
              "      <td>1.451119</td>\n",
              "    </tr>\n",
              "    <tr>\n",
              "      <th>908</th>\n",
              "      <td>100.0</td>\n",
              "      <td>1.00</td>\n",
              "      <td>1.451119</td>\n",
              "    </tr>\n",
              "  </tbody>\n",
              "</table>\n",
              "<p>909 rows × 3 columns</p>\n",
              "</div>\n",
              "      <button class=\"colab-df-convert\" onclick=\"convertToInteractive('df-21eb3b91-fecd-431b-b3d8-f227dcb8907f')\"\n",
              "              title=\"Convert this dataframe to an interactive table.\"\n",
              "              style=\"display:none;\">\n",
              "        \n",
              "  <svg xmlns=\"http://www.w3.org/2000/svg\" height=\"24px\"viewBox=\"0 0 24 24\"\n",
              "       width=\"24px\">\n",
              "    <path d=\"M0 0h24v24H0V0z\" fill=\"none\"/>\n",
              "    <path d=\"M18.56 5.44l.94 2.06.94-2.06 2.06-.94-2.06-.94-.94-2.06-.94 2.06-2.06.94zm-11 1L8.5 8.5l.94-2.06 2.06-.94-2.06-.94L8.5 2.5l-.94 2.06-2.06.94zm10 10l.94 2.06.94-2.06 2.06-.94-2.06-.94-.94-2.06-.94 2.06-2.06.94z\"/><path d=\"M17.41 7.96l-1.37-1.37c-.4-.4-.92-.59-1.43-.59-.52 0-1.04.2-1.43.59L10.3 9.45l-7.72 7.72c-.78.78-.78 2.05 0 2.83L4 21.41c.39.39.9.59 1.41.59.51 0 1.02-.2 1.41-.59l7.78-7.78 2.81-2.81c.8-.78.8-2.07 0-2.86zM5.41 20L4 18.59l7.72-7.72 1.47 1.35L5.41 20z\"/>\n",
              "  </svg>\n",
              "      </button>\n",
              "      \n",
              "  <style>\n",
              "    .colab-df-container {\n",
              "      display:flex;\n",
              "      flex-wrap:wrap;\n",
              "      gap: 12px;\n",
              "    }\n",
              "\n",
              "    .colab-df-convert {\n",
              "      background-color: #E8F0FE;\n",
              "      border: none;\n",
              "      border-radius: 50%;\n",
              "      cursor: pointer;\n",
              "      display: none;\n",
              "      fill: #1967D2;\n",
              "      height: 32px;\n",
              "      padding: 0 0 0 0;\n",
              "      width: 32px;\n",
              "    }\n",
              "\n",
              "    .colab-df-convert:hover {\n",
              "      background-color: #E2EBFA;\n",
              "      box-shadow: 0px 1px 2px rgba(60, 64, 67, 0.3), 0px 1px 3px 1px rgba(60, 64, 67, 0.15);\n",
              "      fill: #174EA6;\n",
              "    }\n",
              "\n",
              "    [theme=dark] .colab-df-convert {\n",
              "      background-color: #3B4455;\n",
              "      fill: #D2E3FC;\n",
              "    }\n",
              "\n",
              "    [theme=dark] .colab-df-convert:hover {\n",
              "      background-color: #434B5C;\n",
              "      box-shadow: 0px 1px 3px 1px rgba(0, 0, 0, 0.15);\n",
              "      filter: drop-shadow(0px 1px 2px rgba(0, 0, 0, 0.3));\n",
              "      fill: #FFFFFF;\n",
              "    }\n",
              "  </style>\n",
              "\n",
              "      <script>\n",
              "        const buttonEl =\n",
              "          document.querySelector('#df-21eb3b91-fecd-431b-b3d8-f227dcb8907f button.colab-df-convert');\n",
              "        buttonEl.style.display =\n",
              "          google.colab.kernel.accessAllowed ? 'block' : 'none';\n",
              "\n",
              "        async function convertToInteractive(key) {\n",
              "          const element = document.querySelector('#df-21eb3b91-fecd-431b-b3d8-f227dcb8907f');\n",
              "          const dataTable =\n",
              "            await google.colab.kernel.invokeFunction('convertToInteractive',\n",
              "                                                     [key], {});\n",
              "          if (!dataTable) return;\n",
              "\n",
              "          const docLinkHtml = 'Like what you see? Visit the ' +\n",
              "            '<a target=\"_blank\" href=https://colab.research.google.com/notebooks/data_table.ipynb>data table notebook</a>'\n",
              "            + ' to learn more about interactive tables.';\n",
              "          element.innerHTML = '';\n",
              "          dataTable['output_type'] = 'display_data';\n",
              "          await google.colab.output.renderOutput(dataTable, element);\n",
              "          const docLink = document.createElement('div');\n",
              "          docLink.innerHTML = docLinkHtml;\n",
              "          element.appendChild(docLink);\n",
              "        }\n",
              "      </script>\n",
              "    </div>\n",
              "  </div>\n",
              "  "
            ]
          },
          "metadata": {},
          "execution_count": 14
        }
      ]
    },
    {
      "cell_type": "code",
      "source": [
        "regr2 = ElasticNet(random_state=0, alpha=.01, l1_ratio= 1)\n",
        "\n",
        "i=0\n",
        "\n",
        "# Create a 10-fold cross-validation \n",
        "cv = KFold(n_splits = 10, \n",
        "           shuffle = True, \n",
        "           random_state = 42)\n",
        "\n",
        "MAE = []\n",
        "\n",
        "#i=0\n",
        "for train, test in cv.split(X_Scaled, y_log):\n",
        "    X_train, X_test = X_Scaled.iloc[train], X_Scaled.iloc[test]\n",
        "    y_train, y_test = y_log.iloc[train], y_log.iloc[test]\n",
        "\n",
        "    X_train, y_train = make_regression(n_features=2, random_state=0)\n",
        "    \n",
        "    regr2.fit(X_Scaled, y_log)\n",
        "\n",
        "    # Predict \n",
        "    y_pred_lin_reg = regr2.predict(X_test)\n",
        "  \n",
        "    # Calculate  mean squared error\n",
        "    lin_MAE_reg= metrics.mean_absolute_error(np.exp(y_test), np.exp(y_pred_lin_reg))\n",
        "\n",
        "    i=i+1\n",
        "    # Append to the list\n",
        "    MAE.append(lin_MAE_reg)\n",
        "\n",
        "    # Print the scores\n",
        "    print(tabulate([[i, lin_MAE_reg, ]], \n",
        "               headers=['MAE']))"
      ],
      "metadata": {
        "id": "ZDgMU9JMWAAz",
        "outputId": "d2694393-0562-4849-cddc-abdafcba8312",
        "colab": {
          "base_uri": "https://localhost:8080/"
        }
      },
      "execution_count": 15,
      "outputs": [
        {
          "output_type": "stream",
          "name": "stdout",
          "text": [
            "       MAE\n",
            "--  ------\n",
            " 1  12.484\n",
            "        MAE\n",
            "--  -------\n",
            " 2  12.5077\n",
            "        MAE\n",
            "--  -------\n",
            " 3  13.5098\n",
            "        MAE\n",
            "--  -------\n",
            " 4  13.1505\n",
            "        MAE\n",
            "--  -------\n",
            " 5  13.2279\n",
            "        MAE\n",
            "--  -------\n",
            " 6  12.7006\n",
            "        MAE\n",
            "--  -------\n",
            " 7  13.9066\n",
            "        MAE\n",
            "--  -------\n",
            " 8  13.1183\n",
            "        MAE\n",
            "--  -------\n",
            " 9  12.9064\n",
            "        MAE\n",
            "--  -------\n",
            "10  13.3102\n"
          ]
        }
      ]
    },
    {
      "cell_type": "code",
      "source": [
        "from sklearn.linear_model import Lasso\n",
        "\n",
        "regr2 = Lasso(random_state=0, alpha=.01)\n",
        "\n",
        "\n",
        "i=0\n",
        "\n",
        "# Create a 10-fold cross-validation \n",
        "cv = KFold(n_splits = 10, \n",
        "           shuffle = True, \n",
        "           random_state = 42)\n",
        "\n",
        "MAE = []\n",
        "\n",
        "#i=0\n",
        "for train, test in cv.split(X_Scaled, y_log):\n",
        "    X_train, X_test = X_Scaled.iloc[train], X_Scaled.iloc[test]\n",
        "    y_train, y_test = y_log.iloc[train], y_log.iloc[test]\n",
        "\n",
        "    X_train, y_train = make_regression(n_features=2, random_state=0)\n",
        "    \n",
        "    regr2.fit(X_Scaled, y_log)\n",
        "\n",
        "    # Predict \n",
        "    y_pred_lin_reg = regr2.predict(X_test)\n",
        "  \n",
        "    # Calculate  mean squared error\n",
        "    lin_MAE_reg= metrics.mean_absolute_error(np.exp(y_test), np.exp(y_pred_lin_reg))\n",
        "\n",
        "    i=i+1\n",
        "    # Append to the list\n",
        "    MAE.append(lin_MAE_reg)\n",
        "\n",
        "    # Print the scores\n",
        "    print(tabulate([[i, lin_MAE_reg, ]], \n",
        "               headers=['MAE']))"
      ],
      "metadata": {
        "id": "eLgZOI7DlgNI",
        "outputId": "315890f2-914a-4c4f-99e2-9bdc67e2b61f",
        "colab": {
          "base_uri": "https://localhost:8080/"
        }
      },
      "execution_count": 16,
      "outputs": [
        {
          "output_type": "stream",
          "name": "stdout",
          "text": [
            "       MAE\n",
            "--  ------\n",
            " 1  12.484\n",
            "        MAE\n",
            "--  -------\n",
            " 2  12.5077\n",
            "        MAE\n",
            "--  -------\n",
            " 3  13.5098\n",
            "        MAE\n",
            "--  -------\n",
            " 4  13.1505\n",
            "        MAE\n",
            "--  -------\n",
            " 5  13.2279\n",
            "        MAE\n",
            "--  -------\n",
            " 6  12.7006\n",
            "        MAE\n",
            "--  -------\n",
            " 7  13.9066\n",
            "        MAE\n",
            "--  -------\n",
            " 8  13.1183\n",
            "        MAE\n",
            "--  -------\n",
            " 9  12.9064\n",
            "        MAE\n",
            "--  -------\n",
            "10  13.3102\n"
          ]
        }
      ]
    },
    {
      "cell_type": "code",
      "source": [
        "from sklearn.model_selection import cross_val_predict\n",
        "y_pred = cross_val_predict(regr2,X_Scaled,y_log,cv=10)\n",
        "\n",
        "fig, axs = plt.subplots(ncols = 2,figsize = (8,4))\n",
        "axs[0].scatter(x = y_pred, y = y_log)\n",
        "axs[0].set_title('Actual vs. Predicted Values')\n",
        "axs[1].scatter(x = y_pred, y = (y_log.critical_temp - y_pred))\n",
        "axs[1].set_title('Residuals vs. Predicted Values')\n",
        "fig.suptitle('Cross-Validated Predictions Plot')"
      ],
      "metadata": {
        "id": "I00Zvr0srHFe",
        "outputId": "f43b0e11-5be9-411f-e3a4-9057cb593e98",
        "colab": {
          "base_uri": "https://localhost:8080/",
          "height": 425
        }
      },
      "execution_count": 17,
      "outputs": [
        {
          "output_type": "execute_result",
          "data": {
            "text/plain": [
              "Text(0.5, 0.98, 'Cross-Validated Predictions Plot')"
            ]
          },
          "metadata": {},
          "execution_count": 17
        },
        {
          "output_type": "display_data",
          "data": {
            "text/plain": [
              "<Figure size 800x400 with 2 Axes>"
            ],
            "image/png": "[encoded data removed]"
          },
          "metadata": {}
        }
      ]
    },
    {
      "cell_type": "code",
      "source": [
        "fig, ax = plt.subplots()\n",
        "scatter=plt.scatter('l1_ratio', 'MAE', c='alpha', alpha=0.5, data=grid_results_table)\n",
        "plt.style.use('ggplot')\n",
        "plt.xlabel(\"L1 Ratio\", size=11)\n",
        "plt.ylabel(\"Mean Absolute Error\", size=11)\n",
        "plt.title('Grid Search for ElasticNet Results')\n",
        "\n",
        "# produce a legend with the unique colors from the scatter\n",
        "legend1 = ax.legend(*scatter.legend_elements(),\n",
        "                    loc=\"lower left\", title=\"Alpha\",fontsize = 8)\n",
        "ax.add_artist(legend1)"
      ],
      "metadata": {
        "colab": {
          "base_uri": "https://localhost:8080/",
          "height": 491
        },
        "id": "H7PitCsap3Fu",
        "outputId": "877f054a-3f52-4891-c710-6342cbfa498d"
      },
      "execution_count": 19,
      "outputs": [
        {
          "output_type": "execute_result",
          "data": {
            "text/plain": [
              "<matplotlib.legend.Legend at 0x7f7da041b070>"
            ]
          },
          "metadata": {},
          "execution_count": 19
        },
        {
          "output_type": "display_data",
          "data": {
            "text/plain": [
              "<Figure size 640x480 with 1 Axes>"
            ],
            "image/png": "[encoded data removed]"
          },
          "metadata": {}
        }
      ]
    },
    {
      "cell_type": "markdown",
      "source": [
        "Results from the gridsearch CV showed Ridge was selected for regularization."
      ],
      "metadata": {
        "id": "hIBjuUdhAODK"
      }
    },
    {
      "cell_type": "code",
      "source": [
        "regr2.n_features_in_"
      ],
      "metadata": {
        "colab": {
          "base_uri": "https://localhost:8080/"
        },
        "id": "WlT2uPM686WI",
        "outputId": "16e95b48-7048-4a89-8d0e-2e3fa0eb0f82"
      },
      "execution_count": 20,
      "outputs": [
        {
          "output_type": "execute_result",
          "data": {
            "text/plain": [
              "144"
            ]
          },
          "metadata": {},
          "execution_count": 20
        }
      ]
    },
    {
      "cell_type": "code",
      "source": [
        "regr2.feature_names_in_"
      ],
      "metadata": {
        "colab": {
          "base_uri": "https://localhost:8080/"
        },
        "id": "7sngq75J9BRO",
        "outputId": "1f2622eb-0f67-4678-d692-5dc195d681eb"
      },
      "execution_count": 21,
      "outputs": [
        {
          "output_type": "execute_result",
          "data": {
            "text/plain": [
              "array(['number_of_elements', 'mean_atomic_mass', 'wtd_mean_atomic_mass',\n",
              "       'gmean_atomic_mass', 'entropy_atomic_mass',\n",
              "       'wtd_entropy_atomic_mass', 'range_atomic_mass',\n",
              "       'wtd_range_atomic_mass', 'wtd_std_atomic_mass', 'mean_fie',\n",
              "       'wtd_mean_fie', 'wtd_entropy_fie', 'range_fie', 'wtd_range_fie',\n",
              "       'wtd_std_fie', 'mean_atomic_radius', 'wtd_mean_atomic_radius',\n",
              "       'gmean_atomic_radius', 'range_atomic_radius',\n",
              "       'wtd_range_atomic_radius', 'mean_Density', 'wtd_mean_Density',\n",
              "       'gmean_Density', 'entropy_Density', 'wtd_entropy_Density',\n",
              "       'range_Density', 'wtd_range_Density', 'wtd_std_Density',\n",
              "       'mean_ElectronAffinity', 'wtd_mean_ElectronAffinity',\n",
              "       'gmean_ElectronAffinity', 'wtd_gmean_ElectronAffinity',\n",
              "       'entropy_ElectronAffinity', 'wtd_entropy_ElectronAffinity',\n",
              "       'range_ElectronAffinity', 'wtd_range_ElectronAffinity',\n",
              "       'wtd_std_ElectronAffinity', 'mean_FusionHeat',\n",
              "       'wtd_mean_FusionHeat', 'gmean_FusionHeat', 'entropy_FusionHeat',\n",
              "       'wtd_entropy_FusionHeat', 'range_FusionHeat',\n",
              "       'wtd_range_FusionHeat', 'wtd_std_FusionHeat',\n",
              "       'mean_ThermalConductivity', 'wtd_mean_ThermalConductivity',\n",
              "       'gmean_ThermalConductivity', 'wtd_gmean_ThermalConductivity',\n",
              "       'entropy_ThermalConductivity', 'wtd_entropy_ThermalConductivity',\n",
              "       'range_ThermalConductivity', 'wtd_range_ThermalConductivity',\n",
              "       'mean_Valence', 'wtd_mean_Valence', 'range_Valence',\n",
              "       'wtd_range_Valence', 'wtd_std_Valence', 'H', 'He', 'Li', 'Be', 'B',\n",
              "       'C', 'N', 'O', 'F', 'Ne', 'Na', 'Mg', 'Al', 'Si', 'P', 'S', 'Cl',\n",
              "       'Ar', 'K', 'Ca', 'Sc', 'Ti', 'V', 'Cr', 'Mn', 'Fe', 'Co', 'Ni',\n",
              "       'Cu', 'Zn', 'Ga', 'Ge', 'As', 'Se', 'Br', 'Kr', 'Rb', 'Sr', 'Y',\n",
              "       'Zr', 'Nb', 'Mo', 'Tc', 'Ru', 'Rh', 'Pd', 'Ag', 'Cd', 'In', 'Sn',\n",
              "       'Sb', 'Te', 'I', 'Xe', 'Cs', 'Ba', 'La', 'Ce', 'Pr', 'Nd', 'Pm',\n",
              "       'Sm', 'Eu', 'Gd', 'Tb', 'Dy', 'Ho', 'Er', 'Tm', 'Yb', 'Lu', 'Hf',\n",
              "       'Ta', 'W', 'Re', 'Os', 'Ir', 'Pt', 'Au', 'Hg', 'Tl', 'Pb', 'Bi',\n",
              "       'Po', 'At', 'Rn'], dtype=object)"
            ]
          },
          "metadata": {},
          "execution_count": 21
        }
      ]
    },
    {
      "cell_type": "code",
      "source": [
        "regr2.coef_"
      ],
      "metadata": {
        "id": "f1gDHbDZ9LvY"
      },
      "execution_count": null,
      "outputs": []
    },
    {
      "cell_type": "code",
      "source": [
        "Weights = pd.Series(regr2.coef_, index = regr2.feature_names_in_)\n",
        "Weights = pd.DataFrame({'Var':Weights.index, 'Weight':Weights.values})\n",
        "Weights = Weights.sort_values('Weight')\n",
        "Weights2 = pd.concat([Weights.head(10),Weights.tail(10)])\n",
        "plt.figure(figsize=(10, 7))\n",
        "sns.barplot(x='Weight', y = 'Var', data = Weights2,).set(title = \"Model Top Features by Weight\");"
      ],
      "metadata": {
        "id": "XOfEQp903Kmb"
      },
      "execution_count": null,
      "outputs": []
    },
    {
      "cell_type": "markdown",
      "source": [
        "There were a number of variables included with a coefficient of 0."
      ],
      "metadata": {
        "id": "Dv7e0wYmAaY7"
      }
    },
    {
      "cell_type": "code",
      "source": [
        "#0 weight variables\n",
        "Weights_drop = Weights[Weights[\"Weight\"] == 0] \n",
        "Weights_drop"
      ],
      "metadata": {
        "id": "hL-RzFCN-geY"
      },
      "execution_count": null,
      "outputs": []
    },
    {
      "cell_type": "code",
      "source": [
        "# Regularization strength error plot (from grid search, probably best not to use this one)\n",
        "score = pd.DataFrame(results2.cv_results_)\n",
        "plt.style.use('ggplot')\n",
        "plt.scatter(x=score.param_alpha.astype('str'),\n",
        "            y=np.exp(score.mean_test_score*-1),\n",
        "            c = 'blue',\n",
        "            edgecolors='white',\n",
        "            linewidths=.3,alpha=.9,\n",
        "            s = 75)\n",
        "plt.title('Regularization Strength Effect on Mean Absolute Error')\n",
        "plt.xlabel('Regularization strength λ',fontsize = 11)\n",
        "\n",
        "plt.ylabel('Mean Absolute Error',fontsize =11)"
      ],
      "metadata": {
        "id": "jbstdZa_T61C"
      },
      "execution_count": null,
      "outputs": []
    },
    {
      "cell_type": "code",
      "source": [
        "from sklearn.model_selection import KFold, cross_val_score\n",
        "rng = np.random.default_rng(51323)\n",
        "rseeds = rng.integers(low=0, high = 1000, size = 10)\n",
        "\n",
        "mae_holder = []\n",
        "alpha_holder = []\n",
        "for k in rseeds:\n",
        "  for j in [1e-5, 1e-4, 1e-3, 1e-2, 1e-1, 1.0, 10.0, 100.0]:\n",
        "    regr3 = ElasticNet(random_state=k, alpha=j, l1_ratio= 0.74,max_iter=1500)\n",
        "\n",
        "    i=0\n",
        "\n",
        "    # Create a 10-fold cross-validation \n",
        "    cv = KFold(n_splits = 10, \n",
        "              shuffle = True, \n",
        "              random_state = k)\n",
        "\n",
        "    MAE = []\n",
        "\n",
        "    #i=0\n",
        "    for train, test in cv.split(X_Scaled, y_log):\n",
        "        X_train, X_test = X_Scaled.iloc[train], X_Scaled.iloc[test]\n",
        "        y_train, y_test = y_log.iloc[train], y_log.iloc[test]\n",
        "\n",
        "        X_train, y_train = make_regression(n_features=2, random_state=0)\n",
        "        \n",
        "        regr3.fit(X_Scaled, y_log)\n",
        "\n",
        "        # Predict \n",
        "        y_pred_lin_reg = regr3.predict(X_test)\n",
        "      \n",
        "        # Calculate  mean squared error\n",
        "        lin_MAE_reg= metrics.mean_absolute_error(y_test, y_pred_lin_reg)\n",
        "\n",
        "        i=i+1\n",
        "        # Append to the list\n",
        "        mae_holder.append(lin_MAE_reg)\n",
        "        alpha_holder.append(j)"
      ],
      "metadata": {
        "id": "-UwAqF0QlqQh"
      },
      "execution_count": null,
      "outputs": []
    },
    {
      "cell_type": "code",
      "source": [
        "a_err =pd.DataFrame({'alpha':alpha_holder,'MAE':np.exp(mae_holder)})\n",
        "a_err.groupby('alpha').describe()"
      ],
      "metadata": {
        "id": "f09Cim5l75xS"
      },
      "execution_count": null,
      "outputs": []
    },
    {
      "cell_type": "code",
      "source": [
        "# Regularization strength error plot (8 different alphas, 10-fold, 10 times each)\n",
        "plt.style.use('ggplot')\n",
        "plt.scatter(x=list(map(str,alpha_holder)),\n",
        "            y=np.exp(mae_holder),\n",
        "            c = 'blue',\n",
        "            edgecolors='white',\n",
        "            linewidths=.3,alpha=.9,\n",
        "            s = 75)\n",
        "plt.title('Regularization Strength Effect on Mean Absolute Error')\n",
        "plt.xlabel('Regularization strength λ',fontsize = 11)\n",
        "\n",
        "plt.ylabel('Mean Absolute Error',fontsize =11)"
      ],
      "metadata": {
        "id": "Dh-868XdraSv"
      },
      "execution_count": null,
      "outputs": []
    },
    {
      "cell_type": "code",
      "source": [],
      "metadata": {
        "id": "6jmnsMTfCx9i"
      },
      "execution_count": null,
      "outputs": []
    }
  ]
}