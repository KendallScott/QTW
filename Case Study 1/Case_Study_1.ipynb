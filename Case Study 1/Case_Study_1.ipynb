{
  "nbformat": 4,
  "nbformat_minor": 0,
  "metadata": {
    "colab": {
      "provenance": [],
      "include_colab_link": true
    },
    "kernelspec": {
      "name": "python3",
      "display_name": "Python 3"
    },
    "language_info": {
      "name": "python"
    }
  },
  "cells": [
    {
      "cell_type": "markdown",
      "metadata": {
        "id": "view-in-github",
        "colab_type": "text"
      },
      "source": [
        "<a href=\"https://colab.research.google.com/github/KendallScott/QTW/blob/main/Case%20Study%201/Case_Study_1.ipynb\" target=\"_parent\"><img src=\"https://colab.research.google.com/assets/colab-badge.svg\" alt=\"Open In Colab\"/></a>"
      ]
    },
    {
      "cell_type": "code",
      "source": [
        "!pip install scikit-learn-intelex"
      ],
      "metadata": {
        "colab": {
          "base_uri": "https://localhost:8080/"
        },
        "id": "z23MNhDAxtgM",
        "outputId": "6647a0bb-986e-4cf2-f472-25ceb0d4913f"
      },
      "execution_count": 13,
      "outputs": [
        {
          "output_type": "stream",
          "name": "stdout",
          "text": [
            "Looking in indexes: https://pypi.org/simple, https://us-python.pkg.dev/colab-wheels/public/simple/\n",
            "Requirement already satisfied: scikit-learn-intelex in /usr/local/lib/python3.10/dist-packages (2023.1.1)\n",
            "Requirement already satisfied: daal4py==2023.1.1 in /usr/local/lib/python3.10/dist-packages (from scikit-learn-intelex) (2023.1.1)\n",
            "Requirement already satisfied: scikit-learn>=0.22 in /usr/local/lib/python3.10/dist-packages (from scikit-learn-intelex) (1.2.2)\n",
            "Requirement already satisfied: daal==2023.1.1 in /usr/local/lib/python3.10/dist-packages (from daal4py==2023.1.1->scikit-learn-intelex) (2023.1.1)\n",
            "Requirement already satisfied: numpy>=1.19 in /usr/local/lib/python3.10/dist-packages (from daal4py==2023.1.1->scikit-learn-intelex) (1.22.4)\n",
            "Requirement already satisfied: tbb==2021.* in /usr/local/lib/python3.10/dist-packages (from daal==2023.1.1->daal4py==2023.1.1->scikit-learn-intelex) (2021.9.0)\n",
            "Requirement already satisfied: scipy>=1.3.2 in /usr/local/lib/python3.10/dist-packages (from scikit-learn>=0.22->scikit-learn-intelex) (1.10.1)\n",
            "Requirement already satisfied: joblib>=1.1.1 in /usr/local/lib/python3.10/dist-packages (from scikit-learn>=0.22->scikit-learn-intelex) (1.2.0)\n",
            "Requirement already satisfied: threadpoolctl>=2.0.0 in /usr/local/lib/python3.10/dist-packages (from scikit-learn>=0.22->scikit-learn-intelex) (3.1.0)\n"
          ]
        }
      ]
    },
    {
      "cell_type": "code",
      "source": [
        "import pandas as pd\n",
        "import numpy as np\n",
        "import matplotlib.pyplot as plt\n",
        "import seaborn as sns\n",
        "from sklearn.model_selection import cross_val_score\n",
        "from sklearn.linear_model import Ridge\n",
        "from sklearn.preprocessing import StandardScaler\n",
        "from sklearn import metrics\n",
        "from sklearn.linear_model import LinearRegression\n",
        "from sklearn.model_selection import KFold\n",
        "from tabulate import tabulate\n",
        "from sklearn.linear_model import ElasticNet\n",
        "from sklearn.datasets import make_regression\n",
        "from sklearn.model_selection import GridSearchCV\n",
        "from numpy import arange\n",
        "from sklearnex import patch_sklearn"
      ],
      "metadata": {
        "id": "tiJ1b1GMyQDI"
      },
      "execution_count": 14,
      "outputs": []
    },
    {
      "cell_type": "code",
      "source": [
        "df = pd.read_csv('https://raw.githubusercontent.com/KendallScott/QTW/main/Case%20Study%201/train.csv') "
      ],
      "metadata": {
        "id": "8yeoDQfnyMI8"
      },
      "execution_count": 15,
      "outputs": []
    },
    {
      "cell_type": "code",
      "source": [
        "df.info()"
      ],
      "metadata": {
        "colab": {
          "base_uri": "https://localhost:8080/"
        },
        "id": "qGK01rz5yZb2",
        "outputId": "1303abf5-e40b-4694-f808-0fddafde6fa2"
      },
      "execution_count": 16,
      "outputs": [
        {
          "output_type": "stream",
          "name": "stdout",
          "text": [
            "<class 'pandas.core.frame.DataFrame'>\n",
            "RangeIndex: 21263 entries, 0 to 21262\n",
            "Data columns (total 82 columns):\n",
            " #   Column                           Non-Null Count  Dtype  \n",
            "---  ------                           --------------  -----  \n",
            " 0   number_of_elements               21263 non-null  int64  \n",
            " 1   mean_atomic_mass                 21263 non-null  float64\n",
            " 2   wtd_mean_atomic_mass             21263 non-null  float64\n",
            " 3   gmean_atomic_mass                21263 non-null  float64\n",
            " 4   wtd_gmean_atomic_mass            21263 non-null  float64\n",
            " 5   entropy_atomic_mass              21263 non-null  float64\n",
            " 6   wtd_entropy_atomic_mass          21263 non-null  float64\n",
            " 7   range_atomic_mass                21263 non-null  float64\n",
            " 8   wtd_range_atomic_mass            21263 non-null  float64\n",
            " 9   std_atomic_mass                  21263 non-null  float64\n",
            " 10  wtd_std_atomic_mass              21263 non-null  float64\n",
            " 11  mean_fie                         21263 non-null  float64\n",
            " 12  wtd_mean_fie                     21263 non-null  float64\n",
            " 13  gmean_fie                        21263 non-null  float64\n",
            " 14  wtd_gmean_fie                    21263 non-null  float64\n",
            " 15  entropy_fie                      21263 non-null  float64\n",
            " 16  wtd_entropy_fie                  21263 non-null  float64\n",
            " 17  range_fie                        21263 non-null  float64\n",
            " 18  wtd_range_fie                    21263 non-null  float64\n",
            " 19  std_fie                          21263 non-null  float64\n",
            " 20  wtd_std_fie                      21263 non-null  float64\n",
            " 21  mean_atomic_radius               21263 non-null  float64\n",
            " 22  wtd_mean_atomic_radius           21263 non-null  float64\n",
            " 23  gmean_atomic_radius              21263 non-null  float64\n",
            " 24  wtd_gmean_atomic_radius          21263 non-null  float64\n",
            " 25  entropy_atomic_radius            21263 non-null  float64\n",
            " 26  wtd_entropy_atomic_radius        21263 non-null  float64\n",
            " 27  range_atomic_radius              21263 non-null  int64  \n",
            " 28  wtd_range_atomic_radius          21263 non-null  float64\n",
            " 29  std_atomic_radius                21263 non-null  float64\n",
            " 30  wtd_std_atomic_radius            21263 non-null  float64\n",
            " 31  mean_Density                     21263 non-null  float64\n",
            " 32  wtd_mean_Density                 21263 non-null  float64\n",
            " 33  gmean_Density                    21263 non-null  float64\n",
            " 34  wtd_gmean_Density                21263 non-null  float64\n",
            " 35  entropy_Density                  21263 non-null  float64\n",
            " 36  wtd_entropy_Density              21263 non-null  float64\n",
            " 37  range_Density                    21263 non-null  float64\n",
            " 38  wtd_range_Density                21263 non-null  float64\n",
            " 39  std_Density                      21263 non-null  float64\n",
            " 40  wtd_std_Density                  21263 non-null  float64\n",
            " 41  mean_ElectronAffinity            21263 non-null  float64\n",
            " 42  wtd_mean_ElectronAffinity        21263 non-null  float64\n",
            " 43  gmean_ElectronAffinity           21263 non-null  float64\n",
            " 44  wtd_gmean_ElectronAffinity       21263 non-null  float64\n",
            " 45  entropy_ElectronAffinity         21263 non-null  float64\n",
            " 46  wtd_entropy_ElectronAffinity     21263 non-null  float64\n",
            " 47  range_ElectronAffinity           21263 non-null  float64\n",
            " 48  wtd_range_ElectronAffinity       21263 non-null  float64\n",
            " 49  std_ElectronAffinity             21263 non-null  float64\n",
            " 50  wtd_std_ElectronAffinity         21263 non-null  float64\n",
            " 51  mean_FusionHeat                  21263 non-null  float64\n",
            " 52  wtd_mean_FusionHeat              21263 non-null  float64\n",
            " 53  gmean_FusionHeat                 21263 non-null  float64\n",
            " 54  wtd_gmean_FusionHeat             21263 non-null  float64\n",
            " 55  entropy_FusionHeat               21263 non-null  float64\n",
            " 56  wtd_entropy_FusionHeat           21263 non-null  float64\n",
            " 57  range_FusionHeat                 21263 non-null  float64\n",
            " 58  wtd_range_FusionHeat             21263 non-null  float64\n",
            " 59  std_FusionHeat                   21263 non-null  float64\n",
            " 60  wtd_std_FusionHeat               21263 non-null  float64\n",
            " 61  mean_ThermalConductivity         21263 non-null  float64\n",
            " 62  wtd_mean_ThermalConductivity     21263 non-null  float64\n",
            " 63  gmean_ThermalConductivity        21263 non-null  float64\n",
            " 64  wtd_gmean_ThermalConductivity    21263 non-null  float64\n",
            " 65  entropy_ThermalConductivity      21263 non-null  float64\n",
            " 66  wtd_entropy_ThermalConductivity  21263 non-null  float64\n",
            " 67  range_ThermalConductivity        21263 non-null  float64\n",
            " 68  wtd_range_ThermalConductivity    21263 non-null  float64\n",
            " 69  std_ThermalConductivity          21263 non-null  float64\n",
            " 70  wtd_std_ThermalConductivity      21263 non-null  float64\n",
            " 71  mean_Valence                     21263 non-null  float64\n",
            " 72  wtd_mean_Valence                 21263 non-null  float64\n",
            " 73  gmean_Valence                    21263 non-null  float64\n",
            " 74  wtd_gmean_Valence                21263 non-null  float64\n",
            " 75  entropy_Valence                  21263 non-null  float64\n",
            " 76  wtd_entropy_Valence              21263 non-null  float64\n",
            " 77  range_Valence                    21263 non-null  int64  \n",
            " 78  wtd_range_Valence                21263 non-null  float64\n",
            " 79  std_Valence                      21263 non-null  float64\n",
            " 80  wtd_std_Valence                  21263 non-null  float64\n",
            " 81  critical_temp                    21263 non-null  float64\n",
            "dtypes: float64(79), int64(3)\n",
            "memory usage: 13.3 MB\n"
          ]
        }
      ]
    },
    {
      "cell_type": "code",
      "source": [
        "unique = pd.read_csv('https://raw.githubusercontent.com/KendallScott/QTW/main/Case%20Study%201/unique_m.csv') \n",
        "unique = unique.loc[:, unique.columns != 'critical_temp']\n",
        "unique = unique.loc[:, unique.columns != 'material']\n",
        "\n",
        "df=df.join(unique)"
      ],
      "metadata": {
        "id": "IgJg_oo2yVmA"
      },
      "execution_count": null,
      "outputs": []
    },
    {
      "cell_type": "code",
      "source": [
        "#dropping correlated values reference: https://www.projectpro.io/recipes/drop-out-highly-correlated-features-in-python\n",
        "corr_matrix = df.corr().abs()\n",
        "corr_matrix\n",
        "\n",
        "upper = corr_matrix.where(np.triu(np.ones(corr_matrix.shape), k=1).astype(np.bool))\n",
        "\n",
        "# find features with correlation greater than 0.95\n",
        "\n",
        "to_drop = [column for column in upper.columns if any(upper[column] > 0.95)]\n",
        "\n",
        "# drop highly correlated features\n",
        "\n",
        "df.drop(to_drop, axis=1, inplace=True)"
      ],
      "metadata": {
        "colab": {
          "base_uri": "https://localhost:8080/"
        },
        "id": "FMyKARwFCAI1",
        "outputId": "b601f17e-2a3d-4295-ca39-f6c23b88f130"
      },
      "execution_count": null,
      "outputs": [
        {
          "output_type": "stream",
          "name": "stderr",
          "text": [
            "<ipython-input-6-7c1233e99907>:5: DeprecationWarning: `np.bool` is a deprecated alias for the builtin `bool`. To silence this warning, use `bool` by itself. Doing this will not modify any behavior and is safe. If you specifically wanted the numpy scalar type, use `np.bool_` here.\n",
            "Deprecated in NumPy 1.20; for more details and guidance: https://numpy.org/devdocs/release/1.20.0-notes.html#deprecations\n",
            "  upper = corr_matrix.where(np.triu(np.ones(corr_matrix.shape), k=1).astype(np.bool))\n"
          ]
        }
      ]
    },
    {
      "cell_type": "code",
      "source": [
        "# Make target and predictive datasets\n",
        "y = df[['critical_temp']]\n",
        "X = df.loc[:, df.columns != 'critical_temp']"
      ],
      "metadata": {
        "id": "W48c9uGt0Cat"
      },
      "execution_count": 17,
      "outputs": []
    },
    {
      "cell_type": "code",
      "source": [
        "Scaler = StandardScaler()\n",
        "X_Scaled= Scaler.fit_transform(X)\n",
        "X_Scaled = pd.DataFrame(X_Scaled, columns = X.columns)\n",
        "y = pd.DataFrame(y)"
      ],
      "metadata": {
        "id": "xo2mPk9a02pu"
      },
      "execution_count": 18,
      "outputs": []
    },
    {
      "cell_type": "code",
      "source": [
        "# patch\n",
        "patch_sklearn()\n",
        "from sklearn.linear_model import ElasticNet\n",
        "from sklearn.model_selection import GridSearchCV\n",
        "\n",
        "# define grid\n",
        "grid = dict()\n",
        "grid['alpha'] = [0, 1e-5, 1e-4, 1e-3, 1e-2, 1e-1, 0.0, 1.0, 10.0, 100.0]\n",
        "grid['l1_ratio'] = arange(0, 1, 0.01)\n",
        "\n",
        "#define the search\n",
        "regr = ElasticNet(random_state=0)\n",
        "cv = 5\n",
        "search = GridSearchCV(regr, grid, scoring = 'neg_mean_absolute_error', cv=cv, n_jobs=-1)\n",
        "\n",
        "#perform the search\n",
        "results = search.fit(X_Scaled, y)\n",
        "# summarize\n",
        "print('MAE: %.3f' % results.best_score_)\n",
        "print('Config: %s' % results.best_params_)"
      ],
      "metadata": {
        "colab": {
          "base_uri": "https://localhost:8080/"
        },
        "id": "AXiVPePqze3H",
        "outputId": "7ba66616-2554-48d1-fd90-601f7e8eb0c0"
      },
      "execution_count": 19,
      "outputs": [
        {
          "output_type": "stream",
          "name": "stderr",
          "text": [
            "Intel(R) Extension for Scikit-learn* enabled (https://github.com/intel/scikit-learn-intelex)\n"
          ]
        },
        {
          "output_type": "stream",
          "name": "stdout",
          "text": [
            "MAE: -14.606\n",
            "Config: {'alpha': 0.001, 'l1_ratio': 0.12}\n"
          ]
        }
      ]
    },
    {
      "cell_type": "code",
      "source": [
        "grid_results_table = pd.concat([pd.DataFrame(search.cv_results_[\"params\"]),pd.DataFrame(search.cv_results_[\"mean_test_score\"], columns=[\"MAE\"])],axis=1)\n"
      ],
      "metadata": {
        "id": "7gffBvf8oxyE"
      },
      "execution_count": 23,
      "outputs": []
    },
    {
      "cell_type": "code",
      "source": [
        "grid_results_table"
      ],
      "metadata": {
        "id": "Eo-wcLtmo9q5",
        "outputId": "fb166be0-2554-4873-92b0-5d9d61ea22be",
        "colab": {
          "base_uri": "https://localhost:8080/",
          "height": 423
        }
      },
      "execution_count": 24,
      "outputs": [
        {
          "output_type": "execute_result",
          "data": {
            "text/plain": [
              "     alpha  l1_ratio        MAE\n",
              "0      0.0      0.00 -14.675280\n",
              "1      0.0      0.01 -14.675280\n",
              "2      0.0      0.02 -14.675280\n",
              "3      0.0      0.03 -14.675280\n",
              "4      0.0      0.04 -14.675280\n",
              "..     ...       ...        ...\n",
              "995  100.0      0.95 -32.866452\n",
              "996  100.0      0.96 -32.866452\n",
              "997  100.0      0.97 -32.866452\n",
              "998  100.0      0.98 -32.866452\n",
              "999  100.0      0.99 -32.866452\n",
              "\n",
              "[1000 rows x 3 columns]"
            ],
            "text/html": [
              "\n",
              "  <div id=\"df-d841007d-892a-461e-a356-15aae4c53fc9\">\n",
              "    <div class=\"colab-df-container\">\n",
              "      <div>\n",
              "<style scoped>\n",
              "    .dataframe tbody tr th:only-of-type {\n",
              "        vertical-align: middle;\n",
              "    }\n",
              "\n",
              "    .dataframe tbody tr th {\n",
              "        vertical-align: top;\n",
              "    }\n",
              "\n",
              "    .dataframe thead th {\n",
              "        text-align: right;\n",
              "    }\n",
              "</style>\n",
              "<table border=\"1\" class=\"dataframe\">\n",
              "  <thead>\n",
              "    <tr style=\"text-align: right;\">\n",
              "      <th></th>\n",
              "      <th>alpha</th>\n",
              "      <th>l1_ratio</th>\n",
              "      <th>MAE</th>\n",
              "    </tr>\n",
              "  </thead>\n",
              "  <tbody>\n",
              "    <tr>\n",
              "      <th>0</th>\n",
              "      <td>0.0</td>\n",
              "      <td>0.00</td>\n",
              "      <td>-14.675280</td>\n",
              "    </tr>\n",
              "    <tr>\n",
              "      <th>1</th>\n",
              "      <td>0.0</td>\n",
              "      <td>0.01</td>\n",
              "      <td>-14.675280</td>\n",
              "    </tr>\n",
              "    <tr>\n",
              "      <th>2</th>\n",
              "      <td>0.0</td>\n",
              "      <td>0.02</td>\n",
              "      <td>-14.675280</td>\n",
              "    </tr>\n",
              "    <tr>\n",
              "      <th>3</th>\n",
              "      <td>0.0</td>\n",
              "      <td>0.03</td>\n",
              "      <td>-14.675280</td>\n",
              "    </tr>\n",
              "    <tr>\n",
              "      <th>4</th>\n",
              "      <td>0.0</td>\n",
              "      <td>0.04</td>\n",
              "      <td>-14.675280</td>\n",
              "    </tr>\n",
              "    <tr>\n",
              "      <th>...</th>\n",
              "      <td>...</td>\n",
              "      <td>...</td>\n",
              "      <td>...</td>\n",
              "    </tr>\n",
              "    <tr>\n",
              "      <th>995</th>\n",
              "      <td>100.0</td>\n",
              "      <td>0.95</td>\n",
              "      <td>-32.866452</td>\n",
              "    </tr>\n",
              "    <tr>\n",
              "      <th>996</th>\n",
              "      <td>100.0</td>\n",
              "      <td>0.96</td>\n",
              "      <td>-32.866452</td>\n",
              "    </tr>\n",
              "    <tr>\n",
              "      <th>997</th>\n",
              "      <td>100.0</td>\n",
              "      <td>0.97</td>\n",
              "      <td>-32.866452</td>\n",
              "    </tr>\n",
              "    <tr>\n",
              "      <th>998</th>\n",
              "      <td>100.0</td>\n",
              "      <td>0.98</td>\n",
              "      <td>-32.866452</td>\n",
              "    </tr>\n",
              "    <tr>\n",
              "      <th>999</th>\n",
              "      <td>100.0</td>\n",
              "      <td>0.99</td>\n",
              "      <td>-32.866452</td>\n",
              "    </tr>\n",
              "  </tbody>\n",
              "</table>\n",
              "<p>1000 rows × 3 columns</p>\n",
              "</div>\n",
              "      <button class=\"colab-df-convert\" onclick=\"convertToInteractive('df-d841007d-892a-461e-a356-15aae4c53fc9')\"\n",
              "              title=\"Convert this dataframe to an interactive table.\"\n",
              "              style=\"display:none;\">\n",
              "        \n",
              "  <svg xmlns=\"http://www.w3.org/2000/svg\" height=\"24px\"viewBox=\"0 0 24 24\"\n",
              "       width=\"24px\">\n",
              "    <path d=\"M0 0h24v24H0V0z\" fill=\"none\"/>\n",
              "    <path d=\"M18.56 5.44l.94 2.06.94-2.06 2.06-.94-2.06-.94-.94-2.06-.94 2.06-2.06.94zm-11 1L8.5 8.5l.94-2.06 2.06-.94-2.06-.94L8.5 2.5l-.94 2.06-2.06.94zm10 10l.94 2.06.94-2.06 2.06-.94-2.06-.94-.94-2.06-.94 2.06-2.06.94z\"/><path d=\"M17.41 7.96l-1.37-1.37c-.4-.4-.92-.59-1.43-.59-.52 0-1.04.2-1.43.59L10.3 9.45l-7.72 7.72c-.78.78-.78 2.05 0 2.83L4 21.41c.39.39.9.59 1.41.59.51 0 1.02-.2 1.41-.59l7.78-7.78 2.81-2.81c.8-.78.8-2.07 0-2.86zM5.41 20L4 18.59l7.72-7.72 1.47 1.35L5.41 20z\"/>\n",
              "  </svg>\n",
              "      </button>\n",
              "      \n",
              "  <style>\n",
              "    .colab-df-container {\n",
              "      display:flex;\n",
              "      flex-wrap:wrap;\n",
              "      gap: 12px;\n",
              "    }\n",
              "\n",
              "    .colab-df-convert {\n",
              "      background-color: #E8F0FE;\n",
              "      border: none;\n",
              "      border-radius: 50%;\n",
              "      cursor: pointer;\n",
              "      display: none;\n",
              "      fill: #1967D2;\n",
              "      height: 32px;\n",
              "      padding: 0 0 0 0;\n",
              "      width: 32px;\n",
              "    }\n",
              "\n",
              "    .colab-df-convert:hover {\n",
              "      background-color: #E2EBFA;\n",
              "      box-shadow: 0px 1px 2px rgba(60, 64, 67, 0.3), 0px 1px 3px 1px rgba(60, 64, 67, 0.15);\n",
              "      fill: #174EA6;\n",
              "    }\n",
              "\n",
              "    [theme=dark] .colab-df-convert {\n",
              "      background-color: #3B4455;\n",
              "      fill: #D2E3FC;\n",
              "    }\n",
              "\n",
              "    [theme=dark] .colab-df-convert:hover {\n",
              "      background-color: #434B5C;\n",
              "      box-shadow: 0px 1px 3px 1px rgba(0, 0, 0, 0.15);\n",
              "      filter: drop-shadow(0px 1px 2px rgba(0, 0, 0, 0.3));\n",
              "      fill: #FFFFFF;\n",
              "    }\n",
              "  </style>\n",
              "\n",
              "      <script>\n",
              "        const buttonEl =\n",
              "          document.querySelector('#df-d841007d-892a-461e-a356-15aae4c53fc9 button.colab-df-convert');\n",
              "        buttonEl.style.display =\n",
              "          google.colab.kernel.accessAllowed ? 'block' : 'none';\n",
              "\n",
              "        async function convertToInteractive(key) {\n",
              "          const element = document.querySelector('#df-d841007d-892a-461e-a356-15aae4c53fc9');\n",
              "          const dataTable =\n",
              "            await google.colab.kernel.invokeFunction('convertToInteractive',\n",
              "                                                     [key], {});\n",
              "          if (!dataTable) return;\n",
              "\n",
              "          const docLinkHtml = 'Like what you see? Visit the ' +\n",
              "            '<a target=\"_blank\" href=https://colab.research.google.com/notebooks/data_table.ipynb>data table notebook</a>'\n",
              "            + ' to learn more about interactive tables.';\n",
              "          element.innerHTML = '';\n",
              "          dataTable['output_type'] = 'display_data';\n",
              "          await google.colab.output.renderOutput(dataTable, element);\n",
              "          const docLink = document.createElement('div');\n",
              "          docLink.innerHTML = docLinkHtml;\n",
              "          element.appendChild(docLink);\n",
              "        }\n",
              "      </script>\n",
              "    </div>\n",
              "  </div>\n",
              "  "
            ]
          },
          "metadata": {},
          "execution_count": 24
        }
      ]
    },
    {
      "cell_type": "code",
      "source": [
        "plt.style.use('ggplot')\n",
        "plt.scatter('alpha', 'MAE',alpha=0.5, data=grid_results_table)\n",
        "plt.xlabel(\"alpha\", size=16)\n",
        "plt.ylabel(\"MAE\", size=16)"
      ],
      "metadata": {
        "id": "3Q__eP9XpVFJ",
        "outputId": "8a22d631-7d96-44dd-f4c7-f52a0b4e2030",
        "colab": {
          "base_uri": "https://localhost:8080/",
          "height": 472
        }
      },
      "execution_count": 28,
      "outputs": [
        {
          "output_type": "execute_result",
          "data": {
            "text/plain": [
              "Text(0, 0.5, 'MAE')"
            ]
          },
          "metadata": {},
          "execution_count": 28
        },
        {
          "output_type": "display_data",
          "data": {
            "text/plain": [
              "<Figure size 640x480 with 1 Axes>"
            ],
            "image/png": "[encoded data removed]"
          },
          "metadata": {}
        }
      ]
    },
    {
      "cell_type": "code",
      "source": [
        "plt.style.use('ggplot')\n",
        "plt.scatter('l1_ratio', 'MAE', alpha=0.5, data=grid_results_table)\n",
        "plt.xlabel(\"l1\", size=16)\n",
        "plt.ylabel(\"MAE\", size=16)"
      ],
      "metadata": {
        "id": "H7PitCsap3Fu",
        "outputId": "9795d9cd-d3d4-4087-f276-8a5d51f10274",
        "colab": {
          "base_uri": "https://localhost:8080/",
          "height": 472
        }
      },
      "execution_count": 30,
      "outputs": [
        {
          "output_type": "execute_result",
          "data": {
            "text/plain": [
              "Text(0, 0.5, 'MAE')"
            ]
          },
          "metadata": {},
          "execution_count": 30
        },
        {
          "output_type": "display_data",
          "data": {
            "text/plain": [
              "<Figure size 640x480 with 1 Axes>"
            ],
            "image/png": "[encoded data removed]"
          },
          "metadata": {}
        }
      ]
    },
    {
      "cell_type": "markdown",
      "source": [
        "Results from the gridsearch CV showed Ridge was selected for regularization."
      ],
      "metadata": {
        "id": "hIBjuUdhAODK"
      }
    },
    {
      "cell_type": "code",
      "source": [
        "regr = ElasticNet(random_state=0, alpha=.1, l1_ratio= 0.74)\n",
        "\n",
        "i=0\n",
        "\n",
        "# Create a 10-fold cross-validation \n",
        "cv = KFold(n_splits = 10, \n",
        "           shuffle = True, \n",
        "           random_state = 42)\n",
        "\n",
        "MAE = []\n",
        "\n",
        "#i=0\n",
        "for train, test in cv.split(X_Scaled, y):\n",
        "    X_train, X_test = X_Scaled.iloc[train], X_Scaled.iloc[test]\n",
        "    y_train, y_test = y.iloc[train], y.iloc[test]\n",
        "\n",
        "    X_train, y_train = make_regression(n_features=2, random_state=0)\n",
        "    \n",
        "    regr.fit(X_Scaled, y)\n",
        "\n",
        "    # Predict \n",
        "    y_pred_lin_reg = regr.predict(X_test)\n",
        "  \n",
        "    # Calculate  mean squared error\n",
        "    lin_MAE_reg= metrics.mean_absolute_error(y_test, y_pred_lin_reg)\n",
        "\n",
        "    i=i+1\n",
        "    # Append to the list\n",
        "    MAE.append(lin_MAE_reg)\n",
        "\n",
        "    # Print the scores\n",
        "    print(tabulate([[i, lin_MAE_reg, ]], \n",
        "               headers=['MAE']))"
      ],
      "metadata": {
        "colab": {
          "base_uri": "https://localhost:8080/"
        },
        "id": "OLGi7KmLWiLN",
        "outputId": "7c1ab562-7ffa-4c89-91e0-b7d4912bd24b"
      },
      "execution_count": null,
      "outputs": [
        {
          "output_type": "stream",
          "name": "stdout",
          "text": [
            "        MAE\n",
            "--  -------\n",
            " 1  12.8279\n",
            "        MAE\n",
            "--  -------\n",
            " 2  12.4171\n",
            "        MAE\n",
            "--  -------\n",
            " 3  13.5385\n",
            "       MAE\n",
            "--  ------\n",
            " 4  12.955\n",
            "        MAE\n",
            "--  -------\n",
            " 5  12.9521\n",
            "        MAE\n",
            "--  -------\n",
            " 6  12.6641\n",
            "        MAE\n",
            "--  -------\n",
            " 7  13.4323\n",
            "        MAE\n",
            "--  -------\n",
            " 8  12.9171\n",
            "        MAE\n",
            "--  -------\n",
            " 9  12.8899\n",
            "        MAE\n",
            "--  -------\n",
            "10  13.1926\n"
          ]
        }
      ]
    },
    {
      "cell_type": "code",
      "source": [
        "regr.n_features_in_"
      ],
      "metadata": {
        "colab": {
          "base_uri": "https://localhost:8080/"
        },
        "id": "WlT2uPM686WI",
        "outputId": "bc9ee1ae-0d9a-4dd8-d601-5e1fe5dc887b"
      },
      "execution_count": null,
      "outputs": [
        {
          "output_type": "execute_result",
          "data": {
            "text/plain": [
              "144"
            ]
          },
          "metadata": {},
          "execution_count": 11
        }
      ]
    },
    {
      "cell_type": "code",
      "source": [
        "regr.feature_names_in_"
      ],
      "metadata": {
        "colab": {
          "base_uri": "https://localhost:8080/"
        },
        "id": "7sngq75J9BRO",
        "outputId": "56d6222d-faa2-4036-d46c-a2aabaeec4bf"
      },
      "execution_count": null,
      "outputs": [
        {
          "output_type": "execute_result",
          "data": {
            "text/plain": [
              "array(['number_of_elements', 'mean_atomic_mass', 'wtd_mean_atomic_mass',\n",
              "       'gmean_atomic_mass', 'entropy_atomic_mass',\n",
              "       'wtd_entropy_atomic_mass', 'range_atomic_mass',\n",
              "       'wtd_range_atomic_mass', 'wtd_std_atomic_mass', 'mean_fie',\n",
              "       'wtd_mean_fie', 'wtd_entropy_fie', 'range_fie', 'wtd_range_fie',\n",
              "       'wtd_std_fie', 'mean_atomic_radius', 'wtd_mean_atomic_radius',\n",
              "       'gmean_atomic_radius', 'range_atomic_radius',\n",
              "       'wtd_range_atomic_radius', 'mean_Density', 'wtd_mean_Density',\n",
              "       'gmean_Density', 'entropy_Density', 'wtd_entropy_Density',\n",
              "       'range_Density', 'wtd_range_Density', 'wtd_std_Density',\n",
              "       'mean_ElectronAffinity', 'wtd_mean_ElectronAffinity',\n",
              "       'gmean_ElectronAffinity', 'wtd_gmean_ElectronAffinity',\n",
              "       'entropy_ElectronAffinity', 'wtd_entropy_ElectronAffinity',\n",
              "       'range_ElectronAffinity', 'wtd_range_ElectronAffinity',\n",
              "       'wtd_std_ElectronAffinity', 'mean_FusionHeat',\n",
              "       'wtd_mean_FusionHeat', 'gmean_FusionHeat', 'entropy_FusionHeat',\n",
              "       'wtd_entropy_FusionHeat', 'range_FusionHeat',\n",
              "       'wtd_range_FusionHeat', 'wtd_std_FusionHeat',\n",
              "       'mean_ThermalConductivity', 'wtd_mean_ThermalConductivity',\n",
              "       'gmean_ThermalConductivity', 'wtd_gmean_ThermalConductivity',\n",
              "       'entropy_ThermalConductivity', 'wtd_entropy_ThermalConductivity',\n",
              "       'range_ThermalConductivity', 'wtd_range_ThermalConductivity',\n",
              "       'mean_Valence', 'wtd_mean_Valence', 'range_Valence',\n",
              "       'wtd_range_Valence', 'wtd_std_Valence', 'H', 'He', 'Li', 'Be', 'B',\n",
              "       'C', 'N', 'O', 'F', 'Ne', 'Na', 'Mg', 'Al', 'Si', 'P', 'S', 'Cl',\n",
              "       'Ar', 'K', 'Ca', 'Sc', 'Ti', 'V', 'Cr', 'Mn', 'Fe', 'Co', 'Ni',\n",
              "       'Cu', 'Zn', 'Ga', 'Ge', 'As', 'Se', 'Br', 'Kr', 'Rb', 'Sr', 'Y',\n",
              "       'Zr', 'Nb', 'Mo', 'Tc', 'Ru', 'Rh', 'Pd', 'Ag', 'Cd', 'In', 'Sn',\n",
              "       'Sb', 'Te', 'I', 'Xe', 'Cs', 'Ba', 'La', 'Ce', 'Pr', 'Nd', 'Pm',\n",
              "       'Sm', 'Eu', 'Gd', 'Tb', 'Dy', 'Ho', 'Er', 'Tm', 'Yb', 'Lu', 'Hf',\n",
              "       'Ta', 'W', 'Re', 'Os', 'Ir', 'Pt', 'Au', 'Hg', 'Tl', 'Pb', 'Bi',\n",
              "       'Po', 'At', 'Rn'], dtype=object)"
            ]
          },
          "metadata": {},
          "execution_count": 12
        }
      ]
    },
    {
      "cell_type": "code",
      "source": [
        "regr.coef_"
      ],
      "metadata": {
        "colab": {
          "base_uri": "https://localhost:8080/"
        },
        "id": "f1gDHbDZ9LvY",
        "outputId": "43c231e7-518e-463a-dc19-d86fab3ea4e5"
      },
      "execution_count": null,
      "outputs": [
        {
          "output_type": "execute_result",
          "data": {
            "text/plain": [
              "array([ 1.41781148e+00,  2.60488894e-01, -9.65623367e-01,  0.00000000e+00,\n",
              "       -5.67706361e-01,  4.77970483e+00,  5.83362450e+00, -1.48476460e+00,\n",
              "       -3.86835657e+00,  1.04278500e+00,  2.22876037e-01,  3.74851584e-01,\n",
              "        2.46327272e-01,  0.00000000e+00,  0.00000000e+00, -5.62087598e-05,\n",
              "        1.96422496e+00, -1.19020811e+00,  2.61905324e+00, -1.37622799e+00,\n",
              "       -9.23668507e-01,  0.00000000e+00, -1.34521049e+00, -1.57397274e+00,\n",
              "       -9.30794233e-01,  0.00000000e+00,  1.70759380e+00, -8.78173134e-01,\n",
              "        1.35862055e+00,  5.03011316e-02,  0.00000000e+00, -3.35858917e+00,\n",
              "       -1.14531125e+00, -3.20615236e+00,  0.00000000e+00, -9.85834416e-01,\n",
              "        4.34077687e-02,  3.37223878e-01,  0.00000000e+00,  0.00000000e+00,\n",
              "        0.00000000e+00,  2.96157002e+00, -6.87522507e-01,  8.21753635e-01,\n",
              "       -1.37121914e+00,  2.01172469e+00,  9.18646732e+00, -1.97008262e+00,\n",
              "       -7.69931122e+00,  9.83018192e-01,  1.40783874e+00,  1.59735013e+00,\n",
              "        0.00000000e+00,  0.00000000e+00,  0.00000000e+00,  1.07003221e+00,\n",
              "        1.52636401e+00, -5.34048854e+00, -1.84534753e-01,  0.00000000e+00,\n",
              "        4.32292448e-01, -4.53964453e-01, -4.00813358e-01,  0.00000000e+00,\n",
              "       -4.61058571e-01,  0.00000000e+00,  4.04867411e-02,  0.00000000e+00,\n",
              "        0.00000000e+00,  2.70187027e-01, -5.35550847e-01, -3.44226021e+00,\n",
              "       -4.14393030e-01, -1.19278677e+00, -1.39800664e+00,  0.00000000e+00,\n",
              "        1.89159063e-01,  2.53468727e+00,  0.00000000e+00, -3.85574529e-01,\n",
              "        2.82708029e-01,  0.00000000e+00,  0.00000000e+00,  9.27995121e-02,\n",
              "       -3.44336064e-01, -2.59609016e-01, -5.38679746e-01, -2.55829946e-01,\n",
              "        9.17566036e-02, -9.20320443e-01, -1.54707580e+00, -4.97166134e-01,\n",
              "       -1.57911389e-01,  0.00000000e+00,  3.39788237e-01,  2.96807014e-01,\n",
              "        8.67004894e-02,  3.77456584e-02,  5.01076436e-01, -4.21069736e-02,\n",
              "        1.19402386e-01,  0.00000000e+00, -3.48790286e-02, -1.94753031e-01,\n",
              "       -1.11394320e+00, -6.68463107e-02,  7.01591038e-03,  2.63106654e-02,\n",
              "        0.00000000e+00,  0.00000000e+00,  1.45653498e-01,  0.00000000e+00,\n",
              "        6.92708087e-02,  8.62881619e+00, -2.25609683e-01, -7.54713230e-01,\n",
              "       -1.85275676e-01, -7.09023318e-01,  0.00000000e+00, -9.43730629e-03,\n",
              "       -5.15622430e-01, -3.28848730e-01,  1.48727977e-02,  8.56726332e-02,\n",
              "        3.91453464e-02,  1.01621247e-01,  0.00000000e+00,  4.54444317e-01,\n",
              "        5.61426041e-01, -1.60788301e-01,  0.00000000e+00,  0.00000000e+00,\n",
              "        0.00000000e+00,  2.42093527e-01,  0.00000000e+00,  3.58436419e-01,\n",
              "       -2.60527783e-01,  1.48812088e+00,  1.14000698e+00,  3.18971512e-01,\n",
              "        3.94483234e+00,  0.00000000e+00,  0.00000000e+00,  0.00000000e+00])"
            ]
          },
          "metadata": {},
          "execution_count": 13
        }
      ]
    },
    {
      "cell_type": "code",
      "source": [
        "Weights = pd.Series(regr.coef_, index = regr.feature_names_in_)\n",
        "Weights = pd.DataFrame({'Var':Weights.index, 'Weight':Weights.values})\n",
        "Weights = Weights.sort_values('Weight')\n",
        "Weights2 = pd.concat([Weights.head(10),Weights.tail(10)])\n",
        "plt.figure(figsize=(10, 7))\n",
        "sns.barplot(x='Weight', y = 'Var', data = Weights2);"
      ],
      "metadata": {
        "colab": {
          "base_uri": "https://localhost:8080/",
          "height": 619
        },
        "id": "XOfEQp903Kmb",
        "outputId": "4d6ee801-9f42-4de8-a55f-69141c26e5ce"
      },
      "execution_count": null,
      "outputs": [
        {
          "output_type": "display_data",
          "data": {
            "text/plain": [
              "<Figure size 1000x700 with 1 Axes>"
            ],
            "image/png": "[encoded data removed]"
          },
          "metadata": {}
        }
      ]
    },
    {
      "cell_type": "markdown",
      "source": [
        "There were a number of variables included with a coefficient of 0."
      ],
      "metadata": {
        "id": "Dv7e0wYmAaY7"
      }
    },
    {
      "cell_type": "code",
      "source": [
        "#0 weight variables\n",
        "Weights_drop = Weights[Weights[\"Weight\"] == 0] \n",
        "Weights_drop"
      ],
      "metadata": {
        "colab": {
          "base_uri": "https://localhost:8080/",
          "height": 1000
        },
        "id": "hL-RzFCN-geY",
        "outputId": "d4dd00f6-2b7a-41cb-ad0e-c9716b5c3ca1"
      },
      "execution_count": null,
      "outputs": [
        {
          "output_type": "execute_result",
          "data": {
            "text/plain": [
              "                               Var  Weight\n",
              "75                              Ar     0.0\n",
              "78                              Sc     0.0\n",
              "141                             Po     0.0\n",
              "109                             Te     0.0\n",
              "130                             Ta     0.0\n",
              "81                              Cr     0.0\n",
              "82                              Mn     0.0\n",
              "132                             Re     0.0\n",
              "131                              W     0.0\n",
              "111                             Xe     0.0\n",
              "126                             Tm     0.0\n",
              "93                              Kr     0.0\n",
              "101                             Ru     0.0\n",
              "142                             At     0.0\n",
              "118                             Pm     0.0\n",
              "134                             Ir     0.0\n",
              "108                             Sb     0.0\n",
              "143                             Rn     0.0\n",
              "68                              Na     0.0\n",
              "38             wtd_mean_FusionHeat     0.0\n",
              "52   wtd_range_ThermalConductivity     0.0\n",
              "53                    mean_Valence     0.0\n",
              "54                wtd_mean_Valence     0.0\n",
              "34          range_ElectronAffinity     0.0\n",
              "30          gmean_ElectronAffinity     0.0\n",
              "25                   range_Density     0.0\n",
              "39                gmean_FusionHeat     0.0\n",
              "21                wtd_mean_Density     0.0\n",
              "14                     wtd_std_fie     0.0\n",
              "13                   wtd_range_fie     0.0\n",
              "63                               C     0.0\n",
              "65                               O     0.0\n",
              "3                gmean_atomic_mass     0.0\n",
              "67                              Ne     0.0\n",
              "59                              He     0.0\n",
              "40              entropy_FusionHeat     0.0"
            ],
            "text/html": [
              "\n",
              "  <div id=\"df-2cde9b39-6aba-403b-be44-f26213c06ae3\">\n",
              "    <div class=\"colab-df-container\">\n",
              "      <div>\n",
              "<style scoped>\n",
              "    .dataframe tbody tr th:only-of-type {\n",
              "        vertical-align: middle;\n",
              "    }\n",
              "\n",
              "    .dataframe tbody tr th {\n",
              "        vertical-align: top;\n",
              "    }\n",
              "\n",
              "    .dataframe thead th {\n",
              "        text-align: right;\n",
              "    }\n",
              "</style>\n",
              "<table border=\"1\" class=\"dataframe\">\n",
              "  <thead>\n",
              "    <tr style=\"text-align: right;\">\n",
              "      <th></th>\n",
              "      <th>Var</th>\n",
              "      <th>Weight</th>\n",
              "    </tr>\n",
              "  </thead>\n",
              "  <tbody>\n",
              "    <tr>\n",
              "      <th>75</th>\n",
              "      <td>Ar</td>\n",
              "      <td>0.0</td>\n",
              "    </tr>\n",
              "    <tr>\n",
              "      <th>78</th>\n",
              "      <td>Sc</td>\n",
              "      <td>0.0</td>\n",
              "    </tr>\n",
              "    <tr>\n",
              "      <th>141</th>\n",
              "      <td>Po</td>\n",
              "      <td>0.0</td>\n",
              "    </tr>\n",
              "    <tr>\n",
              "      <th>109</th>\n",
              "      <td>Te</td>\n",
              "      <td>0.0</td>\n",
              "    </tr>\n",
              "    <tr>\n",
              "      <th>130</th>\n",
              "      <td>Ta</td>\n",
              "      <td>0.0</td>\n",
              "    </tr>\n",
              "    <tr>\n",
              "      <th>81</th>\n",
              "      <td>Cr</td>\n",
              "      <td>0.0</td>\n",
              "    </tr>\n",
              "    <tr>\n",
              "      <th>82</th>\n",
              "      <td>Mn</td>\n",
              "      <td>0.0</td>\n",
              "    </tr>\n",
              "    <tr>\n",
              "      <th>132</th>\n",
              "      <td>Re</td>\n",
              "      <td>0.0</td>\n",
              "    </tr>\n",
              "    <tr>\n",
              "      <th>131</th>\n",
              "      <td>W</td>\n",
              "      <td>0.0</td>\n",
              "    </tr>\n",
              "    <tr>\n",
              "      <th>111</th>\n",
              "      <td>Xe</td>\n",
              "      <td>0.0</td>\n",
              "    </tr>\n",
              "    <tr>\n",
              "      <th>126</th>\n",
              "      <td>Tm</td>\n",
              "      <td>0.0</td>\n",
              "    </tr>\n",
              "    <tr>\n",
              "      <th>93</th>\n",
              "      <td>Kr</td>\n",
              "      <td>0.0</td>\n",
              "    </tr>\n",
              "    <tr>\n",
              "      <th>101</th>\n",
              "      <td>Ru</td>\n",
              "      <td>0.0</td>\n",
              "    </tr>\n",
              "    <tr>\n",
              "      <th>142</th>\n",
              "      <td>At</td>\n",
              "      <td>0.0</td>\n",
              "    </tr>\n",
              "    <tr>\n",
              "      <th>118</th>\n",
              "      <td>Pm</td>\n",
              "      <td>0.0</td>\n",
              "    </tr>\n",
              "    <tr>\n",
              "      <th>134</th>\n",
              "      <td>Ir</td>\n",
              "      <td>0.0</td>\n",
              "    </tr>\n",
              "    <tr>\n",
              "      <th>108</th>\n",
              "      <td>Sb</td>\n",
              "      <td>0.0</td>\n",
              "    </tr>\n",
              "    <tr>\n",
              "      <th>143</th>\n",
              "      <td>Rn</td>\n",
              "      <td>0.0</td>\n",
              "    </tr>\n",
              "    <tr>\n",
              "      <th>68</th>\n",
              "      <td>Na</td>\n",
              "      <td>0.0</td>\n",
              "    </tr>\n",
              "    <tr>\n",
              "      <th>38</th>\n",
              "      <td>wtd_mean_FusionHeat</td>\n",
              "      <td>0.0</td>\n",
              "    </tr>\n",
              "    <tr>\n",
              "      <th>52</th>\n",
              "      <td>wtd_range_ThermalConductivity</td>\n",
              "      <td>0.0</td>\n",
              "    </tr>\n",
              "    <tr>\n",
              "      <th>53</th>\n",
              "      <td>mean_Valence</td>\n",
              "      <td>0.0</td>\n",
              "    </tr>\n",
              "    <tr>\n",
              "      <th>54</th>\n",
              "      <td>wtd_mean_Valence</td>\n",
              "      <td>0.0</td>\n",
              "    </tr>\n",
              "    <tr>\n",
              "      <th>34</th>\n",
              "      <td>range_ElectronAffinity</td>\n",
              "      <td>0.0</td>\n",
              "    </tr>\n",
              "    <tr>\n",
              "      <th>30</th>\n",
              "      <td>gmean_ElectronAffinity</td>\n",
              "      <td>0.0</td>\n",
              "    </tr>\n",
              "    <tr>\n",
              "      <th>25</th>\n",
              "      <td>range_Density</td>\n",
              "      <td>0.0</td>\n",
              "    </tr>\n",
              "    <tr>\n",
              "      <th>39</th>\n",
              "      <td>gmean_FusionHeat</td>\n",
              "      <td>0.0</td>\n",
              "    </tr>\n",
              "    <tr>\n",
              "      <th>21</th>\n",
              "      <td>wtd_mean_Density</td>\n",
              "      <td>0.0</td>\n",
              "    </tr>\n",
              "    <tr>\n",
              "      <th>14</th>\n",
              "      <td>wtd_std_fie</td>\n",
              "      <td>0.0</td>\n",
              "    </tr>\n",
              "    <tr>\n",
              "      <th>13</th>\n",
              "      <td>wtd_range_fie</td>\n",
              "      <td>0.0</td>\n",
              "    </tr>\n",
              "    <tr>\n",
              "      <th>63</th>\n",
              "      <td>C</td>\n",
              "      <td>0.0</td>\n",
              "    </tr>\n",
              "    <tr>\n",
              "      <th>65</th>\n",
              "      <td>O</td>\n",
              "      <td>0.0</td>\n",
              "    </tr>\n",
              "    <tr>\n",
              "      <th>3</th>\n",
              "      <td>gmean_atomic_mass</td>\n",
              "      <td>0.0</td>\n",
              "    </tr>\n",
              "    <tr>\n",
              "      <th>67</th>\n",
              "      <td>Ne</td>\n",
              "      <td>0.0</td>\n",
              "    </tr>\n",
              "    <tr>\n",
              "      <th>59</th>\n",
              "      <td>He</td>\n",
              "      <td>0.0</td>\n",
              "    </tr>\n",
              "    <tr>\n",
              "      <th>40</th>\n",
              "      <td>entropy_FusionHeat</td>\n",
              "      <td>0.0</td>\n",
              "    </tr>\n",
              "  </tbody>\n",
              "</table>\n",
              "</div>\n",
              "      <button class=\"colab-df-convert\" onclick=\"convertToInteractive('df-2cde9b39-6aba-403b-be44-f26213c06ae3')\"\n",
              "              title=\"Convert this dataframe to an interactive table.\"\n",
              "              style=\"display:none;\">\n",
              "        \n",
              "  <svg xmlns=\"http://www.w3.org/2000/svg\" height=\"24px\"viewBox=\"0 0 24 24\"\n",
              "       width=\"24px\">\n",
              "    <path d=\"M0 0h24v24H0V0z\" fill=\"none\"/>\n",
              "    <path d=\"M18.56 5.44l.94 2.06.94-2.06 2.06-.94-2.06-.94-.94-2.06-.94 2.06-2.06.94zm-11 1L8.5 8.5l.94-2.06 2.06-.94-2.06-.94L8.5 2.5l-.94 2.06-2.06.94zm10 10l.94 2.06.94-2.06 2.06-.94-2.06-.94-.94-2.06-.94 2.06-2.06.94z\"/><path d=\"M17.41 7.96l-1.37-1.37c-.4-.4-.92-.59-1.43-.59-.52 0-1.04.2-1.43.59L10.3 9.45l-7.72 7.72c-.78.78-.78 2.05 0 2.83L4 21.41c.39.39.9.59 1.41.59.51 0 1.02-.2 1.41-.59l7.78-7.78 2.81-2.81c.8-.78.8-2.07 0-2.86zM5.41 20L4 18.59l7.72-7.72 1.47 1.35L5.41 20z\"/>\n",
              "  </svg>\n",
              "      </button>\n",
              "      \n",
              "  <style>\n",
              "    .colab-df-container {\n",
              "      display:flex;\n",
              "      flex-wrap:wrap;\n",
              "      gap: 12px;\n",
              "    }\n",
              "\n",
              "    .colab-df-convert {\n",
              "      background-color: #E8F0FE;\n",
              "      border: none;\n",
              "      border-radius: 50%;\n",
              "      cursor: pointer;\n",
              "      display: none;\n",
              "      fill: #1967D2;\n",
              "      height: 32px;\n",
              "      padding: 0 0 0 0;\n",
              "      width: 32px;\n",
              "    }\n",
              "\n",
              "    .colab-df-convert:hover {\n",
              "      background-color: #E2EBFA;\n",
              "      box-shadow: 0px 1px 2px rgba(60, 64, 67, 0.3), 0px 1px 3px 1px rgba(60, 64, 67, 0.15);\n",
              "      fill: #174EA6;\n",
              "    }\n",
              "\n",
              "    [theme=dark] .colab-df-convert {\n",
              "      background-color: #3B4455;\n",
              "      fill: #D2E3FC;\n",
              "    }\n",
              "\n",
              "    [theme=dark] .colab-df-convert:hover {\n",
              "      background-color: #434B5C;\n",
              "      box-shadow: 0px 1px 3px 1px rgba(0, 0, 0, 0.15);\n",
              "      filter: drop-shadow(0px 1px 2px rgba(0, 0, 0, 0.3));\n",
              "      fill: #FFFFFF;\n",
              "    }\n",
              "  </style>\n",
              "\n",
              "      <script>\n",
              "        const buttonEl =\n",
              "          document.querySelector('#df-2cde9b39-6aba-403b-be44-f26213c06ae3 button.colab-df-convert');\n",
              "        buttonEl.style.display =\n",
              "          google.colab.kernel.accessAllowed ? 'block' : 'none';\n",
              "\n",
              "        async function convertToInteractive(key) {\n",
              "          const element = document.querySelector('#df-2cde9b39-6aba-403b-be44-f26213c06ae3');\n",
              "          const dataTable =\n",
              "            await google.colab.kernel.invokeFunction('convertToInteractive',\n",
              "                                                     [key], {});\n",
              "          if (!dataTable) return;\n",
              "\n",
              "          const docLinkHtml = 'Like what you see? Visit the ' +\n",
              "            '<a target=\"_blank\" href=https://colab.research.google.com/notebooks/data_table.ipynb>data table notebook</a>'\n",
              "            + ' to learn more about interactive tables.';\n",
              "          element.innerHTML = '';\n",
              "          dataTable['output_type'] = 'display_data';\n",
              "          await google.colab.output.renderOutput(dataTable, element);\n",
              "          const docLink = document.createElement('div');\n",
              "          docLink.innerHTML = docLinkHtml;\n",
              "          element.appendChild(docLink);\n",
              "        }\n",
              "      </script>\n",
              "    </div>\n",
              "  </div>\n",
              "  "
            ]
          },
          "metadata": {},
          "execution_count": 15
        }
      ]
    }
  ]
}