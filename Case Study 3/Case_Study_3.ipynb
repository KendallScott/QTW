{
  "cells": [
    {
      "cell_type": "markdown",
      "metadata": {
        "id": "view-in-github",
        "colab_type": "text"
      },
      "source": [
        "<a href=\"https://colab.research.google.com/github/KendallScott/QTW/blob/main/Case%20Study%203/Case_Study_3.ipynb\" target=\"_parent\"><img src=\"https://colab.research.google.com/assets/colab-badge.svg\" alt=\"Open In Colab\"/></a>"
      ]
    },
    {
      "cell_type": "code",
      "source": [
        "%%capture\n",
        "!pip install beautifulsoup4\n",
        "!pip install scikit-learn-intelex"
      ],
      "metadata": {
        "id": "jqvTsZnE2jDn"
      },
      "id": "jqvTsZnE2jDn",
      "execution_count": 2,
      "outputs": []
    },
    {
      "cell_type": "code",
      "source": [
        "from google.colab import drive\n",
        "drive.mount('/content/drive')"
      ],
      "metadata": {
        "colab": {
          "base_uri": "https://localhost:8080/"
        },
        "id": "11QoaBxoZQZ1",
        "outputId": "1b799929-9bf5-49de-d13c-d348f40fe5eb"
      },
      "id": "11QoaBxoZQZ1",
      "execution_count": 3,
      "outputs": [
        {
          "output_type": "stream",
          "name": "stdout",
          "text": [
            "Mounted at /content/drive\n"
          ]
        }
      ]
    },
    {
      "cell_type": "code",
      "source": [
        "!ls -l /content/drive/MyDrive/SpamAssassinMessages/"
      ],
      "metadata": {
        "colab": {
          "base_uri": "https://localhost:8080/"
        },
        "id": "JkcETtearuoW",
        "outputId": "acbd7218-1648-40d8-f30e-5ae7d90af0c2"
      },
      "id": "JkcETtearuoW",
      "execution_count": 4,
      "outputs": [
        {
          "output_type": "stream",
          "name": "stdout",
          "text": [
            "total 20\n",
            "drwx------ 2 root root 4096 Jun  6 01:24 easy_ham\n",
            "drwx------ 2 root root 4096 Jun  6 01:24 easy_ham_2\n",
            "drwx------ 2 root root 4096 Jun  6 01:24 hard_ham\n",
            "drwx------ 2 root root 4096 Jun  6 01:24 spam\n",
            "drwx------ 2 root root 4096 Jun  6 01:24 spam_2\n"
          ]
        }
      ]
    },
    {
      "cell_type": "code",
      "source": [
        "from gensim.parsing.preprocessing import STOPWORDS\n",
        "from nltk import word_tokenize\n",
        "import os, chardet, email\n",
        "import pandas as pd \n",
        "import numpy as np\n",
        "from sklearn.model_selection import StratifiedKFold, GridSearchCV\n",
        "from sklearn.feature_extraction.text import TfidfVectorizer\n",
        "from sklearn.naive_bayes import MultinomialNB\n",
        "from sklearn.feature_extraction.text import TfidfVectorizer\n",
        "from sklearn.metrics import accuracy_score, classification_report, ConfusionMatrixDisplay\n",
        "from bs4 import BeautifulSoup\n",
        "from sklearn.pipeline import Pipeline\n",
        "from sklearn.metrics import confusion_matrix, accuracy_score, recall_score, classification_report\n",
        "from nltk.corpus import stopwords\n",
        "import nltk; nltk.download('popular')"
      ],
      "metadata": {
        "id": "3xAruZmNj5KV",
        "colab": {
          "base_uri": "https://localhost:8080/"
        },
        "outputId": "a5be2024-6ebc-40bf-fb95-d6f89644a76b"
      },
      "id": "3xAruZmNj5KV",
      "execution_count": 5,
      "outputs": [
        {
          "output_type": "stream",
          "name": "stderr",
          "text": [
            "[nltk_data] Downloading collection 'popular'\n",
            "[nltk_data]    | \n",
            "[nltk_data]    | Downloading package cmudict to /root/nltk_data...\n",
            "[nltk_data]    |   Unzipping corpora/cmudict.zip.\n",
            "[nltk_data]    | Downloading package gazetteers to /root/nltk_data...\n",
            "[nltk_data]    |   Unzipping corpora/gazetteers.zip.\n",
            "[nltk_data]    | Downloading package genesis to /root/nltk_data...\n",
            "[nltk_data]    |   Unzipping corpora/genesis.zip.\n",
            "[nltk_data]    | Downloading package gutenberg to /root/nltk_data...\n",
            "[nltk_data]    |   Unzipping corpora/gutenberg.zip.\n",
            "[nltk_data]    | Downloading package inaugural to /root/nltk_data...\n",
            "[nltk_data]    |   Unzipping corpora/inaugural.zip.\n",
            "[nltk_data]    | Downloading package movie_reviews to\n",
            "[nltk_data]    |     /root/nltk_data...\n",
            "[nltk_data]    |   Unzipping corpora/movie_reviews.zip.\n",
            "[nltk_data]    | Downloading package names to /root/nltk_data...\n",
            "[nltk_data]    |   Unzipping corpora/names.zip.\n",
            "[nltk_data]    | Downloading package shakespeare to /root/nltk_data...\n",
            "[nltk_data]    |   Unzipping corpora/shakespeare.zip.\n",
            "[nltk_data]    | Downloading package stopwords to /root/nltk_data...\n",
            "[nltk_data]    |   Unzipping corpora/stopwords.zip.\n",
            "[nltk_data]    | Downloading package treebank to /root/nltk_data...\n",
            "[nltk_data]    |   Unzipping corpora/treebank.zip.\n",
            "[nltk_data]    | Downloading package twitter_samples to\n",
            "[nltk_data]    |     /root/nltk_data...\n",
            "[nltk_data]    |   Unzipping corpora/twitter_samples.zip.\n",
            "[nltk_data]    | Downloading package omw to /root/nltk_data...\n",
            "[nltk_data]    | Downloading package omw-1.4 to /root/nltk_data...\n",
            "[nltk_data]    | Downloading package wordnet to /root/nltk_data...\n",
            "[nltk_data]    | Downloading package wordnet2021 to /root/nltk_data...\n",
            "[nltk_data]    | Downloading package wordnet31 to /root/nltk_data...\n",
            "[nltk_data]    | Downloading package wordnet_ic to /root/nltk_data...\n",
            "[nltk_data]    |   Unzipping corpora/wordnet_ic.zip.\n",
            "[nltk_data]    | Downloading package words to /root/nltk_data...\n",
            "[nltk_data]    |   Unzipping corpora/words.zip.\n",
            "[nltk_data]    | Downloading package maxent_ne_chunker to\n",
            "[nltk_data]    |     /root/nltk_data...\n",
            "[nltk_data]    |   Unzipping chunkers/maxent_ne_chunker.zip.\n",
            "[nltk_data]    | Downloading package punkt to /root/nltk_data...\n",
            "[nltk_data]    |   Unzipping tokenizers/punkt.zip.\n",
            "[nltk_data]    | Downloading package snowball_data to\n",
            "[nltk_data]    |     /root/nltk_data...\n",
            "[nltk_data]    | Downloading package averaged_perceptron_tagger to\n",
            "[nltk_data]    |     /root/nltk_data...\n",
            "[nltk_data]    |   Unzipping taggers/averaged_perceptron_tagger.zip.\n",
            "[nltk_data]    | \n",
            "[nltk_data]  Done downloading collection popular\n"
          ]
        },
        {
          "output_type": "execute_result",
          "data": {
            "text/plain": [
              "True"
            ]
          },
          "metadata": {},
          "execution_count": 5
        }
      ]
    },
    {
      "cell_type": "code",
      "source": [
        "file_list = []\n",
        "for root, dirs, files in os.walk(\"/content/drive/MyDrive/SpamAssassinMessages/\", topdown=False):\n",
        "    for name in files:\n",
        "        tmp = os.path.join(root,name)\n",
        "        file_list.append(tmp)\n",
        "    for item in dirs:\n",
        "        print(item)\n",
        "i=0\n",
        "\n",
        "file_list_full = []\n",
        "while i < len(file_list):\n",
        "    file_list_full.append(file_list[i])\n",
        "    i+=1"
      ],
      "metadata": {
        "id": "PlMpfjwLcuv2",
        "outputId": "9d1e5f8d-4251-4bcb-e512-e07354c07007",
        "colab": {
          "base_uri": "https://localhost:8080/"
        }
      },
      "id": "PlMpfjwLcuv2",
      "execution_count": 6,
      "outputs": [
        {
          "output_type": "stream",
          "name": "stdout",
          "text": [
            "spam_2\n",
            "spam\n",
            "easy_ham_2\n",
            "easy_ham\n",
            "hard_ham\n"
          ]
        }
      ]
    },
    {
      "cell_type": "code",
      "source": [
        "len(file_list_full)"
      ],
      "metadata": {
        "colab": {
          "base_uri": "https://localhost:8080/"
        },
        "id": "XGRktrDXnp7r",
        "outputId": "05b0be55-e53b-489b-dcb0-0ad12f6c84f0"
      },
      "id": "XGRktrDXnp7r",
      "execution_count": 7,
      "outputs": [
        {
          "output_type": "execute_result",
          "data": {
            "text/plain": [
              "9353"
            ]
          },
          "metadata": {},
          "execution_count": 7
        }
      ]
    },
    {
      "cell_type": "code",
      "source": [
        "%%capture\n",
        "contents = []\n",
        "types = []\n",
        "labels = []\n",
        "sender = []\n",
        "\n",
        "i = 0\n",
        "\n",
        "for root, dirs, files in os.walk(\"/content/drive/MyDrive/SpamAssassinMessages/\"):\n",
        "    for name in files:\n",
        "        blob = open(os.path.join(root, name), 'rb').read()\n",
        "\n",
        "        # Determining the encoding of the email\n",
        "        result = chardet.detect(blob)\n",
        "        encoding_dynamic = result['encoding']\n",
        "\n",
        "        with open(os.path.join(root, name), 'rb') as f:\n",
        "            decoded_email = f.read().decode(encoding_dynamic, errors='replace')\n",
        "            \n",
        "            x = email.message_from_string(decoded_email)\n",
        "            print('normal', os.path.join(root, name))\n",
        "            i += 1\n",
        "\n",
        "            #adding in the sender's domain as a new column\n",
        "            sender_raw = x.get('From')\n",
        "            if sender_raw:\n",
        "                sender_domain = sender_raw.split('@')[-1]\n",
        "                if sender_domain:\n",
        "                    sender.append(sender_domain)\n",
        "                else:\n",
        "                    sender.append(\"missing\")\n",
        "            else:\n",
        "                sender.append(\"missing\")\n",
        "\n",
        "\n",
        "            if \"multipart\" in x.get_content_type():\n",
        "                content_parts = []\n",
        "                for part in x.walk():\n",
        "                    if part.get_content_type() == \"text/plain\":\n",
        "                        decoded_part = part.get_payload(decode=True).decode(encoding_dynamic, errors='replace')\n",
        "                        content_parts.append(decoded_part.replace(\"\\n\", \" \"))\n",
        "                    elif part.get_content_type() == \"text/html\":\n",
        "                        soup = BeautifulSoup(part.get_payload(decode=True).decode(encoding_dynamic, errors='replace'), 'html.parser')\n",
        "                        decoded_part = soup.get_text().replace(\"\\n\", \" \")\n",
        "                        content_parts.append(decoded_part)\n",
        "                content = \"\\n\".join(content_parts)\n",
        "                contents.append(content)\n",
        "                types.append(x.get_content_type())\n",
        "\n",
        "            elif \"text/plain\" in x.get_content_type():\n",
        "                decoded_content = x.get_payload(decode=True).decode(encoding_dynamic, errors='replace')\n",
        "                contents.append(decoded_content.replace(\"\\n\", \" \"))\n",
        "                types.append(x.get_content_type())\n",
        "\n",
        "            elif \"text/html\" in x.get_content_type():\n",
        "                soup = BeautifulSoup(x.get_payload(decode=True).decode(encoding_dynamic, errors='replace'), 'html.parser')\n",
        "                decoded_content = soup.get_text().replace(\"\\n\", \" \")\n",
        "                contents.append(decoded_content)\n",
        "                types.append(x.get_content_type())\n",
        "\n",
        "            if \"ham\" in root:\n",
        "                labels.append(0)\n",
        "            elif \"spam\" in root:\n",
        "                labels.append(1)\n",
        "            else:\n",
        "                print(\"YOU HAVE A BIG PROBLEM -- LABEL NOT FOUND\")\n"
      ],
      "metadata": {
        "id": "0OTw9EHz94DN"
      },
      "id": "0OTw9EHz94DN",
      "execution_count": null,
      "outputs": []
    },
    {
      "cell_type": "code",
      "source": [
        "print('contents length: ', len(contents))\n",
        "print('types length: ', len(types))\n",
        "print('labels length: ', len(labels))\n",
        "print('file list length: ', len(file_list_full))\n",
        "print('sender length: ', len(sender))"
      ],
      "metadata": {
        "id": "aQT5bxdC4eca"
      },
      "id": "aQT5bxdC4eca",
      "execution_count": null,
      "outputs": []
    },
    {
      "cell_type": "code",
      "source": [
        "# Encode the contents array to utf-8, before it gets added to pandas dataframe\n",
        "encoded_contents = [content.encode('utf-8', errors='replace') for content in contents]"
      ],
      "metadata": {
        "id": "-ethc5H8AiVG"
      },
      "id": "-ethc5H8AiVG",
      "execution_count": null,
      "outputs": []
    },
    {
      "cell_type": "code",
      "source": [
        "data = pd.DataFrame({\"Text\":encoded_contents,\"Label\":labels, \"Type\":types, \"Filename\": file_list_full, \"Sender\": sender})\n",
        "data"
      ],
      "metadata": {
        "id": "H-r-QIpQLYWN"
      },
      "id": "H-r-QIpQLYWN",
      "execution_count": null,
      "outputs": []
    },
    {
      "cell_type": "code",
      "source": [
        "data.info()"
      ],
      "metadata": {
        "id": "c8RlomWm3Dw0"
      },
      "id": "c8RlomWm3Dw0",
      "execution_count": null,
      "outputs": []
    },
    {
      "cell_type": "code",
      "source": [
        "data['Text'] = data['Text'].astype('|S') # which will by default set the length to the max len it encounters\n",
        "data.info()"
      ],
      "metadata": {
        "id": "lFV4h24o5fEN"
      },
      "id": "lFV4h24o5fEN",
      "execution_count": null,
      "outputs": []
    },
    {
      "cell_type": "code",
      "source": [
        "data['Label'].value_counts() #distribution of spam/ham"
      ],
      "metadata": {
        "id": "FqZpFTJfs_Po"
      },
      "id": "FqZpFTJfs_Po",
      "execution_count": null,
      "outputs": []
    },
    {
      "cell_type": "code",
      "source": [
        "stop = list(stopwords.words('english'))\n",
        "#to add additional words to stop words\n",
        "#stop.extend('myword1 myword2 myword3'.split())\n",
        "\n",
        "# MultiNB\n",
        "X = data['Text']\n",
        "y = data['Label'].values\n",
        "\n",
        "skf = StratifiedKFold(n_splits=10,random_state=610,shuffle=True)\n",
        "skf.get_n_splits(X,y)\n",
        "\n",
        "#need to vectorize within pipeline to prevent data leakage (otherwise tfidf would be fitted over all the data)\n",
        "my_pipe = Pipeline([\n",
        "    ('vectorizer',TfidfVectorizer(token_pattern=r\"(?u)\\b\\w+\\b\", stop_words=stop, ngram_range=(2,2), analyzer='word')),\n",
        "    ('estimator',MultinomialNB())\n",
        "])\n",
        "pipe_params = {\n",
        "    'estimator__alpha':[.01,.05,.1]\n",
        "}\n",
        "\n",
        "grid = GridSearchCV(my_pipe,pipe_params,cv=skf,scoring='accuracy',n_jobs=-1)\n",
        "results = grid.fit(X,y)\n",
        "print(results.best_estimator_)\n",
        "print(results.best_score_)"
      ],
      "metadata": {
        "id": "hZ5uOZg-FUtw"
      },
      "id": "hZ5uOZg-FUtw",
      "execution_count": null,
      "outputs": []
    },
    {
      "cell_type": "code",
      "source": [
        "results_df=pd.DataFrame(results.cv_results_)\n",
        "results_df"
      ],
      "metadata": {
        "id": "IX1sleeFvTL2"
      },
      "id": "IX1sleeFvTL2",
      "execution_count": null,
      "outputs": []
    },
    {
      "cell_type": "code",
      "source": [
        "stop = list(stopwords.words('english'))\n",
        "#to add additional words to stop words\n",
        "#stop.extend('myword1 myword2 myword3'.split())\n",
        "\n",
        "skf = StratifiedKFold(n_splits=10,random_state=610,shuffle=True)\n",
        "skf.get_n_splits(X,y)\n",
        "\n",
        "#need to vectorize within pipeline to prevent data leakage (otherwise tfidf would be fitted over all the data)\n",
        "my_pipe = Pipeline([\n",
        "    ('vectorizer',TfidfVectorizer(token_pattern=r\"(?u)\\b\\w+\\b\", stop_words=stop, ngram_range=(2,2), analyzer='word')),\n",
        "    ('estimator',MultinomialNB())\n",
        "])\n",
        "pipe_params = {\n",
        "    'estimator__alpha':[.01,.05,.1]\n",
        "}\n",
        "\n",
        "grid = GridSearchCV(my_pipe,pipe_params,cv=skf,scoring='recall',n_jobs=-1)\n",
        "results = grid.fit(X,y)\n",
        "print(results.best_estimator_)\n",
        "print(results.best_score_)"
      ],
      "metadata": {
        "id": "6ez4ySpM9g10"
      },
      "id": "6ez4ySpM9g10",
      "execution_count": null,
      "outputs": []
    },
    {
      "cell_type": "code",
      "source": [
        "#running model on messages\n",
        "X = data['Sender']\n",
        "y = data['Text'].values\n",
        "\n",
        "# MultiNB with best params\n",
        "my_pipe = Pipeline([\n",
        "    ('vectorizer',TfidfVectorizer(token_pattern=r\"(?u)\\b\\w+\\b\", stop_words=stop, ngram_range=(2,2), analyzer='word')),\n",
        "    ('estimator',MultinomialNB(alpha=results.best_params_.get('estimator__alpha')))\n",
        "])\n",
        "acc_score = []\n",
        "rec_score = []\n",
        "feature_names = []\n",
        "\n",
        "for i, (train,test) in enumerate(skf.split(X,y)):\n",
        "    my_pipe.fit(X[train],y[train])\n",
        "    p = my_pipe.predict(X[test])\n",
        "    acc_score.append(accuracy_score(y[test],p))\n",
        "    rec_score.append(recall_score(y[test],p))\n",
        "    print(classification_report(y[test],p))\n",
        "\n",
        "    #feature importance by word\n",
        "    feature_log_probs = my_pipe.named_steps['estimator'].feature_log_prob_\n",
        "    feature_names = my_pipe.named_steps['vectorizer'].get_feature_names_out()\n",
        "\n",
        "\n",
        "# Convert feature log probabilities to probabilities\n",
        "feature_probs = np.exp(feature_log_probs)\n",
        "\n",
        "# Create a DataFrame to store feature importance\n",
        "feature_probability = pd.DataFrame({'Feature': feature_names,\n",
        "                                   'Probability': feature_probs[1]})\n",
        "\n",
        "# Sort feature importance by importance score\n",
        "feature_probability = feature_probability.sort_values(by='Probability', ascending=False)\n",
        "\n",
        "\n",
        "# saving scores for comparison    \n",
        "mNB_scores = pd.DataFrame({'accuracy':acc_score,\n",
        "                           'recall':rec_score})\n"
      ],
      "metadata": {
        "id": "IImrlqolcLbk"
      },
      "id": "IImrlqolcLbk",
      "execution_count": null,
      "outputs": []
    },
    {
      "cell_type": "code",
      "source": [
        "mNB_scores"
      ],
      "metadata": {
        "colab": {
          "base_uri": "https://localhost:8080/",
          "height": 206
        },
        "id": "eWQ6QFfjwuGf",
        "outputId": "43e50d9f-982f-466a-e5fc-bf74f4dfbfe5"
      },
      "id": "eWQ6QFfjwuGf",
      "execution_count": 107,
      "outputs": [
        {
          "output_type": "execute_result",
          "data": {
            "text/plain": [
              "   accuracy    recall\n",
              "0  0.916088  0.795833\n",
              "1  0.919294  0.785417\n",
              "2  0.924639  0.814583\n",
              "3  0.919251  0.825000\n",
              "4  0.925668  0.810021"
            ],
            "text/html": [
              "\n",
              "  <div id=\"df-55adccb9-3a56-4804-b305-b9cb4e5881a3\">\n",
              "    <div class=\"colab-df-container\">\n",
              "      <div>\n",
              "<style scoped>\n",
              "    .dataframe tbody tr th:only-of-type {\n",
              "        vertical-align: middle;\n",
              "    }\n",
              "\n",
              "    .dataframe tbody tr th {\n",
              "        vertical-align: top;\n",
              "    }\n",
              "\n",
              "    .dataframe thead th {\n",
              "        text-align: right;\n",
              "    }\n",
              "</style>\n",
              "<table border=\"1\" class=\"dataframe\">\n",
              "  <thead>\n",
              "    <tr style=\"text-align: right;\">\n",
              "      <th></th>\n",
              "      <th>accuracy</th>\n",
              "      <th>recall</th>\n",
              "    </tr>\n",
              "  </thead>\n",
              "  <tbody>\n",
              "    <tr>\n",
              "      <th>0</th>\n",
              "      <td>0.916088</td>\n",
              "      <td>0.795833</td>\n",
              "    </tr>\n",
              "    <tr>\n",
              "      <th>1</th>\n",
              "      <td>0.919294</td>\n",
              "      <td>0.785417</td>\n",
              "    </tr>\n",
              "    <tr>\n",
              "      <th>2</th>\n",
              "      <td>0.924639</td>\n",
              "      <td>0.814583</td>\n",
              "    </tr>\n",
              "    <tr>\n",
              "      <th>3</th>\n",
              "      <td>0.919251</td>\n",
              "      <td>0.825000</td>\n",
              "    </tr>\n",
              "    <tr>\n",
              "      <th>4</th>\n",
              "      <td>0.925668</td>\n",
              "      <td>0.810021</td>\n",
              "    </tr>\n",
              "  </tbody>\n",
              "</table>\n",
              "</div>\n",
              "      <button class=\"colab-df-convert\" onclick=\"convertToInteractive('df-55adccb9-3a56-4804-b305-b9cb4e5881a3')\"\n",
              "              title=\"Convert this dataframe to an interactive table.\"\n",
              "              style=\"display:none;\">\n",
              "        \n",
              "  <svg xmlns=\"http://www.w3.org/2000/svg\" height=\"24px\"viewBox=\"0 0 24 24\"\n",
              "       width=\"24px\">\n",
              "    <path d=\"M0 0h24v24H0V0z\" fill=\"none\"/>\n",
              "    <path d=\"M18.56 5.44l.94 2.06.94-2.06 2.06-.94-2.06-.94-.94-2.06-.94 2.06-2.06.94zm-11 1L8.5 8.5l.94-2.06 2.06-.94-2.06-.94L8.5 2.5l-.94 2.06-2.06.94zm10 10l.94 2.06.94-2.06 2.06-.94-2.06-.94-.94-2.06-.94 2.06-2.06.94z\"/><path d=\"M17.41 7.96l-1.37-1.37c-.4-.4-.92-.59-1.43-.59-.52 0-1.04.2-1.43.59L10.3 9.45l-7.72 7.72c-.78.78-.78 2.05 0 2.83L4 21.41c.39.39.9.59 1.41.59.51 0 1.02-.2 1.41-.59l7.78-7.78 2.81-2.81c.8-.78.8-2.07 0-2.86zM5.41 20L4 18.59l7.72-7.72 1.47 1.35L5.41 20z\"/>\n",
              "  </svg>\n",
              "      </button>\n",
              "      \n",
              "  <style>\n",
              "    .colab-df-container {\n",
              "      display:flex;\n",
              "      flex-wrap:wrap;\n",
              "      gap: 12px;\n",
              "    }\n",
              "\n",
              "    .colab-df-convert {\n",
              "      background-color: #E8F0FE;\n",
              "      border: none;\n",
              "      border-radius: 50%;\n",
              "      cursor: pointer;\n",
              "      display: none;\n",
              "      fill: #1967D2;\n",
              "      height: 32px;\n",
              "      padding: 0 0 0 0;\n",
              "      width: 32px;\n",
              "    }\n",
              "\n",
              "    .colab-df-convert:hover {\n",
              "      background-color: #E2EBFA;\n",
              "      box-shadow: 0px 1px 2px rgba(60, 64, 67, 0.3), 0px 1px 3px 1px rgba(60, 64, 67, 0.15);\n",
              "      fill: #174EA6;\n",
              "    }\n",
              "\n",
              "    [theme=dark] .colab-df-convert {\n",
              "      background-color: #3B4455;\n",
              "      fill: #D2E3FC;\n",
              "    }\n",
              "\n",
              "    [theme=dark] .colab-df-convert:hover {\n",
              "      background-color: #434B5C;\n",
              "      box-shadow: 0px 1px 3px 1px rgba(0, 0, 0, 0.15);\n",
              "      filter: drop-shadow(0px 1px 2px rgba(0, 0, 0, 0.3));\n",
              "      fill: #FFFFFF;\n",
              "    }\n",
              "  </style>\n",
              "\n",
              "      <script>\n",
              "        const buttonEl =\n",
              "          document.querySelector('#df-55adccb9-3a56-4804-b305-b9cb4e5881a3 button.colab-df-convert');\n",
              "        buttonEl.style.display =\n",
              "          google.colab.kernel.accessAllowed ? 'block' : 'none';\n",
              "\n",
              "        async function convertToInteractive(key) {\n",
              "          const element = document.querySelector('#df-55adccb9-3a56-4804-b305-b9cb4e5881a3');\n",
              "          const dataTable =\n",
              "            await google.colab.kernel.invokeFunction('convertToInteractive',\n",
              "                                                     [key], {});\n",
              "          if (!dataTable) return;\n",
              "\n",
              "          const docLinkHtml = 'Like what you see? Visit the ' +\n",
              "            '<a target=\"_blank\" href=https://colab.research.google.com/notebooks/data_table.ipynb>data table notebook</a>'\n",
              "            + ' to learn more about interactive tables.';\n",
              "          element.innerHTML = '';\n",
              "          dataTable['output_type'] = 'display_data';\n",
              "          await google.colab.output.renderOutput(dataTable, element);\n",
              "          const docLink = document.createElement('div');\n",
              "          docLink.innerHTML = docLinkHtml;\n",
              "          element.appendChild(docLink);\n",
              "        }\n",
              "      </script>\n",
              "    </div>\n",
              "  </div>\n",
              "  "
            ]
          },
          "metadata": {},
          "execution_count": 107
        }
      ]
    },
    {
      "cell_type": "code",
      "source": [
        "import matplotlib.pyplot as plt\n",
        "import seaborn as sns\n",
        "\n",
        "idx = feature_probability['Probability'].abs().sort_values(ascending = False).head(20).index\n",
        "feature_probability2 = feature_probability.loc[idx]\n",
        "\n",
        "plt.style.use('ggplot')\n",
        "plt.figure(figsize = (15,5))\n",
        "sns.barplot(x='Probability',y='Feature',data=feature_probability2).set(title='Top Sender Domains by Probability')"
      ],
      "metadata": {
        "id": "ZymPRee6cCqB"
      },
      "id": "ZymPRee6cCqB",
      "execution_count": null,
      "outputs": []
    },
    {
      "cell_type": "code",
      "source": [
        "#rerunning model on Sender Domain first\n",
        "X = data['Sender']\n",
        "y = data['Label'].values\n",
        "\n",
        "# MultiNB with best params\n",
        "my_pipe = Pipeline([\n",
        "    ('vectorizer',TfidfVectorizer(token_pattern=r\"(?u)\\b\\w+\\b\", stop_words=stop, ngram_range=(2,2), analyzer='word')),\n",
        "    ('estimator',MultinomialNB(alpha=results.best_params_.get('estimator__alpha')))\n",
        "])\n",
        "acc_score = []\n",
        "rec_score = []\n",
        "feature_names = []\n",
        "\n",
        "for i, (train,test) in enumerate(skf.split(X,y)):\n",
        "    my_pipe.fit(X[train],y[train])\n",
        "    p = my_pipe.predict(X[test])\n",
        "    acc_score.append(accuracy_score(y[test],p))\n",
        "    rec_score.append(recall_score(y[test],p))\n",
        "    print(classification_report(y[test],p))\n",
        "\n",
        "    #feature importance by word\n",
        "    feature_log_probs = my_pipe.named_steps['estimator'].feature_log_prob_\n",
        "    feature_names = my_pipe.named_steps['vectorizer'].get_feature_names_out()\n",
        "\n",
        "\n",
        "# Convert feature log probabilities to probabilities\n",
        "feature_probs = np.exp(feature_log_probs)\n",
        "\n",
        "# Create a DataFrame to store feature importance\n",
        "feature_probability = pd.DataFrame({'Feature': feature_names,\n",
        "                                   'Probability': feature_probs[1]})\n",
        "\n",
        "# Sort feature importance by importance score\n",
        "feature_probability = feature_probability.sort_values(by='Probability', ascending=False)\n",
        "\n",
        "\n",
        "# saving scores for comparison    \n",
        "mNB_scores = pd.DataFrame({'accuracy':acc_score,\n",
        "                           'recall':rec_score})\n"
      ],
      "metadata": {
        "id": "iFwLDIxR896F",
        "outputId": "e6580da9-78af-4ba6-91c0-1a8164cda6d1",
        "colab": {
          "base_uri": "https://localhost:8080/"
        }
      },
      "id": "iFwLDIxR896F",
      "execution_count": 120,
      "outputs": [
        {
          "output_type": "stream",
          "name": "stdout",
          "text": [
            "              precision    recall  f1-score   support\n",
            "\n",
            "           0       0.95      0.98      0.96       696\n",
            "           1       0.92      0.85      0.88       240\n",
            "\n",
            "    accuracy                           0.94       936\n",
            "   macro avg       0.94      0.91      0.92       936\n",
            "weighted avg       0.94      0.94      0.94       936\n",
            "\n",
            "              precision    recall  f1-score   support\n",
            "\n",
            "           0       0.94      0.95      0.95       696\n",
            "           1       0.85      0.83      0.84       240\n",
            "\n",
            "    accuracy                           0.92       936\n",
            "   macro avg       0.90      0.89      0.90       936\n",
            "weighted avg       0.92      0.92      0.92       936\n",
            "\n",
            "              precision    recall  f1-score   support\n",
            "\n",
            "           0       0.94      0.96      0.95       696\n",
            "           1       0.87      0.82      0.85       240\n",
            "\n",
            "    accuracy                           0.92       936\n",
            "   macro avg       0.90      0.89      0.90       936\n",
            "weighted avg       0.92      0.92      0.92       936\n",
            "\n",
            "              precision    recall  f1-score   support\n",
            "\n",
            "           0       0.93      0.96      0.95       695\n",
            "           1       0.87      0.80      0.83       240\n",
            "\n",
            "    accuracy                           0.92       935\n",
            "   macro avg       0.90      0.88      0.89       935\n",
            "weighted avg       0.92      0.92      0.92       935\n",
            "\n",
            "              precision    recall  f1-score   support\n",
            "\n",
            "           0       0.95      0.96      0.96       695\n",
            "           1       0.89      0.86      0.87       240\n",
            "\n",
            "    accuracy                           0.94       935\n",
            "   macro avg       0.92      0.91      0.91       935\n",
            "weighted avg       0.94      0.94      0.94       935\n",
            "\n",
            "              precision    recall  f1-score   support\n",
            "\n",
            "           0       0.94      0.96      0.95       695\n",
            "           1       0.88      0.81      0.84       240\n",
            "\n",
            "    accuracy                           0.92       935\n",
            "   macro avg       0.91      0.89      0.90       935\n",
            "weighted avg       0.92      0.92      0.92       935\n",
            "\n",
            "              precision    recall  f1-score   support\n",
            "\n",
            "           0       0.94      0.97      0.95       695\n",
            "           1       0.91      0.81      0.85       240\n",
            "\n",
            "    accuracy                           0.93       935\n",
            "   macro avg       0.92      0.89      0.90       935\n",
            "weighted avg       0.93      0.93      0.93       935\n",
            "\n",
            "              precision    recall  f1-score   support\n",
            "\n",
            "           0       0.94      0.97      0.95       695\n",
            "           1       0.89      0.82      0.85       240\n",
            "\n",
            "    accuracy                           0.93       935\n",
            "   macro avg       0.92      0.89      0.90       935\n",
            "weighted avg       0.93      0.93      0.93       935\n",
            "\n",
            "              precision    recall  f1-score   support\n",
            "\n",
            "           0       0.94      0.95      0.94       695\n",
            "           1       0.85      0.82      0.83       240\n",
            "\n",
            "    accuracy                           0.92       935\n",
            "   macro avg       0.89      0.88      0.89       935\n",
            "weighted avg       0.91      0.92      0.91       935\n",
            "\n",
            "              precision    recall  f1-score   support\n",
            "\n",
            "           0       0.93      0.96      0.95       696\n",
            "           1       0.88      0.80      0.84       239\n",
            "\n",
            "    accuracy                           0.92       935\n",
            "   macro avg       0.91      0.88      0.89       935\n",
            "weighted avg       0.92      0.92      0.92       935\n",
            "\n"
          ]
        }
      ]
    },
    {
      "cell_type": "code",
      "source": [
        "import matplotlib.pyplot as plt\n",
        "import seaborn as sns\n",
        "\n",
        "idx = feature_probability['Probability'].abs().sort_values(ascending = False).head(10).index\n",
        "feature_probability2 = feature_probability.loc[idx]\n",
        "\n",
        "plt.style.use('ggplot')\n",
        "plt.figure(figsize = (15,5))\n",
        "sns.barplot(x='Probability',y='Feature',data=feature_probability2).set(title='Top Sender Domains by Probability')"
      ],
      "metadata": {
        "id": "s7AKFm6oD5wD",
        "outputId": "f6ac1a69-032b-4f6f-fde0-5c63007dc18d",
        "colab": {
          "base_uri": "https://localhost:8080/",
          "height": 509
        }
      },
      "id": "s7AKFm6oD5wD",
      "execution_count": 129,
      "outputs": [
        {
          "output_type": "execute_result",
          "data": {
            "text/plain": [
              "[Text(0.5, 1.0, 'Top Sender Domains by Probability')]"
            ]
          },
          "metadata": {},
          "execution_count": 129
        },
        {
          "output_type": "display_data",
          "data": {
            "text/plain": [
              "<Figure size 1500x500 with 1 Axes>"
            ],
            "image/png": "[encoded data removed]"
          },
          "metadata": {}
        }
      ]
    },
    {
      "cell_type": "code",
      "source": [
        "# support vector machine - classifier\n",
        "from sklearnex import patch_sklearn\n",
        "patch_sklearn()\n",
        "from sklearn.svm import SVC\n",
        "\n",
        "my_pipe = Pipeline([\n",
        "    ('vectorizer',TfidfVectorizer(token_pattern=r\"(?u)\\b\\w+\\b\", stop_words=None, ngram_range=(2,2), analyzer='word')),\n",
        "    ('estimator',SVC(random_state=610))\n",
        "])\n",
        "pipe_params = {\n",
        "    'estimator__C':[.01,.1,.5,1],\n",
        "    'estimator__gamma':['scale','auto']\n",
        "}\n",
        "\n",
        "grid = GridSearchCV(my_pipe,pipe_params,cv=skf,scoring='accuracy',n_jobs=-1)\n",
        "results = grid.fit(X,y)\n",
        "print(results.best_estimator_)\n",
        "print(results.best_score_)"
      ],
      "metadata": {
        "colab": {
          "base_uri": "https://localhost:8080/"
        },
        "id": "6RzoIf4s7xGa",
        "outputId": "1f078700-6860-420d-ea60-9ec05fe8a614"
      },
      "id": "6RzoIf4s7xGa",
      "execution_count": null,
      "outputs": [
        {
          "metadata": {
            "tags": null
          },
          "name": "stderr",
          "output_type": "stream",
          "text": [
            "Intel(R) Extension for Scikit-learn* enabled (https://github.com/intel/scikit-learn-intelex)\n",
            "/usr/local/lib/python3.10/dist-packages/joblib/externals/loky/process_executor.py:700: UserWarning: A worker stopped while some jobs were given to the executor. This can be caused by a too short worker timeout or by a memory leak.\n",
            "  warnings.warn(\n"
          ]
        },
        {
          "metadata": {
            "tags": null
          },
          "name": "stdout",
          "output_type": "stream",
          "text": [
            "Pipeline(steps=[('vectorizer',\n",
            "                 TfidfVectorizer(ngram_range=(2, 2),\n",
            "                                 token_pattern='(?u)\\\\b\\\\w+\\\\b')),\n",
            "                ('estimator', SVC(C=1, random_state=610))])\n",
            "0.9868491475844416\n"
          ]
        }
      ]
    },
    {
      "cell_type": "code",
      "source": [
        "# svc with best params\n",
        "my_pipe = Pipeline([\n",
        "    ('vectorizer',TfidfVectorizer(token_pattern=r\"(?u)\\b\\w+\\b\", stop_words=None, ngram_range=(2,2), analyzer='word')),\n",
        "    ('estimator',SVC(random_state=610,C=results.best_params_.get('estimator__C')))#not returning best for gamma for some reason\n",
        "])\n",
        "acc_score = []\n",
        "rec_score = []\n",
        "for i, (train,test) in enumerate(skf.split(X,y)):\n",
        "    my_pipe.fit(X[train],y[train])\n",
        "    p = my_pipe.predict(X[test])\n",
        "    acc_score.append(accuracy_score(y[test],p))\n",
        "    rec_score.append(recall_score(y[test],p))\n",
        "    print(classification_report(y[test],p))\n",
        "    \n",
        "svc_scores = pd.DataFrame({'accuracy':acc_score,\n",
        "                           'recall':rec_score})"
      ],
      "metadata": {
        "colab": {
          "base_uri": "https://localhost:8080/"
        },
        "id": "7dXaWtC-lMhM",
        "outputId": "df726c31-ae2e-41ee-abbd-157d1065dc68"
      },
      "id": "7dXaWtC-lMhM",
      "execution_count": null,
      "outputs": [
        {
          "metadata": {
            "tags": null
          },
          "name": "stdout",
          "output_type": "stream",
          "text": [
            "              precision    recall  f1-score   support\n",
            "\n",
            "           0       0.99      1.00      0.99       696\n",
            "           1       1.00      0.96      0.98       240\n",
            "\n",
            "    accuracy                           0.99       936\n",
            "   macro avg       0.99      0.98      0.98       936\n",
            "weighted avg       0.99      0.99      0.99       936\n",
            "\n",
            "              precision    recall  f1-score   support\n",
            "\n",
            "           0       0.98      1.00      0.99       696\n",
            "           1       0.99      0.95      0.97       240\n",
            "\n",
            "    accuracy                           0.99       936\n",
            "   macro avg       0.99      0.97      0.98       936\n",
            "weighted avg       0.99      0.99      0.98       936\n",
            "\n",
            "              precision    recall  f1-score   support\n",
            "\n",
            "           0       0.99      1.00      0.99       696\n",
            "           1       0.99      0.96      0.97       240\n",
            "\n",
            "    accuracy                           0.99       936\n",
            "   macro avg       0.99      0.98      0.98       936\n",
            "weighted avg       0.99      0.99      0.99       936\n",
            "\n",
            "              precision    recall  f1-score   support\n",
            "\n",
            "           0       0.98      1.00      0.99       696\n",
            "           1       1.00      0.95      0.97       239\n",
            "\n",
            "    accuracy                           0.99       935\n",
            "   macro avg       0.99      0.97      0.98       935\n",
            "weighted avg       0.99      0.99      0.98       935\n",
            "\n",
            "              precision    recall  f1-score   support\n",
            "\n",
            "           0       0.98      1.00      0.99       695\n",
            "           1       1.00      0.94      0.97       240\n",
            "\n",
            "    accuracy                           0.99       935\n",
            "   macro avg       0.99      0.97      0.98       935\n",
            "weighted avg       0.99      0.99      0.98       935\n",
            "\n",
            "              precision    recall  f1-score   support\n",
            "\n",
            "           0       0.98      1.00      0.99       695\n",
            "           1       0.99      0.95      0.97       240\n",
            "\n",
            "    accuracy                           0.99       935\n",
            "   macro avg       0.99      0.97      0.98       935\n",
            "weighted avg       0.99      0.99      0.98       935\n",
            "\n",
            "              precision    recall  f1-score   support\n",
            "\n",
            "           0       0.98      1.00      0.99       695\n",
            "           1       1.00      0.95      0.97       240\n",
            "\n",
            "    accuracy                           0.99       935\n",
            "   macro avg       0.99      0.97      0.98       935\n",
            "weighted avg       0.99      0.99      0.99       935\n",
            "\n",
            "              precision    recall  f1-score   support\n",
            "\n",
            "           0       0.99      1.00      1.00       695\n",
            "           1       1.00      0.97      0.99       240\n",
            "\n",
            "    accuracy                           0.99       935\n",
            "   macro avg       1.00      0.99      0.99       935\n",
            "weighted avg       0.99      0.99      0.99       935\n",
            "\n",
            "              precision    recall  f1-score   support\n",
            "\n",
            "           0       0.98      1.00      0.99       695\n",
            "           1       0.99      0.94      0.97       240\n",
            "\n",
            "    accuracy                           0.98       935\n",
            "   macro avg       0.99      0.97      0.98       935\n",
            "weighted avg       0.98      0.98      0.98       935\n",
            "\n",
            "              precision    recall  f1-score   support\n",
            "\n",
            "           0       0.99      1.00      0.99       695\n",
            "           1       1.00      0.96      0.98       240\n",
            "\n",
            "    accuracy                           0.99       935\n",
            "   macro avg       0.99      0.98      0.99       935\n",
            "weighted avg       0.99      0.99      0.99       935\n",
            "\n"
          ]
        }
      ]
    },
    {
      "cell_type": "code",
      "source": [
        "# random forest classifier\n",
        "from sklearn.ensemble import RandomForestClassifier\n",
        "\n",
        "\n",
        "my_pipe = Pipeline([\n",
        "    ('vectorizer',TfidfVectorizer(token_pattern=r\"(?u)\\b\\w+\\b\", stop_words=None, ngram_range=(2,2), analyzer='word')),\n",
        "    ('estimator',RandomForestClassifier(random_state=610,max_depth = 100))\n",
        "])\n",
        "pipe_params = {\n",
        "    'estimator__n_estimators':[50,100,200],\n",
        "    'estimator__class_weight':['balanced',None]\n",
        "}\n",
        "\n",
        "grid = GridSearchCV(my_pipe,pipe_params,cv=skf,scoring='accuracy',n_jobs=-1)\n",
        "results = grid.fit(X,y)\n",
        "print(results.best_estimator_)\n",
        "print(results.best_score_)"
      ],
      "metadata": {
        "id": "sTKM-en-Jyvc"
      },
      "id": "sTKM-en-Jyvc",
      "execution_count": null,
      "outputs": []
    },
    {
      "cell_type": "code",
      "source": [
        "# rf best params\n",
        "my_pipe = Pipeline([\n",
        "    ('vectorizer',TfidfVectorizer(token_pattern=r\"(?u)\\b\\w+\\b\", stop_words=None, ngram_range=(2,2), analyzer='word')),\n",
        "    ('estimator',RandomForestClassifier(max_detph = 100,\n",
        "                                        random_state=610,\n",
        "                                        n_estimators = results.best_params.get('n_estimators'),\n",
        "                                        class_weight = results.best_params.get('class_weight')))\n",
        "])\n",
        "acc_score = []\n",
        "rec_score = []\n",
        "for i, (train,test) in enumerate(skf.split(X,y)):\n",
        "    my_pipe.fit(X[train],y[train])\n",
        "    p = my_pipe.predict(X[test])\n",
        "    acc_score.append(accuracy_score(y[test],p))\n",
        "    rec_score.append(recall_score(y[test],p))\n",
        "    print(classification_report(y[test],p))\n",
        "    \n",
        "rf_scores = pd.DataFrame({'accuracy':acc_score,\n",
        "                           'recall':rec_score})"
      ],
      "metadata": {
        "id": "K2mUahZFlqrk"
      },
      "id": "K2mUahZFlqrk",
      "execution_count": null,
      "outputs": []
    },
    {
      "cell_type": "code",
      "source": [
        "# clustering\n",
        "## checking to see if KMeans can find two clusters that match fairly well with target\n",
        "\n",
        "from sklearn.cluster import KMeans\n",
        "clustering = KMeans(n_clusters=2,n_init='auto',random_state=610).fit(X)\n",
        "km_labels = clustering.labels_\n"
      ],
      "metadata": {
        "id": "cFMu_b_ImspW"
      },
      "id": "cFMu_b_ImspW",
      "execution_count": null,
      "outputs": []
    },
    {
      "cell_type": "code",
      "source": [
        "# clustering\n",
        "from sklearn.cluster import DBSCAN #DBSCAN works with\n",
        "\n",
        "clustering = DBSCAN(eps=1,n_jobs=-1).fit(X)\n",
        "db_labels = clustering.labels_"
      ],
      "metadata": {
        "id": "6HaUa4Denf6v"
      },
      "execution_count": null,
      "outputs": [],
      "id": "6HaUa4Denf6v"
    },
    {
      "cell_type": "code",
      "execution_count": null,
      "id": "57a436b3",
      "metadata": {
        "id": "57a436b3",
        "colab": {
          "base_uri": "https://localhost:8080/",
          "height": 1000
        },
        "outputId": "e8451d6d-43a1-4334-a801-b6355bd0d219"
      },
      "outputs": [
        {
          "output_type": "execute_result",
          "data": {
            "text/plain": [
              "<sklearn.metrics._plot.confusion_matrix.ConfusionMatrixDisplay at 0x7fb239d91b10>"
            ]
          },
          "metadata": {},
          "execution_count": 38
        },
        {
          "output_type": "display_data",
          "data": {
            "text/plain": [
              "<Figure size 2000x2000 with 2 Axes>"
            ],
            "image/png": "[encoded data removed]"
          },
          "metadata": {}
        }
      ],
      "source": [
        "import matplotlib.pyplot as plt\n",
        "plt.rcParams[\"figure.figsize\"] = (20,20)\n",
        "ConfusionMatrixDisplay.from_predictions(target['Label'],p,cmap='Blues')"
      ]
    },
    {
      "cell_type": "code",
      "execution_count": null,
      "id": "e9b5d368",
      "metadata": {
        "id": "e9b5d368"
      },
      "outputs": [],
      "source": [
        "reverse={}\n",
        "for word,value in word_counts.vocabulary_.items():\n",
        "    reverse[value]=word"
      ]
    }
  ],
  "metadata": {
    "kernelspec": {
      "display_name": "Python 3 (ipykernel)",
      "language": "python",
      "name": "python3"
    },
    "language_info": {
      "codemirror_mode": {
        "name": "ipython",
        "version": 3
      },
      "file_extension": ".py",
      "mimetype": "text/x-python",
      "name": "python",
      "nbconvert_exporter": "python",
      "pygments_lexer": "ipython3",
      "version": "3.10.10"
    },
    "colab": {
      "provenance": [],
      "machine_shape": "hm",
      "include_colab_link": true
    }
  },
  "nbformat": 4,
  "nbformat_minor": 5
}