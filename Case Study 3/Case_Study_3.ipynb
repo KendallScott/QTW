{
  "cells": [
    {
      "cell_type": "markdown",
      "metadata": {
        "id": "view-in-github",
        "colab_type": "text"
      },
      "source": [
        "<a href=\"https://colab.research.google.com/github/KendallScott/QTW/blob/main/Case%20Study%203/Case_Study_3.ipynb\" target=\"_parent\"><img src=\"https://colab.research.google.com/assets/colab-badge.svg\" alt=\"Open In Colab\"/></a>"
      ]
    },
    {
      "cell_type": "code",
      "source": [
        "from google.colab import drive\n",
        "drive.mount('/content/drive')"
      ],
      "metadata": {
        "colab": {
          "base_uri": "https://localhost:8080/"
        },
        "id": "11QoaBxoZQZ1",
        "outputId": "4c0221ae-65bf-4248-9bae-279f82bbcd9a"
      },
      "id": "11QoaBxoZQZ1",
      "execution_count": 344,
      "outputs": [
        {
          "output_type": "stream",
          "name": "stdout",
          "text": [
            "Drive already mounted at /content/drive; to attempt to forcibly remount, call drive.mount(\"/content/drive\", force_remount=True).\n"
          ]
        }
      ]
    },
    {
      "cell_type": "code",
      "source": [
        "file_list = []\n",
        "for root, dirs, files in os.walk(\"/content/drive/MyDrive/SpamAssassinMessages/\", topdown=False):\n",
        "    for name in files:\n",
        "        tmp = os.path.join(root,name)\n",
        "        file_list.append(tmp)\n",
        "    for item in dirs:\n",
        "        print(item)\n",
        "\n",
        "file_list_full = []\n",
        "for i in range(9352):\n",
        "    file_list_full.append(file_list[i])"
      ],
      "metadata": {
        "id": "PlMpfjwLcuv2",
        "outputId": "8103c216-aaa5-453c-c961-5bfcf3750e4c",
        "colab": {
          "base_uri": "https://localhost:8080/"
        }
      },
      "id": "PlMpfjwLcuv2",
      "execution_count": 359,
      "outputs": [
        {
          "output_type": "stream",
          "name": "stdout",
          "text": [
            "spam_2\n",
            "spam\n",
            "easy_ham_2\n",
            "easy_ham\n",
            "hard_ham\n"
          ]
        }
      ]
    },
    {
      "cell_type": "markdown",
      "source": [
        "Option one-- sets the decoder dynamically, but still needs more work for pulling in information on other email types\n"
      ],
      "metadata": {
        "id": "1uhu6443KpUH"
      },
      "id": "1uhu6443KpUH"
    },
    {
      "cell_type": "code",
      "source": [
        "import quopri\n",
        "import codecs\n",
        "import magic\n",
        "import email\n",
        "from gensim.parsing.preprocessing import STOPWORDS\n",
        "from nltk import word_tokenize\n",
        "import chardet\n",
        "\n",
        "i=0\n",
        "\n",
        "\n",
        "contents = []\n",
        "types = []\n",
        "labels = []\n",
        "\n",
        "for root, dirs, files in os.walk(\"/content/drive/MyDrive/SpamAssassinMessages/\"):\n",
        "    for name in files:\n",
        "      \n",
        "        #this may need to be adjusted-- \n",
        "\n",
        "        blob = open(file_list_full[i], 'rb').read()\n",
        "\n",
        "        #determining the encoding of the email, so the open(os.path) portion doesn't hit an error downloading an email\n",
        "\n",
        "        result = chardet.detect(blob)\n",
        "        encoding_dynamic = result['encoding']\n",
        "\n",
        "        if 'unknown' in encoding_dynamic:\n",
        "          #this needs to be setup to pull in the correct encoding when magic fails to identify the right encoding\n",
        "          encoding_dynamic='utf-8'\n",
        "\n",
        "        with open(os.path.join(root,name), encoding=encoding_dynamic, errors='replace') as f:\n",
        "            x = email.message_from_file(f)\n",
        "            print('normal', file_list_full[i])\n",
        "            i+=1\n",
        "\n",
        "            if \"multipart\" in x.get_content_type():\n",
        "            # Clean up multipart email to raw string\n",
        "              content_parts = []\n",
        "\n",
        "              for part in x.walk():\n",
        "                if part.get_content_type() == \"text/plain\":\n",
        "                      content = part.get_payload(decode=True).decode(\"utf-8\").replace(\"\\n\", \" \")\n",
        "                      content_parts.append(content)\n",
        "                content = \"\\n\".join(content_parts)\n",
        "                contents.append(content)\n",
        "\n",
        "            elif \"text/plain\" in x.get_content_type():  #boy I hope all text messages are the same!\n",
        "                # clean up multipart email to raw string\n",
        "                contents.append(x.get_payload().replace(\"\\n\",\" \"))\n",
        "\n",
        "            elif \"html\" in x.get_content_type():\n",
        "                # clean up html email to raw string\n",
        "                contents.append(x)\n",
        "                types.append(x.get_content_type())\n",
        "\n",
        "            if \"ham\" in root:\n",
        "                labels.append(0)\n",
        "            elif \"spam\" in root:\n",
        "                labels.append(1)\n",
        "            else:\n",
        "                print(\"YOU HAVE A BIG PROBLEM--LABEL NOT FOUND\")\n",
        "                \n",
        "            if \"ham\" in root:\n",
        "                labels.append(0)\n",
        "            elif \"spam\" in root:\n",
        "                labels.append(1)\n",
        "            else:\n",
        "                print(\"YOU HAVE A BIG PROBLEM--LABEL NOT FOUND\")\n",
        "                \n",
        "        "
      ],
      "metadata": {
        "colab": {
          "base_uri": "https://localhost:8080/",
          "height": 1000
        },
        "id": "TnTaU47O3SWE",
        "outputId": "8f3040cd-7e00-43c8-a9ba-31986b96a1a0"
      },
      "id": "TnTaU47O3SWE",
      "execution_count": 369,
      "outputs": [
        {
          "output_type": "stream",
          "name": "stdout",
          "text": [
            "normal /content/drive/MyDrive/SpamAssassinMessages/spam_2/00553.4e22bb923ee41a61d04f8b275157366b\n",
            "normal /content/drive/MyDrive/SpamAssassinMessages/spam_2/00724.edc5a3ce2ea91fedbf00aa0c30459a87\n",
            "normal /content/drive/MyDrive/SpamAssassinMessages/spam_2/00585.0cc56d33bcfde91ab75bf202e4684c4a\n",
            "normal /content/drive/MyDrive/SpamAssassinMessages/spam_2/00653.dcb006e0c0aaa7aa3e5bd7cb3d444f23\n",
            "normal /content/drive/MyDrive/SpamAssassinMessages/spam_2/00484.602c7afb217663a43dd5fa24d97d1ca4\n",
            "normal /content/drive/MyDrive/SpamAssassinMessages/spam_2/00591.962cc31322a42abd7ca205b62c56438e\n",
            "normal /content/drive/MyDrive/SpamAssassinMessages/spam_2/00543.e69bd0a0effd4a12537fb358d79ea337\n",
            "normal /content/drive/MyDrive/SpamAssassinMessages/spam_2/00463.0bc4e08af0529dd773d9f10f922547db\n",
            "normal /content/drive/MyDrive/SpamAssassinMessages/spam_2/00458.49467dba97d6ac2825c533df9a7a5017\n",
            "normal /content/drive/MyDrive/SpamAssassinMessages/spam_2/00519.f189e2f1541968e48de6ebd9db23b35d\n",
            "normal /content/drive/MyDrive/SpamAssassinMessages/spam_2/00535.6f0720362e104f169c08308d82a8c804\n",
            "normal /content/drive/MyDrive/SpamAssassinMessages/spam_2/00598.55751466eb0cbc307da570a603daa3d6\n",
            "normal /content/drive/MyDrive/SpamAssassinMessages/spam_2/00524.640f4413fd9d75339aba617157a43d5e\n",
            "normal /content/drive/MyDrive/SpamAssassinMessages/spam_2/00540.d66cdfb53617f2192367e7f327a018c7\n",
            "normal /content/drive/MyDrive/SpamAssassinMessages/spam_2/00614.974cdf353242f9286fbcc34673d9f28a\n",
            "normal /content/drive/MyDrive/SpamAssassinMessages/spam_2/00570.cc1a4d6cf41350cf10e2b588dacb2dff\n",
            "normal /content/drive/MyDrive/SpamAssassinMessages/spam_2/00471.df77fa930951f79466c195052ff56816\n",
            "normal /content/drive/MyDrive/SpamAssassinMessages/spam_2/00605.8a2e83e442d0052a2b2e9cff1ef0793c\n",
            "normal /content/drive/MyDrive/SpamAssassinMessages/spam_2/00619.8b327d9ed6741fb05ac4a180a5f776c6\n",
            "normal /content/drive/MyDrive/SpamAssassinMessages/spam_2/00567.9a792928197fff7a7a38aee412bf4a07\n",
            "normal /content/drive/MyDrive/SpamAssassinMessages/spam_2/00623.f80874598b1a22fbaa5d979d14d8ca2e\n",
            "normal /content/drive/MyDrive/SpamAssassinMessages/spam_2/00608.bf7d77ef4f28552278f78a5aef71f0cf\n",
            "normal /content/drive/MyDrive/SpamAssassinMessages/spam_2/00455.8ccdcb205b6f8c3958bb3b2d39edca46\n",
            "normal /content/drive/MyDrive/SpamAssassinMessages/spam_2/00456.c680a0c7d8d8d91bf3fb9f77ce6541b0\n",
            "normal /content/drive/MyDrive/SpamAssassinMessages/spam_2/00569.369bb86b7ae4572b2eba48e0b8daf0ea\n",
            "normal /content/drive/MyDrive/SpamAssassinMessages/spam_2/00664.c4f198903588cdc4af385772bb580d90\n",
            "normal /content/drive/MyDrive/SpamAssassinMessages/spam_2/00580.c3b23134b4767f5e796d0df997fede33\n",
            "normal /content/drive/MyDrive/SpamAssassinMessages/spam_2/00530.7495e8bd02e1dccfea08502d0e406e5d\n",
            "normal /content/drive/MyDrive/SpamAssassinMessages/spam_2/00464.d2f719c667d192af860572b1c858cc11\n",
            "normal /content/drive/MyDrive/SpamAssassinMessages/spam_2/00577.0b1933615cd59d8348c899158d25f252\n",
            "normal /content/drive/MyDrive/SpamAssassinMessages/spam_2/00559.f134a8ef403b9c3cc92f44a808a97403\n",
            "normal /content/drive/MyDrive/SpamAssassinMessages/spam_2/00609.4dfe7912017772587dc62fecc3cf6553\n",
            "normal /content/drive/MyDrive/SpamAssassinMessages/spam_2/00527.692952717b3f63cd2964ff2ff73ed91d\n",
            "normal /content/drive/MyDrive/SpamAssassinMessages/spam_2/00522.3c781aa53f7de37cf33e2205faac7143\n",
            "normal /content/drive/MyDrive/SpamAssassinMessages/spam_2/00505.d4fa302630b3e58461b644f7b3e11d82\n",
            "normal /content/drive/MyDrive/SpamAssassinMessages/spam_2/00526.9a55d84e77b13b309a15ccce04901f94\n",
            "normal /content/drive/MyDrive/SpamAssassinMessages/spam_2/00620.488299bafd542cdfa1a1fb98f00e6441\n",
            "normal /content/drive/MyDrive/SpamAssassinMessages/spam_2/00565.a1a4b8367b5c7f5e865df0539b52969a\n",
            "normal /content/drive/MyDrive/SpamAssassinMessages/spam_2/00517.08bde5f35a9480cf76111e2e3ed57cca\n",
            "normal /content/drive/MyDrive/SpamAssassinMessages/spam_2/00600.d113e8e0ac2d8d42f500f4faef61061b\n",
            "normal /content/drive/MyDrive/SpamAssassinMessages/spam_2/00510.ce04ead27e498e82285ea6dbb0837c13\n",
            "normal /content/drive/MyDrive/SpamAssassinMessages/spam_2/00468.fb2222cc49228bd3dac5481e670f208f\n",
            "normal /content/drive/MyDrive/SpamAssassinMessages/spam_2/00651.91e7858a180e7fa136c544c56e525b60\n",
            "normal /content/drive/MyDrive/SpamAssassinMessages/spam_2/00513.08c05933ceb2092de8a4866b91d6f274\n",
            "normal /content/drive/MyDrive/SpamAssassinMessages/spam_2/00494.6d13d2217c5cc00c26b72d97c7fe6014\n",
            "normal /content/drive/MyDrive/SpamAssassinMessages/spam_2/00472.3c51cf86307bc98c54d856887a81e9ac\n",
            "normal /content/drive/MyDrive/SpamAssassinMessages/spam_2/00583.b780ea187746d4722e9a684fe34f0cc9\n",
            "normal /content/drive/MyDrive/SpamAssassinMessages/spam_2/00480.682829ef5c1f1639f0a060190c5d4b33\n",
            "normal /content/drive/MyDrive/SpamAssassinMessages/spam_2/00483.e583ffb0efd3958cdef2e9f3b043ef0d\n",
            "normal /content/drive/MyDrive/SpamAssassinMessages/spam_2/00556.098b57f5108ba34d21825f176e492786\n",
            "normal /content/drive/MyDrive/SpamAssassinMessages/spam_2/00538.46858b6122a85685022250db2f25b32a\n",
            "normal /content/drive/MyDrive/SpamAssassinMessages/spam_2/00465.81b738fc646c03b1db38a456cd087ad7\n",
            "normal /content/drive/MyDrive/SpamAssassinMessages/spam_2/00597.77c914c24bd38a4cfa7ef06aae438d17\n",
            "normal /content/drive/MyDrive/SpamAssassinMessages/spam_2/00631.5b4f290bc474889ff457b314996553b1\n",
            "normal /content/drive/MyDrive/SpamAssassinMessages/spam_2/00593.b0c2ee36cf966faf1b5239df81ec1f8d\n",
            "normal /content/drive/MyDrive/SpamAssassinMessages/spam_2/00537.c61f1e424853d045bd87415405cf8cfe\n",
            "normal /content/drive/MyDrive/SpamAssassinMessages/spam_2/00625.e5b3f8bf55addb5884293af0826a7b33\n",
            "normal /content/drive/MyDrive/SpamAssassinMessages/spam_2/00590.7a27fe75bf73486c1c1913f87aaddb4d\n",
            "normal /content/drive/MyDrive/SpamAssassinMessages/spam_2/00624.ac49070506c194c1fad5953ccd32731b\n",
            "normal /content/drive/MyDrive/SpamAssassinMessages/spam_2/00630.ece73cd5ba46bf19ac2ceb9d7e21cea1\n",
            "normal /content/drive/MyDrive/SpamAssassinMessages/spam_2/00470.68eed3d237f85b225b1ad31bceac203a\n",
            "normal /content/drive/MyDrive/SpamAssassinMessages/spam_2/00644.0f0a6c387d64887571426d7e28367947\n",
            "normal /content/drive/MyDrive/SpamAssassinMessages/spam_2/00469.d2c0c55b686454f38eee312c5e190816\n",
            "normal /content/drive/MyDrive/SpamAssassinMessages/spam_2/00657.7e326e955029c898a6ddf27e3c79cdf0\n",
            "normal /content/drive/MyDrive/SpamAssassinMessages/spam_2/00520.892a859ed7b0c96d56ae83e4f6ee6b11\n",
            "normal /content/drive/MyDrive/SpamAssassinMessages/spam_2/00566.9b3e6f0ed54a232fcf6533c75d5c218e\n",
            "normal /content/drive/MyDrive/SpamAssassinMessages/spam_2/00663.4baa9521293a04306b038be1f65d4471\n",
            "normal /content/drive/MyDrive/SpamAssassinMessages/spam_2/00478.a4d1f3bcbb571f1c3809bf47cb5ee57f\n",
            "normal /content/drive/MyDrive/SpamAssassinMessages/spam_2/00557.01f1bd4d6e5236e78268f10a498c4aba\n",
            "normal /content/drive/MyDrive/SpamAssassinMessages/spam_2/00648.fa4e260a3fadd4ddb60a9ce8c3d7dd36\n",
            "normal /content/drive/MyDrive/SpamAssassinMessages/spam_2/00476.38e32c20c334317781e90c3e6754fbe9\n",
            "normal /content/drive/MyDrive/SpamAssassinMessages/spam_2/00659.668ba8daca71e86de0ee5e412b177015\n",
            "normal /content/drive/MyDrive/SpamAssassinMessages/spam_2/00512.8a8d03da14819f83a8936f224cd9c9cc\n",
            "normal /content/drive/MyDrive/SpamAssassinMessages/spam_2/00638.ae5006a001e88e8cd956b7a142e41984\n",
            "normal /content/drive/MyDrive/SpamAssassinMessages/spam_2/00486.7f5cde6ad9f34dcbe56a1fd73138b351\n",
            "normal /content/drive/MyDrive/SpamAssassinMessages/spam_2/00592.8da31ade2e259569f9741cca3d98d952\n",
            "normal /content/drive/MyDrive/SpamAssassinMessages/spam_2/00656.01241a0a9af570787841694e9781a5b6\n",
            "normal /content/drive/MyDrive/SpamAssassinMessages/spam_2/00499.257302b8f6056eb85e0daa37bfcd2c68\n",
            "normal /content/drive/MyDrive/SpamAssassinMessages/spam_2/00587.582e355efbb36f9a0d55997e093626ba\n",
            "normal /content/drive/MyDrive/SpamAssassinMessages/spam_2/00518.3b454f92294b060a41b0771941394bd3\n",
            "normal /content/drive/MyDrive/SpamAssassinMessages/spam_2/00521.70417de823222858b4100b6030a64168\n",
            "normal /content/drive/MyDrive/SpamAssassinMessages/spam_2/00506.85af6cd716febc6265ac7b362a4a1da6\n",
            "normal /content/drive/MyDrive/SpamAssassinMessages/spam_2/00640.564b03520087bb4595384ae024ceb929\n"
          ]
        },
        {
          "output_type": "error",
          "ename": "UnicodeDecodeError",
          "evalue": "ignored",
          "traceback": [
            "\u001b[0;31m---------------------------------------------------------------------------\u001b[0m",
            "\u001b[0;31mUnicodeDecodeError\u001b[0m                        Traceback (most recent call last)",
            "\u001b[0;32m<ipython-input-369-fbf456cb6434>\u001b[0m in \u001b[0;36m<cell line: 16>\u001b[0;34m()\u001b[0m\n\u001b[1;32m     41\u001b[0m               \u001b[0;32mfor\u001b[0m \u001b[0mpart\u001b[0m \u001b[0;32min\u001b[0m \u001b[0mx\u001b[0m\u001b[0;34m.\u001b[0m\u001b[0mwalk\u001b[0m\u001b[0;34m(\u001b[0m\u001b[0;34m)\u001b[0m\u001b[0;34m:\u001b[0m\u001b[0;34m\u001b[0m\u001b[0;34m\u001b[0m\u001b[0m\n\u001b[1;32m     42\u001b[0m                 \u001b[0;32mif\u001b[0m \u001b[0mpart\u001b[0m\u001b[0;34m.\u001b[0m\u001b[0mget_content_type\u001b[0m\u001b[0;34m(\u001b[0m\u001b[0;34m)\u001b[0m \u001b[0;34m==\u001b[0m \u001b[0;34m\"text/plain\"\u001b[0m\u001b[0;34m:\u001b[0m\u001b[0;34m\u001b[0m\u001b[0;34m\u001b[0m\u001b[0m\n\u001b[0;32m---> 43\u001b[0;31m                       \u001b[0mcontent\u001b[0m \u001b[0;34m=\u001b[0m \u001b[0mpart\u001b[0m\u001b[0;34m.\u001b[0m\u001b[0mget_payload\u001b[0m\u001b[0;34m(\u001b[0m\u001b[0mdecode\u001b[0m\u001b[0;34m=\u001b[0m\u001b[0;32mTrue\u001b[0m\u001b[0;34m)\u001b[0m\u001b[0;34m.\u001b[0m\u001b[0mdecode\u001b[0m\u001b[0;34m(\u001b[0m\u001b[0;34m\"utf-8\"\u001b[0m\u001b[0;34m)\u001b[0m\u001b[0;34m.\u001b[0m\u001b[0mreplace\u001b[0m\u001b[0;34m(\u001b[0m\u001b[0;34m\"\\n\"\u001b[0m\u001b[0;34m,\u001b[0m \u001b[0;34m\" \"\u001b[0m\u001b[0;34m)\u001b[0m\u001b[0;34m\u001b[0m\u001b[0;34m\u001b[0m\u001b[0m\n\u001b[0m\u001b[1;32m     44\u001b[0m                       \u001b[0mcontent_parts\u001b[0m\u001b[0;34m.\u001b[0m\u001b[0mappend\u001b[0m\u001b[0;34m(\u001b[0m\u001b[0mcontent\u001b[0m\u001b[0;34m)\u001b[0m\u001b[0;34m\u001b[0m\u001b[0;34m\u001b[0m\u001b[0m\n\u001b[1;32m     45\u001b[0m                 \u001b[0mcontent\u001b[0m \u001b[0;34m=\u001b[0m \u001b[0;34m\"\\n\"\u001b[0m\u001b[0;34m.\u001b[0m\u001b[0mjoin\u001b[0m\u001b[0;34m(\u001b[0m\u001b[0mcontent_parts\u001b[0m\u001b[0;34m)\u001b[0m\u001b[0;34m\u001b[0m\u001b[0;34m\u001b[0m\u001b[0m\n",
            "\u001b[0;31mUnicodeDecodeError\u001b[0m: 'utf-8' codec can't decode byte 0xf4 in position 1169: invalid continuation byte"
          ]
        }
      ]
    },
    {
      "cell_type": "code",
      "source": [
        "import pandas as pd \n",
        "\n",
        "data = pd.DataFrame({\"Text\":contents,\"Label\":labels})\n",
        "data"
      ],
      "metadata": {
        "id": "H-r-QIpQLYWN",
        "outputId": "ae394170-2aa0-401e-8678-33d14aa8f72c",
        "colab": {
          "base_uri": "https://localhost:8080/",
          "height": 423
        }
      },
      "id": "H-r-QIpQLYWN",
      "execution_count": 376,
      "outputs": [
        {
          "output_type": "execute_result",
          "data": {
            "text/plain": [
              "                                                   Text  Label\n",
              "0     How would you like a Top Rated Law Firm workin...      1\n",
              "1     SUBJECT:                     Urgent Concern Pl...      1\n",
              "2     [Return-Path, Delivery-Date, Received, Receive...      1\n",
              "3     As seen on NBC, CBS, CNN, and even Oprah! The ...      1\n",
              "4                                                            1\n",
              "...                                                 ...    ...\n",
              "9349  Hi XFS developers, When studying xfs code(2.4....      0\n",
              "9350  My gut reaction would be to tell them to go an...      0\n",
              "9351                      *  WORD A DAY  * ---------...      0\n",
              "9352  ==============================================...      0\n",
              "9353  Hi, I have created two databases, db1 and db2 ...      0\n",
              "\n",
              "[9354 rows x 2 columns]"
            ],
            "text/html": [
              "\n",
              "  <div id=\"df-0a27f6c6-372a-4f7c-8b70-f0c185b88453\">\n",
              "    <div class=\"colab-df-container\">\n",
              "      <div>\n",
              "<style scoped>\n",
              "    .dataframe tbody tr th:only-of-type {\n",
              "        vertical-align: middle;\n",
              "    }\n",
              "\n",
              "    .dataframe tbody tr th {\n",
              "        vertical-align: top;\n",
              "    }\n",
              "\n",
              "    .dataframe thead th {\n",
              "        text-align: right;\n",
              "    }\n",
              "</style>\n",
              "<table border=\"1\" class=\"dataframe\">\n",
              "  <thead>\n",
              "    <tr style=\"text-align: right;\">\n",
              "      <th></th>\n",
              "      <th>Text</th>\n",
              "      <th>Label</th>\n",
              "    </tr>\n",
              "  </thead>\n",
              "  <tbody>\n",
              "    <tr>\n",
              "      <th>0</th>\n",
              "      <td>How would you like a Top Rated Law Firm workin...</td>\n",
              "      <td>1</td>\n",
              "    </tr>\n",
              "    <tr>\n",
              "      <th>1</th>\n",
              "      <td>SUBJECT:                     Urgent Concern Pl...</td>\n",
              "      <td>1</td>\n",
              "    </tr>\n",
              "    <tr>\n",
              "      <th>2</th>\n",
              "      <td>[Return-Path, Delivery-Date, Received, Receive...</td>\n",
              "      <td>1</td>\n",
              "    </tr>\n",
              "    <tr>\n",
              "      <th>3</th>\n",
              "      <td>As seen on NBC, CBS, CNN, and even Oprah! The ...</td>\n",
              "      <td>1</td>\n",
              "    </tr>\n",
              "    <tr>\n",
              "      <th>4</th>\n",
              "      <td></td>\n",
              "      <td>1</td>\n",
              "    </tr>\n",
              "    <tr>\n",
              "      <th>...</th>\n",
              "      <td>...</td>\n",
              "      <td>...</td>\n",
              "    </tr>\n",
              "    <tr>\n",
              "      <th>9349</th>\n",
              "      <td>Hi XFS developers, When studying xfs code(2.4....</td>\n",
              "      <td>0</td>\n",
              "    </tr>\n",
              "    <tr>\n",
              "      <th>9350</th>\n",
              "      <td>My gut reaction would be to tell them to go an...</td>\n",
              "      <td>0</td>\n",
              "    </tr>\n",
              "    <tr>\n",
              "      <th>9351</th>\n",
              "      <td>*  WORD A DAY  * ---------...</td>\n",
              "      <td>0</td>\n",
              "    </tr>\n",
              "    <tr>\n",
              "      <th>9352</th>\n",
              "      <td>==============================================...</td>\n",
              "      <td>0</td>\n",
              "    </tr>\n",
              "    <tr>\n",
              "      <th>9353</th>\n",
              "      <td>Hi, I have created two databases, db1 and db2 ...</td>\n",
              "      <td>0</td>\n",
              "    </tr>\n",
              "  </tbody>\n",
              "</table>\n",
              "<p>9354 rows × 2 columns</p>\n",
              "</div>\n",
              "      <button class=\"colab-df-convert\" onclick=\"convertToInteractive('df-0a27f6c6-372a-4f7c-8b70-f0c185b88453')\"\n",
              "              title=\"Convert this dataframe to an interactive table.\"\n",
              "              style=\"display:none;\">\n",
              "        \n",
              "  <svg xmlns=\"http://www.w3.org/2000/svg\" height=\"24px\"viewBox=\"0 0 24 24\"\n",
              "       width=\"24px\">\n",
              "    <path d=\"M0 0h24v24H0V0z\" fill=\"none\"/>\n",
              "    <path d=\"M18.56 5.44l.94 2.06.94-2.06 2.06-.94-2.06-.94-.94-2.06-.94 2.06-2.06.94zm-11 1L8.5 8.5l.94-2.06 2.06-.94-2.06-.94L8.5 2.5l-.94 2.06-2.06.94zm10 10l.94 2.06.94-2.06 2.06-.94-2.06-.94-.94-2.06-.94 2.06-2.06.94z\"/><path d=\"M17.41 7.96l-1.37-1.37c-.4-.4-.92-.59-1.43-.59-.52 0-1.04.2-1.43.59L10.3 9.45l-7.72 7.72c-.78.78-.78 2.05 0 2.83L4 21.41c.39.39.9.59 1.41.59.51 0 1.02-.2 1.41-.59l7.78-7.78 2.81-2.81c.8-.78.8-2.07 0-2.86zM5.41 20L4 18.59l7.72-7.72 1.47 1.35L5.41 20z\"/>\n",
              "  </svg>\n",
              "      </button>\n",
              "      \n",
              "  <style>\n",
              "    .colab-df-container {\n",
              "      display:flex;\n",
              "      flex-wrap:wrap;\n",
              "      gap: 12px;\n",
              "    }\n",
              "\n",
              "    .colab-df-convert {\n",
              "      background-color: #E8F0FE;\n",
              "      border: none;\n",
              "      border-radius: 50%;\n",
              "      cursor: pointer;\n",
              "      display: none;\n",
              "      fill: #1967D2;\n",
              "      height: 32px;\n",
              "      padding: 0 0 0 0;\n",
              "      width: 32px;\n",
              "    }\n",
              "\n",
              "    .colab-df-convert:hover {\n",
              "      background-color: #E2EBFA;\n",
              "      box-shadow: 0px 1px 2px rgba(60, 64, 67, 0.3), 0px 1px 3px 1px rgba(60, 64, 67, 0.15);\n",
              "      fill: #174EA6;\n",
              "    }\n",
              "\n",
              "    [theme=dark] .colab-df-convert {\n",
              "      background-color: #3B4455;\n",
              "      fill: #D2E3FC;\n",
              "    }\n",
              "\n",
              "    [theme=dark] .colab-df-convert:hover {\n",
              "      background-color: #434B5C;\n",
              "      box-shadow: 0px 1px 3px 1px rgba(0, 0, 0, 0.15);\n",
              "      filter: drop-shadow(0px 1px 2px rgba(0, 0, 0, 0.3));\n",
              "      fill: #FFFFFF;\n",
              "    }\n",
              "  </style>\n",
              "\n",
              "      <script>\n",
              "        const buttonEl =\n",
              "          document.querySelector('#df-0a27f6c6-372a-4f7c-8b70-f0c185b88453 button.colab-df-convert');\n",
              "        buttonEl.style.display =\n",
              "          google.colab.kernel.accessAllowed ? 'block' : 'none';\n",
              "\n",
              "        async function convertToInteractive(key) {\n",
              "          const element = document.querySelector('#df-0a27f6c6-372a-4f7c-8b70-f0c185b88453');\n",
              "          const dataTable =\n",
              "            await google.colab.kernel.invokeFunction('convertToInteractive',\n",
              "                                                     [key], {});\n",
              "          if (!dataTable) return;\n",
              "\n",
              "          const docLinkHtml = 'Like what you see? Visit the ' +\n",
              "            '<a target=\"_blank\" href=https://colab.research.google.com/notebooks/data_table.ipynb>data table notebook</a>'\n",
              "            + ' to learn more about interactive tables.';\n",
              "          element.innerHTML = '';\n",
              "          dataTable['output_type'] = 'display_data';\n",
              "          await google.colab.output.renderOutput(dataTable, element);\n",
              "          const docLink = document.createElement('div');\n",
              "          docLink.innerHTML = docLinkHtml;\n",
              "          element.appendChild(docLink);\n",
              "        }\n",
              "      </script>\n",
              "    </div>\n",
              "  </div>\n",
              "  "
            ]
          },
          "metadata": {},
          "execution_count": 376
        }
      ]
    },
    {
      "cell_type": "code",
      "source": [
        "len(contents)"
      ],
      "metadata": {
        "id": "aQT5bxdC4eca"
      },
      "id": "aQT5bxdC4eca",
      "execution_count": null,
      "outputs": []
    },
    {
      "cell_type": "code",
      "source": [
        "len(types)"
      ],
      "metadata": {
        "id": "dqCPObrL4ntU"
      },
      "id": "dqCPObrL4ntU",
      "execution_count": null,
      "outputs": []
    },
    {
      "cell_type": "code",
      "source": [
        "len(labels)"
      ],
      "metadata": {
        "id": "9dDWDgNJ4oX2"
      },
      "id": "9dDWDgNJ4oX2",
      "execution_count": null,
      "outputs": []
    },
    {
      "cell_type": "code",
      "execution_count": null,
      "id": "linear-richardson",
      "metadata": {
        "id": "linear-richardson"
      },
      "outputs": [],
      "source": [
        "import pandas as pd \n",
        "\n",
        "data = pd.DataFrame({\"Text\":contents,\"Label\":labels})"
      ]
    },
    {
      "cell_type": "code",
      "execution_count": null,
      "id": "premier-recorder",
      "metadata": {
        "id": "premier-recorder"
      },
      "outputs": [],
      "source": [
        "data[data['type'].str.contains(\"html\")]"
      ]
    },
    {
      "cell_type": "code",
      "execution_count": null,
      "id": "statutory-driver",
      "metadata": {
        "id": "statutory-driver"
      },
      "outputs": [],
      "source": [
        "data"
      ]
    },
    {
      "cell_type": "code",
      "execution_count": null,
      "id": "premier-madness",
      "metadata": {
        "id": "premier-madness"
      },
      "outputs": [],
      "source": [
        "from sklearn.feature_extraction.text import CountVectorizer"
      ]
    },
    {
      "cell_type": "code",
      "execution_count": null,
      "id": "contained-isolation",
      "metadata": {
        "id": "contained-isolation"
      },
      "outputs": [],
      "source": [
        "vectorizer = CountVectorizer()"
      ]
    },
    {
      "cell_type": "code",
      "execution_count": null,
      "id": "endangered-butler",
      "metadata": {
        "id": "endangered-butler"
      },
      "outputs": [],
      "source": [
        "out = vectorizer.fit_transform(data['Text'])"
      ]
    },
    {
      "cell_type": "code",
      "execution_count": null,
      "id": "certified-wings",
      "metadata": {
        "id": "certified-wings"
      },
      "outputs": [],
      "source": [
        "vectorizer.vocabulary_"
      ]
    },
    {
      "cell_type": "code",
      "execution_count": null,
      "id": "flying-people",
      "metadata": {
        "id": "flying-people"
      },
      "outputs": [],
      "source": [
        "data.iloc[0,0]"
      ]
    },
    {
      "cell_type": "code",
      "execution_count": null,
      "id": "peaceful-covering",
      "metadata": {
        "id": "peaceful-covering"
      },
      "outputs": [],
      "source": [
        "<unk>\n",
        "            "
      ]
    },
    {
      "cell_type": "code",
      "execution_count": null,
      "id": "conservative-evaluation",
      "metadata": {
        "id": "conservative-evaluation"
      },
      "outputs": [],
      "source": [
        "reverse={}\n",
        "for word,value in vectorizer.vocabulary_.items():\n",
        "    reverse[value]=word"
      ]
    },
    {
      "cell_type": "code",
      "execution_count": null,
      "id": "focused-pacific",
      "metadata": {
        "id": "focused-pacific"
      },
      "outputs": [],
      "source": [
        "reverse[64792]"
      ]
    },
    {
      "cell_type": "code",
      "execution_count": null,
      "id": "751cb4f8",
      "metadata": {
        "id": "751cb4f8"
      },
      "outputs": [],
      "source": [
        "for i in range(out[0].shape[1]):\n",
        "    if out[0,i]>0:\n",
        "        print(reverse[i], out[0,i])"
      ]
    },
    {
      "cell_type": "code",
      "execution_count": null,
      "id": "f964463a",
      "metadata": {
        "id": "f964463a"
      },
      "outputs": [],
      "source": [
        "out[0,0]"
      ]
    },
    {
      "cell_type": "code",
      "execution_count": null,
      "id": "29fd194d",
      "metadata": {
        "id": "29fd194d"
      },
      "outputs": [],
      "source": [
        "vectorizer.vocabulary_['unk']"
      ]
    },
    {
      "cell_type": "code",
      "execution_count": null,
      "id": "7b3d26dd",
      "metadata": {
        "id": "7b3d26dd"
      },
      "outputs": [],
      "source": [
        "<unk> = 102\n",
        "<start> = 101\n",
        "<end>= 3\n",
        "<pad> = 100\n",
        "<cls>"
      ]
    },
    {
      "cell_type": "code",
      "execution_count": null,
      "id": "29da9dac",
      "metadata": {
        "id": "29da9dac"
      },
      "outputs": [],
      "source": [
        "\"<pad> <pad> <start> The <unk> car drove away <end>\""
      ]
    },
    {
      "cell_type": "code",
      "execution_count": null,
      "id": "46fc87cf",
      "metadata": {
        "id": "46fc87cf"
      },
      "outputs": [],
      "source": [
        "from sklearn.datasets import fetch_20newsgroups\n",
        "data = fetch_20newsgroups(subset='train')\n",
        "test = fetch_20newsgroups(subset='test')"
      ]
    },
    {
      "cell_type": "code",
      "execution_count": null,
      "id": "24340720",
      "metadata": {
        "id": "24340720"
      },
      "outputs": [],
      "source": [
        "from sklearn.feature_extraction.text import CountVectorizer\n",
        "word_counts = CountVectorizer()\n",
        "v_data = word_counts.fit_transform(data['data'])\n",
        "v_test = word_counts.transform(test['data'])"
      ]
    },
    {
      "cell_type": "code",
      "execution_count": null,
      "id": "21274b7c",
      "metadata": {
        "id": "21274b7c"
      },
      "outputs": [],
      "source": [
        "v_data"
      ]
    },
    {
      "cell_type": "code",
      "execution_count": null,
      "id": "979c3109",
      "metadata": {
        "id": "979c3109"
      },
      "outputs": [],
      "source": [
        "from sklearn.naive_bayes import ComplementNB, BernoulliNB, GaussianNB, CategoricalNB, MultinomialNB\n",
        "from sklearn.metrics import accuracy_score, classification_report, ConfusionMatrixDisplay\n",
        "comp = ComplementNB()\n",
        "bern = BernoulliNB()\n",
        "gaus = GaussianNB()\n",
        "cat = CategoricalNB()\n",
        "multi = MultinomialNB()\n",
        "methods = {\"Complement\":comp,\"Bernoulli\":bern,\"Gausian\":gaus,\"Multi\":multi,\"Cat\":cat}\n",
        "for i in methods.keys():\n",
        "    try:\n",
        "        methods[i].fit(v_data,data['target'])\n",
        "        p = methods[i].predict(v_test)\n",
        "        print(accuracy_score(test['target'],p), f\"method={i}\")\n",
        "        print(classification_report(test['target'],p))\n",
        "    except:\n",
        "        print(f\"{i} failed\")\n"
      ]
    },
    {
      "cell_type": "code",
      "execution_count": null,
      "id": "57a436b3",
      "metadata": {
        "id": "57a436b3"
      },
      "outputs": [],
      "source": [
        "import matplotlib.pyplot as plt\n",
        "plt.rcParams[\"figure.figsize\"] = (20,20)\n",
        "ConfusionMatrixDisplay.from_predictions(test['target'],p,cmap='Blues')"
      ]
    },
    {
      "cell_type": "code",
      "execution_count": null,
      "id": "e9b5d368",
      "metadata": {
        "id": "e9b5d368"
      },
      "outputs": [],
      "source": [
        "reverse={}\n",
        "for word,value in word_counts.vocabulary_.items():\n",
        "    reverse[value]=word"
      ]
    },
    {
      "cell_type": "code",
      "execution_count": null,
      "id": "678b0769",
      "metadata": {
        "id": "678b0769"
      },
      "outputs": [],
      "source": []
    }
  ],
  "metadata": {
    "kernelspec": {
      "display_name": "Python 3 (ipykernel)",
      "language": "python",
      "name": "python3"
    },
    "language_info": {
      "codemirror_mode": {
        "name": "ipython",
        "version": 3
      },
      "file_extension": ".py",
      "mimetype": "text/x-python",
      "name": "python",
      "nbconvert_exporter": "python",
      "pygments_lexer": "ipython3",
      "version": "3.10.10"
    },
    "colab": {
      "provenance": [],
      "include_colab_link": true
    }
  },
  "nbformat": 4,
  "nbformat_minor": 5
}