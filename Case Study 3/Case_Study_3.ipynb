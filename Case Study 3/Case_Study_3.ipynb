{
  "cells": [
    {
      "cell_type": "markdown",
      "metadata": {
        "id": "view-in-github",
        "colab_type": "text"
      },
      "source": [
        "<a href=\"https://colab.research.google.com/github/KendallScott/QTW/blob/main/Case%20Study%203/Case_Study_3.ipynb\" target=\"_parent\"><img src=\"https://colab.research.google.com/assets/colab-badge.svg\" alt=\"Open In Colab\"/></a>"
      ]
    },
    {
      "cell_type": "code",
      "source": [
        "%%capture\n",
        "!pip install beautifulsoup4\n",
        "!pip install scikit-learn-intelex"
      ],
      "metadata": {
        "id": "jqvTsZnE2jDn"
      },
      "id": "jqvTsZnE2jDn",
      "execution_count": 2,
      "outputs": []
    },
    {
      "cell_type": "code",
      "source": [
        "from google.colab import drive\n",
        "drive.mount('/content/drive')"
      ],
      "metadata": {
        "colab": {
          "base_uri": "https://localhost:8080/"
        },
        "id": "11QoaBxoZQZ1",
        "outputId": "1b799929-9bf5-49de-d13c-d348f40fe5eb"
      },
      "id": "11QoaBxoZQZ1",
      "execution_count": 3,
      "outputs": [
        {
          "output_type": "stream",
          "name": "stdout",
          "text": [
            "Mounted at /content/drive\n"
          ]
        }
      ]
    },
    {
      "cell_type": "code",
      "source": [
        "!ls -l /content/drive/MyDrive/SpamAssassinMessages/"
      ],
      "metadata": {
        "colab": {
          "base_uri": "https://localhost:8080/"
        },
        "id": "JkcETtearuoW",
        "outputId": "acbd7218-1648-40d8-f30e-5ae7d90af0c2"
      },
      "id": "JkcETtearuoW",
      "execution_count": 4,
      "outputs": [
        {
          "output_type": "stream",
          "name": "stdout",
          "text": [
            "total 20\n",
            "drwx------ 2 root root 4096 Jun  6 01:24 easy_ham\n",
            "drwx------ 2 root root 4096 Jun  6 01:24 easy_ham_2\n",
            "drwx------ 2 root root 4096 Jun  6 01:24 hard_ham\n",
            "drwx------ 2 root root 4096 Jun  6 01:24 spam\n",
            "drwx------ 2 root root 4096 Jun  6 01:24 spam_2\n"
          ]
        }
      ]
    },
    {
      "cell_type": "code",
      "source": [
        "from gensim.parsing.preprocessing import STOPWORDS\n",
        "from nltk import word_tokenize\n",
        "import os, chardet, email\n",
        "import pandas as pd \n",
        "import numpy as np\n",
        "from sklearn.model_selection import StratifiedKFold, GridSearchCV\n",
        "from sklearn.feature_extraction.text import TfidfVectorizer\n",
        "from sklearn.naive_bayes import MultinomialNB\n",
        "from sklearn.feature_extraction.text import TfidfVectorizer\n",
        "from sklearn.metrics import accuracy_score, classification_report, ConfusionMatrixDisplay\n",
        "from bs4 import BeautifulSoup\n",
        "from sklearn.pipeline import Pipeline\n",
        "from sklearn.metrics import confusion_matrix, accuracy_score, recall_score, classification_report\n",
        "from nltk.corpus import stopwords\n",
        "import nltk; nltk.download('popular')\n",
        "import matplotlib.pyplot as plt\n",
        "import seaborn as sns\n"
      ],
      "metadata": {
        "id": "3xAruZmNj5KV",
        "colab": {
          "base_uri": "https://localhost:8080/"
        },
        "outputId": "a5be2024-6ebc-40bf-fb95-d6f89644a76b"
      },
      "id": "3xAruZmNj5KV",
      "execution_count": 5,
      "outputs": [
        {
          "output_type": "stream",
          "name": "stderr",
          "text": [
            "[nltk_data] Downloading collection 'popular'\n",
            "[nltk_data]    | \n",
            "[nltk_data]    | Downloading package cmudict to /root/nltk_data...\n",
            "[nltk_data]    |   Unzipping corpora/cmudict.zip.\n",
            "[nltk_data]    | Downloading package gazetteers to /root/nltk_data...\n",
            "[nltk_data]    |   Unzipping corpora/gazetteers.zip.\n",
            "[nltk_data]    | Downloading package genesis to /root/nltk_data...\n",
            "[nltk_data]    |   Unzipping corpora/genesis.zip.\n",
            "[nltk_data]    | Downloading package gutenberg to /root/nltk_data...\n",
            "[nltk_data]    |   Unzipping corpora/gutenberg.zip.\n",
            "[nltk_data]    | Downloading package inaugural to /root/nltk_data...\n",
            "[nltk_data]    |   Unzipping corpora/inaugural.zip.\n",
            "[nltk_data]    | Downloading package movie_reviews to\n",
            "[nltk_data]    |     /root/nltk_data...\n",
            "[nltk_data]    |   Unzipping corpora/movie_reviews.zip.\n",
            "[nltk_data]    | Downloading package names to /root/nltk_data...\n",
            "[nltk_data]    |   Unzipping corpora/names.zip.\n",
            "[nltk_data]    | Downloading package shakespeare to /root/nltk_data...\n",
            "[nltk_data]    |   Unzipping corpora/shakespeare.zip.\n",
            "[nltk_data]    | Downloading package stopwords to /root/nltk_data...\n",
            "[nltk_data]    |   Unzipping corpora/stopwords.zip.\n",
            "[nltk_data]    | Downloading package treebank to /root/nltk_data...\n",
            "[nltk_data]    |   Unzipping corpora/treebank.zip.\n",
            "[nltk_data]    | Downloading package twitter_samples to\n",
            "[nltk_data]    |     /root/nltk_data...\n",
            "[nltk_data]    |   Unzipping corpora/twitter_samples.zip.\n",
            "[nltk_data]    | Downloading package omw to /root/nltk_data...\n",
            "[nltk_data]    | Downloading package omw-1.4 to /root/nltk_data...\n",
            "[nltk_data]    | Downloading package wordnet to /root/nltk_data...\n",
            "[nltk_data]    | Downloading package wordnet2021 to /root/nltk_data...\n",
            "[nltk_data]    | Downloading package wordnet31 to /root/nltk_data...\n",
            "[nltk_data]    | Downloading package wordnet_ic to /root/nltk_data...\n",
            "[nltk_data]    |   Unzipping corpora/wordnet_ic.zip.\n",
            "[nltk_data]    | Downloading package words to /root/nltk_data...\n",
            "[nltk_data]    |   Unzipping corpora/words.zip.\n",
            "[nltk_data]    | Downloading package maxent_ne_chunker to\n",
            "[nltk_data]    |     /root/nltk_data...\n",
            "[nltk_data]    |   Unzipping chunkers/maxent_ne_chunker.zip.\n",
            "[nltk_data]    | Downloading package punkt to /root/nltk_data...\n",
            "[nltk_data]    |   Unzipping tokenizers/punkt.zip.\n",
            "[nltk_data]    | Downloading package snowball_data to\n",
            "[nltk_data]    |     /root/nltk_data...\n",
            "[nltk_data]    | Downloading package averaged_perceptron_tagger to\n",
            "[nltk_data]    |     /root/nltk_data...\n",
            "[nltk_data]    |   Unzipping taggers/averaged_perceptron_tagger.zip.\n",
            "[nltk_data]    | \n",
            "[nltk_data]  Done downloading collection popular\n"
          ]
        },
        {
          "output_type": "execute_result",
          "data": {
            "text/plain": [
              "True"
            ]
          },
          "metadata": {},
          "execution_count": 5
        }
      ]
    },
    {
      "cell_type": "code",
      "source": [
        "file_list = []\n",
        "for root, dirs, files in os.walk(\"/content/drive/MyDrive/SpamAssassinMessages/\", topdown=False):\n",
        "    for name in files:\n",
        "        tmp = os.path.join(root,name)\n",
        "        file_list.append(tmp)\n",
        "    for item in dirs:\n",
        "        print(item)\n",
        "i=0\n",
        "\n",
        "file_list_full = []\n",
        "while i < len(file_list):\n",
        "    file_list_full.append(file_list[i])\n",
        "    i+=1"
      ],
      "metadata": {
        "id": "PlMpfjwLcuv2",
        "outputId": "9d1e5f8d-4251-4bcb-e512-e07354c07007",
        "colab": {
          "base_uri": "https://localhost:8080/"
        }
      },
      "id": "PlMpfjwLcuv2",
      "execution_count": 6,
      "outputs": [
        {
          "output_type": "stream",
          "name": "stdout",
          "text": [
            "spam_2\n",
            "spam\n",
            "easy_ham_2\n",
            "easy_ham\n",
            "hard_ham\n"
          ]
        }
      ]
    },
    {
      "cell_type": "code",
      "source": [
        "len(file_list_full)"
      ],
      "metadata": {
        "colab": {
          "base_uri": "https://localhost:8080/"
        },
        "id": "XGRktrDXnp7r",
        "outputId": "05b0be55-e53b-489b-dcb0-0ad12f6c84f0"
      },
      "id": "XGRktrDXnp7r",
      "execution_count": 7,
      "outputs": [
        {
          "output_type": "execute_result",
          "data": {
            "text/plain": [
              "9353"
            ]
          },
          "metadata": {},
          "execution_count": 7
        }
      ]
    },
    {
      "cell_type": "code",
      "source": [
        "%%capture\n",
        "contents = []\n",
        "types = []\n",
        "labels = []\n",
        "sender = []\n",
        "\n",
        "i = 0\n",
        "\n",
        "for root, dirs, files in os.walk(\"/content/drive/MyDrive/SpamAssassinMessages/\"):\n",
        "    for name in files:\n",
        "        blob = open(os.path.join(root, name), 'rb').read()\n",
        "\n",
        "        # Determining the encoding of the email\n",
        "        result = chardet.detect(blob)\n",
        "        encoding_dynamic = result['encoding']\n",
        "\n",
        "        with open(os.path.join(root, name), 'rb') as f:\n",
        "            decoded_email = f.read().decode(encoding_dynamic, errors='replace')\n",
        "            \n",
        "            x = email.message_from_string(decoded_email)\n",
        "            print('normal', os.path.join(root, name))\n",
        "            i += 1\n",
        "\n",
        "            #adding in the sender's domain as a new column\n",
        "            sender_raw = x.get('From')\n",
        "            if sender_raw:\n",
        "                sender_domain = sender_raw.split('@')[-1]\n",
        "                if sender_domain:\n",
        "                    sender.append(sender_domain)\n",
        "                else:\n",
        "                    sender.append(\"missing\")\n",
        "            else:\n",
        "                sender.append(\"missing\")\n",
        "\n",
        "\n",
        "            if \"multipart\" in x.get_content_type():\n",
        "                content_parts = []\n",
        "                for part in x.walk():\n",
        "                    if part.get_content_type() == \"text/plain\":\n",
        "                        decoded_part = part.get_payload(decode=True).decode(encoding_dynamic, errors='replace')\n",
        "                        content_parts.append(decoded_part.replace(\"\\n\", \" \"))\n",
        "                    elif part.get_content_type() == \"text/html\":\n",
        "                        soup = BeautifulSoup(part.get_payload(decode=True).decode(encoding_dynamic, errors='replace'), 'html.parser')\n",
        "                        decoded_part = soup.get_text().replace(\"\\n\", \" \")\n",
        "                        content_parts.append(decoded_part)\n",
        "                content = \"\\n\".join(content_parts)\n",
        "                contents.append(content)\n",
        "                types.append(x.get_content_type())\n",
        "\n",
        "            elif \"text/plain\" in x.get_content_type():\n",
        "                decoded_content = x.get_payload(decode=True).decode(encoding_dynamic, errors='replace')\n",
        "                contents.append(decoded_content.replace(\"\\n\", \" \"))\n",
        "                types.append(x.get_content_type())\n",
        "\n",
        "            elif \"text/html\" in x.get_content_type():\n",
        "                soup = BeautifulSoup(x.get_payload(decode=True).decode(encoding_dynamic, errors='replace'), 'html.parser')\n",
        "                decoded_content = soup.get_text().replace(\"\\n\", \" \")\n",
        "                contents.append(decoded_content)\n",
        "                types.append(x.get_content_type())\n",
        "\n",
        "            if \"ham\" in root:\n",
        "                labels.append(0)\n",
        "            elif \"spam\" in root:\n",
        "                labels.append(1)\n",
        "            else:\n",
        "                print(\"YOU HAVE A BIG PROBLEM -- LABEL NOT FOUND\")\n"
      ],
      "metadata": {
        "id": "0OTw9EHz94DN"
      },
      "id": "0OTw9EHz94DN",
      "execution_count": 9,
      "outputs": []
    },
    {
      "cell_type": "code",
      "source": [
        "print('contents length: ', len(contents))\n",
        "print('types length: ', len(types))\n",
        "print('labels length: ', len(labels))\n",
        "print('file list length: ', len(file_list_full))\n",
        "print('sender length: ', len(sender))"
      ],
      "metadata": {
        "id": "aQT5bxdC4eca",
        "colab": {
          "base_uri": "https://localhost:8080/"
        },
        "outputId": "26655226-0b4c-4a81-c1ab-96bc30f672b3"
      },
      "id": "aQT5bxdC4eca",
      "execution_count": 10,
      "outputs": [
        {
          "metadata": {
            "tags": null
          },
          "name": "stdout",
          "output_type": "stream",
          "text": [
            "contents length:  9353\n",
            "types length:  9353\n",
            "labels length:  9353\n",
            "file list length:  9353\n",
            "sender length:  9353\n"
          ]
        }
      ]
    },
    {
      "cell_type": "code",
      "source": [
        "# Encode the contents array to utf-8, before it gets added to pandas dataframe\n",
        "encoded_contents = [content.encode('utf-8', errors='replace') for content in contents]"
      ],
      "metadata": {
        "id": "-ethc5H8AiVG"
      },
      "id": "-ethc5H8AiVG",
      "execution_count": 11,
      "outputs": []
    },
    {
      "cell_type": "code",
      "source": [
        "data = pd.DataFrame({\"Text\":encoded_contents,\"Label\":labels, \"Type\":types, \"Filename\": file_list_full, \"Sender\": sender})\n",
        "data"
      ],
      "metadata": {
        "id": "H-r-QIpQLYWN",
        "outputId": "48f041b6-0c96-4225-e127-cdfd4d23c422",
        "colab": {
          "base_uri": "https://localhost:8080/",
          "height": 423
        }
      },
      "id": "H-r-QIpQLYWN",
      "execution_count": 12,
      "outputs": [
        {
          "data": {
            "text/html": [
              "\n",
              "  <div id=\"df-831f143a-51ca-4c9a-bbe9-68b040b40f7c\">\n",
              "    <div class=\"colab-df-container\">\n",
              "      <div>\n",
              "<style scoped>\n",
              "    .dataframe tbody tr th:only-of-type {\n",
              "        vertical-align: middle;\n",
              "    }\n",
              "\n",
              "    .dataframe tbody tr th {\n",
              "        vertical-align: top;\n",
              "    }\n",
              "\n",
              "    .dataframe thead th {\n",
              "        text-align: right;\n",
              "    }\n",
              "</style>\n",
              "<table border=\"1\" class=\"dataframe\">\n",
              "  <thead>\n",
              "    <tr style=\"text-align: right;\">\n",
              "      <th></th>\n",
              "      <th>Text</th>\n",
              "      <th>Label</th>\n",
              "      <th>Type</th>\n",
              "      <th>Filename</th>\n",
              "      <th>Sender</th>\n",
              "    </tr>\n",
              "  </thead>\n",
              "  <tbody>\n",
              "    <tr>\n",
              "      <th>0</th>\n",
              "      <td>b\"SUBJECT:                     Urgent Concern ...</td>\n",
              "      <td>1</td>\n",
              "      <td>text/plain</td>\n",
              "      <td>/content/drive/MyDrive/SpamAssassinMessages/sp...</td>\n",
              "      <td>writeme.com&gt;</td>\n",
              "    </tr>\n",
              "    <tr>\n",
              "      <th>1</th>\n",
              "      <td>b'     \\xc2\\xa0              You can\\'t predic...</td>\n",
              "      <td>1</td>\n",
              "      <td>text/html</td>\n",
              "      <td>/content/drive/MyDrive/SpamAssassinMessages/sp...</td>\n",
              "      <td>personal.ro&gt;</td>\n",
              "    </tr>\n",
              "    <tr>\n",
              "      <th>2</th>\n",
              "      <td>b'As seen on NBC, CBS, CNN, and even Oprah! Th...</td>\n",
              "      <td>1</td>\n",
              "      <td>text/plain</td>\n",
              "      <td>/content/drive/MyDrive/SpamAssassinMessages/sp...</td>\n",
              "      <td>mail.com</td>\n",
              "    </tr>\n",
              "    <tr>\n",
              "      <th>3</th>\n",
              "      <td>b'     Thanks                                 ...</td>\n",
              "      <td>1</td>\n",
              "      <td>multipart/mixed</td>\n",
              "      <td>/content/drive/MyDrive/SpamAssassinMessages/sp...</td>\n",
              "      <td>dogma.slashnull.org&gt;</td>\n",
              "    </tr>\n",
              "    <tr>\n",
              "      <th>4</th>\n",
              "      <td>b'     \\xc2\\xa0             Dear              ...</td>\n",
              "      <td>1</td>\n",
              "      <td>text/html</td>\n",
              "      <td>/content/drive/MyDrive/SpamAssassinMessages/sp...</td>\n",
              "      <td>263.net&gt;</td>\n",
              "    </tr>\n",
              "    <tr>\n",
              "      <th>...</th>\n",
              "      <td>...</td>\n",
              "      <td>...</td>\n",
              "      <td>...</td>\n",
              "      <td>...</td>\n",
              "      <td>...</td>\n",
              "    </tr>\n",
              "    <tr>\n",
              "      <th>9348</th>\n",
              "      <td>b'Hi XFS developers, When studying xfs code(2....</td>\n",
              "      <td>0</td>\n",
              "      <td>text/plain</td>\n",
              "      <td>/content/drive/MyDrive/SpamAssassinMessages/ha...</td>\n",
              "      <td>mountainviewdata.com&gt;</td>\n",
              "    </tr>\n",
              "    <tr>\n",
              "      <th>9349</th>\n",
              "      <td>b\"My gut reaction would be to tell them to go ...</td>\n",
              "      <td>0</td>\n",
              "      <td>text/plain</td>\n",
              "      <td>/content/drive/MyDrive/SpamAssassinMessages/ha...</td>\n",
              "      <td>eircom.net&gt;</td>\n",
              "    </tr>\n",
              "    <tr>\n",
              "      <th>9350</th>\n",
              "      <td>b'                    *  WORD A DAY  * -------...</td>\n",
              "      <td>0</td>\n",
              "      <td>text/plain</td>\n",
              "      <td>/content/drive/MyDrive/SpamAssassinMessages/ha...</td>\n",
              "      <td>shagmail.com&gt;</td>\n",
              "    </tr>\n",
              "    <tr>\n",
              "      <th>9351</th>\n",
              "      <td>b\"============================================...</td>\n",
              "      <td>0</td>\n",
              "      <td>text/plain</td>\n",
              "      <td>/content/drive/MyDrive/SpamAssassinMessages/ha...</td>\n",
              "      <td>daytips.com&gt;</td>\n",
              "    </tr>\n",
              "    <tr>\n",
              "      <th>9352</th>\n",
              "      <td>b'Hi, I have created two databases, db1 and db...</td>\n",
              "      <td>0</td>\n",
              "      <td>multipart/alternative</td>\n",
              "      <td>/content/drive/MyDrive/SpamAssassinMessages/ha...</td>\n",
              "      <td>addr.com&gt;</td>\n",
              "    </tr>\n",
              "  </tbody>\n",
              "</table>\n",
              "<p>9353 rows × 5 columns</p>\n",
              "</div>\n",
              "      <button class=\"colab-df-convert\" onclick=\"convertToInteractive('df-831f143a-51ca-4c9a-bbe9-68b040b40f7c')\"\n",
              "              title=\"Convert this dataframe to an interactive table.\"\n",
              "              style=\"display:none;\">\n",
              "        \n",
              "  <svg xmlns=\"http://www.w3.org/2000/svg\" height=\"24px\"viewBox=\"0 0 24 24\"\n",
              "       width=\"24px\">\n",
              "    <path d=\"M0 0h24v24H0V0z\" fill=\"none\"/>\n",
              "    <path d=\"M18.56 5.44l.94 2.06.94-2.06 2.06-.94-2.06-.94-.94-2.06-.94 2.06-2.06.94zm-11 1L8.5 8.5l.94-2.06 2.06-.94-2.06-.94L8.5 2.5l-.94 2.06-2.06.94zm10 10l.94 2.06.94-2.06 2.06-.94-2.06-.94-.94-2.06-.94 2.06-2.06.94z\"/><path d=\"M17.41 7.96l-1.37-1.37c-.4-.4-.92-.59-1.43-.59-.52 0-1.04.2-1.43.59L10.3 9.45l-7.72 7.72c-.78.78-.78 2.05 0 2.83L4 21.41c.39.39.9.59 1.41.59.51 0 1.02-.2 1.41-.59l7.78-7.78 2.81-2.81c.8-.78.8-2.07 0-2.86zM5.41 20L4 18.59l7.72-7.72 1.47 1.35L5.41 20z\"/>\n",
              "  </svg>\n",
              "      </button>\n",
              "      \n",
              "  <style>\n",
              "    .colab-df-container {\n",
              "      display:flex;\n",
              "      flex-wrap:wrap;\n",
              "      gap: 12px;\n",
              "    }\n",
              "\n",
              "    .colab-df-convert {\n",
              "      background-color: #E8F0FE;\n",
              "      border: none;\n",
              "      border-radius: 50%;\n",
              "      cursor: pointer;\n",
              "      display: none;\n",
              "      fill: #1967D2;\n",
              "      height: 32px;\n",
              "      padding: 0 0 0 0;\n",
              "      width: 32px;\n",
              "    }\n",
              "\n",
              "    .colab-df-convert:hover {\n",
              "      background-color: #E2EBFA;\n",
              "      box-shadow: 0px 1px 2px rgba(60, 64, 67, 0.3), 0px 1px 3px 1px rgba(60, 64, 67, 0.15);\n",
              "      fill: #174EA6;\n",
              "    }\n",
              "\n",
              "    [theme=dark] .colab-df-convert {\n",
              "      background-color: #3B4455;\n",
              "      fill: #D2E3FC;\n",
              "    }\n",
              "\n",
              "    [theme=dark] .colab-df-convert:hover {\n",
              "      background-color: #434B5C;\n",
              "      box-shadow: 0px 1px 3px 1px rgba(0, 0, 0, 0.15);\n",
              "      filter: drop-shadow(0px 1px 2px rgba(0, 0, 0, 0.3));\n",
              "      fill: #FFFFFF;\n",
              "    }\n",
              "  </style>\n",
              "\n",
              "      <script>\n",
              "        const buttonEl =\n",
              "          document.querySelector('#df-831f143a-51ca-4c9a-bbe9-68b040b40f7c button.colab-df-convert');\n",
              "        buttonEl.style.display =\n",
              "          google.colab.kernel.accessAllowed ? 'block' : 'none';\n",
              "\n",
              "        async function convertToInteractive(key) {\n",
              "          const element = document.querySelector('#df-831f143a-51ca-4c9a-bbe9-68b040b40f7c');\n",
              "          const dataTable =\n",
              "            await google.colab.kernel.invokeFunction('convertToInteractive',\n",
              "                                                     [key], {});\n",
              "          if (!dataTable) return;\n",
              "\n",
              "          const docLinkHtml = 'Like what you see? Visit the ' +\n",
              "            '<a target=\"_blank\" href=https://colab.research.google.com/notebooks/data_table.ipynb>data table notebook</a>'\n",
              "            + ' to learn more about interactive tables.';\n",
              "          element.innerHTML = '';\n",
              "          dataTable['output_type'] = 'display_data';\n",
              "          await google.colab.output.renderOutput(dataTable, element);\n",
              "          const docLink = document.createElement('div');\n",
              "          docLink.innerHTML = docLinkHtml;\n",
              "          element.appendChild(docLink);\n",
              "        }\n",
              "      </script>\n",
              "    </div>\n",
              "  </div>\n",
              "  "
            ],
            "text/plain": [
              "                                                   Text  Label  \\\n",
              "0     b\"SUBJECT:                     Urgent Concern ...      1   \n",
              "1     b'     \\xc2\\xa0              You can\\'t predic...      1   \n",
              "2     b'As seen on NBC, CBS, CNN, and even Oprah! Th...      1   \n",
              "3     b'     Thanks                                 ...      1   \n",
              "4     b'     \\xc2\\xa0             Dear              ...      1   \n",
              "...                                                 ...    ...   \n",
              "9348  b'Hi XFS developers, When studying xfs code(2....      0   \n",
              "9349  b\"My gut reaction would be to tell them to go ...      0   \n",
              "9350  b'                    *  WORD A DAY  * -------...      0   \n",
              "9351  b\"============================================...      0   \n",
              "9352  b'Hi, I have created two databases, db1 and db...      0   \n",
              "\n",
              "                       Type  \\\n",
              "0                text/plain   \n",
              "1                 text/html   \n",
              "2                text/plain   \n",
              "3           multipart/mixed   \n",
              "4                 text/html   \n",
              "...                     ...   \n",
              "9348             text/plain   \n",
              "9349             text/plain   \n",
              "9350             text/plain   \n",
              "9351             text/plain   \n",
              "9352  multipart/alternative   \n",
              "\n",
              "                                               Filename                 Sender  \n",
              "0     /content/drive/MyDrive/SpamAssassinMessages/sp...           writeme.com>  \n",
              "1     /content/drive/MyDrive/SpamAssassinMessages/sp...           personal.ro>  \n",
              "2     /content/drive/MyDrive/SpamAssassinMessages/sp...               mail.com  \n",
              "3     /content/drive/MyDrive/SpamAssassinMessages/sp...   dogma.slashnull.org>  \n",
              "4     /content/drive/MyDrive/SpamAssassinMessages/sp...               263.net>  \n",
              "...                                                 ...                    ...  \n",
              "9348  /content/drive/MyDrive/SpamAssassinMessages/ha...  mountainviewdata.com>  \n",
              "9349  /content/drive/MyDrive/SpamAssassinMessages/ha...            eircom.net>  \n",
              "9350  /content/drive/MyDrive/SpamAssassinMessages/ha...          shagmail.com>  \n",
              "9351  /content/drive/MyDrive/SpamAssassinMessages/ha...           daytips.com>  \n",
              "9352  /content/drive/MyDrive/SpamAssassinMessages/ha...              addr.com>  \n",
              "\n",
              "[9353 rows x 5 columns]"
            ]
          },
          "execution_count": 12,
          "metadata": {},
          "output_type": "execute_result"
        }
      ]
    },
    {
      "cell_type": "code",
      "source": [
        "data.info()"
      ],
      "metadata": {
        "colab": {
          "base_uri": "https://localhost:8080/"
        },
        "id": "c8RlomWm3Dw0",
        "outputId": "bbb41a32-fe62-479b-c536-4af5fde3da7f"
      },
      "id": "c8RlomWm3Dw0",
      "execution_count": 13,
      "outputs": [
        {
          "metadata": {
            "tags": null
          },
          "name": "stdout",
          "output_type": "stream",
          "text": [
            "<class 'pandas.core.frame.DataFrame'>\n",
            "RangeIndex: 9353 entries, 0 to 9352\n",
            "Data columns (total 5 columns):\n",
            " #   Column    Non-Null Count  Dtype \n",
            "---  ------    --------------  ----- \n",
            " 0   Text      9353 non-null   object\n",
            " 1   Label     9353 non-null   int64 \n",
            " 2   Type      9353 non-null   object\n",
            " 3   Filename  9353 non-null   object\n",
            " 4   Sender    9353 non-null   object\n",
            "dtypes: int64(1), object(4)\n",
            "memory usage: 365.5+ KB\n"
          ]
        }
      ]
    },
    {
      "cell_type": "code",
      "source": [
        "data['Text'] = data['Text'].astype('|S') # which will by default set the length to the max len it encounters\n",
        "data.info()"
      ],
      "metadata": {
        "colab": {
          "base_uri": "https://localhost:8080/"
        },
        "id": "lFV4h24o5fEN",
        "outputId": "38894153-52f7-4238-dfdb-0dd5cf52749d"
      },
      "id": "lFV4h24o5fEN",
      "execution_count": 14,
      "outputs": [
        {
          "metadata": {
            "tags": null
          },
          "name": "stdout",
          "output_type": "stream",
          "text": [
            "<class 'pandas.core.frame.DataFrame'>\n",
            "RangeIndex: 9353 entries, 0 to 9352\n",
            "Data columns (total 5 columns):\n",
            " #   Column    Non-Null Count  Dtype   \n",
            "---  ------    --------------  -----   \n",
            " 0   Text      9353 non-null   |S202500\n",
            " 1   Label     9353 non-null   int64   \n",
            " 2   Type      9353 non-null   object  \n",
            " 3   Filename  9353 non-null   object  \n",
            " 4   Sender    9353 non-null   object  \n",
            "dtypes: bytes1620000(1), int64(1), object(3)\n",
            "memory usage: 1.8+ GB\n"
          ]
        }
      ]
    },
    {
      "cell_type": "code",
      "source": [
        "data['Label'].value_counts() #distribution of spam/ham"
      ],
      "metadata": {
        "id": "FqZpFTJfs_Po",
        "colab": {
          "base_uri": "https://localhost:8080/"
        },
        "outputId": "3b90c237-fe9d-4f91-f64e-3f55f93d9680"
      },
      "id": "FqZpFTJfs_Po",
      "execution_count": 15,
      "outputs": [
        {
          "data": {
            "text/plain": [
              "0    6954\n",
              "1    2399\n",
              "Name: Label, dtype: int64"
            ]
          },
          "execution_count": 15,
          "metadata": {},
          "output_type": "execute_result"
        }
      ]
    },
    {
      "cell_type": "code",
      "source": [
        "stop = list(stopwords.words('english'))\n",
        "#to add additional words to stop words\n",
        "#stop.extend('myword1 myword2 myword3'.split())\n",
        "\n",
        "# MultiNB\n",
        "X = data['Text']\n",
        "y = data['Label'].values\n",
        "\n",
        "skf = StratifiedKFold(n_splits=10,random_state=610,shuffle=True)\n",
        "skf.get_n_splits(X,y)\n",
        "\n",
        "#need to vectorize within pipeline to prevent data leakage (otherwise tfidf would be fitted over all the data)\n",
        "my_pipe = Pipeline([\n",
        "    ('vectorizer',TfidfVectorizer(token_pattern=r\"(?u)\\b\\w+\\b\", stop_words=stop, ngram_range=(2,2), analyzer='word')),\n",
        "    ('estimator',MultinomialNB())\n",
        "])\n",
        "pipe_params = {\n",
        "    'estimator__alpha':[.01,.05,.1]\n",
        "}\n",
        "\n",
        "grid = GridSearchCV(my_pipe,pipe_params,cv=skf,scoring='accuracy',n_jobs=-1)\n",
        "results = grid.fit(X,y)\n",
        "print(results.best_estimator_)\n",
        "print(results.best_score_)"
      ],
      "metadata": {
        "id": "hZ5uOZg-FUtw",
        "colab": {
          "base_uri": "https://localhost:8080/"
        },
        "outputId": "957f545b-6342-44ad-e7ce-b7f77b124735"
      },
      "id": "hZ5uOZg-FUtw",
      "execution_count": 16,
      "outputs": [
        {
          "metadata": {
            "tags": null
          },
          "name": "stdout",
          "output_type": "stream",
          "text": [
            "Pipeline(steps=[('vectorizer',\n",
            "                 TfidfVectorizer(ngram_range=(2, 2),\n",
            "                                 stop_words=['i', 'me', 'my', 'myself', 'we',\n",
            "                                             'our', 'ours', 'ourselves', 'you',\n",
            "                                             \"you're\", \"you've\", \"you'll\",\n",
            "                                             \"you'd\", 'your', 'yours',\n",
            "                                             'yourself', 'yourselves', 'he',\n",
            "                                             'him', 'his', 'himself', 'she',\n",
            "                                             \"she's\", 'her', 'hers', 'herself',\n",
            "                                             'it', \"it's\", 'its', 'itself', ...],\n",
            "                                 token_pattern='(?u)\\\\b\\\\w+\\\\b')),\n",
            "                ('estimator', MultinomialNB(alpha=0.01))])\n",
            "0.9928367384249738\n"
          ]
        }
      ]
    },
    {
      "cell_type": "code",
      "source": [
        "results_df=pd.DataFrame(results.cv_results_)\n",
        "results_df"
      ],
      "metadata": {
        "colab": {
          "base_uri": "https://localhost:8080/",
          "height": 259
        },
        "id": "IX1sleeFvTL2",
        "outputId": "7300691f-d084-421c-eeb2-203c6fcddcb0"
      },
      "id": "IX1sleeFvTL2",
      "execution_count": 17,
      "outputs": [
        {
          "data": {
            "text/html": [
              "\n",
              "  <div id=\"df-c7de2b68-17a8-402e-b7ad-f66d23f7bfbd\">\n",
              "    <div class=\"colab-df-container\">\n",
              "      <div>\n",
              "<style scoped>\n",
              "    .dataframe tbody tr th:only-of-type {\n",
              "        vertical-align: middle;\n",
              "    }\n",
              "\n",
              "    .dataframe tbody tr th {\n",
              "        vertical-align: top;\n",
              "    }\n",
              "\n",
              "    .dataframe thead th {\n",
              "        text-align: right;\n",
              "    }\n",
              "</style>\n",
              "<table border=\"1\" class=\"dataframe\">\n",
              "  <thead>\n",
              "    <tr style=\"text-align: right;\">\n",
              "      <th></th>\n",
              "      <th>mean_fit_time</th>\n",
              "      <th>std_fit_time</th>\n",
              "      <th>mean_score_time</th>\n",
              "      <th>std_score_time</th>\n",
              "      <th>param_estimator__alpha</th>\n",
              "      <th>params</th>\n",
              "      <th>split0_test_score</th>\n",
              "      <th>split1_test_score</th>\n",
              "      <th>split2_test_score</th>\n",
              "      <th>split3_test_score</th>\n",
              "      <th>split4_test_score</th>\n",
              "      <th>split5_test_score</th>\n",
              "      <th>split6_test_score</th>\n",
              "      <th>split7_test_score</th>\n",
              "      <th>split8_test_score</th>\n",
              "      <th>split9_test_score</th>\n",
              "      <th>mean_test_score</th>\n",
              "      <th>std_test_score</th>\n",
              "      <th>rank_test_score</th>\n",
              "    </tr>\n",
              "  </thead>\n",
              "  <tbody>\n",
              "    <tr>\n",
              "      <th>0</th>\n",
              "      <td>15.784020</td>\n",
              "      <td>1.409048</td>\n",
              "      <td>0.897258</td>\n",
              "      <td>0.069355</td>\n",
              "      <td>0.01</td>\n",
              "      <td>{'estimator__alpha': 0.01}</td>\n",
              "      <td>0.995726</td>\n",
              "      <td>0.990385</td>\n",
              "      <td>0.990385</td>\n",
              "      <td>0.996791</td>\n",
              "      <td>0.990374</td>\n",
              "      <td>0.989305</td>\n",
              "      <td>0.995722</td>\n",
              "      <td>0.994652</td>\n",
              "      <td>0.992513</td>\n",
              "      <td>0.992513</td>\n",
              "      <td>0.992837</td>\n",
              "      <td>0.002577</td>\n",
              "      <td>1</td>\n",
              "    </tr>\n",
              "    <tr>\n",
              "      <th>1</th>\n",
              "      <td>13.667904</td>\n",
              "      <td>0.552776</td>\n",
              "      <td>0.961065</td>\n",
              "      <td>0.123691</td>\n",
              "      <td>0.05</td>\n",
              "      <td>{'estimator__alpha': 0.05}</td>\n",
              "      <td>0.991453</td>\n",
              "      <td>0.988248</td>\n",
              "      <td>0.983974</td>\n",
              "      <td>0.997861</td>\n",
              "      <td>0.989305</td>\n",
              "      <td>0.989305</td>\n",
              "      <td>0.990374</td>\n",
              "      <td>0.991444</td>\n",
              "      <td>0.993583</td>\n",
              "      <td>0.989305</td>\n",
              "      <td>0.990485</td>\n",
              "      <td>0.003427</td>\n",
              "      <td>2</td>\n",
              "    </tr>\n",
              "    <tr>\n",
              "      <th>2</th>\n",
              "      <td>12.847022</td>\n",
              "      <td>1.861026</td>\n",
              "      <td>0.848880</td>\n",
              "      <td>0.171408</td>\n",
              "      <td>0.1</td>\n",
              "      <td>{'estimator__alpha': 0.1}</td>\n",
              "      <td>0.989316</td>\n",
              "      <td>0.986111</td>\n",
              "      <td>0.980769</td>\n",
              "      <td>0.996791</td>\n",
              "      <td>0.983957</td>\n",
              "      <td>0.982888</td>\n",
              "      <td>0.988235</td>\n",
              "      <td>0.990374</td>\n",
              "      <td>0.991444</td>\n",
              "      <td>0.987166</td>\n",
              "      <td>0.987705</td>\n",
              "      <td>0.004413</td>\n",
              "      <td>3</td>\n",
              "    </tr>\n",
              "  </tbody>\n",
              "</table>\n",
              "</div>\n",
              "      <button class=\"colab-df-convert\" onclick=\"convertToInteractive('df-c7de2b68-17a8-402e-b7ad-f66d23f7bfbd')\"\n",
              "              title=\"Convert this dataframe to an interactive table.\"\n",
              "              style=\"display:none;\">\n",
              "        \n",
              "  <svg xmlns=\"http://www.w3.org/2000/svg\" height=\"24px\"viewBox=\"0 0 24 24\"\n",
              "       width=\"24px\">\n",
              "    <path d=\"M0 0h24v24H0V0z\" fill=\"none\"/>\n",
              "    <path d=\"M18.56 5.44l.94 2.06.94-2.06 2.06-.94-2.06-.94-.94-2.06-.94 2.06-2.06.94zm-11 1L8.5 8.5l.94-2.06 2.06-.94-2.06-.94L8.5 2.5l-.94 2.06-2.06.94zm10 10l.94 2.06.94-2.06 2.06-.94-2.06-.94-.94-2.06-.94 2.06-2.06.94z\"/><path d=\"M17.41 7.96l-1.37-1.37c-.4-.4-.92-.59-1.43-.59-.52 0-1.04.2-1.43.59L10.3 9.45l-7.72 7.72c-.78.78-.78 2.05 0 2.83L4 21.41c.39.39.9.59 1.41.59.51 0 1.02-.2 1.41-.59l7.78-7.78 2.81-2.81c.8-.78.8-2.07 0-2.86zM5.41 20L4 18.59l7.72-7.72 1.47 1.35L5.41 20z\"/>\n",
              "  </svg>\n",
              "      </button>\n",
              "      \n",
              "  <style>\n",
              "    .colab-df-container {\n",
              "      display:flex;\n",
              "      flex-wrap:wrap;\n",
              "      gap: 12px;\n",
              "    }\n",
              "\n",
              "    .colab-df-convert {\n",
              "      background-color: #E8F0FE;\n",
              "      border: none;\n",
              "      border-radius: 50%;\n",
              "      cursor: pointer;\n",
              "      display: none;\n",
              "      fill: #1967D2;\n",
              "      height: 32px;\n",
              "      padding: 0 0 0 0;\n",
              "      width: 32px;\n",
              "    }\n",
              "\n",
              "    .colab-df-convert:hover {\n",
              "      background-color: #E2EBFA;\n",
              "      box-shadow: 0px 1px 2px rgba(60, 64, 67, 0.3), 0px 1px 3px 1px rgba(60, 64, 67, 0.15);\n",
              "      fill: #174EA6;\n",
              "    }\n",
              "\n",
              "    [theme=dark] .colab-df-convert {\n",
              "      background-color: #3B4455;\n",
              "      fill: #D2E3FC;\n",
              "    }\n",
              "\n",
              "    [theme=dark] .colab-df-convert:hover {\n",
              "      background-color: #434B5C;\n",
              "      box-shadow: 0px 1px 3px 1px rgba(0, 0, 0, 0.15);\n",
              "      filter: drop-shadow(0px 1px 2px rgba(0, 0, 0, 0.3));\n",
              "      fill: #FFFFFF;\n",
              "    }\n",
              "  </style>\n",
              "\n",
              "      <script>\n",
              "        const buttonEl =\n",
              "          document.querySelector('#df-c7de2b68-17a8-402e-b7ad-f66d23f7bfbd button.colab-df-convert');\n",
              "        buttonEl.style.display =\n",
              "          google.colab.kernel.accessAllowed ? 'block' : 'none';\n",
              "\n",
              "        async function convertToInteractive(key) {\n",
              "          const element = document.querySelector('#df-c7de2b68-17a8-402e-b7ad-f66d23f7bfbd');\n",
              "          const dataTable =\n",
              "            await google.colab.kernel.invokeFunction('convertToInteractive',\n",
              "                                                     [key], {});\n",
              "          if (!dataTable) return;\n",
              "\n",
              "          const docLinkHtml = 'Like what you see? Visit the ' +\n",
              "            '<a target=\"_blank\" href=https://colab.research.google.com/notebooks/data_table.ipynb>data table notebook</a>'\n",
              "            + ' to learn more about interactive tables.';\n",
              "          element.innerHTML = '';\n",
              "          dataTable['output_type'] = 'display_data';\n",
              "          await google.colab.output.renderOutput(dataTable, element);\n",
              "          const docLink = document.createElement('div');\n",
              "          docLink.innerHTML = docLinkHtml;\n",
              "          element.appendChild(docLink);\n",
              "        }\n",
              "      </script>\n",
              "    </div>\n",
              "  </div>\n",
              "  "
            ],
            "text/plain": [
              "   mean_fit_time  std_fit_time  mean_score_time  std_score_time  \\\n",
              "0      15.784020      1.409048         0.897258        0.069355   \n",
              "1      13.667904      0.552776         0.961065        0.123691   \n",
              "2      12.847022      1.861026         0.848880        0.171408   \n",
              "\n",
              "  param_estimator__alpha                      params  split0_test_score  \\\n",
              "0                   0.01  {'estimator__alpha': 0.01}           0.995726   \n",
              "1                   0.05  {'estimator__alpha': 0.05}           0.991453   \n",
              "2                    0.1   {'estimator__alpha': 0.1}           0.989316   \n",
              "\n",
              "   split1_test_score  split2_test_score  split3_test_score  split4_test_score  \\\n",
              "0           0.990385           0.990385           0.996791           0.990374   \n",
              "1           0.988248           0.983974           0.997861           0.989305   \n",
              "2           0.986111           0.980769           0.996791           0.983957   \n",
              "\n",
              "   split5_test_score  split6_test_score  split7_test_score  split8_test_score  \\\n",
              "0           0.989305           0.995722           0.994652           0.992513   \n",
              "1           0.989305           0.990374           0.991444           0.993583   \n",
              "2           0.982888           0.988235           0.990374           0.991444   \n",
              "\n",
              "   split9_test_score  mean_test_score  std_test_score  rank_test_score  \n",
              "0           0.992513         0.992837        0.002577                1  \n",
              "1           0.989305         0.990485        0.003427                2  \n",
              "2           0.987166         0.987705        0.004413                3  "
            ]
          },
          "execution_count": 17,
          "metadata": {},
          "output_type": "execute_result"
        }
      ]
    },
    {
      "cell_type": "code",
      "source": [
        "stop = list(stopwords.words('english'))\n",
        "#to add additional words to stop words\n",
        "#stop.extend('myword1 myword2 myword3'.split())\n",
        "\n",
        "skf = StratifiedKFold(n_splits=10,random_state=610,shuffle=True)\n",
        "skf.get_n_splits(X,y)\n",
        "\n",
        "#need to vectorize within pipeline to prevent data leakage (otherwise tfidf would be fitted over all the data)\n",
        "my_pipe = Pipeline([\n",
        "    ('vectorizer',TfidfVectorizer(token_pattern=r\"(?u)\\b\\w+\\b\", stop_words=stop, ngram_range=(2,2), analyzer='word')),\n",
        "    ('estimator',MultinomialNB())\n",
        "])\n",
        "pipe_params = {\n",
        "    'estimator__alpha':[.01,.05,.1]\n",
        "}\n",
        "\n",
        "grid = GridSearchCV(my_pipe,pipe_params,cv=skf,scoring='recall',n_jobs=-1)\n",
        "results = grid.fit(X,y)\n",
        "print(results.best_estimator_)\n",
        "print(results.best_score_)"
      ],
      "metadata": {
        "colab": {
          "base_uri": "https://localhost:8080/"
        },
        "id": "6ez4ySpM9g10",
        "outputId": "52dd96c6-d833-47fb-aefc-758b52bb1f85"
      },
      "id": "6ez4ySpM9g10",
      "execution_count": 18,
      "outputs": [
        {
          "metadata": {
            "tags": null
          },
          "name": "stdout",
          "output_type": "stream",
          "text": [
            "Pipeline(steps=[('vectorizer',\n",
            "                 TfidfVectorizer(ngram_range=(2, 2),\n",
            "                                 stop_words=['i', 'me', 'my', 'myself', 'we',\n",
            "                                             'our', 'ours', 'ourselves', 'you',\n",
            "                                             \"you're\", \"you've\", \"you'll\",\n",
            "                                             \"you'd\", 'your', 'yours',\n",
            "                                             'yourself', 'yourselves', 'he',\n",
            "                                             'him', 'his', 'himself', 'she',\n",
            "                                             \"she's\", 'her', 'hers', 'herself',\n",
            "                                             'it', \"it's\", 'its', 'itself', ...],\n",
            "                                 token_pattern='(?u)\\\\b\\\\w+\\\\b')),\n",
            "                ('estimator', MultinomialNB(alpha=0.01))])\n",
            "0.9791562064156206\n"
          ]
        }
      ]
    },
    {
      "cell_type": "code",
      "source": [
        "#running model on messages\n",
        "X = data['Text']\n",
        "y = data['Label'].values\n",
        "\n",
        "# MultiNB with best params\n",
        "my_pipe = Pipeline([\n",
        "    ('vectorizer',TfidfVectorizer(token_pattern=r\"(?u)\\b\\w+\\b\", stop_words=stop, ngram_range=(2,2), analyzer='word')),\n",
        "    ('estimator',MultinomialNB(alpha=results.best_params_.get('estimator__alpha')))\n",
        "])\n",
        "acc_score = []\n",
        "rec_score = []\n",
        "feature_names = []\n",
        "\n",
        "for i, (train,test) in enumerate(skf.split(X,y)):\n",
        "    my_pipe.fit(X[train],y[train])\n",
        "    p = my_pipe.predict(X[test])\n",
        "    acc_score.append(accuracy_score(y[test],p))\n",
        "    rec_score.append(recall_score(y[test],p))\n",
        "    print(classification_report(y[test],p))\n",
        "\n",
        "    #feature importance by word\n",
        "    feature_log_probs = my_pipe.named_steps['estimator'].feature_log_prob_\n",
        "    feature_names = my_pipe.named_steps['vectorizer'].get_feature_names_out()\n",
        "\n",
        "\n",
        "# Convert feature log probabilities to probabilities\n",
        "feature_probs = np.exp(feature_log_probs)\n",
        "\n",
        "# Create a DataFrame to store feature importance\n",
        "feature_probability = pd.DataFrame({'Feature': feature_names,\n",
        "                                   'Probability': feature_probs[1]})\n",
        "\n",
        "# Sort feature importance by importance score\n",
        "feature_probability = feature_probability.sort_values(by='Probability', ascending=False)\n",
        "\n",
        "\n",
        "# saving scores for comparison    \n",
        "mNB_scores = pd.DataFrame({'accuracy':acc_score,\n",
        "                           'recall':rec_score})\n"
      ],
      "metadata": {
        "colab": {
          "base_uri": "https://localhost:8080/"
        },
        "id": "IImrlqolcLbk",
        "outputId": "4fbc4266-9222-497e-8803-048503792ef2"
      },
      "id": "IImrlqolcLbk",
      "execution_count": 39,
      "outputs": [
        {
          "output_type": "stream",
          "name": "stdout",
          "text": [
            "              precision    recall  f1-score   support\n",
            "\n",
            "           0       1.00      1.00      1.00       696\n",
            "           1       1.00      0.99      0.99       240\n",
            "\n",
            "    accuracy                           1.00       936\n",
            "   macro avg       1.00      0.99      0.99       936\n",
            "weighted avg       1.00      1.00      1.00       936\n",
            "\n",
            "              precision    recall  f1-score   support\n",
            "\n",
            "           0       0.99      1.00      0.99       696\n",
            "           1       0.99      0.97      0.98       240\n",
            "\n",
            "    accuracy                           0.99       936\n",
            "   macro avg       0.99      0.99      0.99       936\n",
            "weighted avg       0.99      0.99      0.99       936\n",
            "\n",
            "              precision    recall  f1-score   support\n",
            "\n",
            "           0       0.99      1.00      0.99       696\n",
            "           1       0.99      0.97      0.98       240\n",
            "\n",
            "    accuracy                           0.99       936\n",
            "   macro avg       0.99      0.98      0.99       936\n",
            "weighted avg       0.99      0.99      0.99       936\n",
            "\n",
            "              precision    recall  f1-score   support\n",
            "\n",
            "           0       1.00      1.00      1.00       695\n",
            "           1       1.00      0.99      0.99       240\n",
            "\n",
            "    accuracy                           1.00       935\n",
            "   macro avg       1.00      0.99      1.00       935\n",
            "weighted avg       1.00      1.00      1.00       935\n",
            "\n",
            "              precision    recall  f1-score   support\n",
            "\n",
            "           0       0.99      0.99      0.99       695\n",
            "           1       0.98      0.98      0.98       240\n",
            "\n",
            "    accuracy                           0.99       935\n",
            "   macro avg       0.99      0.99      0.99       935\n",
            "weighted avg       0.99      0.99      0.99       935\n",
            "\n",
            "              precision    recall  f1-score   support\n",
            "\n",
            "           0       0.99      1.00      0.99       695\n",
            "           1       0.99      0.97      0.98       240\n",
            "\n",
            "    accuracy                           0.99       935\n",
            "   macro avg       0.99      0.98      0.99       935\n",
            "weighted avg       0.99      0.99      0.99       935\n",
            "\n",
            "              precision    recall  f1-score   support\n",
            "\n",
            "           0       1.00      1.00      1.00       695\n",
            "           1       1.00      0.99      0.99       240\n",
            "\n",
            "    accuracy                           1.00       935\n",
            "   macro avg       1.00      0.99      0.99       935\n",
            "weighted avg       1.00      1.00      1.00       935\n",
            "\n",
            "              precision    recall  f1-score   support\n",
            "\n",
            "           0       0.99      1.00      1.00       695\n",
            "           1       1.00      0.98      0.99       240\n",
            "\n",
            "    accuracy                           0.99       935\n",
            "   macro avg       1.00      0.99      0.99       935\n",
            "weighted avg       0.99      0.99      0.99       935\n",
            "\n",
            "              precision    recall  f1-score   support\n",
            "\n",
            "           0       0.99      1.00      0.99       695\n",
            "           1       1.00      0.97      0.99       240\n",
            "\n",
            "    accuracy                           0.99       935\n",
            "   macro avg       0.99      0.99      0.99       935\n",
            "weighted avg       0.99      0.99      0.99       935\n",
            "\n",
            "              precision    recall  f1-score   support\n",
            "\n",
            "           0       0.99      1.00      0.99       696\n",
            "           1       1.00      0.97      0.99       239\n",
            "\n",
            "    accuracy                           0.99       935\n",
            "   macro avg       0.99      0.99      0.99       935\n",
            "weighted avg       0.99      0.99      0.99       935\n",
            "\n"
          ]
        }
      ]
    },
    {
      "cell_type": "code",
      "source": [
        "mNB_scores"
      ],
      "metadata": {
        "colab": {
          "base_uri": "https://localhost:8080/",
          "height": 363
        },
        "id": "eWQ6QFfjwuGf",
        "outputId": "17e38d2a-a42a-4dab-cbe3-43fcc774f5b8"
      },
      "id": "eWQ6QFfjwuGf",
      "execution_count": 40,
      "outputs": [
        {
          "output_type": "execute_result",
          "data": {
            "text/plain": [
              "   accuracy    recall\n",
              "0  0.995726  0.987500\n",
              "1  0.990385  0.975000\n",
              "2  0.990385  0.970833\n",
              "3  0.996791  0.987500\n",
              "4  0.990374  0.979167\n",
              "5  0.989305  0.970833\n",
              "6  0.995722  0.987500\n",
              "7  0.994652  0.983333\n",
              "8  0.992513  0.975000\n",
              "9  0.992513  0.974895"
            ],
            "text/html": [
              "\n",
              "  <div id=\"df-3bd26698-18ea-489c-be6c-d646a9caf58e\">\n",
              "    <div class=\"colab-df-container\">\n",
              "      <div>\n",
              "<style scoped>\n",
              "    .dataframe tbody tr th:only-of-type {\n",
              "        vertical-align: middle;\n",
              "    }\n",
              "\n",
              "    .dataframe tbody tr th {\n",
              "        vertical-align: top;\n",
              "    }\n",
              "\n",
              "    .dataframe thead th {\n",
              "        text-align: right;\n",
              "    }\n",
              "</style>\n",
              "<table border=\"1\" class=\"dataframe\">\n",
              "  <thead>\n",
              "    <tr style=\"text-align: right;\">\n",
              "      <th></th>\n",
              "      <th>accuracy</th>\n",
              "      <th>recall</th>\n",
              "    </tr>\n",
              "  </thead>\n",
              "  <tbody>\n",
              "    <tr>\n",
              "      <th>0</th>\n",
              "      <td>0.995726</td>\n",
              "      <td>0.987500</td>\n",
              "    </tr>\n",
              "    <tr>\n",
              "      <th>1</th>\n",
              "      <td>0.990385</td>\n",
              "      <td>0.975000</td>\n",
              "    </tr>\n",
              "    <tr>\n",
              "      <th>2</th>\n",
              "      <td>0.990385</td>\n",
              "      <td>0.970833</td>\n",
              "    </tr>\n",
              "    <tr>\n",
              "      <th>3</th>\n",
              "      <td>0.996791</td>\n",
              "      <td>0.987500</td>\n",
              "    </tr>\n",
              "    <tr>\n",
              "      <th>4</th>\n",
              "      <td>0.990374</td>\n",
              "      <td>0.979167</td>\n",
              "    </tr>\n",
              "    <tr>\n",
              "      <th>5</th>\n",
              "      <td>0.989305</td>\n",
              "      <td>0.970833</td>\n",
              "    </tr>\n",
              "    <tr>\n",
              "      <th>6</th>\n",
              "      <td>0.995722</td>\n",
              "      <td>0.987500</td>\n",
              "    </tr>\n",
              "    <tr>\n",
              "      <th>7</th>\n",
              "      <td>0.994652</td>\n",
              "      <td>0.983333</td>\n",
              "    </tr>\n",
              "    <tr>\n",
              "      <th>8</th>\n",
              "      <td>0.992513</td>\n",
              "      <td>0.975000</td>\n",
              "    </tr>\n",
              "    <tr>\n",
              "      <th>9</th>\n",
              "      <td>0.992513</td>\n",
              "      <td>0.974895</td>\n",
              "    </tr>\n",
              "  </tbody>\n",
              "</table>\n",
              "</div>\n",
              "      <button class=\"colab-df-convert\" onclick=\"convertToInteractive('df-3bd26698-18ea-489c-be6c-d646a9caf58e')\"\n",
              "              title=\"Convert this dataframe to an interactive table.\"\n",
              "              style=\"display:none;\">\n",
              "        \n",
              "  <svg xmlns=\"http://www.w3.org/2000/svg\" height=\"24px\"viewBox=\"0 0 24 24\"\n",
              "       width=\"24px\">\n",
              "    <path d=\"M0 0h24v24H0V0z\" fill=\"none\"/>\n",
              "    <path d=\"M18.56 5.44l.94 2.06.94-2.06 2.06-.94-2.06-.94-.94-2.06-.94 2.06-2.06.94zm-11 1L8.5 8.5l.94-2.06 2.06-.94-2.06-.94L8.5 2.5l-.94 2.06-2.06.94zm10 10l.94 2.06.94-2.06 2.06-.94-2.06-.94-.94-2.06-.94 2.06-2.06.94z\"/><path d=\"M17.41 7.96l-1.37-1.37c-.4-.4-.92-.59-1.43-.59-.52 0-1.04.2-1.43.59L10.3 9.45l-7.72 7.72c-.78.78-.78 2.05 0 2.83L4 21.41c.39.39.9.59 1.41.59.51 0 1.02-.2 1.41-.59l7.78-7.78 2.81-2.81c.8-.78.8-2.07 0-2.86zM5.41 20L4 18.59l7.72-7.72 1.47 1.35L5.41 20z\"/>\n",
              "  </svg>\n",
              "      </button>\n",
              "      \n",
              "  <style>\n",
              "    .colab-df-container {\n",
              "      display:flex;\n",
              "      flex-wrap:wrap;\n",
              "      gap: 12px;\n",
              "    }\n",
              "\n",
              "    .colab-df-convert {\n",
              "      background-color: #E8F0FE;\n",
              "      border: none;\n",
              "      border-radius: 50%;\n",
              "      cursor: pointer;\n",
              "      display: none;\n",
              "      fill: #1967D2;\n",
              "      height: 32px;\n",
              "      padding: 0 0 0 0;\n",
              "      width: 32px;\n",
              "    }\n",
              "\n",
              "    .colab-df-convert:hover {\n",
              "      background-color: #E2EBFA;\n",
              "      box-shadow: 0px 1px 2px rgba(60, 64, 67, 0.3), 0px 1px 3px 1px rgba(60, 64, 67, 0.15);\n",
              "      fill: #174EA6;\n",
              "    }\n",
              "\n",
              "    [theme=dark] .colab-df-convert {\n",
              "      background-color: #3B4455;\n",
              "      fill: #D2E3FC;\n",
              "    }\n",
              "\n",
              "    [theme=dark] .colab-df-convert:hover {\n",
              "      background-color: #434B5C;\n",
              "      box-shadow: 0px 1px 3px 1px rgba(0, 0, 0, 0.15);\n",
              "      filter: drop-shadow(0px 1px 2px rgba(0, 0, 0, 0.3));\n",
              "      fill: #FFFFFF;\n",
              "    }\n",
              "  </style>\n",
              "\n",
              "      <script>\n",
              "        const buttonEl =\n",
              "          document.querySelector('#df-3bd26698-18ea-489c-be6c-d646a9caf58e button.colab-df-convert');\n",
              "        buttonEl.style.display =\n",
              "          google.colab.kernel.accessAllowed ? 'block' : 'none';\n",
              "\n",
              "        async function convertToInteractive(key) {\n",
              "          const element = document.querySelector('#df-3bd26698-18ea-489c-be6c-d646a9caf58e');\n",
              "          const dataTable =\n",
              "            await google.colab.kernel.invokeFunction('convertToInteractive',\n",
              "                                                     [key], {});\n",
              "          if (!dataTable) return;\n",
              "\n",
              "          const docLinkHtml = 'Like what you see? Visit the ' +\n",
              "            '<a target=\"_blank\" href=https://colab.research.google.com/notebooks/data_table.ipynb>data table notebook</a>'\n",
              "            + ' to learn more about interactive tables.';\n",
              "          element.innerHTML = '';\n",
              "          dataTable['output_type'] = 'display_data';\n",
              "          await google.colab.output.renderOutput(dataTable, element);\n",
              "          const docLink = document.createElement('div');\n",
              "          docLink.innerHTML = docLinkHtml;\n",
              "          element.appendChild(docLink);\n",
              "        }\n",
              "      </script>\n",
              "    </div>\n",
              "  </div>\n",
              "  "
            ]
          },
          "metadata": {},
          "execution_count": 40
        }
      ]
    },
    {
      "cell_type": "code",
      "execution_count": 61,
      "id": "57a436b3",
      "metadata": {
        "id": "57a436b3",
        "colab": {
          "base_uri": "https://localhost:8080/",
          "height": 379
        },
        "outputId": "5b253837-1017-4243-8595-515541858eda"
      },
      "outputs": [
        {
          "output_type": "execute_result",
          "data": {
            "text/plain": [
              "<sklearn.metrics._plot.confusion_matrix.ConfusionMatrixDisplay at 0x7fa8b5af4a30>"
            ]
          },
          "metadata": {},
          "execution_count": 61
        },
        {
          "output_type": "display_data",
          "data": {
            "text/plain": [
              "<Figure size 400x400 with 2 Axes>"
            ],
            "image/png": "[encoded data removed]"
          },
          "metadata": {}
        }
      ],
      "source": [
        "plt.rcParams[\"figure.figsize\"] = (4,4)\n",
        "ConfusionMatrixDisplay.from_predictions(y,my_pipe.predict(X),cmap='Blues')"
      ]
    },
    {
      "cell_type": "code",
      "source": [
        "idx = feature_probability['Probability'].abs().sort_values(ascending = False).head(20).index\n",
        "feature_probability2 = feature_probability.loc[idx]\n",
        "\n",
        "plt.style.use('ggplot')\n",
        "plt.figure(figsize = (15,5))\n",
        "sns.barplot(x='Probability',y='Feature',data=feature_probability2).set(title='Top Email keywords by Probability')"
      ],
      "metadata": {
        "colab": {
          "base_uri": "https://localhost:8080/",
          "height": 500
        },
        "id": "ZymPRee6cCqB",
        "outputId": "875f2386-00a2-4ebc-a949-027956b7529b"
      },
      "id": "ZymPRee6cCqB",
      "execution_count": 24,
      "outputs": [
        {
          "output_type": "execute_result",
          "data": {
            "text/plain": [
              "[Text(0.5, 1.0, 'Top Email keywords by Probability')]"
            ]
          },
          "metadata": {},
          "execution_count": 24
        },
        {
          "output_type": "display_data",
          "data": {
            "text/plain": [
              "<Figure size 1500x500 with 1 Axes>"
            ],
            "image/png": "[encoded data removed]"
          },
          "metadata": {}
        }
      ]
    },
    {
      "cell_type": "code",
      "source": [
        "#rerunning model on Sender Domain\n",
        "X = data['Sender']\n",
        "y = data['Label'].values\n",
        "\n",
        "# MultiNB with best params\n",
        "domain_pipe = Pipeline([\n",
        "    ('vectorizer',TfidfVectorizer(token_pattern=r\"(?u)\\b\\w+\\b\", stop_words=stop, ngram_range=(2,2), analyzer='word')),\n",
        "    ('estimator',MultinomialNB(alpha=results.best_params_.get('estimator__alpha')))\n",
        "])\n",
        "acc_score = []\n",
        "rec_score = []\n",
        "feature_names = []\n",
        "\n",
        "for i, (train,test) in enumerate(skf.split(X,y)):\n",
        "    domain_pipe.fit(X[train],y[train])\n",
        "    p = domain_pipe.predict(X[test])\n",
        "    acc_score.append(accuracy_score(y[test],p))\n",
        "    rec_score.append(recall_score(y[test],p))\n",
        "    print(classification_report(y[test],p))\n",
        "\n",
        "    #feature importance by word\n",
        "    feature_log_probs = domain_pipe.named_steps['estimator'].feature_log_prob_\n",
        "    feature_names = domain_pipe.named_steps['vectorizer'].get_feature_names_out()\n",
        "\n",
        "\n",
        "# Convert feature log probabilities to probabilities\n",
        "feature_probs = np.exp(feature_log_probs)\n",
        "\n",
        "# Create a DataFrame to store feature importance\n",
        "feature_probability = pd.DataFrame({'Feature': feature_names,\n",
        "                                   'Probability': feature_probs[1]})\n",
        "\n",
        "# Sort feature importance by importance score\n",
        "feature_probability = feature_probability.sort_values(by='Probability', ascending=False)\n",
        "\n",
        "\n",
        "# saving scores for comparison    \n",
        "mNB_scores = pd.DataFrame({'accuracy':acc_score,\n",
        "                           'recall':rec_score})\n"
      ],
      "metadata": {
        "colab": {
          "base_uri": "https://localhost:8080/"
        },
        "id": "iFwLDIxR896F",
        "outputId": "81e4ab17-565e-41bc-dabb-6f01959c6c75"
      },
      "id": "iFwLDIxR896F",
      "execution_count": 42,
      "outputs": [
        {
          "output_type": "stream",
          "name": "stdout",
          "text": [
            "              precision    recall  f1-score   support\n",
            "\n",
            "           0       0.95      0.98      0.96       696\n",
            "           1       0.92      0.85      0.88       240\n",
            "\n",
            "    accuracy                           0.94       936\n",
            "   macro avg       0.94      0.91      0.92       936\n",
            "weighted avg       0.94      0.94      0.94       936\n",
            "\n",
            "              precision    recall  f1-score   support\n",
            "\n",
            "           0       0.94      0.95      0.95       696\n",
            "           1       0.85      0.83      0.84       240\n",
            "\n",
            "    accuracy                           0.92       936\n",
            "   macro avg       0.90      0.89      0.90       936\n",
            "weighted avg       0.92      0.92      0.92       936\n",
            "\n",
            "              precision    recall  f1-score   support\n",
            "\n",
            "           0       0.94      0.96      0.95       696\n",
            "           1       0.87      0.82      0.85       240\n",
            "\n",
            "    accuracy                           0.92       936\n",
            "   macro avg       0.90      0.89      0.90       936\n",
            "weighted avg       0.92      0.92      0.92       936\n",
            "\n",
            "              precision    recall  f1-score   support\n",
            "\n",
            "           0       0.93      0.96      0.95       695\n",
            "           1       0.87      0.80      0.83       240\n",
            "\n",
            "    accuracy                           0.92       935\n",
            "   macro avg       0.90      0.88      0.89       935\n",
            "weighted avg       0.92      0.92      0.92       935\n",
            "\n",
            "              precision    recall  f1-score   support\n",
            "\n",
            "           0       0.95      0.96      0.96       695\n",
            "           1       0.89      0.86      0.87       240\n",
            "\n",
            "    accuracy                           0.94       935\n",
            "   macro avg       0.92      0.91      0.91       935\n",
            "weighted avg       0.94      0.94      0.94       935\n",
            "\n",
            "              precision    recall  f1-score   support\n",
            "\n",
            "           0       0.94      0.96      0.95       695\n",
            "           1       0.88      0.81      0.84       240\n",
            "\n",
            "    accuracy                           0.92       935\n",
            "   macro avg       0.91      0.89      0.90       935\n",
            "weighted avg       0.92      0.92      0.92       935\n",
            "\n",
            "              precision    recall  f1-score   support\n",
            "\n",
            "           0       0.94      0.97      0.95       695\n",
            "           1       0.91      0.81      0.85       240\n",
            "\n",
            "    accuracy                           0.93       935\n",
            "   macro avg       0.92      0.89      0.90       935\n",
            "weighted avg       0.93      0.93      0.93       935\n",
            "\n",
            "              precision    recall  f1-score   support\n",
            "\n",
            "           0       0.94      0.97      0.95       695\n",
            "           1       0.89      0.82      0.85       240\n",
            "\n",
            "    accuracy                           0.93       935\n",
            "   macro avg       0.92      0.89      0.90       935\n",
            "weighted avg       0.93      0.93      0.93       935\n",
            "\n",
            "              precision    recall  f1-score   support\n",
            "\n",
            "           0       0.94      0.95      0.94       695\n",
            "           1       0.85      0.82      0.83       240\n",
            "\n",
            "    accuracy                           0.92       935\n",
            "   macro avg       0.89      0.88      0.89       935\n",
            "weighted avg       0.91      0.92      0.91       935\n",
            "\n",
            "              precision    recall  f1-score   support\n",
            "\n",
            "           0       0.93      0.96      0.95       696\n",
            "           1       0.88      0.80      0.84       239\n",
            "\n",
            "    accuracy                           0.92       935\n",
            "   macro avg       0.91      0.88      0.89       935\n",
            "weighted avg       0.92      0.92      0.92       935\n",
            "\n"
          ]
        }
      ]
    },
    {
      "cell_type": "code",
      "source": [
        "idx = feature_probability['Probability'].abs().sort_values(ascending = False).head(10).index\n",
        "feature_probability2 = feature_probability.loc[idx]\n",
        "\n",
        "plt.style.use('ggplot')\n",
        "plt.figure(figsize = (15,5))\n",
        "sns.barplot(x='Probability',y='Feature',data=feature_probability2).set(title='Top Sender Domains by Probability')"
      ],
      "metadata": {
        "colab": {
          "base_uri": "https://localhost:8080/",
          "height": 509
        },
        "id": "s7AKFm6oD5wD",
        "outputId": "75e19c9a-b794-4fb7-c0cb-a86702282281"
      },
      "id": "s7AKFm6oD5wD",
      "execution_count": 31,
      "outputs": [
        {
          "output_type": "execute_result",
          "data": {
            "text/plain": [
              "[Text(0.5, 1.0, 'Top Sender Domains by Probability')]"
            ]
          },
          "metadata": {},
          "execution_count": 31
        },
        {
          "output_type": "display_data",
          "data": {
            "text/plain": [
              "<Figure size 1500x500 with 1 Axes>"
            ],
            "image/png": "[encoded data removed]"
          },
          "metadata": {}
        }
      ]
    },
    {
      "cell_type": "code",
      "source": [
        "plt.rcParams[\"figure.figsize\"] =  (4,4)\n",
        "ConfusionMatrixDisplay.from_predictions(y,domain_pipe.predict(X),cmap='Blues')"
      ],
      "metadata": {
        "id": "90CwDg3J6DQl",
        "outputId": "f3bb4291-1185-4422-f9f8-11af72312a40",
        "colab": {
          "base_uri": "https://localhost:8080/",
          "height": 379
        }
      },
      "id": "90CwDg3J6DQl",
      "execution_count": 62,
      "outputs": [
        {
          "output_type": "execute_result",
          "data": {
            "text/plain": [
              "<sklearn.metrics._plot.confusion_matrix.ConfusionMatrixDisplay at 0x7fa8bef12680>"
            ]
          },
          "metadata": {},
          "execution_count": 62
        },
        {
          "output_type": "display_data",
          "data": {
            "text/plain": [
              "<Figure size 400x400 with 2 Axes>"
            ],
            "image/png": "[encoded data removed]"
          },
          "metadata": {}
        }
      ]
    },
    {
      "cell_type": "code",
      "source": [
        "# support vector machine - classifier\n",
        "from sklearnex import patch_sklearn\n",
        "patch_sklearn()\n",
        "from sklearn.svm import SVC\n",
        "\n",
        "my_pipe = Pipeline([\n",
        "    ('vectorizer',TfidfVectorizer(token_pattern=r\"(?u)\\b\\w+\\b\", stop_words=None, ngram_range=(2,2), analyzer='word')),\n",
        "    ('estimator',SVC(random_state=610))\n",
        "])\n",
        "pipe_params = {\n",
        "    'estimator__C':[.01,.1,.5,1],\n",
        "    'estimator__gamma':['scale','auto']\n",
        "}\n",
        "\n",
        "grid = GridSearchCV(my_pipe,pipe_params,cv=skf,scoring='accuracy',n_jobs=-1)\n",
        "results = grid.fit(X,y)\n",
        "print(results.best_estimator_)\n",
        "print(results.best_score_)"
      ],
      "metadata": {
        "colab": {
          "base_uri": "https://localhost:8080/"
        },
        "id": "6RzoIf4s7xGa",
        "outputId": "1f078700-6860-420d-ea60-9ec05fe8a614"
      },
      "id": "6RzoIf4s7xGa",
      "execution_count": null,
      "outputs": [
        {
          "metadata": {
            "tags": null
          },
          "name": "stderr",
          "output_type": "stream",
          "text": [
            "Intel(R) Extension for Scikit-learn* enabled (https://github.com/intel/scikit-learn-intelex)\n",
            "/usr/local/lib/python3.10/dist-packages/joblib/externals/loky/process_executor.py:700: UserWarning: A worker stopped while some jobs were given to the executor. This can be caused by a too short worker timeout or by a memory leak.\n",
            "  warnings.warn(\n"
          ]
        },
        {
          "metadata": {
            "tags": null
          },
          "name": "stdout",
          "output_type": "stream",
          "text": [
            "Pipeline(steps=[('vectorizer',\n",
            "                 TfidfVectorizer(ngram_range=(2, 2),\n",
            "                                 token_pattern='(?u)\\\\b\\\\w+\\\\b')),\n",
            "                ('estimator', SVC(C=1, random_state=610))])\n",
            "0.9868491475844416\n"
          ]
        }
      ]
    },
    {
      "cell_type": "code",
      "source": [
        "# svc with best params\n",
        "my_pipe = Pipeline([\n",
        "    ('vectorizer',TfidfVectorizer(token_pattern=r\"(?u)\\b\\w+\\b\", stop_words=None, ngram_range=(2,2), analyzer='word')),\n",
        "    ('estimator',SVC(random_state=610,C=results.best_params_.get('estimator__C')))#not returning best for gamma for some reason\n",
        "])\n",
        "acc_score = []\n",
        "rec_score = []\n",
        "for i, (train,test) in enumerate(skf.split(X,y)):\n",
        "    my_pipe.fit(X[train],y[train])\n",
        "    p = my_pipe.predict(X[test])\n",
        "    acc_score.append(accuracy_score(y[test],p))\n",
        "    rec_score.append(recall_score(y[test],p))\n",
        "    print(classification_report(y[test],p))\n",
        "    \n",
        "svc_scores = pd.DataFrame({'accuracy':acc_score,\n",
        "                           'recall':rec_score})"
      ],
      "metadata": {
        "colab": {
          "base_uri": "https://localhost:8080/"
        },
        "id": "7dXaWtC-lMhM",
        "outputId": "df726c31-ae2e-41ee-abbd-157d1065dc68"
      },
      "id": "7dXaWtC-lMhM",
      "execution_count": null,
      "outputs": [
        {
          "metadata": {
            "tags": null
          },
          "name": "stdout",
          "output_type": "stream",
          "text": [
            "              precision    recall  f1-score   support\n",
            "\n",
            "           0       0.99      1.00      0.99       696\n",
            "           1       1.00      0.96      0.98       240\n",
            "\n",
            "    accuracy                           0.99       936\n",
            "   macro avg       0.99      0.98      0.98       936\n",
            "weighted avg       0.99      0.99      0.99       936\n",
            "\n",
            "              precision    recall  f1-score   support\n",
            "\n",
            "           0       0.98      1.00      0.99       696\n",
            "           1       0.99      0.95      0.97       240\n",
            "\n",
            "    accuracy                           0.99       936\n",
            "   macro avg       0.99      0.97      0.98       936\n",
            "weighted avg       0.99      0.99      0.98       936\n",
            "\n",
            "              precision    recall  f1-score   support\n",
            "\n",
            "           0       0.99      1.00      0.99       696\n",
            "           1       0.99      0.96      0.97       240\n",
            "\n",
            "    accuracy                           0.99       936\n",
            "   macro avg       0.99      0.98      0.98       936\n",
            "weighted avg       0.99      0.99      0.99       936\n",
            "\n",
            "              precision    recall  f1-score   support\n",
            "\n",
            "           0       0.98      1.00      0.99       696\n",
            "           1       1.00      0.95      0.97       239\n",
            "\n",
            "    accuracy                           0.99       935\n",
            "   macro avg       0.99      0.97      0.98       935\n",
            "weighted avg       0.99      0.99      0.98       935\n",
            "\n",
            "              precision    recall  f1-score   support\n",
            "\n",
            "           0       0.98      1.00      0.99       695\n",
            "           1       1.00      0.94      0.97       240\n",
            "\n",
            "    accuracy                           0.99       935\n",
            "   macro avg       0.99      0.97      0.98       935\n",
            "weighted avg       0.99      0.99      0.98       935\n",
            "\n",
            "              precision    recall  f1-score   support\n",
            "\n",
            "           0       0.98      1.00      0.99       695\n",
            "           1       0.99      0.95      0.97       240\n",
            "\n",
            "    accuracy                           0.99       935\n",
            "   macro avg       0.99      0.97      0.98       935\n",
            "weighted avg       0.99      0.99      0.98       935\n",
            "\n",
            "              precision    recall  f1-score   support\n",
            "\n",
            "           0       0.98      1.00      0.99       695\n",
            "           1       1.00      0.95      0.97       240\n",
            "\n",
            "    accuracy                           0.99       935\n",
            "   macro avg       0.99      0.97      0.98       935\n",
            "weighted avg       0.99      0.99      0.99       935\n",
            "\n",
            "              precision    recall  f1-score   support\n",
            "\n",
            "           0       0.99      1.00      1.00       695\n",
            "           1       1.00      0.97      0.99       240\n",
            "\n",
            "    accuracy                           0.99       935\n",
            "   macro avg       1.00      0.99      0.99       935\n",
            "weighted avg       0.99      0.99      0.99       935\n",
            "\n",
            "              precision    recall  f1-score   support\n",
            "\n",
            "           0       0.98      1.00      0.99       695\n",
            "           1       0.99      0.94      0.97       240\n",
            "\n",
            "    accuracy                           0.98       935\n",
            "   macro avg       0.99      0.97      0.98       935\n",
            "weighted avg       0.98      0.98      0.98       935\n",
            "\n",
            "              precision    recall  f1-score   support\n",
            "\n",
            "           0       0.99      1.00      0.99       695\n",
            "           1       1.00      0.96      0.98       240\n",
            "\n",
            "    accuracy                           0.99       935\n",
            "   macro avg       0.99      0.98      0.99       935\n",
            "weighted avg       0.99      0.99      0.99       935\n",
            "\n"
          ]
        }
      ]
    },
    {
      "cell_type": "code",
      "source": [
        "# random forest classifier\n",
        "from sklearn.ensemble import RandomForestClassifier\n",
        "\n",
        "\n",
        "my_pipe = Pipeline([\n",
        "    ('vectorizer',TfidfVectorizer(token_pattern=r\"(?u)\\b\\w+\\b\", stop_words=None, ngram_range=(2,2), analyzer='word')),\n",
        "    ('estimator',RandomForestClassifier(random_state=610,max_depth = 100))\n",
        "])\n",
        "pipe_params = {\n",
        "    'estimator__n_estimators':[50,100,200],\n",
        "    'estimator__class_weight':['balanced',None]\n",
        "}\n",
        "\n",
        "grid = GridSearchCV(my_pipe,pipe_params,cv=skf,scoring='accuracy',n_jobs=-1)\n",
        "results = grid.fit(X,y)\n",
        "print(results.best_estimator_)\n",
        "print(results.best_score_)"
      ],
      "metadata": {
        "id": "sTKM-en-Jyvc"
      },
      "id": "sTKM-en-Jyvc",
      "execution_count": null,
      "outputs": []
    },
    {
      "cell_type": "code",
      "source": [
        "# rf best params\n",
        "my_pipe = Pipeline([\n",
        "    ('vectorizer',TfidfVectorizer(token_pattern=r\"(?u)\\b\\w+\\b\", stop_words=None, ngram_range=(2,2), analyzer='word')),\n",
        "    ('estimator',RandomForestClassifier(max_detph = 100,\n",
        "                                        random_state=610,\n",
        "                                        n_estimators = results.best_params.get('n_estimators'),\n",
        "                                        class_weight = results.best_params.get('class_weight')))\n",
        "])\n",
        "acc_score = []\n",
        "rec_score = []\n",
        "for i, (train,test) in enumerate(skf.split(X,y)):\n",
        "    my_pipe.fit(X[train],y[train])\n",
        "    p = my_pipe.predict(X[test])\n",
        "    acc_score.append(accuracy_score(y[test],p))\n",
        "    rec_score.append(recall_score(y[test],p))\n",
        "    print(classification_report(y[test],p))\n",
        "    \n",
        "rf_scores = pd.DataFrame({'accuracy':acc_score,\n",
        "                           'recall':rec_score})"
      ],
      "metadata": {
        "id": "K2mUahZFlqrk"
      },
      "id": "K2mUahZFlqrk",
      "execution_count": null,
      "outputs": []
    },
    {
      "cell_type": "code",
      "source": [
        "# clustering\n",
        "## checking to see if KMeans can find two clusters that match fairly well with target\n",
        "\n",
        "from sklearn.cluster import KMeans\n",
        "clustering = KMeans(n_clusters=2,n_init='auto',random_state=610).fit(X)\n",
        "km_labels = clustering.labels_\n"
      ],
      "metadata": {
        "id": "cFMu_b_ImspW"
      },
      "id": "cFMu_b_ImspW",
      "execution_count": null,
      "outputs": []
    },
    {
      "cell_type": "code",
      "source": [
        "# clustering\n",
        "from sklearn.cluster import DBSCAN #DBSCAN works with\n",
        "\n",
        "clustering = DBSCAN(eps=1,n_jobs=-1).fit(X)\n",
        "db_labels = clustering.labels_"
      ],
      "metadata": {
        "id": "6HaUa4Denf6v"
      },
      "execution_count": null,
      "outputs": [],
      "id": "6HaUa4Denf6v"
    },
    {
      "cell_type": "code",
      "execution_count": null,
      "id": "e9b5d368",
      "metadata": {
        "id": "e9b5d368"
      },
      "outputs": [],
      "source": [
        "reverse={}\n",
        "for word,value in word_counts.vocabulary_.items():\n",
        "    reverse[value]=word"
      ]
    }
  ],
  "metadata": {
    "kernelspec": {
      "display_name": "Python 3 (ipykernel)",
      "language": "python",
      "name": "python3"
    },
    "language_info": {
      "codemirror_mode": {
        "name": "ipython",
        "version": 3
      },
      "file_extension": ".py",
      "mimetype": "text/x-python",
      "name": "python",
      "nbconvert_exporter": "python",
      "pygments_lexer": "ipython3",
      "version": "3.10.10"
    },
    "colab": {
      "provenance": [],
      "machine_shape": "hm",
      "include_colab_link": true
    }
  },
  "nbformat": 4,
  "nbformat_minor": 5
}