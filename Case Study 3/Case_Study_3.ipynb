{
  "cells": [
    {
      "cell_type": "markdown",
      "metadata": {
        "id": "view-in-github",
        "colab_type": "text"
      },
      "source": [
        "<a href=\"https://colab.research.google.com/github/KendallScott/QTW/blob/main/Case%20Study%203/Case_Study_3.ipynb\" target=\"_parent\"><img src=\"https://colab.research.google.com/assets/colab-badge.svg\" alt=\"Open In Colab\"/></a>"
      ]
    },
    {
      "cell_type": "code",
      "source": [
        "from google.colab import drive\n",
        "drive.mount('/content/drive')"
      ],
      "metadata": {
        "colab": {
          "base_uri": "https://localhost:8080/"
        },
        "id": "11QoaBxoZQZ1",
        "outputId": "edb056a9-1507-4c8b-ee95-ec5a6bd9ce26"
      },
      "id": "11QoaBxoZQZ1",
      "execution_count": 70,
      "outputs": [
        {
          "output_type": "stream",
          "name": "stdout",
          "text": [
            "Drive already mounted at /content/drive; to attempt to forcibly remount, call drive.mount(\"/content/drive\", force_remount=True).\n"
          ]
        }
      ]
    },
    {
      "cell_type": "code",
      "source": [
        "pip install python-magic"
      ],
      "metadata": {
        "id": "eYWc6StW3qeP",
        "outputId": "0bb3a9d3-a226-40e0-cf1a-ae0425ef78a2",
        "colab": {
          "base_uri": "https://localhost:8080/"
        }
      },
      "id": "eYWc6StW3qeP",
      "execution_count": 92,
      "outputs": [
        {
          "output_type": "stream",
          "name": "stdout",
          "text": [
            "Looking in indexes: https://pypi.org/simple, https://us-python.pkg.dev/colab-wheels/public/simple/\n",
            "Collecting python-magic\n",
            "  Downloading python_magic-0.4.27-py2.py3-none-any.whl (13 kB)\n",
            "Installing collected packages: python-magic\n",
            "Successfully installed python-magic-0.4.27\n"
          ]
        }
      ]
    },
    {
      "cell_type": "code",
      "source": [
        "import quopri\n",
        "import codecs\n",
        "import magic\n",
        "import email\n",
        "\n",
        "i=0\n",
        "\n",
        "contents = []\n",
        "types = []\n",
        "labels = []\n",
        "\n",
        "for root, dirs, files in os.walk(\"/content/drive/MyDrive/SpamAssassinMessages/\"):\n",
        "    for name in files:\n",
        "        with open(os.path.join(root,name),'r') as f:\n",
        "            try:\n",
        "                x = email.message_from_file(f)\n",
        "                i+=1\n",
        "\n",
        "            except UnicodeDecodeError:  \n",
        "                blob = open(file_list[i], 'rb').read()\n",
        "                m = magic.Magic(mime_encoding=True)\n",
        "                encoding = m.from_buffer(blob)\n",
        "                \n",
        "                contents.append(encoding)\n",
        "                print(file_list[i])\n",
        "                i+=1\n",
        "                \n",
        "            if \"multipart\" in x.get_content_type():\n",
        "                # do something\n",
        "                contents.append(\"\")\n",
        "\n",
        "            if \"text/plain\" in x.get_content_type():  #boy I hope all text messages are the same!\n",
        "                contents.append(x.get_payload().replace(\"\\n\",\" \"))\n",
        "            elif \"html\" in x.get_content_type():\n",
        "                # do something else\n",
        "\n",
        "                contents.append(\"\")\n",
        "            types.append(x.get_content_type())\n",
        "            if \"ham\" in root:\n",
        "                labels.append(0)\n",
        "            elif \"spam\" in root:\n",
        "                labels.append(1)\n",
        "            else:\n",
        "                print(\"YOU HAVE A BIG PROBLEM--LABEL NOT FOUND\")\n",
        "                \n",
        "        "
      ],
      "metadata": {
        "id": "TnTaU47O3SWE",
        "outputId": "2661d774-29d9-4ad4-c503-6135751f0c8a",
        "colab": {
          "base_uri": "https://localhost:8080/"
        }
      },
      "id": "TnTaU47O3SWE",
      "execution_count": 95,
      "outputs": [
        {
          "output_type": "stream",
          "name": "stdout",
          "text": [
            "/content/drive//MyDrive//SpamAssassinMessages//spam_2/00471.df77fa930951f79466c195052ff56816\n",
            "/content/drive//MyDrive//SpamAssassinMessages//spam_2/00580.c3b23134b4767f5e796d0df997fede33\n",
            "/content/drive//MyDrive//SpamAssassinMessages//spam_2/00464.d2f719c667d192af860572b1c858cc11\n",
            "/content/drive//MyDrive//SpamAssassinMessages//spam_2/00609.4dfe7912017772587dc62fecc3cf6553\n",
            "/content/drive//MyDrive//SpamAssassinMessages//spam_2/00468.fb2222cc49228bd3dac5481e670f208f\n",
            "/content/drive//MyDrive//SpamAssassinMessages//spam_2/00472.3c51cf86307bc98c54d856887a81e9ac\n",
            "/content/drive//MyDrive//SpamAssassinMessages//spam_2/00556.098b57f5108ba34d21825f176e492786\n",
            "/content/drive//MyDrive//SpamAssassinMessages//spam_2/00645.dd7d8ec1eb687c5966c516b720fcc3d5\n",
            "/content/drive//MyDrive//SpamAssassinMessages//spam_2/00750.dfc392478300e11189d61d29bed9cecc\n",
            "/content/drive//MyDrive//SpamAssassinMessages//spam_2/00706.5116018237368c3633823b2d24f8ac86\n",
            "/content/drive//MyDrive//SpamAssassinMessages//spam_2/00743.7889a6b188891a33c088f3d29d48251a\n",
            "/content/drive//MyDrive//SpamAssassinMessages//spam_2/00808.c072069806eb82f9aaf8d21d39789ea6\n",
            "/content/drive//MyDrive//SpamAssassinMessages//spam_2/00774.bb00990ae11efeabd677cc2935f2281f\n",
            "/content/drive//MyDrive//SpamAssassinMessages//spam_2/00737.af5f503fe444ae773bfeb4652d122349\n",
            "/content/drive//MyDrive//SpamAssassinMessages//spam_2/00692.e886bd6ece727e1c1fdbae4dc4b60bb5\n",
            "/content/drive//MyDrive//SpamAssassinMessages//spam_2/00789.ffe4e3c5dc50f5a9ac33a653b5f8b566\n",
            "/content/drive//MyDrive//SpamAssassinMessages//spam_2/00742.2700b00dc2dcc121ee0a1322040de188\n",
            "/content/drive//MyDrive//SpamAssassinMessages//spam_2/00704.30306e2e506ca198fe8dea2b3c11346a\n",
            "/content/drive//MyDrive//SpamAssassinMessages//spam_2/00680.e8df67f239cb166c5a8a78401eeeb1ba\n",
            "/content/drive//MyDrive//SpamAssassinMessages//spam_2/00748.2b1fcd8621caf857e9ec0b08555ae5db\n",
            "/content/drive//MyDrive//SpamAssassinMessages//spam_2/00683.41038a20d4763e8042a811a03612bae4\n",
            "/content/drive//MyDrive//SpamAssassinMessages//spam_2/00695.f79afe1f94217d0a2e6f983caf011b49\n",
            "/content/drive//MyDrive//SpamAssassinMessages//spam_2/00670.a3175dd0b4a1e1a26822c5fee6d6837b\n",
            "/content/drive//MyDrive//SpamAssassinMessages//spam_2/00886.9bd2063c3d984a66958a6195ffb97849\n",
            "/content/drive//MyDrive//SpamAssassinMessages//spam_2/00909.be44baf9966a96b2154b207cc56fe558\n",
            "/content/drive//MyDrive//SpamAssassinMessages//spam_2/01017.11a80131a2ae31ad0a9969189de3c2bb\n",
            "/content/drive//MyDrive//SpamAssassinMessages//spam_2/01013.c6cf4f54eda63230389baccc02702034\n",
            "/content/drive//MyDrive//SpamAssassinMessages//spam_2/00951.f7044a1b178dc3dcff44932f840b8805\n",
            "/content/drive//MyDrive//SpamAssassinMessages//spam_2/00876.f61ec69c2872eb398ba3860a13a17b15\n",
            "/content/drive//MyDrive//SpamAssassinMessages//spam_2/00960.ae114c0b717c866b821efe032780a8e5\n",
            "/content/drive//MyDrive//SpamAssassinMessages//spam_2/01105.2582a4afba9b0b06bed5d48e3e8b29df\n",
            "/content/drive//MyDrive//SpamAssassinMessages//spam_2/01065.9ecef01b01ca912fa35453196b4dae4c\n",
            "/content/drive//MyDrive//SpamAssassinMessages//spam_2/01104.ec267abf01fe81c42dc90dfd16c930bc\n",
            "/content/drive//MyDrive//SpamAssassinMessages//spam_2/01125.46ca779f86e1dd0a03c3ffc67b57f55e\n",
            "/content/drive//MyDrive//SpamAssassinMessages//spam_2/01107.5b3ad5e88347b08967ec627b815f2fc3\n",
            "/content/drive//MyDrive//SpamAssassinMessages//spam_2/01144.94d2d4f5dfefab34c1370aec38d470eb\n",
            "/content/drive//MyDrive//SpamAssassinMessages//spam_2/01060.d72413ea3af9e1c5530a3570e0bb517e\n",
            "/content/drive//MyDrive//SpamAssassinMessages//spam_2/01120.853b87a34ab28efd22d9851702b2f9c5\n",
            "/content/drive//MyDrive//SpamAssassinMessages//spam_2/01167.2ac57a0189fa2b8713202b84e587b707\n",
            "/content/drive//MyDrive//SpamAssassinMessages//spam_2/01353.369f79f8f31f3b18bdb5d1006207b52e\n",
            "/content/drive//MyDrive//SpamAssassinMessages//spam_2/01260.fae84d2193ed2d65a14e2c8b612fb7fe\n",
            "/content/drive//MyDrive//SpamAssassinMessages//spam_2/01227.04a4f94c7a73b29cb56bf38c7d526116\n",
            "/content/drive//MyDrive//SpamAssassinMessages//spam_2/01259.b4dff1ed93bc931b271888cd42e41b85\n",
            "/content/drive//MyDrive//SpamAssassinMessages//spam_2/01235.2e8191ab7ddffa2290e04f9ce0422041\n",
            "/content/drive//MyDrive//SpamAssassinMessages//spam_2/01233.010677fced50f4aecb67fba70701bcf5\n",
            "/content/drive//MyDrive//SpamAssassinMessages//spam_2/01268.626ef5e5fa30314816e0f049ea03bd9f\n",
            "/content/drive//MyDrive//SpamAssassinMessages//spam_2/01246.d0ee9c7ebf9d953b21de9414cc96c2f9\n",
            "/content/drive//MyDrive//SpamAssassinMessages//spam_2/01261.0d7a6fa74b73f80f62fe11267eeaa956\n",
            "/content/drive//MyDrive//SpamAssassinMessages//spam_2/01314.12c8b5b91bc690f0f0d6fad595150ac6\n",
            "/content/drive//MyDrive//SpamAssassinMessages//spam_2/01301.91269fd2b14a1fa0f183ca60953b99af\n",
            "/content/drive//MyDrive//SpamAssassinMessages//spam_2/01221.baf498fd213b8bc77b9dbfb13c1a6968\n",
            "/content/drive//MyDrive//SpamAssassinMessages//spam_2/01376.73e738e4cd8121ce3dfb42d190b193c9\n",
            "/content/drive//MyDrive//SpamAssassinMessages//spam_2/01399.2319643317e2c5193d574e40a71809c2\n",
            "/content/drive//MyDrive//SpamAssassinMessages//spam_2/01379.0d39498608cd170bbbc8cd33ffd18e35\n",
            "/content/drive//MyDrive//SpamAssassinMessages//spam_2/00018.336cb9e7b0358594cf002e7bf669eaf5\n",
            "/content/drive//MyDrive//SpamAssassinMessages//spam_2/00044.9f8c4b9ae007c6ded3d57476082bf2b2\n",
            "/content/drive//MyDrive//SpamAssassinMessages//spam_2/00025.9054470cb5193db2955a4d4a003698d6\n",
            "/content/drive//MyDrive//SpamAssassinMessages//spam_2/00139.cee7452bc16a8e26ea1ad841321c95ce\n",
            "/content/drive//MyDrive//SpamAssassinMessages//spam_2/00145.b6788a48c1eace0b7c34ff7de32766f6\n",
            "/content/drive//MyDrive//SpamAssassinMessages//spam_2/00140.f690cb156c0b1223e763ab3c0b340c57\n",
            "/content/drive//MyDrive//SpamAssassinMessages//spam_2/00214.39bd955c9db013255c326dbcbb4f2f86\n",
            "/content/drive//MyDrive//SpamAssassinMessages//spam_2/00246.d314e68151f961425104dbe6a4e3bc9a\n",
            "/content/drive//MyDrive//SpamAssassinMessages//spam_2/00261.e679a9947bd481d47fb1a3d83b482fd5\n",
            "/content/drive//MyDrive//SpamAssassinMessages//spam_2/00252.3b352c8a7266026be4f1c1ba89690cfc\n",
            "/content/drive//MyDrive//SpamAssassinMessages//spam_2/00243.2fa7ea5c308d2d572c7e8efc679bb6a9\n",
            "/content/drive//MyDrive//SpamAssassinMessages//spam_2/00328.47ba83d868220761b2ff71ce39d91a37\n",
            "/content/drive//MyDrive//SpamAssassinMessages//spam_2/00329.47e3728483bdcad34227e601eb348836\n",
            "/content/drive//MyDrive//SpamAssassinMessages//spam_2/00316.6127940652124130611907ee0c20ab5e\n",
            "/content/drive//MyDrive//SpamAssassinMessages//spam_2/00427.c3d316b9e7fefe87329d31b09c1601fe\n",
            "/content/drive//MyDrive//SpamAssassinMessages//spam_2/00475.3d497c7d96c51986316db566756ff35a\n",
            "/content/drive//MyDrive//SpamAssassinMessages//spam_2/00397.dc85d97361fbed3637f8db56d4c9c92d\n",
            "/content/drive//MyDrive//SpamAssassinMessages//spam_2/00492.3052cad36d423e60195ce706c7bc0e6f\n",
            "/content/drive//MyDrive//SpamAssassinMessages//spam_2/00741.00c61b5577b6fa232434c2ae62d52394\n",
            "/content/drive//MyDrive//SpamAssassinMessages//spam_2/00699.46c52d8e3b9db13ea2e9816f1c919961\n",
            "/content/drive//MyDrive//SpamAssassinMessages//spam_2/00708.89f1f9108884517148fdbd744e18ec1e\n",
            "/content/drive//MyDrive//SpamAssassinMessages//spam_2/00853.ee1fe2f2d16e8b27be79a670b8597252\n",
            "/content/drive//MyDrive//SpamAssassinMessages//spam_2/00905.8dcb590481d3e3c04d03506100c59497\n",
            "/content/drive//MyDrive//SpamAssassinMessages//spam_2/00921.548fb6dd2244c2fe87079df9652ddc2c\n",
            "/content/drive//MyDrive//SpamAssassinMessages//spam_2/01106.37f316c0f77e739cb5fe0e37aaea2046\n",
            "/content/drive//MyDrive//SpamAssassinMessages//spam_2/01064.50715ffeb13446500895836b77fcee09\n",
            "/content/drive//MyDrive//SpamAssassinMessages//spam_2/01072.ac604802c74de2ebc445efc827299b96\n",
            "/content/drive//MyDrive//SpamAssassinMessages//spam_2/01217.d5a1734ec521c1bd55270eca3ab4acd8\n",
            "/content/drive//MyDrive//SpamAssassinMessages//spam_2/01164.55202a4234914b20004dc7f9264313e5\n",
            "/content/drive//MyDrive//SpamAssassinMessages//spam_2/01170.0f6cbb8149f3e19d1b3054960e2cceb5\n",
            "/content/drive//MyDrive//SpamAssassinMessages//spam_2/01173.e0da19fcbb5649aa5104320ce38c6906\n",
            "/content/drive//MyDrive//SpamAssassinMessages//spam_2/01338.a67c3827402b4610bd2a6814cd8cd907\n",
            "/content/drive//MyDrive//SpamAssassinMessages//spam_2/01386.9398d616dfc3d67fb10e95d911768b39\n",
            "/content/drive//MyDrive//SpamAssassinMessages//spam_2/00040.d9570705b90532c2702859569bf4d01c\n",
            "/content/drive//MyDrive//SpamAssassinMessages//spam_2/00024.621bea2c6e0ebb2eb7ac00a38dfe6b00\n",
            "/content/drive//MyDrive//SpamAssassinMessages//spam_2/00037.c7f0ce13d4cad8202f3d1a02b5cc5a1d\n",
            "/content/drive//MyDrive//SpamAssassinMessages//spam_2/00013.372ec9dc663418ca71f7d880a76f117a\n",
            "/content/drive//MyDrive//SpamAssassinMessages//spam_2/00028.60393e49c90f750226bee6381eb3e69d\n",
            "/content/drive//MyDrive//SpamAssassinMessages//spam_2/00043.9331daf0bd865aa657cb02cbcd06173b\n",
            "/content/drive//MyDrive//SpamAssassinMessages//spam_2/00006.3ca1f399ccda5d897fecb8c57669a283\n",
            "/content/drive//MyDrive//SpamAssassinMessages//spam_2/00271.7105f4998a88cbf4036403f61ba60d65\n",
            "/content/drive//MyDrive//SpamAssassinMessages//spam_2/00081.4c7fbdca38b8def54e276e75ec56682e\n",
            "/content/drive//MyDrive//SpamAssassinMessages//spam_2/00228.238a0547cbbd70a024d7d4376707f201\n",
            "/content/drive//MyDrive//SpamAssassinMessages//spam_2/00239.91d2d5c0e8827c4a42cb24733a0859fa\n",
            "/content/drive//MyDrive//SpamAssassinMessages//spam_2/00207.47d129a97b8ce8572c9efb4c18a74192\n",
            "/content/drive//MyDrive//SpamAssassinMessages//spam_2/00253.bd8e0dd85f0f848be89aadbf6d6364dc\n",
            "/content/drive//MyDrive//SpamAssassinMessages//spam_2/00136.870132877ae18f6129c09da3a4d077af\n",
            "/content/drive//MyDrive//SpamAssassinMessages//spam_2/00069.27497d5d2f92837805b67e2bf31dfc71\n",
            "/content/drive//MyDrive//SpamAssassinMessages//spam_2/00117.9f0ba9c35b1fe59307e32b7c2c0d4e61\n",
            "/content/drive//MyDrive//SpamAssassinMessages//spam_2/00138.acef24ad51f98e3192d5a0348543f02f\n",
            "/content/drive//MyDrive//SpamAssassinMessages//spam_2/00122.4a2f67839c81141a1075745a66c907bb\n",
            "/content/drive//MyDrive//SpamAssassinMessages//spam_2/00274.192bd3848a65302344dff2d7c0d3f08a\n",
            "/content/drive//MyDrive//SpamAssassinMessages//spam_2/00135.9996d6845094dcec94b55eb1a828c7c4\n",
            "/content/drive//MyDrive//SpamAssassinMessages//spam_2/00452.f13574a4582c94daf2bd6668c1683eed\n",
            "/content/drive//MyDrive//SpamAssassinMessages//spam_2/00311.176626eb0ec0de8f451a079083104975\n",
            "/content/drive//MyDrive//SpamAssassinMessages//spam_2/00319.2702ee4100f722328afc52a1a6f1dc26\n",
            "/content/drive//MyDrive//SpamAssassinMessages//spam_2/00368.64d7f78532bf9b4cd41c8f5bc526af6a\n",
            "/content/drive//MyDrive//SpamAssassinMessages//spam_2/00412.2498d35d4ac806f77e31a17839d5c4c2\n",
            "/content/drive//MyDrive//SpamAssassinMessages//spam_2/00421.540f120cafbc8a068fcc7f8a372a37b8\n",
            "/content/drive//MyDrive//SpamAssassinMessages//spam_2/00359.90bec90ebeaf05f024f48594e7d7b0d5\n",
            "/content/drive//MyDrive//SpamAssassinMessages//spam_2/00395.74aee42fac915ca758047506ec59a21f\n",
            "/content/drive//MyDrive//SpamAssassinMessages//spam_2/00374.b174d1e94449f519f3ceba87e7cefea7\n",
            "/content/drive//MyDrive//SpamAssassinMessages//spam_2/00642.f213f657ab630999a8d34c26060d79fc\n",
            "/content/drive//MyDrive//SpamAssassinMessages//spam_2/00554.c325ab7400fb7e3f053ed0cac4ed7545\n",
            "/content/drive//MyDrive//SpamAssassinMessages//spam_2/00528.a7b02c9abd9fb303615a956bbc4af548\n",
            "/content/drive//MyDrive//SpamAssassinMessages//spam_2/00588.44b644374b89ba4885f91f0ed836e622\n",
            "/content/drive//MyDrive//SpamAssassinMessages//spam_2/00579.d94454f0e596c00bf22ce1f315427143\n",
            "/content/drive//MyDrive//SpamAssassinMessages//spam/0372.216f90ef52558ed24402e192586a40e8\n",
            "/content/drive//MyDrive//SpamAssassinMessages//spam/0341.7c13df68bb4feae35d9ea86001a3ecad\n",
            "/content/drive//MyDrive//SpamAssassinMessages//spam/0405.18a5c3d971e1def2c3b4a2df122f3583\n",
            "/content/drive//MyDrive//SpamAssassinMessages//spam/0491.f47154f78397c57b14e05450a16745d5\n",
            "/content/drive//MyDrive//SpamAssassinMessages//spam/0032.081c3615bc9b91d09b6cbb9239ba8c99\n",
            "/content/drive//MyDrive//SpamAssassinMessages//spam/0500.2e8762b67913d1b07bc8da293448d27f\n",
            "/content/drive//MyDrive//SpamAssassinMessages//spam/0327.5df76bb4359800b5408821285677b5cf\n",
            "/content/drive//MyDrive//SpamAssassinMessages//spam/0287.37dd6b1a54993de94495643ead4fd2cf\n",
            "/content/drive//MyDrive//SpamAssassinMessages//spam/0492.f2d030fd71d7c3075626195b5c0b56f7\n",
            "/content/drive//MyDrive//SpamAssassinMessages//spam/0076.770f0e7b8378a47a945043434f6f43df\n",
            "/content/drive//MyDrive//SpamAssassinMessages//spam/0488.6d41f6d7222978a3ee2b6cfbfce55a02\n",
            "/content/drive//MyDrive//SpamAssassinMessages//spam/0329.5c22249fa35fff050675e7df4433b89f\n",
            "/content/drive//MyDrive//SpamAssassinMessages//spam/0323.badf0273f656afd0dfebaa63af1c81f6\n",
            "/content/drive//MyDrive//SpamAssassinMessages//spam/0344.8bbe5c7c8269a039761968a1b10a936a\n",
            "/content/drive//MyDrive//SpamAssassinMessages//spam/0069.a0b6cfde0e477af7f406ee756ba53826\n",
            "/content/drive//MyDrive//SpamAssassinMessages//spam/0271.24302cf2e759401d1f9975fe4fc1def9\n",
            "/content/drive//MyDrive//SpamAssassinMessages//spam/0418.89cb8cbdd1cd4424829658e11ec6a13e\n",
            "/content/drive//MyDrive//SpamAssassinMessages//spam/0268.1aee52bc302bf1d5c2030229b5dbd63e\n",
            "/content/drive//MyDrive//SpamAssassinMessages//spam/0182.0fe8b40b189a7bc1ec68b3df5125c602\n",
            "/content/drive//MyDrive//SpamAssassinMessages//spam/0233.e9834d55f8185a84ce8a047b2eba2139\n",
            "/content/drive//MyDrive//SpamAssassinMessages//spam/0270.d50e186af7a00114ad967b8f77b70338\n",
            "/content/drive//MyDrive//SpamAssassinMessages//spam/0119.07aedc59172c0c25ef617188ada9b80f\n",
            "/content/drive//MyDrive//SpamAssassinMessages//spam/0197.6968d98720065059247cefe4e5bcd192\n",
            "/content/drive//MyDrive//SpamAssassinMessages//spam/0217.2a937e0b9912e1e40dbf17bad6026372\n",
            "/content/drive//MyDrive//SpamAssassinMessages//spam/0303.c18c1a0222b07f2b2250fbda5a961b7e\n",
            "/content/drive//MyDrive//SpamAssassinMessages//spam/0141.516a4fe92f63469bd4a21d46dd6bb3be\n",
            "/content/drive//MyDrive//SpamAssassinMessages//spam/0155.829bab9379cfe32fe4b5af15ca99361b\n",
            "/content/drive//MyDrive//SpamAssassinMessages//spam/0304.88cf1d3ce0e138fd9ffb801e675f69b3\n",
            "/content/drive//MyDrive//SpamAssassinMessages//spam/0272.97ecf97bd5f1563ac88d9eb4c8a51062\n",
            "/content/drive//MyDrive//SpamAssassinMessages//spam/0278.229f1cdd03eb4e6ff86e9fd29551f577\n",
            "/content/drive//MyDrive//SpamAssassinMessages//spam/0120.4312b48b82c3d018d2d4ccf5b8e9c167\n",
            "/content/drive//MyDrive//SpamAssassinMessages//spam/0284.cfe6e278b87c3e9b6abf6cf6a16bf708\n",
            "/content/drive//MyDrive//SpamAssassinMessages//spam/0262.c996a3709ca616fce1bfc6d50cf5bda3\n",
            "/content/drive//MyDrive//SpamAssassinMessages//spam/0253.f715f442da45114754198a160195b883\n",
            "/content/drive//MyDrive//SpamAssassinMessages//spam/0108.4506c2ef846b80b9a7beb90315b22701\n",
            "/content/drive//MyDrive//SpamAssassinMessages//spam/0267.0bf79a17115bffdf00bb0997f773dfc5\n",
            "/content/drive//MyDrive//SpamAssassinMessages//spam/0123.68e87f8b736959b1ab5c4b5f2ce7484a\n",
            "/content/drive//MyDrive//SpamAssassinMessages//spam/0163.e4abb3f86aa9fd5bfa85886055fd923d\n",
            "/content/drive//MyDrive//SpamAssassinMessages//spam/0290.13035c75be0d5b447a10e2263f8c1361\n",
            "/content/drive//MyDrive//SpamAssassinMessages//spam/0257.554324ab4a8f7093f5222303a4c59a8b\n",
            "/content/drive//MyDrive//SpamAssassinMessages//spam/00009.027bf6e0b0c4ab34db3ce0ea4bf2edab\n",
            "/content/drive//MyDrive//SpamAssassinMessages//spam/0498.863566df8e5f17f979edca79d1e87187\n",
            "/content/drive//MyDrive//SpamAssassinMessages//spam/0374.ed17ed71f8d321cf8505672678c56e71\n",
            "/content/drive//MyDrive//SpamAssassinMessages//spam/0006.7a32642f8c22bbeb85d6c3b5f3890a2c\n",
            "/content/drive//MyDrive//SpamAssassinMessages//spam/0059.a633106e3ce62fa7b46c2e4dc8c666d3\n",
            "/content/drive//MyDrive//SpamAssassinMessages//spam/0039.256602e2cb5a5b373bdd1fb631d9f452\n",
            "/content/drive//MyDrive//SpamAssassinMessages//spam/0346.8c8e3c5107bf6bf30b940f79d598c1b9\n",
            "/content/drive//MyDrive//SpamAssassinMessages//spam/0100.c60d1c697136b07c947fa180ba3e0441\n",
            "/content/drive//MyDrive//SpamAssassinMessages//spam/0420.6112350c5fb3dcf5a67a4fafac80702e\n",
            "/content/drive//MyDrive//SpamAssassinMessages//spam/0040.256602e2cb5a5b373bdd1fb631d9f452\n",
            "/content/drive//MyDrive//SpamAssassinMessages//spam/0434.e86d28a69c9228080a3f0ecbde5ea5fa\n",
            "/content/drive//MyDrive//SpamAssassinMessages//spam/0402.1290489e7e62ac9bb500677606540e5d\n",
            "/content/drive//MyDrive//SpamAssassinMessages//spam/0062.41f708df91642411f0fd8f91e28d3521\n",
            "/content/drive//MyDrive//SpamAssassinMessages//spam/0037.7ce3307b56dd90453027a6630179282e\n",
            "/content/drive//MyDrive//SpamAssassinMessages//spam/0370.6caa3885378bbaf0856bd9712629ab51\n",
            "/content/drive//MyDrive//SpamAssassinMessages//spam/0335.9822e1787fca0741a8501bdef7e8bc79\n",
            "/content/drive//MyDrive//SpamAssassinMessages//spam/0334.3e4946e69031f3860ac6de3d3f27aadd\n",
            "/content/drive//MyDrive//SpamAssassinMessages//spam/0343.0630afbe4ee1ffd0db0ffb81c6de98de\n",
            "/content/drive//MyDrive//SpamAssassinMessages//spam/0461.27302a2e94d8948f8a81a7d4c8566cf0\n",
            "/content/drive//MyDrive//SpamAssassinMessages//spam/0092.bf7453c6b7917ca30074a3030d84e36d\n",
            "/content/drive//MyDrive//SpamAssassinMessages//spam/0494.a0865131f55d26362a8efad99c37de01\n",
            "/content/drive//MyDrive//SpamAssassinMessages//spam/0345.b8ba4d6a115368132d1d580c4c9e0307\n",
            "/content/drive//MyDrive//SpamAssassinMessages//spam/0391.a52ab775baefe8b277a285560cac7d78\n",
            "/content/drive//MyDrive//SpamAssassinMessages//spam/0355.94ebf637e4bd3db8a81c8ce68ecf681d\n",
            "/content/drive//MyDrive//SpamAssassinMessages//spam/0009.c05e264fbf18783099b53dbc9a9aacda\n",
            "/content/drive//MyDrive//SpamAssassinMessages//spam/0079.4a5fbaf2e531918c44642b3cfae40089\n",
            "/content/drive//MyDrive//SpamAssassinMessages//spam/00063.2334fb4e465fc61e8406c75918ff72ed\n",
            "/content/drive//MyDrive//SpamAssassinMessages//spam/00088.1673f91313df07da1a18b2fc458dd4c4\n",
            "/content/drive//MyDrive//SpamAssassinMessages//spam/00053.d88d8b162ca1b7108221fb338cd7d0a5\n",
            "/content/drive//MyDrive//SpamAssassinMessages//spam/00134.9f41f4111a33dc1efca04de72e1a105a\n",
            "/content/drive//MyDrive//SpamAssassinMessages//spam/00031.a78bb452b3a7376202b5e62a81530449\n",
            "/content/drive//MyDrive//SpamAssassinMessages//spam/00035.7ce3307b56dd90453027a6630179282e\n",
            "/content/drive//MyDrive//SpamAssassinMessages//spam/00069.066b1a012235d062a5da73eead4a6b35\n",
            "/content/drive//MyDrive//SpamAssassinMessages//spam/00056.c56d61cadd81b4ade0030c8dee384704\n",
            "/content/drive//MyDrive//SpamAssassinMessages//spam/00224.0654fe0af51e1dcefa0eb66eb932f55f\n",
            "/content/drive//MyDrive//SpamAssassinMessages//spam/00072.d519a73b92f487519c2bc5ba45f5eb2c\n",
            "/content/drive//MyDrive//SpamAssassinMessages//spam/00085.f63a9484ac582233db057dbb45dc0eaf\n",
            "/content/drive//MyDrive//SpamAssassinMessages//spam/00116.29e39a0064e2714681726ac28ff3fdef\n",
            "/content/drive//MyDrive//SpamAssassinMessages//spam/00093.ca4edc32d2ff8e1dbb5f9c0b15ec435b\n",
            "/content/drive//MyDrive//SpamAssassinMessages//spam/00208.369921416af87a0b70f133632131b184\n",
            "/content/drive//MyDrive//SpamAssassinMessages//spam/00101.5a24bf3ba3962442179b1a0325a1d1cb\n",
            "/content/drive//MyDrive//SpamAssassinMessages//spam/00169.86721d6b50e889ed39c7d302adb2a5ab\n",
            "/content/drive//MyDrive//SpamAssassinMessages//spam/00113.eebc11982ccc4730fb8759f94400ce19\n",
            "/content/drive//MyDrive//SpamAssassinMessages//spam/00136.faa39d8e816c70f23b4bb8758d8a74f0\n",
            "/content/drive//MyDrive//SpamAssassinMessages//spam/00324.6f320a8c6b5f8e4bc47d475b3d4e86ef\n",
            "/content/drive//MyDrive//SpamAssassinMessages//spam/00332.580b62752adefb845db173e375271cb5\n",
            "/content/drive//MyDrive//SpamAssassinMessages//spam/00334.a1038f98abb76b403d068afb57bfb290\n",
            "/content/drive//MyDrive//SpamAssassinMessages//spam/00344.17882edad13c2c761e6d8d99eef5a346\n",
            "/content/drive//MyDrive//SpamAssassinMessages//spam/00286.efd0b8f0c9c779b7a0ad93505c9b0bae\n",
            "/content/drive//MyDrive//SpamAssassinMessages//spam/00317.22fe43af6f4c707c4f1bdc56af959a8e\n",
            "/content/drive//MyDrive//SpamAssassinMessages//spam/00263.13fc73e09ae15e0023bdb13d0a010f2d\n",
            "/content/drive//MyDrive//SpamAssassinMessages//spam/00338.a595ffbb6cbcf3a5058293051ebaabf4\n",
            "/content/drive//MyDrive//SpamAssassinMessages//spam/00359.4ab70de20a198b736ed01940c9745384\n",
            "/content/drive//MyDrive//SpamAssassinMessages//spam/00245.f129d5e7df2eebd03948bb4f33fa7107\n",
            "/content/drive//MyDrive//SpamAssassinMessages//spam/00268.9b64189b6da55d1e0a30026ca73eb0da\n",
            "/content/drive//MyDrive//SpamAssassinMessages//spam/00288.8c8bc71976c3b67d900ebd8eeab8a0f5\n",
            "/content/drive//MyDrive//SpamAssassinMessages//spam/00293.f4e9fd5549f9063ad5559c094edf08f2\n",
            "/content/drive//MyDrive//SpamAssassinMessages//spam/00336.92409253178027f58e2c072a7e82791e\n",
            "/content/drive//MyDrive//SpamAssassinMessages//spam/00323.9e36bf05304c99f2133a4c03c49533a9\n",
            "/content/drive//MyDrive//SpamAssassinMessages//spam/00361.e91ac048b0ede961d3f51009eee1c620\n",
            "/content/drive//MyDrive//SpamAssassinMessages//spam/00330.c5f7346dec1e6fe6ed324d8e78a2b46e\n",
            "/content/drive//MyDrive//SpamAssassinMessages//spam/00313.fab744bfd5a128fca39b69df9811c086\n",
            "/content/drive//MyDrive//SpamAssassinMessages//spam/00358.2cf55d91739f3530d1f4bc8bc9bc0b12\n",
            "/content/drive//MyDrive//SpamAssassinMessages//spam/00277.64128ce1653bc4e1bde9ffe2f83db557\n",
            "/content/drive//MyDrive//SpamAssassinMessages//spam/00262.678598cbe253f19239da03b65dac7392\n",
            "/content/drive//MyDrive//SpamAssassinMessages//spam/00244.5cac9708afd7f9f00e9bf64eeb127f0a\n",
            "/content/drive//MyDrive//SpamAssassinMessages//spam/00335.f71c6e9b23487811a44e6aeaa50e73a5\n",
            "/content/drive//MyDrive//SpamAssassinMessages//spam/00280.026da2bd191f11081b8d8428134b0c66\n",
            "/content/drive//MyDrive//SpamAssassinMessages//spam/00243.c6e70273fe1cf9e56e26bb6bbeef415d\n",
            "/content/drive//MyDrive//SpamAssassinMessages//spam/00274.ecb5ce751d8768ef609c171b84ca07a9\n",
            "/content/drive//MyDrive//SpamAssassinMessages//spam/00294.df27a988d82cc82296e33e6d727ac47e\n",
            "/content/drive//MyDrive//SpamAssassinMessages//spam/00247.4f7c67c9792706fa90fe218d4b092b7a\n",
            "/content/drive//MyDrive//SpamAssassinMessages//spam/00252.7e355e0c5fd1de609684544262435579\n",
            "/content/drive//MyDrive//SpamAssassinMessages//spam/00256.edd9bfb44729edf3c4f177814fd8c9e1\n",
            "/content/drive//MyDrive//SpamAssassinMessages//spam/00407.7a447442b07fa08de0b69e907ce3ca53\n",
            "/content/drive//MyDrive//SpamAssassinMessages//spam/00391.e2c76e9dc5ef65b90275138f73eb475b\n",
            "/content/drive//MyDrive//SpamAssassinMessages//spam/00397.1a99f98a5b996f99f3661e9609782932\n",
            "/content/drive//MyDrive//SpamAssassinMessages//spam/00500.85b72f09f6778a085dc8b6821965a76f\n",
            "/content/drive//MyDrive//SpamAssassinMessages//spam/00437.defdb75139dbe5cdd027cbab9f704a27\n",
            "/content/drive//MyDrive//SpamAssassinMessages//spam/00409.e59f63e813b6766a9a4ddf0790634ca3\n",
            "/content/drive//MyDrive//SpamAssassinMessages//spam/00394.cca39f925676ecca947eaed2b600fe70\n",
            "/content/drive//MyDrive//SpamAssassinMessages//spam/00423.bee32224fd8c9c8c06e2099d9c2adccd\n",
            "/content/drive//MyDrive//SpamAssassinMessages//spam/00450.93d3d59fcdd0f8fda9ef4678535182e8\n",
            "/content/drive//MyDrive//SpamAssassinMessages//spam/00483.50c5dda7dd4710798c15a85ade6e9f93\n",
            "/content/drive//MyDrive//SpamAssassinMessages//spam/00495.e22a609b7dc412c120d09e11544c67fb\n",
            "/content/drive//MyDrive//SpamAssassinMessages//spam/00487.139a2f4e8edbbdd64441536308169d74\n",
            "/content/drive//MyDrive//SpamAssassinMessages//spam/00498.48c3098854d339353f1a28a13b196017\n",
            "/content/drive//MyDrive//SpamAssassinMessages//spam/00477.24ef7a042f97482f884387c75249380c\n",
            "/content/drive//MyDrive//SpamAssassinMessages//spam/00480.a5931465ca6f5b22eff24943b5c8b17d\n",
            "/content/drive//MyDrive//SpamAssassinMessages//spam/00036.256602e2cb5a5b373bdd1fb631d9f452\n",
            "/content/drive//MyDrive//SpamAssassinMessages//spam/00006.5ab5620d3d7c6c0db76234556a16f6c1\n",
            "/content/drive//MyDrive//SpamAssassinMessages//spam/00112.be81f2f6f7940a9403c9809b4a9e243a\n",
            "/content/drive//MyDrive//SpamAssassinMessages//spam/00155.1c37ce73590cc67186717a491ed0db5f\n",
            "/content/drive//MyDrive//SpamAssassinMessages//spam/00148.21c30154aa358d903c10c5d8a3ef6ffd\n",
            "/content/drive//MyDrive//SpamAssassinMessages//spam/00188.3d145a97a4ccf05a36a1f2795b4c331d\n",
            "/content/drive//MyDrive//SpamAssassinMessages//spam/00258.4af5bde7fabd4e797b85cf95bcbbb45a\n",
            "/content/drive//MyDrive//SpamAssassinMessages//spam/00260.c75ce8b8d8bfc55723426979d260bf61\n",
            "/content/drive//MyDrive//SpamAssassinMessages//spam/00261.12b64e557e52daf5fc5a52e47df2f4e3\n",
            "/content/drive//MyDrive//SpamAssassinMessages//spam/00257.5c8ef87f8b11d2515df71a7fe46a70b6\n",
            "/content/drive//MyDrive//SpamAssassinMessages//spam/00320.20dcbb5b047b8e2f212ee78267ee27ad\n",
            "/content/drive//MyDrive//SpamAssassinMessages//spam/00357.b523d4209d633d6fdf86b93bc19e3aa2\n",
            "/content/drive//MyDrive//SpamAssassinMessages//spam/00380.a262abe251ca7cc3026e4e146d9cf817\n",
            "/content/drive//MyDrive//SpamAssassinMessages//spam/00363.e6935b8f87c5984a5c6f6656afa1afb4\n",
            "/content/drive//MyDrive//SpamAssassinMessages//spam/00333.4bb36a535cb3d738f30f985f1e10a786\n",
            "/content/drive//MyDrive//SpamAssassinMessages//spam/0038.7ce3307b56dd90453027a6630179282e\n",
            "/content/drive//MyDrive//SpamAssassinMessages//spam/00319.a99dff9c010e00ec182ed5701556d330\n",
            "/content/drive//MyDrive//SpamAssassinMessages//spam/00422.7d5baf3fe64de8647b41aeb820ada876\n",
            "/content/drive//MyDrive//SpamAssassinMessages//spam/00481.5c95b526e965fa325044123c4ce29c1f\n",
            "/content/drive//MyDrive//SpamAssassinMessages//spam/00489.023c1d77de9365cad956a4c9118aee4b\n",
            "/content/drive//MyDrive//SpamAssassinMessages//spam/0095.e1db2d3556c2863ef7355faf49160219\n",
            "/content/drive//MyDrive//SpamAssassinMessages//spam/00499.988506a852cf86b396771a8bdc8cf839\n",
            "/content/drive//MyDrive//SpamAssassinMessages//spam/0177.d62ac309d8030ef816f7831c3d5d3f7d\n",
            "/content/drive//MyDrive//SpamAssassinMessages//spam/0143.260a940290dcb61f9327b224a368d4af\n",
            "/content/drive//MyDrive//SpamAssassinMessages//spam/0254.02daa37a4255a78f2f224f3cd2f8fa99\n",
            "/content/drive//MyDrive//SpamAssassinMessages//spam/0298.804507b6d4d03a86e53c63249fe70772\n",
            "/content/drive//MyDrive//SpamAssassinMessages//spam/0266.99e95dc7251843f7a2015cb602775694\n",
            "/content/drive//MyDrive//SpamAssassinMessages//spam/0255.42a6feb4435a0a68929075c0926f085d\n",
            "/content/drive//MyDrive//SpamAssassinMessages//spam/0273.51c482172b47ce926021aa7cc2552549\n",
            "/content/drive//MyDrive//SpamAssassinMessages//spam/0296.c9b10ba5ae2e480e37a6e2e1455671eb\n",
            "/content/drive//MyDrive//SpamAssassinMessages//spam/0347.e74f831074ea17d0721bd06a5fa7857c\n",
            "/content/drive//MyDrive//SpamAssassinMessages//spam/0369.2530542de47d461ccb925fcafc6f0ad5\n",
            "/content/drive//MyDrive//SpamAssassinMessages//spam/0349.d87df6b95f0ee4e36364e9d71223485a\n",
            "/content/drive//MyDrive//SpamAssassinMessages//spam/0330.a4df526233e524104c3b3554dd8ab5a8\n",
            "/content/drive//MyDrive//SpamAssassinMessages//spam/0368.3a53888c2f7fbe52a7293f223375c245\n",
            "/content/drive//MyDrive//SpamAssassinMessages//spam/0448.809b59ce6292db666ef457e3cb08bb39\n",
            "/content/drive//MyDrive//SpamAssassinMessages//spam/0433.8977506bae8028f48290ea0fb2f54ddd\n",
            "/content/drive//MyDrive//SpamAssassinMessages//spam/0408.87f7a3c9c29aaf97b413126029aacc6a\n",
            "/content/drive//MyDrive//SpamAssassinMessages//easy_ham_2/00548.9df9bd35a18874dcf39ec227a063b847\n",
            "/content/drive//MyDrive//SpamAssassinMessages//easy_ham_2/00547.a4bff0b61d5617808712cf2085aa8170\n",
            "/content/drive//MyDrive//SpamAssassinMessages//easy_ham_2/00714.15dea0aa20430242a5527e0f928eb8d4\n",
            "/content/drive//MyDrive//SpamAssassinMessages//easy_ham_2/00552.bb5ababab06288f157e62ec89340d6c2\n",
            "/content/drive//MyDrive//SpamAssassinMessages//easy_ham_2/00631.3f9351806af9a88f93169ee3416e4502\n",
            "/content/drive//MyDrive//SpamAssassinMessages//easy_ham_2/00664.28f4cb9fad800d0c7175d3a67e6c6458\n",
            "/content/drive//MyDrive//SpamAssassinMessages//easy_ham_2/00669.e1bd56f6a261852d752e086ae3f8f93d\n",
            "/content/drive//MyDrive//SpamAssassinMessages//easy_ham_2/00585.a9763d3908545b69df03e1f239af6f28\n",
            "/content/drive//MyDrive//SpamAssassinMessages//easy_ham_2/00666.009d6116caed8ebd2b48febcea7b6c38\n",
            "/content/drive//MyDrive//SpamAssassinMessages//easy_ham_2/00549.703d3fc9f56814c467616f8aac31d22d\n",
            "/content/drive//MyDrive//SpamAssassinMessages//easy_ham_2/00693.2183b91fb14b93bdfaab337b915c98bb\n",
            "/content/drive//MyDrive//SpamAssassinMessages//easy_ham_2/00555.219cc078f109a6eea18c579f143a8cef\n",
            "/content/drive//MyDrive//SpamAssassinMessages//easy_ham_2/01018.cb98ac59fae50ab0823aba7483d37d50\n",
            "/content/drive//MyDrive//SpamAssassinMessages//easy_ham_2/00813.6598e1ef9134cf77f48bca239e4ba2dc\n",
            "/content/drive//MyDrive//SpamAssassinMessages//easy_ham_2/01057.b2810601523d3bb9051088959078e309\n",
            "/content/drive//MyDrive//SpamAssassinMessages//easy_ham_2/00990.3a91d53e9908fc65cf31a6c57e2a844d\n",
            "/content/drive//MyDrive//SpamAssassinMessages//easy_ham_2/01138.921e383bac77952cac8d28c91d603d15\n",
            "/content/drive//MyDrive//SpamAssassinMessages//easy_ham_2/01169.5adc737d52bc101c6fd07732eeb5ed39\n",
            "/content/drive//MyDrive//SpamAssassinMessages//easy_ham_2/01185.f32afd8b16453630bd5dc8eed551befe\n",
            "/content/drive//MyDrive//SpamAssassinMessages//easy_ham_2/01162.4b41142b91c1d93f1e8fcfa6f43e01bd\n",
            "/content/drive//MyDrive//SpamAssassinMessages//easy_ham_2/01317.7fc86413a091430c3104b041a6525131\n",
            "/content/drive//MyDrive//SpamAssassinMessages//easy_ham_2/01266.94f7e1cce0ec1935ca75d232e4dc684c\n",
            "/content/drive//MyDrive//SpamAssassinMessages//easy_ham_2/01131.973943570b3b1ef6405a9d3cce5fc4fc\n",
            "/content/drive//MyDrive//SpamAssassinMessages//easy_ham_2/01289.10818e3dc6bacd14b05bd6521f8aaa27\n",
            "/content/drive//MyDrive//SpamAssassinMessages//easy_ham_2/01144.7ec9f643a792038e34d2830c9e42a6c6\n",
            "/content/drive//MyDrive//SpamAssassinMessages//easy_ham_2/01232.8077cd29af0f1eb3a7c1b125375d9a9e\n",
            "/content/drive//MyDrive//SpamAssassinMessages//easy_ham_2/01173.0402e85910220618eac922403222d0ec\n",
            "/content/drive//MyDrive//SpamAssassinMessages//easy_ham_2/01176.b62570033c5587aa1e0e805533cb1677\n",
            "/content/drive//MyDrive//SpamAssassinMessages//easy_ham_2/01190.dd6ead8cfbe0f8c5455841ed0e944488\n",
            "/content/drive//MyDrive//SpamAssassinMessages//easy_ham_2/01148.5d8311cf27db42e943c7f668e721db1b\n",
            "/content/drive//MyDrive//SpamAssassinMessages//easy_ham_2/01179.1aeec6e94d2829c1dd756d3609a8eccf\n",
            "/content/drive//MyDrive//SpamAssassinMessages//easy_ham_2/01171.e260c9a68b80500ebfae926e5430657b\n",
            "/content/drive//MyDrive//SpamAssassinMessages//easy_ham_2/01168.387e59c34fb395201b4002238b8009fd\n",
            "/content/drive//MyDrive//SpamAssassinMessages//easy_ham_2/01205.784243c83be80461eb92f7d849b01c99\n",
            "/content/drive//MyDrive//SpamAssassinMessages//easy_ham_2/01165.6ac614b3ccada8b003ad8586c8b88e4e\n",
            "/content/drive//MyDrive//SpamAssassinMessages//easy_ham_2/01186.0bbe8bddf593e88ef6b421b8e22caeab\n",
            "/content/drive//MyDrive//SpamAssassinMessages//easy_ham_2/01323.8f994027cca214b6e0e7df2d443ff4cd\n",
            "/content/drive//MyDrive//SpamAssassinMessages//easy_ham_2/01147.d239448a535755047478e750e99c64b7\n",
            "/content/drive//MyDrive//SpamAssassinMessages//easy_ham_2/01252.fb08e6249d158136cdbcb0ebc563793a\n",
            "/content/drive//MyDrive//SpamAssassinMessages//easy_ham_2/01192.5ff6d465f9c249d967776fc556e48f58\n",
            "/content/drive//MyDrive//SpamAssassinMessages//easy_ham_2/01197.dc4ef655f103b591edd2b5f0956c414f\n",
            "/content/drive//MyDrive//SpamAssassinMessages//easy_ham_2/01188.562fdb9dade3c2ef5e58ff18c04367bc\n",
            "/content/drive//MyDrive//SpamAssassinMessages//easy_ham_2/01083.ecc77beb3f48b7be4481118a97b01b41\n",
            "/content/drive//MyDrive//SpamAssassinMessages//easy_ham_2/01130.e0df582ca8cc2996eaf91157dbff4ee3\n",
            "/content/drive//MyDrive//SpamAssassinMessages//easy_ham_2/01128.efb36914ecb55d78a894591eff0843c5\n",
            "/content/drive//MyDrive//SpamAssassinMessages//easy_ham_2/01152.0306113715b577b682f6a529da8d45ab\n",
            "/content/drive//MyDrive//SpamAssassinMessages//easy_ham_2/00016.bc1f434b566619637a0de033cd3380d1\n",
            "/content/drive//MyDrive//SpamAssassinMessages//easy_ham_2/00020.83ef024f76cc42b8245a683ed9b38406\n",
            "/content/drive//MyDrive//SpamAssassinMessages//easy_ham_2/00136.ad45de584fcb47c912a00b30e93c890b\n",
            "/content/drive//MyDrive//SpamAssassinMessages//easy_ham_2/00159.193c2e75773e8a7c7320c9974257da5a\n",
            "/content/drive//MyDrive//SpamAssassinMessages//easy_ham_2/00102.f05fb87d2b36b53117cb8b5f645b9016\n",
            "/content/drive//MyDrive//SpamAssassinMessages//easy_ham_2/00201.981524ec8ff1a3d171b662c1dbb831a7\n",
            "/content/drive//MyDrive//SpamAssassinMessages//easy_ham_2/00320.b0cd1042164d8bd3ee1dab03a72edbc4\n",
            "/content/drive//MyDrive//SpamAssassinMessages//easy_ham_2/00281.8166d0f6c6bd6eb4ab1a9730ffbdf383\n",
            "/content/drive//MyDrive//SpamAssassinMessages//easy_ham_2/00344.ff7eb63964aa85d7fc7cf9518b8bcdf1\n",
            "/content/drive//MyDrive//SpamAssassinMessages//easy_ham_2/00278.f3d796448a64d0f66500884181458921\n",
            "/content/drive//MyDrive//SpamAssassinMessages//easy_ham_2/00448.843eb6313e84a0bef7f1799405e2f1e9\n",
            "/content/drive//MyDrive//SpamAssassinMessages//easy_ham_2/00416.77c8eaf76f48ec6757aa82c847ecd7ef\n",
            "/content/drive//MyDrive//SpamAssassinMessages//easy_ham_2/00445.4222549eadcf376d1f15942391cf806d\n",
            "/content/drive//MyDrive//SpamAssassinMessages//easy_ham_2/00464.a528da6b60ce0122804319d1d3a9a708\n",
            "/content/drive//MyDrive//SpamAssassinMessages//easy_ham_2/00478.e7beb5a43fcf1ac2a87b4ce4fdcd9b32\n",
            "/content/drive//MyDrive//SpamAssassinMessages//easy_ham_2/00554.ce77b9d5b74e0fa03b1d97d172dbfc4d\n",
            "/content/drive//MyDrive//SpamAssassinMessages//easy_ham_2/00551.6b4053cfee95cebc96ffe991178ca79d\n",
            "/content/drive//MyDrive//SpamAssassinMessages//easy_ham_2/00476.5248b39aaaf6f756eef865a6f43c1ff4\n",
            "/content/drive//MyDrive//SpamAssassinMessages//easy_ham_2/00742.ce72d7c8245e881d6e0ee5d8e9cfabab\n",
            "/content/drive//MyDrive//SpamAssassinMessages//easy_ham_2/00959.a24f34fb3d342beaf6fc1df54b00e5a2\n",
            "/content/drive//MyDrive//SpamAssassinMessages//easy_ham_2/01085.0d8db9468ce8ea76f81ebc03041cc467\n",
            "/content/drive//MyDrive//SpamAssassinMessages//easy_ham_2/01056.6e58de5f5a270a1873f731774d760a80\n",
            "/content/drive//MyDrive//SpamAssassinMessages//easy_ham_2/01060.95d3e0a8c47b33d1533f18ac2c60c81a\n",
            "/content/drive//MyDrive//SpamAssassinMessages//easy_ham_2/01195.e7834b72cb6abc842f6d61f8cb08e346\n",
            "/content/drive//MyDrive//SpamAssassinMessages//easy_ham_2/01143.a6289fefeaa0f9eeda2c0f2181651467\n",
            "/content/drive//MyDrive//SpamAssassinMessages//easy_ham_2/01140.67e11f7533ac73ebeb728c6fdb86eeff\n",
            "/content/drive//MyDrive//SpamAssassinMessages//easy_ham_2/01146.6352d04987d2f6a99be0d9beeb7d3e15\n",
            "/content/drive//MyDrive//SpamAssassinMessages//easy_ham_2/01269.4b518a53f76da3fd4d469c5e2e557340\n",
            "/content/drive//MyDrive//SpamAssassinMessages//easy_ham_2/01357.102c99f3c387520d97c19c884c886355\n",
            "/content/drive//MyDrive//SpamAssassinMessages//easy_ham_2/01396.61983fbe6ec43f55fd44e30fce24ffa6\n",
            "/content/drive//MyDrive//SpamAssassinMessages//easy_ham_2/00027.c9e76a75d21f9221d65d4d577a2cfb75\n",
            "/content/drive//MyDrive//SpamAssassinMessages//easy_ham_2/00160.b7ad2878346c13c7726f872d632c42b5\n",
            "/content/drive//MyDrive//SpamAssassinMessages//easy_ham_2/00121.4c398f0106848ae9f9d3462c2296de17\n",
            "/content/drive//MyDrive//SpamAssassinMessages//easy_ham_2/00202.28c767c7a895f6940228d3f1cbc95319\n",
            "/content/drive//MyDrive//SpamAssassinMessages//easy_ham_2/00161.ff20c49f90c9405fc62064706ddcd615\n",
            "/content/drive//MyDrive//SpamAssassinMessages//easy_ham_2/00036.6620b4d55c147aca7688250f16685d0d\n",
            "/content/drive//MyDrive//SpamAssassinMessages//easy_ham_2/00166.8525e30f5b1574a4cb08d5fc8cb740e5\n",
            "/content/drive//MyDrive//SpamAssassinMessages//easy_ham_2/00170.2368261c3f59066fc1b0c27c5495113e\n",
            "/content/drive//MyDrive//SpamAssassinMessages//easy_ham_2/00051.c2215fd876c5f9e5da959c16c8e1b115\n",
            "/content/drive//MyDrive//SpamAssassinMessages//easy_ham_2/00028.4e9595edd918f1a5fa26f8740cfdb358\n",
            "/content/drive//MyDrive//SpamAssassinMessages//easy_ham_2/00101.a1cfb633388cd5afa26f517766c57966\n",
            "/content/drive//MyDrive//SpamAssassinMessages//easy_ham_2/00169.701617763832617a7d0d1dfbc08b8a0d\n",
            "/content/drive//MyDrive//SpamAssassinMessages//easy_ham_2/00150.8f7dc1318823556f1eca402af39e08e5\n",
            "/content/drive//MyDrive//SpamAssassinMessages//easy_ham_2/00014.8e21078a89bd9c57255d302f346551e8\n",
            "/content/drive//MyDrive//SpamAssassinMessages//easy_ham_2/00360.fb2dbe3d751033f3e7b125b20ecdb897\n",
            "/content/drive//MyDrive//SpamAssassinMessages//easy_ham_2/00393.dcfc9cf1d063ff68ace29c26e0394c05\n",
            "/content/drive//MyDrive//SpamAssassinMessages//easy_ham_2/00288.9388b51e29a2d52191fcb2b053ace210\n",
            "/content/drive//MyDrive//SpamAssassinMessages//easy_ham_2/00500.2c54eea1fb7f8bad057871a317212ad6\n",
            "/content/drive//MyDrive//SpamAssassinMessages//easy_ham_2/00286.8cb982ac6ef73936ac83f89bf23fcd6b\n",
            "/content/drive//MyDrive//SpamAssassinMessages//easy_ham_2/00497.90e2604fc85ac552b46a924e795302a7\n",
            "/content/drive//MyDrive//SpamAssassinMessages//easy_ham_2/00270.a19a99f7377bfdd22784a5335fb78d70\n",
            "/content/drive//MyDrive//SpamAssassinMessages//easy_ham_2/00203.d235730a5eb66c00ea2c1ad65f415ad9\n",
            "/content/drive//MyDrive//SpamAssassinMessages//easy_ham_2/00341.8bf7e41bff54bd779663d1f0a0fe3ed8\n",
            "/content/drive//MyDrive//SpamAssassinMessages//easy_ham_2/00414.a46602860d900cb89e1edd5583ffdb55\n",
            "/content/drive//MyDrive//SpamAssassinMessages//easy_ham_2/00361.ebcde1d624e84623713ac6eddff87943\n",
            "/content/drive//MyDrive//SpamAssassinMessages//easy_ham_2/00503.a066025f6fc03a6b0439c30d0d9bc419\n",
            "/content/drive//MyDrive//SpamAssassinMessages//easy_ham_2/00499.b66750ed646219a0524a648a061dfa67\n",
            "/content/drive//MyDrive//SpamAssassinMessages//easy_ham_2/00454.cda832b92824f5cd7808db5d56ed9374\n",
            "/content/drive//MyDrive//SpamAssassinMessages//easy_ham_2/00218.64c9d00b1056b230a115692edc35e85a\n",
            "/content/drive//MyDrive//SpamAssassinMessages//easy_ham_2/00498.637db80f2612123a12e1081ee90aff41\n",
            "/content/drive//MyDrive//SpamAssassinMessages//easy_ham_2/00350.e738a16c1483dfda97d5862b4a9a77f8\n",
            "/content/drive//MyDrive//SpamAssassinMessages//easy_ham_2/00343.2b1d47e0483fab66551f76a681455ff6\n",
            "/content/drive//MyDrive//SpamAssassinMessages//easy_ham_2/00310.5416fc4a71aadc904dbb4de56a299a71\n",
            "/content/drive//MyDrive//SpamAssassinMessages//easy_ham_2/00209.3ebcc564b5a595d391416cba9d0696d0\n",
            "/content/drive//MyDrive//SpamAssassinMessages//easy_ham_2/00354.98d3b7fe5983f71c36117b2aceb5dcd3\n",
            "/content/drive//MyDrive//SpamAssassinMessages//easy_ham_2/00378.6634f5d52bac8536d979753841ade35a\n",
            "/content/drive//MyDrive//SpamAssassinMessages//easy_ham_2/00422.41c3bd638e1a077ba0c692579417f299\n",
            "/content/drive//MyDrive//SpamAssassinMessages//easy_ham_2/00434.7a55a37b952e7fee5a292858697062c0\n",
            "/content/drive//MyDrive//SpamAssassinMessages//easy_ham_2/00321.366bc08c72ec1996baa4065c0dada072\n",
            "/content/drive//MyDrive//SpamAssassinMessages//easy_ham_2/00207.b9d4e94f1d5159f207cfe562194ab0c6\n",
            "/content/drive//MyDrive//SpamAssassinMessages//easy_ham_2/00338.150c1aef21dcd741036532b8dad9d694\n",
            "/content/drive//MyDrive//SpamAssassinMessages//easy_ham_2/00323.5cde61ff2c780291b15a802c513add1d\n",
            "/content/drive//MyDrive//SpamAssassinMessages//easy_ham_2/00276.78e7158a768394040c73be015a28de0a\n",
            "/content/drive//MyDrive//SpamAssassinMessages//easy_ham_2/00665.087e07e6a5f47598db0629c21e6e1a70\n",
            "/content/drive//MyDrive//SpamAssassinMessages//easy_ham/01081.844461cf79fe409cdfed1c9456c064f0\n",
            "/content/drive//MyDrive//SpamAssassinMessages//easy_ham/01102.d178bf64121423fea27fcbf754d5f984\n",
            "/content/drive//MyDrive//SpamAssassinMessages//easy_ham/01270.49d052edd258d0f9eb08ca05e177f965\n",
            "/content/drive//MyDrive//SpamAssassinMessages//easy_ham/01254.e1ba700d620871e67b4f7db4b8859ac3\n",
            "/content/drive//MyDrive//SpamAssassinMessages//easy_ham/01223.bd57469f0b8c0ca986d7a3f40681b56e\n",
            "/content/drive//MyDrive//SpamAssassinMessages//easy_ham/01352.400cef8d0d007f3d7ba8a0c7a8717fcb\n",
            "/content/drive//MyDrive//SpamAssassinMessages//easy_ham/01337.e515b1d01d6d98606d994b1c8901904c\n",
            "/content/drive//MyDrive//SpamAssassinMessages//easy_ham/02087.1d6e87f2e6e97b044d7c4955a1e394a1\n",
            "/content/drive//MyDrive//SpamAssassinMessages//easy_ham/02026.e6e094c6110cbff0c3a55e0fc5c9273a\n",
            "/content/drive//MyDrive//SpamAssassinMessages//easy_ham/0202.e1c7980f6c8a70122d80771533795cb7\n",
            "/content/drive//MyDrive//SpamAssassinMessages//easy_ham/02048.146a986ae719349d6b6e4d5f9c0e38bd\n",
            "/content/drive//MyDrive//SpamAssassinMessages//easy_ham/02189.87c2e44a35ec0e62b20783d9a29d5c5e\n",
            "/content/drive//MyDrive//SpamAssassinMessages//easy_ham/0222.160c5b2e2a80f71367b4d9a47f8f9d4e\n",
            "/content/drive//MyDrive//SpamAssassinMessages//easy_ham/02287.05088931220174dcef44fd30efb3616d\n",
            "/content/drive//MyDrive//SpamAssassinMessages//easy_ham/0226.aafb7854f8f17e90f7e5e5f99c54e76e\n",
            "/content/drive//MyDrive//SpamAssassinMessages//easy_ham/02323.dbe22daff2cf3e9c7aa284ec961481c4\n",
            "/content/drive//MyDrive//SpamAssassinMessages//easy_ham/0238.7b9b9b2e3b3ca24ae8960f03aab57964\n",
            "/content/drive//MyDrive//SpamAssassinMessages//easy_ham/02333.2a59c82074b44c35e79462984c8f8d9d\n",
            "/content/drive//MyDrive//SpamAssassinMessages//easy_ham/0239.58f51c99b02fc8b49664f15a855af780\n",
            "/content/drive//MyDrive//SpamAssassinMessages//easy_ham/02445.c8fd8c92ab5a91bbf5e94e5277a47863\n",
            "/content/drive//MyDrive//SpamAssassinMessages//easy_ham/0264.a1183a59e4f0a71e80378d9404a3212f\n",
            "/content/drive//MyDrive//SpamAssassinMessages//easy_ham/0321.b100345ae7b5e980f41d9c6e0ff3159a\n",
            "/content/drive//MyDrive//SpamAssassinMessages//easy_ham/0320.6c54ea1bb991c6fae395588219cfce37\n",
            "/content/drive//MyDrive//SpamAssassinMessages//easy_ham/0289.cb9c0595bddae2c25357ce5c9fbaf687\n",
            "/content/drive//MyDrive//SpamAssassinMessages//easy_ham/0287.18f9a821d67a503c0d54a2356a0f8a4a\n",
            "/content/drive//MyDrive//SpamAssassinMessages//easy_ham/0397.bdea17c7f90068a763d191914770f6d6\n",
            "/content/drive//MyDrive//SpamAssassinMessages//easy_ham/0526.615f918b4860d437577f6aa66c9b37cf\n",
            "/content/drive//MyDrive//SpamAssassinMessages//easy_ham/0551.5bdfb0c299c60e442e39346dc08bad68\n",
            "/content/drive//MyDrive//SpamAssassinMessages//easy_ham/0640.95f677f7c53a182c30e068eaab74950e\n",
            "/content/drive//MyDrive//SpamAssassinMessages//easy_ham/0627.c9ad8730dad7bda1e1169ee00c4006fc\n",
            "/content/drive//MyDrive//SpamAssassinMessages//easy_ham/0615.935b5a30e35ec46502a33a445443c124\n",
            "/content/drive//MyDrive//SpamAssassinMessages//easy_ham/0799.eb9fe164fe9541253b4ab806626ab171\n",
            "/content/drive//MyDrive//SpamAssassinMessages//easy_ham/0808.426e30e31a3d3fab634e31e8aeb30c34\n",
            "/content/drive//MyDrive//SpamAssassinMessages//easy_ham/1013.8355d120301841c6b601bee02bb4c14f\n",
            "/content/drive//MyDrive//SpamAssassinMessages//easy_ham/1010.1bc4545387a6a526b351a330b4aca16c\n",
            "/content/drive//MyDrive//SpamAssassinMessages//easy_ham/1022.73ab70b91862d709897cfe3dd5bb22a0\n",
            "/content/drive//MyDrive//SpamAssassinMessages//easy_ham/1015.f399ba43c22e3fdb1a22261714062cbd\n",
            "/content/drive//MyDrive//SpamAssassinMessages//easy_ham/1193.8805a7218e81db9893ee2b704d9ebeb1\n",
            "/content/drive//MyDrive//SpamAssassinMessages//easy_ham/1117.571c1399a9b49bf25062fcd2242d72f1\n",
            "/content/drive//MyDrive//SpamAssassinMessages//easy_ham/1309.a63c188095d5f70604ec9c3a5f96ce0e\n",
            "/content/drive//MyDrive//SpamAssassinMessages//easy_ham/1429.3c60313af6a2a5c79bb97e06855a4af7\n",
            "/content/drive//MyDrive//SpamAssassinMessages//easy_ham/1365.83f365382e725776956f137a4600117e\n",
            "/content/drive//MyDrive//SpamAssassinMessages//easy_ham/1322.7faaa22a10e2eab022719a868f587686\n",
            "/content/drive//MyDrive//SpamAssassinMessages//easy_ham/1333.e9f5229e15c55a75e02a92fe42324bce\n",
            "/content/drive//MyDrive//SpamAssassinMessages//easy_ham/2109.094078fcb88b4e1fa5eb9fc67ba998bc\n",
            "/content/drive//MyDrive//SpamAssassinMessages//easy_ham/2132.559afb271ce8b31e8e3a0c32e668cbbe\n",
            "/content/drive//MyDrive//SpamAssassinMessages//easy_ham/2429.ba3172b8bb1849e4ef208584b4fa51dd\n",
            "/content/drive//MyDrive//SpamAssassinMessages//easy_ham/2439.c8c3aa25791710ac30aaaa49cb276f12\n",
            "/content/drive//MyDrive//SpamAssassinMessages//easy_ham/2446.34e896282d23f593971bf47f5bb1ab0b\n",
            "/content/drive//MyDrive//SpamAssassinMessages//easy_ham/01557.25496d0c7fc8acbf284debadd4f1dc07\n",
            "/content/drive//MyDrive//SpamAssassinMessages//easy_ham/01556.126fd032d9f624e282a711df96f64cc6\n",
            "/content/drive//MyDrive//SpamAssassinMessages//easy_ham/01615.63a41aa663eeaf93728e7b1ab572ce91\n",
            "/content/drive//MyDrive//SpamAssassinMessages//easy_ham/01794.e322c3e66406d3a985a61aba25902c5b\n",
            "/content/drive//MyDrive//SpamAssassinMessages//easy_ham/02003.0efdf5386d93ddbff346b304c637ab35\n",
            "/content/drive//MyDrive//SpamAssassinMessages//easy_ham/02293.2ae2c667486323afb16d109b406b8783\n",
            "/content/drive//MyDrive//SpamAssassinMessages//easy_ham/02278.5681f9fd02e38391b917d4623ff9d198\n",
            "/content/drive//MyDrive//SpamAssassinMessages//easy_ham/02067.4d2f2b0ae64c68570f08423ed43ce845\n",
            "/content/drive//MyDrive//SpamAssassinMessages//easy_ham/02274.d25fe5d3adc798112cd281bd89d642db\n",
            "/content/drive//MyDrive//SpamAssassinMessages//easy_ham/02218.f615f1b7360b9a22a0c9387f285a5af0\n",
            "/content/drive//MyDrive//SpamAssassinMessages//easy_ham/02301.a12a68c684b8c32e4f93cf6628e9eb5c\n",
            "/content/drive//MyDrive//SpamAssassinMessages//easy_ham/02340.de68a83f900418f6cde87bdf92801f73\n",
            "/content/drive//MyDrive//SpamAssassinMessages//easy_ham/02140.ccabcb71ece6c0835518e4c7900ef94b\n",
            "/content/drive//MyDrive//SpamAssassinMessages//easy_ham/02419.ade095af23802012668f4ec856bf7e63\n",
            "/content/drive//MyDrive//SpamAssassinMessages//easy_ham/02290.63a40c780fe1f8e771f62473dc3dce0b\n",
            "/content/drive//MyDrive//SpamAssassinMessages//easy_ham/02345.52eedf6f431a61908c62a4d561e655fe\n",
            "/content/drive//MyDrive//SpamAssassinMessages//easy_ham/02433.9cfb47708291604f2c38393706175160\n",
            "/content/drive//MyDrive//SpamAssassinMessages//easy_ham/02313.792888aeb3a4fdd1adcbbb094959714c\n",
            "/content/drive//MyDrive//SpamAssassinMessages//easy_ham/02320.9d983e803c0325063c06097d7bb4b3f1\n",
            "/content/drive//MyDrive//SpamAssassinMessages//easy_ham/02236.46b510d2f030ddaa7bcc52ef26535bae\n",
            "/content/drive//MyDrive//SpamAssassinMessages//easy_ham/02354.3be731874b373f98e66b3254f75a30b6\n",
            "/content/drive//MyDrive//SpamAssassinMessages//easy_ham/02372.ba6a7288c11b60bd92e3245c76652846\n",
            "/content/drive//MyDrive//SpamAssassinMessages//easy_ham/02339.6a217c7473a881cc0d68a2c1617722e4\n",
            "/content/drive//MyDrive//SpamAssassinMessages//easy_ham/02447.5ecaa423bfa4ab050e5b9a0a34f6191f\n",
            "/content/drive//MyDrive//SpamAssassinMessages//easy_ham/02472.5c879dd55c3d4171e1787e8529bbd7e1\n",
            "/content/drive//MyDrive//SpamAssassinMessages//easy_ham/02469.901d2dc268a72e42497dac1ea80d861d\n",
            "/content/drive//MyDrive//SpamAssassinMessages//easy_ham/02483.ab1bee02c10ddecc0e86c39eaebc2996\n",
            "/content/drive//MyDrive//SpamAssassinMessages//easy_ham/02488.68fed64ff8169f1505b74080bb7b6158\n",
            "/content/drive//MyDrive//SpamAssassinMessages//easy_ham/00007.37a8af848caae585af4fe35779656d55\n",
            "/content/drive//MyDrive//SpamAssassinMessages//easy_ham/00161.e75ee4467e41dd1d5f5156f2b9ca5bd8\n",
            "/content/drive//MyDrive//SpamAssassinMessages//easy_ham/00244.d6a35c3356b3796b5ddc77ed1b1995e2\n",
            "/content/drive//MyDrive//SpamAssassinMessages//easy_ham/00266.edda19cbe2bb12d6aca8f9550b870824\n",
            "/content/drive//MyDrive//SpamAssassinMessages//easy_ham/00219.642f44312e1eaf0fbecf90d6b39876d9\n",
            "/content/drive//MyDrive//SpamAssassinMessages//easy_ham/00234.335356ba4b116d347be3199b40cdaed2\n",
            "/content/drive//MyDrive//SpamAssassinMessages//easy_ham/00493.29a23aaa27a825c8cfb67264b9d7aeb3\n",
            "/content/drive//MyDrive//SpamAssassinMessages//easy_ham/00554.a01a74aee9653a7ae8d1d558c75f0a5d\n",
            "/content/drive//MyDrive//SpamAssassinMessages//easy_ham/00532.81180d4d1d632bb50c189b51f83921e0\n",
            "/content/drive//MyDrive//SpamAssassinMessages//easy_ham/00738.5c6ce770da4cc06ebea777b8be30abaa\n",
            "/content/drive//MyDrive//SpamAssassinMessages//easy_ham/00734.e37922bdfd9e3246c18322e4b07a4b23\n",
            "/content/drive//MyDrive//SpamAssassinMessages//easy_ham/00934.f9ba910a655535304bf26a3e281cb324\n",
            "/content/drive//MyDrive//SpamAssassinMessages//easy_ham/01034.6a298abdc5efe614a638c2b55582cdc6\n",
            "/content/drive//MyDrive//SpamAssassinMessages//easy_ham/00236.0d42e8e99de86aae42a4f3e3cdc2465b\n",
            "/content/drive//MyDrive//SpamAssassinMessages//easy_ham/00186.7fb6108d51b6cf37e682b16713376f98\n",
            "/content/drive//MyDrive//SpamAssassinMessages//easy_ham/00247.e14fcbf137267399278507b469811f0a\n",
            "/content/drive//MyDrive//SpamAssassinMessages//easy_ham/00180.1d7edb742cfbd5d48881c99a8e03cccd\n",
            "/content/drive//MyDrive//SpamAssassinMessages//easy_ham/00220.7c18420ed3257e8630e67dd0045f6563\n",
            "/content/drive//MyDrive//SpamAssassinMessages//easy_ham/00292.d70b6d753352d01060579b1c34df4e4d\n",
            "/content/drive//MyDrive//SpamAssassinMessages//easy_ham/00218.17547ce08d682678c539484cf094982d\n",
            "/content/drive//MyDrive//SpamAssassinMessages//easy_ham/00347.f133df7e59af41ba1c596e60dde9dc48\n",
            "/content/drive//MyDrive//SpamAssassinMessages//easy_ham/00119.0f469afee6aef0a05d9850f7021bd629\n",
            "/content/drive//MyDrive//SpamAssassinMessages//easy_ham/00183.54d98788fca5892267d8dfe4d09b2bbf\n",
            "/content/drive//MyDrive//SpamAssassinMessages//easy_ham/00184.4534b61b19d6102fe241eecf0a436a35\n",
            "/content/drive//MyDrive//SpamAssassinMessages//easy_ham/00163.550a6ef7fd451fba494cc3128aaf3c7c\n",
            "/content/drive//MyDrive//SpamAssassinMessages//easy_ham/00215.d09b3f3c0df56258c17c3de4dfbfc6c6\n",
            "/content/drive//MyDrive//SpamAssassinMessages//easy_ham/00155.22281cddbc29a93d630798e0aa97f725\n",
            "/content/drive//MyDrive//SpamAssassinMessages//easy_ham/00160.eb0db8e14a3308c08db1cc38c4c7d66a\n",
            "/content/drive//MyDrive//SpamAssassinMessages//easy_ham/00165.a626a87fa5b56f724e6a00e7c1ec163a\n",
            "/content/drive//MyDrive//SpamAssassinMessages//easy_ham/00302.9aa28800eefcb167ac80f4b6b1e939d6\n",
            "/content/drive//MyDrive//SpamAssassinMessages//easy_ham/00342.e6c781df2ebba44a429b49b86b376559\n",
            "/content/drive//MyDrive//SpamAssassinMessages//easy_ham/00271.b67b5b37ce874d5ccea3391922f14506\n",
            "/content/drive//MyDrive//SpamAssassinMessages//easy_ham/00413.e637d3bed73c6df691dc86dd61d46192\n",
            "/content/drive//MyDrive//SpamAssassinMessages//easy_ham/00581.9922b0f34aa8f51fb4adf4bf4ecf1464\n",
            "/content/drive//MyDrive//SpamAssassinMessages//easy_ham/00495.3bba63110f3a2a97ae71ce53268766cf\n",
            "/content/drive//MyDrive//SpamAssassinMessages//easy_ham/00402.8e937401f8a8a7a1c7661e076f96cd55\n",
            "/content/drive//MyDrive//SpamAssassinMessages//easy_ham/00534.6db349fcd98d25f61e5bcc4552b45f57\n",
            "/content/drive//MyDrive//SpamAssassinMessages//easy_ham/00492.3ffb38f175e41790b1f05096dbe339d8\n",
            "/content/drive//MyDrive//SpamAssassinMessages//easy_ham/00591.3bca4fff29ae5e89e2e2948401a24ab8\n",
            "/content/drive//MyDrive//SpamAssassinMessages//easy_ham/00405.c838c0717624d85d5a53371fdbce5955\n",
            "/content/drive//MyDrive//SpamAssassinMessages//easy_ham/00469.b1d31cab7c1b3b5897393f46ce62b3e9\n",
            "/content/drive//MyDrive//SpamAssassinMessages//easy_ham/00614.2487f80400eb954b7c3ab257771ed393\n",
            "/content/drive//MyDrive//SpamAssassinMessages//easy_ham/00464.5a7f552394a07524c4aa23b06c9e5915\n",
            "/content/drive//MyDrive//SpamAssassinMessages//easy_ham/00595.7182665eb052808e2061bacbc75ed5ee\n",
            "/content/drive//MyDrive//SpamAssassinMessages//easy_ham/00494.ba6ae1d625f2a4e039f6822868ee48ad\n",
            "/content/drive//MyDrive//SpamAssassinMessages//easy_ham/00570.d98ca90ac201b5d881f2397c95838eb2\n",
            "/content/drive//MyDrive//SpamAssassinMessages//easy_ham/00583.7db5166f3ec5a8bcf81bf1b639b48361\n",
            "/content/drive//MyDrive//SpamAssassinMessages//easy_ham/00599.94c013ab7037d45045aafbac3389bef0\n",
            "/content/drive//MyDrive//SpamAssassinMessages//easy_ham/00644.47e9eaa5c1cac5f991f30201ae7fda6e\n",
            "/content/drive//MyDrive//SpamAssassinMessages//easy_ham/00439.982a2ff6189badfe70c2fe3c972466a2\n",
            "/content/drive//MyDrive//SpamAssassinMessages//easy_ham/00558.95b8c2677759a2f569a5dc0bd70b8cc0\n",
            "/content/drive//MyDrive//SpamAssassinMessages//easy_ham/00745.d2df6fc9d5de220dc9b34cf04addf9e2\n",
            "/content/drive//MyDrive//SpamAssassinMessages//easy_ham/00796.1c06b1656c17f8aa92a42a82ef0ad2e9\n",
            "/content/drive//MyDrive//SpamAssassinMessages//easy_ham/00747.39967f26d6c1cba3713e2b9f318d0531\n",
            "/content/drive//MyDrive//SpamAssassinMessages//easy_ham/00733.8cd99b24ae020e6028d85ad0c4f06186\n",
            "/content/drive//MyDrive//SpamAssassinMessages//easy_ham/00914.a24840d53c5f49a00e66fa4425e4626d\n",
            "/content/drive//MyDrive//SpamAssassinMessages//easy_ham/00830.3a2cadbd29e654a7cbbf64ba4bdc378d\n",
            "/content/drive//MyDrive//SpamAssassinMessages//easy_ham/00765.ea01c46568902b1338c9685b55d77f6c\n",
            "/content/drive//MyDrive//SpamAssassinMessages//easy_ham/00713.7b4a3ad6c8b6bbcf358ee5ee23dcdc12\n",
            "/content/drive//MyDrive//SpamAssassinMessages//easy_ham/00931.c27bf5c9bcb24c213aafe1b28fcbcc7a\n",
            "/content/drive//MyDrive//SpamAssassinMessages//easy_ham/01111.2f7361f87bcf1782c2f7622d92c6bf7d\n",
            "/content/drive//MyDrive//SpamAssassinMessages//easy_ham/00942.727cb1619115cdee240fa418da19dd1f\n",
            "/content/drive//MyDrive//SpamAssassinMessages//easy_ham/01039.2b799ff9acbf233a7842eab00fcb848f\n",
            "/content/drive//MyDrive//SpamAssassinMessages//easy_ham/01049.91539978b8a1bbef1b7eef0bb123b07c\n",
            "/content/drive//MyDrive//SpamAssassinMessages//easy_ham/01084.f085d737f5244ffe14e8743e9226fd30\n",
            "/content/drive//MyDrive//SpamAssassinMessages//easy_ham/01037.6b42b5f3d3d9e6293bf24af66b250655\n",
            "/content/drive//MyDrive//SpamAssassinMessages//easy_ham/01042.5379f7151fef6cce3e2638aee3b193fa\n",
            "/content/drive//MyDrive//SpamAssassinMessages//easy_ham/00935.8ecbeab3ef30caba2c29e25744a2265a\n",
            "/content/drive//MyDrive//SpamAssassinMessages//easy_ham/01035.1210cd8593aa0ed6eb21b86b9c97cc46\n",
            "/content/drive//MyDrive//SpamAssassinMessages//easy_ham/01082.39917c590e0204c5de0142acd3fb3d08\n",
            "/content/drive//MyDrive//SpamAssassinMessages//easy_ham/01080.b8d12c010e45434e95f67889e26ba456\n",
            "/content/drive//MyDrive//SpamAssassinMessages//easy_ham/00936.e8fd8c240b680e948f85f2326cc87250\n",
            "/content/drive//MyDrive//SpamAssassinMessages//easy_ham/01280.08e69f637d901fab10aec6c9492d068e\n",
            "/content/drive//MyDrive//SpamAssassinMessages//easy_ham/01307.4b06bdd9604366d63b4106aa8c715c06\n",
            "/content/drive//MyDrive//SpamAssassinMessages//easy_ham/01217.ca4f6cab0653e40829f209aefb242ae0\n",
            "/content/drive//MyDrive//SpamAssassinMessages//easy_ham/01295.c440ea598ea18fee4cf3d2a1a9cd6864\n",
            "/content/drive//MyDrive//SpamAssassinMessages//easy_ham/01268.0cd2c295a12fb03140c6549cb8980012\n",
            "/content/drive//MyDrive//SpamAssassinMessages//easy_ham/01279.8cd7c5fcfd7a06b4e2b066a7c76846fe\n",
            "/content/drive//MyDrive//SpamAssassinMessages//easy_ham/01236.80295013ea9517181a3a42ad0d4a7f63\n",
            "/content/drive//MyDrive//SpamAssassinMessages//easy_ham/01274.bfe4843cd130926efe53dc96bd3dfeea\n",
            "/content/drive//MyDrive//SpamAssassinMessages//easy_ham/01199.59f410d0b6c37510d6a29d0d02f62101\n",
            "/content/drive//MyDrive//SpamAssassinMessages//easy_ham/01247.2a40443c1cba2e07a993b186db41971d\n",
            "/content/drive//MyDrive//SpamAssassinMessages//easy_ham/01291.dfc4b8ceb611c971fb6b821eecaa9cea\n",
            "/content/drive//MyDrive//SpamAssassinMessages//easy_ham/01360.542f5bf8fe1935cc079504c0a0269923\n",
            "/content/drive//MyDrive//SpamAssassinMessages//easy_ham/01156.64602d74854cb26859c88c6f560fca27\n",
            "/content/drive//MyDrive//SpamAssassinMessages//easy_ham/01409.6874e3b9aad08eb5081dfcbaa3871ffe\n",
            "/content/drive//MyDrive//SpamAssassinMessages//easy_ham/01554.0aed12846b3981a2a13adf793083e4f0\n",
            "/content/drive//MyDrive//SpamAssassinMessages//easy_ham/01550.a036d340bdcf122c8eca891557d50b51\n",
            "/content/drive//MyDrive//SpamAssassinMessages//easy_ham/01543.044ee0da6eaa44adbadc131be0bcb2d2\n",
            "/content/drive//MyDrive//SpamAssassinMessages//easy_ham/01549.a465f982502ac6d7c10118f1939f6974\n",
            "/content/drive//MyDrive//SpamAssassinMessages//easy_ham/2396.8126a8ee1ebb7fe484a5709f96192b02\n",
            "/content/drive//MyDrive//SpamAssassinMessages//easy_ham/2154.0949f10e9c0050803f5e324f72641e80\n",
            "/content/drive//MyDrive//SpamAssassinMessages//easy_ham/1398.02fd0caad73d10ee02aebd13b761f135\n",
            "/content/drive//MyDrive//SpamAssassinMessages//easy_ham/1014.8262a256b8f2e481dcae966b0c5088e8\n",
            "/content/drive//MyDrive//SpamAssassinMessages//easy_ham/2407.c9318bb61b808a141780fa5067d53a05\n",
            "/content/drive//MyDrive//SpamAssassinMessages//easy_ham/1649.00d75963b0db438a7f492b59a5395fc0\n",
            "/content/drive//MyDrive//SpamAssassinMessages//easy_ham/0203.5f055220d95eaa1de71c7f24e004a7f5\n",
            "/content/drive//MyDrive//SpamAssassinMessages//easy_ham/1340.763507dad3b921f972640d4d76172f7e\n",
            "/content/drive//MyDrive//SpamAssassinMessages//easy_ham/0235.3c824d680d31b3710d8f3475730dc42d\n",
            "/content/drive//MyDrive//SpamAssassinMessages//easy_ham/1163.3ad31ba9c55ae030d3d708b5987f889e\n",
            "/content/drive//MyDrive//SpamAssassinMessages//easy_ham/0240.01e0e10c03592e64df9a077f2cd56aba\n",
            "/content/drive//MyDrive//SpamAssassinMessages//easy_ham/2173.23722932b26a06491eec963ae3531df5\n",
            "/content/drive//MyDrive//SpamAssassinMessages//easy_ham/2445.631e9fa95e78d7f56fce09a4e6da56fd\n",
            "/content/drive//MyDrive//SpamAssassinMessages//easy_ham/0156.3d3293a5da919cf65959e6bd63feaf27\n",
            "/content/drive//MyDrive//SpamAssassinMessages//easy_ham/0151.4d1c8772327e44b20af6420e1d1c0a75\n",
            "/content/drive//MyDrive//SpamAssassinMessages//easy_ham/0080.7c3a836baaa732cd915546442c0fef1a\n",
            "/content/drive//MyDrive//SpamAssassinMessages//easy_ham/1378.12eda7069e9d8a08ba37f0e4679f23ea\n",
            "/content/drive//MyDrive//SpamAssassinMessages//easy_ham/1656.2c519e6e148cca3020e50c723bbc200e\n",
            "/content/drive//MyDrive//SpamAssassinMessages//easy_ham/1366.200cc41f250f28147c5db07ea933f26a\n",
            "/content/drive//MyDrive//SpamAssassinMessages//easy_ham/2451.1ccaf9bc09a2b8e339f02d21ac62f437\n",
            "/content/drive//MyDrive//SpamAssassinMessages//easy_ham/1285.b9998969053e427bd4c4c0c6e68518ec\n",
            "/content/drive//MyDrive//SpamAssassinMessages//easy_ham/1452.81f3e3d1b40f978cd3c0125e7020dd17\n",
            "/content/drive//MyDrive//SpamAssassinMessages//easy_ham/0461.7609029b07acf65f40bd93882aa35887\n",
            "/content/drive//MyDrive//SpamAssassinMessages//easy_ham/0423.353c3de8f5c7114179771f9b44e70b9e\n",
            "/content/drive//MyDrive//SpamAssassinMessages//easy_ham/0469.8b40f778677e8d001ca14bcc4268b41b\n",
            "/content/drive//MyDrive//SpamAssassinMessages//easy_ham/0457.dc1691cbb334cc33a1f1eb3060b8e02e\n",
            "/content/drive//MyDrive//SpamAssassinMessages//easy_ham/0357.1dbdc4d7a9e7e290455af62c1df78649\n",
            "/content/drive//MyDrive//SpamAssassinMessages//easy_ham/0381.040644bb43a533c43f40361bd1d35355\n",
            "/content/drive//MyDrive//SpamAssassinMessages//easy_ham/0402.a511fb74deca95f59d4eff5daa45a9b8\n",
            "/content/drive//MyDrive//SpamAssassinMessages//easy_ham/0495.5c4fb5aab57f610e00c4d3b951216f16\n",
            "/content/drive//MyDrive//SpamAssassinMessages//easy_ham/0589.8646984ed76a8df2811750d151f56b1e\n",
            "/content/drive//MyDrive//SpamAssassinMessages//easy_ham/0794.cf41a55933ae8896b668864d7b57b177\n",
            "/content/drive//MyDrive//SpamAssassinMessages//easy_ham/0611.4a47b06e83edee6c61ba37d1be2a09d0\n",
            "/content/drive//MyDrive//SpamAssassinMessages//easy_ham/0552.1ce63d212148c58723cc1f7150b27157\n",
            "/content/drive//MyDrive//SpamAssassinMessages//easy_ham/0550.8e86f9859287ac9846e3c179b29e0fc1\n",
            "/content/drive//MyDrive//SpamAssassinMessages//easy_ham/0008.20bc0b4ba2d99aae1c7098069f611a9b\n",
            "/content/drive//MyDrive//SpamAssassinMessages//easy_ham/0648.35cbc1bb7547966c1171f83d2312d4a9\n",
            "/content/drive//MyDrive//SpamAssassinMessages//easy_ham/0549.59f3057eef31f2b8ebb02446556a3f37\n",
            "/content/drive//MyDrive//SpamAssassinMessages//easy_ham/0773.e1edafa86a1670e9515d4d9c1bb288c9\n",
            "/content/drive//MyDrive//SpamAssassinMessages//easy_ham/0652.5ed46908836bacba742b337197ce3499\n",
            "/content/drive//MyDrive//SpamAssassinMessages//easy_ham/0673.1850e124a4ef3beb85071e67d7f8bf6d\n",
            "/content/drive//MyDrive//SpamAssassinMessages//easy_ham/0521.56b24a33e65cd045de37e6bec5ec30e3\n",
            "/content/drive//MyDrive//SpamAssassinMessages//easy_ham/0704.f62f0ee295a7f648249c8104a8e45843\n",
            "/content/drive//MyDrive//SpamAssassinMessages//easy_ham/0891.44f5cad6f0dfa66277e1a0aec55e7bf6\n",
            "/content/drive//MyDrive//SpamAssassinMessages//easy_ham/00009.371eca25b0169ce5cb4f71d3e07b9e2d\n",
            "/content/drive//MyDrive//SpamAssassinMessages//easy_ham/0977.d0e3f4e7fd0a8c2bdd26888af1ca3a0b\n",
            "/content/drive//MyDrive//SpamAssassinMessages//easy_ham/00057.7c3a836baaa732cd915546442c0fef1a\n",
            "/content/drive//MyDrive//SpamAssassinMessages//easy_ham/00023.e0e815ea1d7fd40e7e70b4c0035bef0c\n",
            "/content/drive//MyDrive//SpamAssassinMessages//easy_ham/0857.c5290c6dee60d45314e519678e96735c\n",
            "/content/drive//MyDrive//SpamAssassinMessages//easy_ham/00114.240461056916c0cdd555ba9d2bc9e63e\n",
            "/content/drive//MyDrive//SpamAssassinMessages//easy_ham/0010.4996141de3f21e858c22f88231a9f463\n",
            "/content/drive//MyDrive//SpamAssassinMessages//easy_ham/0826.082e92a79a15aa7f6dd5b85a40327abd\n",
            "/content/drive//MyDrive//SpamAssassinMessages//easy_ham/00326.e77a07ed3bc9f0e54bc12c3ea32e25fa\n",
            "/content/drive//MyDrive//SpamAssassinMessages//easy_ham/00368.f86324a03e7ae7070cc40f302385f5d3\n",
            "/content/drive//MyDrive//SpamAssassinMessages//easy_ham/00166.8feace9f17d092d9532e62c35c37ce95\n",
            "/content/drive//MyDrive//SpamAssassinMessages//easy_ham/00229.5ee5fd3867d69cd25a5fde771fda0094\n",
            "/content/drive//MyDrive//SpamAssassinMessages//easy_ham/00265.d0ebd6ba8f3e2b8d71e9cdaa2ec6fd91\n",
            "/content/drive//MyDrive//SpamAssassinMessages//easy_ham/2324.65b1fb56947693e7618b40f57c49c61b\n",
            "/content/drive//MyDrive//SpamAssassinMessages//easy_ham/0267.218a528c448166d39f853cf75d8890dd\n",
            "/content/drive//MyDrive//SpamAssassinMessages//easy_ham/0591.f533bea095d75cc4dc282bdcba69072a\n",
            "/content/drive//MyDrive//SpamAssassinMessages//easy_ham/1655.7a0d7700a207ef6f66686f94b02c7a8f\n",
            "/content/drive//MyDrive//SpamAssassinMessages//easy_ham/0225.80a615200726ed2da1bfd347dcfd648c\n",
            "/content/drive//MyDrive//SpamAssassinMessages//easy_ham/1164.4f5726c74bd69e322849d54f54a646fe\n",
            "/content/drive//MyDrive//SpamAssassinMessages//easy_ham/2380.106606551f4a5c1e0065eeb0f3a331a2\n",
            "/content/drive//MyDrive//SpamAssassinMessages//easy_ham/2460.8a782dd603bfe327c2f7adadf590a094\n",
            "/content/drive//MyDrive//SpamAssassinMessages//easy_ham/0656.dd2af7ab5d99adf717056893adb12a20\n",
            "/content/drive//MyDrive//SpamAssassinMessages//easy_ham/1238.af17c6dc01076c3f5fd80b0aaf13b70a\n",
            "/content/drive//MyDrive//SpamAssassinMessages//easy_ham/2538.e3f596927fd5dd74ad23a0792a449241\n",
            "/content/drive//MyDrive//SpamAssassinMessages//easy_ham/1716.fabf67851c347abee56594b9873b2d9a\n",
            "/content/drive//MyDrive//SpamAssassinMessages//easy_ham/1131.7f31a18433046205b44e6b46f9677f9a\n",
            "/content/drive//MyDrive//SpamAssassinMessages//easy_ham/1116.e30f22bbdea56cb1ba244a559564ddde\n",
            "/content/drive//MyDrive//SpamAssassinMessages//easy_ham/0638.70122b70a334560fdbc450b6516bf752\n",
            "/content/drive//MyDrive//SpamAssassinMessages//easy_ham/0806.2eae7f9f133274ed400a215174b7de1d\n",
            "/content/drive//MyDrive//SpamAssassinMessages//easy_ham/0146.2d301a1e07672538d669f5e571180d32\n",
            "/content/drive//MyDrive//SpamAssassinMessages//easy_ham/0205.84f75723dcf7639ed057a32283048bdf\n",
            "/content/drive//MyDrive//SpamAssassinMessages//easy_ham/2419.104f029a2c2f3ddb0c756e7dd26501da\n",
            "/content/drive//MyDrive//SpamAssassinMessages//easy_ham/0297.738b9e94deb4bf077221292f071de345\n",
            "/content/drive//MyDrive//SpamAssassinMessages//easy_ham/2483.9eb471e8645403dda2bd70c08b463faf\n",
            "/content/drive//MyDrive//SpamAssassinMessages//easy_ham/1648.feab1eecf41d21e438b3658a5ab15f80\n",
            "/content/drive//MyDrive//SpamAssassinMessages//easy_ham/0207.f7d2d40df256d6caea05314f5334a959\n",
            "/content/drive//MyDrive//SpamAssassinMessages//easy_ham/0178.8405bbe39a5eb6c1814e3c16602099a4\n",
            "/content/drive//MyDrive//SpamAssassinMessages//easy_ham/0326.703aa5be82f6586d348723b732176418\n",
            "/content/drive//MyDrive//SpamAssassinMessages//easy_ham/1303.b8fb03a2de8615f9287086ccc71a4282\n",
            "/content/drive//MyDrive//SpamAssassinMessages//easy_ham/1897.91a261359b5537a465fa0164ec1d95c6\n",
            "/content/drive//MyDrive//SpamAssassinMessages//easy_ham/0282.fd87e7b9765004f6123ebe981bc16a1c\n",
            "/content/drive//MyDrive//SpamAssassinMessages//easy_ham/0196.0e960d0db312a26fade743e699ac5428\n",
            "/content/drive//MyDrive//SpamAssassinMessages//easy_ham/1354.0cbd2821c28f742dfdcf33ffbfaeebac\n",
            "/content/drive//MyDrive//SpamAssassinMessages//easy_ham/1119.ce22f4a2ffbc03cd2625cb10ba561058\n",
            "/content/drive//MyDrive//SpamAssassinMessages//easy_ham/2384.835c56e56932e88a89271d2d13df9a8c\n",
            "/content/drive//MyDrive//SpamAssassinMessages//easy_ham/0269.5a74b38284c7e9d85338eca0a25cb191\n",
            "/content/drive//MyDrive//SpamAssassinMessages//easy_ham/2295.e84ec70f3e8ec47c77536f28d5b9c92d\n",
            "/content/drive//MyDrive//SpamAssassinMessages//easy_ham/1502.1376704c3bd9c110fe3a5d0768745d91\n",
            "/content/drive//MyDrive//SpamAssassinMessages//easy_ham/2426.ba29d4b97bc1e42b7b12f678cf41d981\n",
            "/content/drive//MyDrive//SpamAssassinMessages//easy_ham/1166.8a9dbee6ac67226f58a80c0993a700e2\n",
            "/content/drive//MyDrive//SpamAssassinMessages//easy_ham/0347.0e43f8ba3aadeed419f512188e5d8aa4\n",
            "/content/drive//MyDrive//SpamAssassinMessages//easy_ham/2246.b66caa903ee41f0f8d81281f1ab1bd8e\n",
            "/content/drive//MyDrive//SpamAssassinMessages//easy_ham/1642.c4eea2387cc6850b5e1cb84529535f8b\n",
            "/content/drive//MyDrive//SpamAssassinMessages//easy_ham/1356.14e3ab9f37daa13ce7a15770017c4863\n",
            "/content/drive//MyDrive//SpamAssassinMessages//easy_ham/1121.51f7e5e557bde451a6b36e527211ed04\n",
            "/content/drive//MyDrive//SpamAssassinMessages//easy_ham/1653.19b45239333519205611b669843294cd\n",
            "/content/drive//MyDrive//SpamAssassinMessages//easy_ham/0268.77ef28e27a9ee085646f260418072111\n",
            "/content/drive//MyDrive//SpamAssassinMessages//easy_ham/1360.18758d232e8b6937d5d62ce0e0aa2d8e\n",
            "/content/drive//MyDrive//SpamAssassinMessages//easy_ham/2399.8815bb6c714226c9a83ad8d743d7688d\n",
            "/content/drive//MyDrive//SpamAssassinMessages//easy_ham/2393.9ba2bbda6af818512632047ddd5aea4a\n",
            "/content/drive//MyDrive//SpamAssassinMessages//easy_ham/0300.2e30b3bffb4f2887df203c197d11e936\n",
            "/content/drive//MyDrive//SpamAssassinMessages//easy_ham/2193.8220cdccae38ad8e4984999416bc3c92\n",
            "/content/drive//MyDrive//SpamAssassinMessages//easy_ham/0027.11da06d9130a188bf0ffb2060881dbe9\n",
            "/content/drive//MyDrive//SpamAssassinMessages//easy_ham/0795.6f8b4da0f06a9c055fc527562fe92330\n",
            "/content/drive//MyDrive//SpamAssassinMessages//easy_ham/1383.4e6c2c19a9c9ff985a966f06ea87ed76\n",
            "/content/drive//MyDrive//SpamAssassinMessages//easy_ham/1444.9c769de9af58bfba4b3e6b0ca034f2b8\n",
            "/content/drive//MyDrive//SpamAssassinMessages//easy_ham/2342.f3a2998bb86db89f22971aceca333a98\n",
            "/content/drive//MyDrive//SpamAssassinMessages//easy_ham/0208.0577aa26cbb2382d8789377d351ca8bf\n",
            "/content/drive//MyDrive//SpamAssassinMessages//easy_ham/1184.152999961bd0606fb0dcb6d6f95cc96d\n",
            "/content/drive//MyDrive//SpamAssassinMessages//easy_ham/1124.ca18e9fe0618bbac33ef2156d047cc7d\n",
            "/content/drive//MyDrive//SpamAssassinMessages//easy_ham/1162.0ac7999a1814c6e79d6da0f6fb8ec301\n",
            "/content/drive//MyDrive//SpamAssassinMessages//easy_ham/0228.b83f2f4ef114c69d9ca927d1082b393f\n",
            "/content/drive//MyDrive//SpamAssassinMessages//hard_ham/0163.0123b1afbae948c7fa80a8ab79786e16\n",
            "/content/drive//MyDrive//SpamAssassinMessages//hard_ham/0161.199b3947c40a3a72ab6407d91eee0557\n",
            "/content/drive//MyDrive//SpamAssassinMessages//hard_ham/0121.05eb8cf2ea8592ffd4be29698e07f67b\n",
            "/content/drive//MyDrive//SpamAssassinMessages//hard_ham/0141.82c48bdf90cb29370a2783a3523f3b04\n",
            "/content/drive//MyDrive//SpamAssassinMessages//hard_ham/0227.34e6b6125909c0d998370aacc82daefe\n",
            "/content/drive//MyDrive//SpamAssassinMessages//hard_ham/0136.bd2d54da3eaadd1f4428f48a28844d39\n",
            "/content/drive//MyDrive//SpamAssassinMessages//hard_ham/0239.34e6b6125909c0d998370aacc82daefe\n",
            "/content/drive//MyDrive//SpamAssassinMessages//hard_ham/0230.cc7e33f6fb35ec73315649e151d66111\n",
            "/content/drive//MyDrive//SpamAssassinMessages//hard_ham/0162.5258f5bbb6d86187bbd7b58851ce3b06\n",
            "/content/drive//MyDrive//SpamAssassinMessages//hard_ham/0177.7bf03ee9001454f9f3b4d258cd926098\n",
            "/content/drive//MyDrive//SpamAssassinMessages//hard_ham/0173.7020d254bb5a5582cac3c174523e6f77\n",
            "/content/drive//MyDrive//SpamAssassinMessages//hard_ham/0180.d0c8419e4982b2fa0c716508fb783a68\n",
            "/content/drive//MyDrive//SpamAssassinMessages//hard_ham/0164.82c660c5e1f778f96a4e36ab9aec323b\n",
            "/content/drive//MyDrive//SpamAssassinMessages//hard_ham/0158.ea156bc818540dd76784fac2f6969783\n",
            "/content/drive//MyDrive//SpamAssassinMessages//hard_ham/0190.5a3b0581835fba34b28985bbea2c8f41\n",
            "/content/drive//MyDrive//SpamAssassinMessages//hard_ham/0171.786d4f37f37d9043eb4fc2d3521b78b4\n",
            "/content/drive//MyDrive//SpamAssassinMessages//hard_ham/0146.e49cd86bb6e497e11c9ca1ca27cd5893\n",
            "/content/drive//MyDrive//SpamAssassinMessages//hard_ham/0196.9dc01775acba34e580ddf9a56ea6891e\n",
            "/content/drive//MyDrive//SpamAssassinMessages//hard_ham/0242.cc7e33f6fb35ec73315649e151d66111\n",
            "/content/drive//MyDrive//SpamAssassinMessages//hard_ham/0070.5deaf32310b325587f24b037b0453293\n",
            "/content/drive//MyDrive//SpamAssassinMessages//hard_ham/00006.3409dec8ca4fcf2d6e0582554473b5c9\n",
            "/content/drive//MyDrive//SpamAssassinMessages//hard_ham/00083.5c1fe69b6ebb360baac59ddca2b9bda0\n",
            "/content/drive//MyDrive//SpamAssassinMessages//hard_ham/00051.2dbf15ab121393e6ea3e30a8a12fa23b\n",
            "/content/drive//MyDrive//SpamAssassinMessages//hard_ham/00108.c616dad1b875643b5f48452beadf54b0\n",
            "/content/drive//MyDrive//SpamAssassinMessages//hard_ham/00158.8042a8d7b2a93ebdee1df8239cfea2b0\n",
            "/content/drive//MyDrive//SpamAssassinMessages//hard_ham/00161.786d4f37f37d9043eb4fc2d3521b78b4\n",
            "/content/drive//MyDrive//SpamAssassinMessages//hard_ham/00136.5a3b167888ad2dddf950359e492b953c\n",
            "/content/drive//MyDrive//SpamAssassinMessages//hard_ham/00242.fc258e3fb7c6c86571243691e28c1921\n",
            "/content/drive//MyDrive//SpamAssassinMessages//hard_ham/00237.2ed2cce324d7ce55d991022301ab5923\n",
            "/content/drive//MyDrive//SpamAssassinMessages//hard_ham/00247.42534d5df0700cb2adf240556c539947\n",
            "/content/drive//MyDrive//SpamAssassinMessages//hard_ham/00249.b9183324a9726e8b6c8779045a921243\n",
            "/content/drive//MyDrive//SpamAssassinMessages//hard_ham/00174.62cbd01979122b7c30b5eb301b834db2\n",
            "/content/drive//MyDrive//SpamAssassinMessages//hard_ham/00244.6b536755550a406301a4dbd482341125\n",
            "/content/drive//MyDrive//SpamAssassinMessages//hard_ham/00235.942d5701daf62963c60e4a22ac76203b\n",
            "/content/drive//MyDrive//SpamAssassinMessages//hard_ham/00194.c7439a37e68aa99a7fb9242d46f02666\n",
            "/content/drive//MyDrive//SpamAssassinMessages//hard_ham/00193.0ec2d3762629686bdebde22f730a15e9\n",
            "/content/drive//MyDrive//SpamAssassinMessages//hard_ham/00229.0870e13cd0b783d3d0b32826fa06bef3\n",
            "/content/drive//MyDrive//SpamAssassinMessages//hard_ham/00186.fe677caf46d7739f8b560388e1cdbbe2\n",
            "/content/drive//MyDrive//SpamAssassinMessages//hard_ham/00232.3e89eaf26e6614545afbfc5d4ce13a44\n",
            "/content/drive//MyDrive//SpamAssassinMessages//hard_ham/00224.0b10471bd4bcd9b5aad01f0431f72d9f\n",
            "/content/drive//MyDrive//SpamAssassinMessages//hard_ham/00180.c48e764a71e8baa907f4f623cbbf9b80\n",
            "/content/drive//MyDrive//SpamAssassinMessages//hard_ham/00179.e07465b40c68c228dfb7133d8788e5cf\n",
            "/content/drive//MyDrive//SpamAssassinMessages//hard_ham/00181.01c5d96083c6e7770b1704791cf4bb3e\n",
            "/content/drive//MyDrive//SpamAssassinMessages//hard_ham/00009.ddea79a02a9978cb3dafef3c05ff37a6\n",
            "/content/drive//MyDrive//SpamAssassinMessages//hard_ham/00173.493449c83919771888e79bea2f0b4ac2\n",
            "/content/drive//MyDrive//SpamAssassinMessages//hard_ham/00151.b352916ecff2b0ba1140d6898d789235\n",
            "/content/drive//MyDrive//SpamAssassinMessages//hard_ham/00177.81236553338cae51575b54c6a07426f9\n",
            "/content/drive//MyDrive//SpamAssassinMessages//hard_ham/00226.54521695be23019d664e33a1a7753355\n",
            "/content/drive//MyDrive//SpamAssassinMessages//hard_ham/00191.5fd77d5b5c491cd7d2eaa004e78f5075\n",
            "/content/drive//MyDrive//SpamAssassinMessages//hard_ham/00202.8482d07f3281465b273327bb83bd9a39\n",
            "/content/drive//MyDrive//SpamAssassinMessages//hard_ham/00192.660d3367a86966f1a2a38d328215c905\n",
            "/content/drive//MyDrive//SpamAssassinMessages//hard_ham/00223.14b06feeb8b03fed4e272140b8ed95f0\n",
            "/content/drive//MyDrive//SpamAssassinMessages//hard_ham/00241.4e5262894127344225abfc680c35e3d3\n",
            "/content/drive//MyDrive//SpamAssassinMessages//hard_ham/0038.9fc6b97854121a9c1dc34b0160620558\n",
            "/content/drive//MyDrive//SpamAssassinMessages//hard_ham/0095.3ab54d86bb56d59bdf2d4a1cd5626357\n",
            "/content/drive//MyDrive//SpamAssassinMessages//hard_ham/0139.37c6b32ba39eaa510af007deef725ec2\n",
            "/content/drive//MyDrive//SpamAssassinMessages//hard_ham/0157.09827ed42b5f694067929fc00393630e\n",
            "/content/drive//MyDrive//SpamAssassinMessages//hard_ham/0132.2893a03c7ec608a1416bef197a3ac13c\n",
            "/content/drive//MyDrive//SpamAssassinMessages//hard_ham/0184.290d2aac65ac6b71689d7f223f1bb5fd\n",
            "/content/drive//MyDrive//SpamAssassinMessages//hard_ham/0194.d25929908330db4d7f1d959a295651e0\n",
            "/content/drive//MyDrive//SpamAssassinMessages//hard_ham/0181.4750eb0bfa983cb33844255f8f6a2094\n",
            "/content/drive//MyDrive//SpamAssassinMessages//hard_ham/0191.47a4267102621d60e7de985f0f738f96\n"
          ]
        }
      ]
    },
    {
      "cell_type": "code",
      "source": [
        "len(contents)"
      ],
      "metadata": {
        "id": "aQT5bxdC4eca",
        "outputId": "460ef368-951e-4c25-b7ec-4d2357012a98",
        "colab": {
          "base_uri": "https://localhost:8080/"
        }
      },
      "id": "aQT5bxdC4eca",
      "execution_count": 97,
      "outputs": [
        {
          "output_type": "execute_result",
          "data": {
            "text/plain": [
              "10106"
            ]
          },
          "metadata": {},
          "execution_count": 97
        }
      ]
    },
    {
      "cell_type": "code",
      "source": [
        "len(types)"
      ],
      "metadata": {
        "id": "dqCPObrL4ntU",
        "outputId": "7949dee1-05da-401e-8173-6a0d759d2a6f",
        "colab": {
          "base_uri": "https://localhost:8080/"
        }
      },
      "id": "dqCPObrL4ntU",
      "execution_count": 98,
      "outputs": [
        {
          "output_type": "execute_result",
          "data": {
            "text/plain": [
              "9353"
            ]
          },
          "metadata": {},
          "execution_count": 98
        }
      ]
    },
    {
      "cell_type": "code",
      "source": [
        "len(labels)"
      ],
      "metadata": {
        "id": "9dDWDgNJ4oX2",
        "outputId": "de3b3212-b14e-45fc-f245-41cf74a4c767",
        "colab": {
          "base_uri": "https://localhost:8080/"
        }
      },
      "id": "9dDWDgNJ4oX2",
      "execution_count": 99,
      "outputs": [
        {
          "output_type": "execute_result",
          "data": {
            "text/plain": [
              "9353"
            ]
          },
          "metadata": {},
          "execution_count": 99
        }
      ]
    },
    {
      "cell_type": "code",
      "execution_count": 100,
      "id": "quarterly-pride",
      "metadata": {
        "id": "quarterly-pride",
        "outputId": "1c097c1c-6ba4-453b-ba74-8dfe505c421e",
        "colab": {
          "base_uri": "https://localhost:8080/"
        }
      },
      "outputs": [
        {
          "output_type": "execute_result",
          "data": {
            "text/plain": [
              "10106"
            ]
          },
          "metadata": {},
          "execution_count": 100
        }
      ],
      "source": [
        "len(contents)"
      ]
    },
    {
      "cell_type": "code",
      "execution_count": 102,
      "id": "linear-richardson",
      "metadata": {
        "id": "linear-richardson",
        "outputId": "ab3eef56-2866-4b26-b479-ae32119f71ad",
        "colab": {
          "base_uri": "https://localhost:8080/",
          "height": 347
        }
      },
      "outputs": [
        {
          "output_type": "error",
          "ename": "ValueError",
          "evalue": "ignored",
          "traceback": [
            "\u001b[0;31m---------------------------------------------------------------------------\u001b[0m",
            "\u001b[0;31mValueError\u001b[0m                                Traceback (most recent call last)",
            "\u001b[0;32m<ipython-input-102-1e225b649109>\u001b[0m in \u001b[0;36m<cell line: 3>\u001b[0;34m()\u001b[0m\n\u001b[1;32m      1\u001b[0m \u001b[0;32mimport\u001b[0m \u001b[0mpandas\u001b[0m \u001b[0;32mas\u001b[0m \u001b[0mpd\u001b[0m\u001b[0;34m\u001b[0m\u001b[0;34m\u001b[0m\u001b[0m\n\u001b[1;32m      2\u001b[0m \u001b[0;34m\u001b[0m\u001b[0m\n\u001b[0;32m----> 3\u001b[0;31m \u001b[0mdata\u001b[0m \u001b[0;34m=\u001b[0m \u001b[0mpd\u001b[0m\u001b[0;34m.\u001b[0m\u001b[0mDataFrame\u001b[0m\u001b[0;34m(\u001b[0m\u001b[0;34m{\u001b[0m\u001b[0;34m\"Text\"\u001b[0m\u001b[0;34m:\u001b[0m\u001b[0mcontents\u001b[0m\u001b[0;34m,\u001b[0m\u001b[0;34m\"Label\"\u001b[0m\u001b[0;34m:\u001b[0m\u001b[0mlabels\u001b[0m\u001b[0;34m}\u001b[0m\u001b[0;34m)\u001b[0m\u001b[0;34m\u001b[0m\u001b[0;34m\u001b[0m\u001b[0m\n\u001b[0m",
            "\u001b[0;32m/usr/local/lib/python3.10/dist-packages/pandas/core/frame.py\u001b[0m in \u001b[0;36m__init__\u001b[0;34m(self, data, index, columns, dtype, copy)\u001b[0m\n\u001b[1;32m    662\u001b[0m         \u001b[0;32melif\u001b[0m \u001b[0misinstance\u001b[0m\u001b[0;34m(\u001b[0m\u001b[0mdata\u001b[0m\u001b[0;34m,\u001b[0m \u001b[0mdict\u001b[0m\u001b[0;34m)\u001b[0m\u001b[0;34m:\u001b[0m\u001b[0;34m\u001b[0m\u001b[0;34m\u001b[0m\u001b[0m\n\u001b[1;32m    663\u001b[0m             \u001b[0;31m# GH#38939 de facto copy defaults to False only in non-dict cases\u001b[0m\u001b[0;34m\u001b[0m\u001b[0;34m\u001b[0m\u001b[0m\n\u001b[0;32m--> 664\u001b[0;31m             \u001b[0mmgr\u001b[0m \u001b[0;34m=\u001b[0m \u001b[0mdict_to_mgr\u001b[0m\u001b[0;34m(\u001b[0m\u001b[0mdata\u001b[0m\u001b[0;34m,\u001b[0m \u001b[0mindex\u001b[0m\u001b[0;34m,\u001b[0m \u001b[0mcolumns\u001b[0m\u001b[0;34m,\u001b[0m \u001b[0mdtype\u001b[0m\u001b[0;34m=\u001b[0m\u001b[0mdtype\u001b[0m\u001b[0;34m,\u001b[0m \u001b[0mcopy\u001b[0m\u001b[0;34m=\u001b[0m\u001b[0mcopy\u001b[0m\u001b[0;34m,\u001b[0m \u001b[0mtyp\u001b[0m\u001b[0;34m=\u001b[0m\u001b[0mmanager\u001b[0m\u001b[0;34m)\u001b[0m\u001b[0;34m\u001b[0m\u001b[0;34m\u001b[0m\u001b[0m\n\u001b[0m\u001b[1;32m    665\u001b[0m         \u001b[0;32melif\u001b[0m \u001b[0misinstance\u001b[0m\u001b[0;34m(\u001b[0m\u001b[0mdata\u001b[0m\u001b[0;34m,\u001b[0m \u001b[0mma\u001b[0m\u001b[0;34m.\u001b[0m\u001b[0mMaskedArray\u001b[0m\u001b[0;34m)\u001b[0m\u001b[0;34m:\u001b[0m\u001b[0;34m\u001b[0m\u001b[0;34m\u001b[0m\u001b[0m\n\u001b[1;32m    666\u001b[0m             \u001b[0;32mimport\u001b[0m \u001b[0mnumpy\u001b[0m\u001b[0;34m.\u001b[0m\u001b[0mma\u001b[0m\u001b[0;34m.\u001b[0m\u001b[0mmrecords\u001b[0m \u001b[0;32mas\u001b[0m \u001b[0mmrecords\u001b[0m\u001b[0;34m\u001b[0m\u001b[0;34m\u001b[0m\u001b[0m\n",
            "\u001b[0;32m/usr/local/lib/python3.10/dist-packages/pandas/core/internals/construction.py\u001b[0m in \u001b[0;36mdict_to_mgr\u001b[0;34m(data, index, columns, dtype, typ, copy)\u001b[0m\n\u001b[1;32m    491\u001b[0m             \u001b[0marrays\u001b[0m \u001b[0;34m=\u001b[0m \u001b[0;34m[\u001b[0m\u001b[0mx\u001b[0m\u001b[0;34m.\u001b[0m\u001b[0mcopy\u001b[0m\u001b[0;34m(\u001b[0m\u001b[0;34m)\u001b[0m \u001b[0;32mif\u001b[0m \u001b[0mhasattr\u001b[0m\u001b[0;34m(\u001b[0m\u001b[0mx\u001b[0m\u001b[0;34m,\u001b[0m \u001b[0;34m\"dtype\"\u001b[0m\u001b[0;34m)\u001b[0m \u001b[0;32melse\u001b[0m \u001b[0mx\u001b[0m \u001b[0;32mfor\u001b[0m \u001b[0mx\u001b[0m \u001b[0;32min\u001b[0m \u001b[0marrays\u001b[0m\u001b[0;34m]\u001b[0m\u001b[0;34m\u001b[0m\u001b[0;34m\u001b[0m\u001b[0m\n\u001b[1;32m    492\u001b[0m \u001b[0;34m\u001b[0m\u001b[0m\n\u001b[0;32m--> 493\u001b[0;31m     \u001b[0;32mreturn\u001b[0m \u001b[0marrays_to_mgr\u001b[0m\u001b[0;34m(\u001b[0m\u001b[0marrays\u001b[0m\u001b[0;34m,\u001b[0m \u001b[0mcolumns\u001b[0m\u001b[0;34m,\u001b[0m \u001b[0mindex\u001b[0m\u001b[0;34m,\u001b[0m \u001b[0mdtype\u001b[0m\u001b[0;34m=\u001b[0m\u001b[0mdtype\u001b[0m\u001b[0;34m,\u001b[0m \u001b[0mtyp\u001b[0m\u001b[0;34m=\u001b[0m\u001b[0mtyp\u001b[0m\u001b[0;34m,\u001b[0m \u001b[0mconsolidate\u001b[0m\u001b[0;34m=\u001b[0m\u001b[0mcopy\u001b[0m\u001b[0;34m)\u001b[0m\u001b[0;34m\u001b[0m\u001b[0;34m\u001b[0m\u001b[0m\n\u001b[0m\u001b[1;32m    494\u001b[0m \u001b[0;34m\u001b[0m\u001b[0m\n\u001b[1;32m    495\u001b[0m \u001b[0;34m\u001b[0m\u001b[0m\n",
            "\u001b[0;32m/usr/local/lib/python3.10/dist-packages/pandas/core/internals/construction.py\u001b[0m in \u001b[0;36marrays_to_mgr\u001b[0;34m(arrays, columns, index, dtype, verify_integrity, typ, consolidate)\u001b[0m\n\u001b[1;32m    116\u001b[0m         \u001b[0;31m# figure out the index, if necessary\u001b[0m\u001b[0;34m\u001b[0m\u001b[0;34m\u001b[0m\u001b[0m\n\u001b[1;32m    117\u001b[0m         \u001b[0;32mif\u001b[0m \u001b[0mindex\u001b[0m \u001b[0;32mis\u001b[0m \u001b[0;32mNone\u001b[0m\u001b[0;34m:\u001b[0m\u001b[0;34m\u001b[0m\u001b[0;34m\u001b[0m\u001b[0m\n\u001b[0;32m--> 118\u001b[0;31m             \u001b[0mindex\u001b[0m \u001b[0;34m=\u001b[0m \u001b[0m_extract_index\u001b[0m\u001b[0;34m(\u001b[0m\u001b[0marrays\u001b[0m\u001b[0;34m)\u001b[0m\u001b[0;34m\u001b[0m\u001b[0;34m\u001b[0m\u001b[0m\n\u001b[0m\u001b[1;32m    119\u001b[0m         \u001b[0;32melse\u001b[0m\u001b[0;34m:\u001b[0m\u001b[0;34m\u001b[0m\u001b[0;34m\u001b[0m\u001b[0m\n\u001b[1;32m    120\u001b[0m             \u001b[0mindex\u001b[0m \u001b[0;34m=\u001b[0m \u001b[0mensure_index\u001b[0m\u001b[0;34m(\u001b[0m\u001b[0mindex\u001b[0m\u001b[0;34m)\u001b[0m\u001b[0;34m\u001b[0m\u001b[0;34m\u001b[0m\u001b[0m\n",
            "\u001b[0;32m/usr/local/lib/python3.10/dist-packages/pandas/core/internals/construction.py\u001b[0m in \u001b[0;36m_extract_index\u001b[0;34m(data)\u001b[0m\n\u001b[1;32m    664\u001b[0m             \u001b[0mlengths\u001b[0m \u001b[0;34m=\u001b[0m \u001b[0mlist\u001b[0m\u001b[0;34m(\u001b[0m\u001b[0mset\u001b[0m\u001b[0;34m(\u001b[0m\u001b[0mraw_lengths\u001b[0m\u001b[0;34m)\u001b[0m\u001b[0;34m)\u001b[0m\u001b[0;34m\u001b[0m\u001b[0;34m\u001b[0m\u001b[0m\n\u001b[1;32m    665\u001b[0m             \u001b[0;32mif\u001b[0m \u001b[0mlen\u001b[0m\u001b[0;34m(\u001b[0m\u001b[0mlengths\u001b[0m\u001b[0;34m)\u001b[0m \u001b[0;34m>\u001b[0m \u001b[0;36m1\u001b[0m\u001b[0;34m:\u001b[0m\u001b[0;34m\u001b[0m\u001b[0;34m\u001b[0m\u001b[0m\n\u001b[0;32m--> 666\u001b[0;31m                 \u001b[0;32mraise\u001b[0m \u001b[0mValueError\u001b[0m\u001b[0;34m(\u001b[0m\u001b[0;34m\"All arrays must be of the same length\"\u001b[0m\u001b[0;34m)\u001b[0m\u001b[0;34m\u001b[0m\u001b[0;34m\u001b[0m\u001b[0m\n\u001b[0m\u001b[1;32m    667\u001b[0m \u001b[0;34m\u001b[0m\u001b[0m\n\u001b[1;32m    668\u001b[0m             \u001b[0;32mif\u001b[0m \u001b[0mhave_dicts\u001b[0m\u001b[0;34m:\u001b[0m\u001b[0;34m\u001b[0m\u001b[0;34m\u001b[0m\u001b[0m\n",
            "\u001b[0;31mValueError\u001b[0m: All arrays must be of the same length"
          ]
        }
      ],
      "source": [
        "import pandas as pd \n",
        "\n",
        "data = pd.DataFrame({\"Text\":contents,\"Label\":labels})"
      ]
    },
    {
      "cell_type": "code",
      "execution_count": null,
      "id": "premier-recorder",
      "metadata": {
        "id": "premier-recorder"
      },
      "outputs": [],
      "source": [
        "data[data['type'].str.contains(\"html\")]"
      ]
    },
    {
      "cell_type": "code",
      "execution_count": null,
      "id": "statutory-driver",
      "metadata": {
        "id": "statutory-driver"
      },
      "outputs": [],
      "source": [
        "data"
      ]
    },
    {
      "cell_type": "code",
      "execution_count": null,
      "id": "sophisticated-occasion",
      "metadata": {
        "id": "sophisticated-occasion"
      },
      "outputs": [],
      "source": []
    },
    {
      "cell_type": "code",
      "execution_count": null,
      "id": "premier-madness",
      "metadata": {
        "id": "premier-madness"
      },
      "outputs": [],
      "source": [
        "from sklearn.feature_extraction.text import CountVectorizer"
      ]
    },
    {
      "cell_type": "code",
      "execution_count": null,
      "id": "contained-isolation",
      "metadata": {
        "id": "contained-isolation"
      },
      "outputs": [],
      "source": [
        "vectorizer = CountVectorizer()"
      ]
    },
    {
      "cell_type": "code",
      "execution_count": null,
      "id": "endangered-butler",
      "metadata": {
        "id": "endangered-butler"
      },
      "outputs": [],
      "source": [
        "out = vectorizer.fit_transform(data['Text'])"
      ]
    },
    {
      "cell_type": "code",
      "execution_count": null,
      "id": "certified-wings",
      "metadata": {
        "id": "certified-wings"
      },
      "outputs": [],
      "source": [
        "vectorizer.vocabulary_"
      ]
    },
    {
      "cell_type": "code",
      "execution_count": null,
      "id": "flying-people",
      "metadata": {
        "id": "flying-people"
      },
      "outputs": [],
      "source": [
        "data.iloc[0,0]"
      ]
    },
    {
      "cell_type": "code",
      "execution_count": null,
      "id": "peaceful-covering",
      "metadata": {
        "id": "peaceful-covering"
      },
      "outputs": [],
      "source": [
        "<unk>\n",
        "            "
      ]
    },
    {
      "cell_type": "code",
      "execution_count": null,
      "id": "conservative-evaluation",
      "metadata": {
        "id": "conservative-evaluation"
      },
      "outputs": [],
      "source": [
        "reverse={}\n",
        "for word,value in vectorizer.vocabulary_.items():\n",
        "    reverse[value]=word"
      ]
    },
    {
      "cell_type": "code",
      "execution_count": null,
      "id": "focused-pacific",
      "metadata": {
        "id": "focused-pacific"
      },
      "outputs": [],
      "source": [
        "reverse[64792]"
      ]
    },
    {
      "cell_type": "code",
      "execution_count": null,
      "id": "751cb4f8",
      "metadata": {
        "id": "751cb4f8"
      },
      "outputs": [],
      "source": [
        "for i in range(out[0].shape[1]):\n",
        "    if out[0,i]>0:\n",
        "        print(reverse[i], out[0,i])"
      ]
    },
    {
      "cell_type": "code",
      "execution_count": null,
      "id": "f964463a",
      "metadata": {
        "id": "f964463a"
      },
      "outputs": [],
      "source": [
        "out[0,0]"
      ]
    },
    {
      "cell_type": "code",
      "execution_count": null,
      "id": "29fd194d",
      "metadata": {
        "id": "29fd194d"
      },
      "outputs": [],
      "source": [
        "vectorizer.vocabulary_['unk']"
      ]
    },
    {
      "cell_type": "code",
      "execution_count": null,
      "id": "7b3d26dd",
      "metadata": {
        "id": "7b3d26dd"
      },
      "outputs": [],
      "source": [
        "<unk> = 102\n",
        "<start> = 101\n",
        "<end>= 3\n",
        "<pad> = 100\n",
        "<cls>"
      ]
    },
    {
      "cell_type": "code",
      "execution_count": null,
      "id": "29da9dac",
      "metadata": {
        "id": "29da9dac"
      },
      "outputs": [],
      "source": [
        "\"<pad> <pad> <start> The <unk> car drove away <end>\""
      ]
    },
    {
      "cell_type": "code",
      "execution_count": null,
      "id": "46fc87cf",
      "metadata": {
        "id": "46fc87cf"
      },
      "outputs": [],
      "source": [
        "from sklearn.datasets import fetch_20newsgroups\n",
        "data = fetch_20newsgroups(subset='train')\n",
        "test = fetch_20newsgroups(subset='test')"
      ]
    },
    {
      "cell_type": "code",
      "execution_count": null,
      "id": "24340720",
      "metadata": {
        "id": "24340720"
      },
      "outputs": [],
      "source": [
        "from sklearn.feature_extraction.text import CountVectorizer\n",
        "word_counts = CountVectorizer()\n",
        "v_data = word_counts.fit_transform(data['data'])\n",
        "v_test = word_counts.transform(test['data'])"
      ]
    },
    {
      "cell_type": "code",
      "execution_count": null,
      "id": "21274b7c",
      "metadata": {
        "id": "21274b7c"
      },
      "outputs": [],
      "source": [
        "v_data"
      ]
    },
    {
      "cell_type": "code",
      "execution_count": null,
      "id": "979c3109",
      "metadata": {
        "id": "979c3109"
      },
      "outputs": [],
      "source": [
        "from sklearn.naive_bayes import ComplementNB, BernoulliNB, GaussianNB, CategoricalNB, MultinomialNB\n",
        "from sklearn.metrics import accuracy_score, classification_report, ConfusionMatrixDisplay\n",
        "comp = ComplementNB()\n",
        "bern = BernoulliNB()\n",
        "gaus = GaussianNB()\n",
        "cat = CategoricalNB()\n",
        "multi = MultinomialNB()\n",
        "methods = {\"Complement\":comp,\"Bernoulli\":bern,\"Gausian\":gaus,\"Multi\":multi,\"Cat\":cat}\n",
        "for i in methods.keys():\n",
        "    try:\n",
        "        methods[i].fit(v_data,data['target'])\n",
        "        p = methods[i].predict(v_test)\n",
        "        print(accuracy_score(test['target'],p), f\"method={i}\")\n",
        "        print(classification_report(test['target'],p))\n",
        "    except:\n",
        "        print(f\"{i} failed\")\n"
      ]
    },
    {
      "cell_type": "code",
      "execution_count": null,
      "id": "57a436b3",
      "metadata": {
        "id": "57a436b3"
      },
      "outputs": [],
      "source": [
        "import matplotlib.pyplot as plt\n",
        "plt.rcParams[\"figure.figsize\"] = (20,20)\n",
        "ConfusionMatrixDisplay.from_predictions(test['target'],p,cmap='Blues')"
      ]
    },
    {
      "cell_type": "code",
      "execution_count": null,
      "id": "e9b5d368",
      "metadata": {
        "id": "e9b5d368"
      },
      "outputs": [],
      "source": [
        "reverse={}\n",
        "for word,value in word_counts.vocabulary_.items():\n",
        "    reverse[value]=word"
      ]
    },
    {
      "cell_type": "code",
      "execution_count": null,
      "id": "678b0769",
      "metadata": {
        "id": "678b0769"
      },
      "outputs": [],
      "source": []
    }
  ],
  "metadata": {
    "kernelspec": {
      "display_name": "Python 3 (ipykernel)",
      "language": "python",
      "name": "python3"
    },
    "language_info": {
      "codemirror_mode": {
        "name": "ipython",
        "version": 3
      },
      "file_extension": ".py",
      "mimetype": "text/x-python",
      "name": "python",
      "nbconvert_exporter": "python",
      "pygments_lexer": "ipython3",
      "version": "3.10.10"
    },
    "colab": {
      "provenance": [],
      "include_colab_link": true
    }
  },
  "nbformat": 4,
  "nbformat_minor": 5
}