{
  "cells": [
    {
      "cell_type": "markdown",
      "metadata": {
        "id": "view-in-github",
        "colab_type": "text"
      },
      "source": [
        "<a href=\"https://colab.research.google.com/github/KendallScott/QTW/blob/main/Case%20Study%203/Case_Study_3.ipynb\" target=\"_parent\"><img src=\"https://colab.research.google.com/assets/colab-badge.svg\" alt=\"Open In Colab\"/></a>"
      ]
    },
    {
      "cell_type": "code",
      "source": [
        "%%capture\n",
        "!pip install beautifulsoup4\n",
        "!pip install scikit-learn-intelex"
      ],
      "metadata": {
        "id": "jqvTsZnE2jDn"
      },
      "id": "jqvTsZnE2jDn",
      "execution_count": 1,
      "outputs": []
    },
    {
      "cell_type": "code",
      "source": [
        "from google.colab import drive\n",
        "drive.mount('/content/drive')"
      ],
      "metadata": {
        "colab": {
          "base_uri": "https://localhost:8080/"
        },
        "id": "11QoaBxoZQZ1",
        "outputId": "17b50835-e3bf-4448-c3c1-a6e342a57d12"
      },
      "id": "11QoaBxoZQZ1",
      "execution_count": 2,
      "outputs": [
        {
          "output_type": "stream",
          "name": "stdout",
          "text": [
            "Drive already mounted at /content/drive; to attempt to forcibly remount, call drive.mount(\"/content/drive\", force_remount=True).\n"
          ]
        }
      ]
    },
    {
      "cell_type": "code",
      "source": [
        "!ls -l /content/drive/MyDrive/SpamAssassinMessages/"
      ],
      "metadata": {
        "colab": {
          "base_uri": "https://localhost:8080/"
        },
        "id": "JkcETtearuoW",
        "outputId": "681437a5-3c9f-4ed2-e4e9-3c852f2f936d"
      },
      "id": "JkcETtearuoW",
      "execution_count": 3,
      "outputs": [
        {
          "output_type": "stream",
          "name": "stdout",
          "text": [
            "total 20\n",
            "drwx------ 2 root root 4096 Jun 11 23:08 easy_ham\n",
            "drwx------ 2 root root 4096 Jun 11 23:08 easy_ham_2\n",
            "drwx------ 2 root root 4096 Jun 11 23:08 hard_ham\n",
            "drwx------ 2 root root 4096 Jun 11 23:08 spam\n",
            "drwx------ 2 root root 4096 Jun 11 23:08 spam_2\n"
          ]
        }
      ]
    },
    {
      "cell_type": "code",
      "source": [
        "from gensim.parsing.preprocessing import STOPWORDS\n",
        "from nltk import word_tokenize\n",
        "import os, chardet, email\n",
        "import pandas as pd \n",
        "import numpy as np\n",
        "from sklearn.model_selection import StratifiedKFold, GridSearchCV\n",
        "from sklearn.feature_extraction.text import TfidfVectorizer\n",
        "from sklearn.naive_bayes import MultinomialNB\n",
        "from sklearn.feature_extraction.text import TfidfVectorizer\n",
        "from sklearn.metrics import accuracy_score, classification_report, ConfusionMatrixDisplay\n",
        "from bs4 import BeautifulSoup\n",
        "from sklearn.pipeline import Pipeline\n",
        "from sklearn.metrics import confusion_matrix, accuracy_score, recall_score, classification_report\n",
        "from nltk.corpus import stopwords\n",
        "import nltk; nltk.download('popular')\n",
        "import seaborn as sns\n",
        "import matplotlib.pyplot as plt\n"
      ],
      "metadata": {
        "id": "3xAruZmNj5KV",
        "colab": {
          "base_uri": "https://localhost:8080/"
        },
        "outputId": "90e09dc2-1b5a-4a1b-b998-b97d0b7966c3"
      },
      "id": "3xAruZmNj5KV",
      "execution_count": 2,
      "outputs": [
        {
          "output_type": "stream",
          "name": "stderr",
          "text": [
            "[nltk_data] Downloading collection 'popular'\n",
            "[nltk_data]    | \n",
            "[nltk_data]    | Downloading package cmudict to /root/nltk_data...\n",
            "[nltk_data]    |   Unzipping corpora/cmudict.zip.\n",
            "[nltk_data]    | Downloading package gazetteers to /root/nltk_data...\n",
            "[nltk_data]    |   Unzipping corpora/gazetteers.zip.\n",
            "[nltk_data]    | Downloading package genesis to /root/nltk_data...\n",
            "[nltk_data]    |   Unzipping corpora/genesis.zip.\n",
            "[nltk_data]    | Downloading package gutenberg to /root/nltk_data...\n",
            "[nltk_data]    |   Unzipping corpora/gutenberg.zip.\n",
            "[nltk_data]    | Downloading package inaugural to /root/nltk_data...\n",
            "[nltk_data]    |   Unzipping corpora/inaugural.zip.\n",
            "[nltk_data]    | Downloading package movie_reviews to\n",
            "[nltk_data]    |     /root/nltk_data...\n",
            "[nltk_data]    |   Unzipping corpora/movie_reviews.zip.\n",
            "[nltk_data]    | Downloading package names to /root/nltk_data...\n",
            "[nltk_data]    |   Unzipping corpora/names.zip.\n",
            "[nltk_data]    | Downloading package shakespeare to /root/nltk_data...\n",
            "[nltk_data]    |   Unzipping corpora/shakespeare.zip.\n",
            "[nltk_data]    | Downloading package stopwords to /root/nltk_data...\n",
            "[nltk_data]    |   Unzipping corpora/stopwords.zip.\n",
            "[nltk_data]    | Downloading package treebank to /root/nltk_data...\n",
            "[nltk_data]    |   Unzipping corpora/treebank.zip.\n",
            "[nltk_data]    | Downloading package twitter_samples to\n",
            "[nltk_data]    |     /root/nltk_data...\n",
            "[nltk_data]    |   Unzipping corpora/twitter_samples.zip.\n",
            "[nltk_data]    | Downloading package omw to /root/nltk_data...\n",
            "[nltk_data]    | Downloading package omw-1.4 to /root/nltk_data...\n",
            "[nltk_data]    | Downloading package wordnet to /root/nltk_data...\n",
            "[nltk_data]    | Downloading package wordnet2021 to /root/nltk_data...\n",
            "[nltk_data]    | Downloading package wordnet31 to /root/nltk_data...\n",
            "[nltk_data]    | Downloading package wordnet_ic to /root/nltk_data...\n",
            "[nltk_data]    |   Unzipping corpora/wordnet_ic.zip.\n",
            "[nltk_data]    | Downloading package words to /root/nltk_data...\n",
            "[nltk_data]    |   Unzipping corpora/words.zip.\n",
            "[nltk_data]    | Downloading package maxent_ne_chunker to\n",
            "[nltk_data]    |     /root/nltk_data...\n",
            "[nltk_data]    |   Unzipping chunkers/maxent_ne_chunker.zip.\n",
            "[nltk_data]    | Downloading package punkt to /root/nltk_data...\n",
            "[nltk_data]    |   Unzipping tokenizers/punkt.zip.\n",
            "[nltk_data]    | Downloading package snowball_data to\n",
            "[nltk_data]    |     /root/nltk_data...\n",
            "[nltk_data]    | Downloading package averaged_perceptron_tagger to\n",
            "[nltk_data]    |     /root/nltk_data...\n",
            "[nltk_data]    |   Unzipping taggers/averaged_perceptron_tagger.zip.\n",
            "[nltk_data]    | \n",
            "[nltk_data]  Done downloading collection popular\n"
          ]
        }
      ]
    },
    {
      "cell_type": "code",
      "source": [
        "file_list = []\n",
        "for root, dirs, files in os.walk(\"/content/drive/MyDrive/SpamAssassinMessages/\", topdown=False):\n",
        "    for name in files:\n",
        "        tmp = os.path.join(root,name)\n",
        "        file_list.append(tmp)\n",
        "    for item in dirs:\n",
        "        print(item)\n",
        "i=0\n",
        "\n",
        "file_list_full = []\n",
        "while i < len(file_list):\n",
        "    file_list_full.append(file_list[i])\n",
        "    i+=1"
      ],
      "metadata": {
        "id": "PlMpfjwLcuv2",
        "outputId": "fa1d29e8-a31c-4697-b0f8-68d6259b5dfa",
        "colab": {
          "base_uri": "https://localhost:8080/"
        }
      },
      "id": "PlMpfjwLcuv2",
      "execution_count": 5,
      "outputs": [
        {
          "output_type": "stream",
          "name": "stdout",
          "text": [
            "easy_ham\n",
            "easy_ham_2\n",
            "hard_ham\n",
            "spam_2\n",
            "spam\n"
          ]
        }
      ]
    },
    {
      "cell_type": "code",
      "source": [
        "len(file_list_full)"
      ],
      "metadata": {
        "colab": {
          "base_uri": "https://localhost:8080/"
        },
        "id": "XGRktrDXnp7r",
        "outputId": "5958280f-4e63-4e32-d714-dae5b169e807"
      },
      "id": "XGRktrDXnp7r",
      "execution_count": 6,
      "outputs": [
        {
          "output_type": "execute_result",
          "data": {
            "text/plain": [
              "9353"
            ]
          },
          "metadata": {},
          "execution_count": 6
        }
      ]
    },
    {
      "cell_type": "code",
      "source": [
        "%%capture\n",
        "contents = []\n",
        "types = []\n",
        "labels = []\n",
        "sender = []\n",
        "\n",
        "i = 0\n",
        "\n",
        "for root, dirs, files in os.walk(\"/content/drive/MyDrive/SpamAssassinMessages/\"):\n",
        "    for name in files:\n",
        "        blob = open(os.path.join(root, name), 'rb').read()\n",
        "\n",
        "        # Determining the encoding of the email\n",
        "        result = chardet.detect(blob)\n",
        "        encoding_dynamic = result['encoding']\n",
        "\n",
        "        with open(os.path.join(root, name), 'rb') as f:\n",
        "            decoded_email = f.read().decode(encoding_dynamic, errors='replace')\n",
        "            \n",
        "            x = email.message_from_string(decoded_email)\n",
        "            print('normal', os.path.join(root, name))\n",
        "            i += 1\n",
        "\n",
        "            #adding in the sender's domain as a new column\n",
        "            sender_raw = x.get('From')\n",
        "            if sender_raw:\n",
        "                sender_domain = sender_raw.split('@')[-1]\n",
        "                if sender_domain:\n",
        "                    sender.append(sender_domain)\n",
        "                else:\n",
        "                    sender.append(\"missing\")\n",
        "            else:\n",
        "                sender.append(\"missing\")\n",
        "\n",
        "\n",
        "            if \"multipart\" in x.get_content_type():\n",
        "                content_parts = []\n",
        "                for part in x.walk():\n",
        "                    if part.get_content_type() == \"text/plain\":\n",
        "                        decoded_part = part.get_payload(decode=True).decode(encoding_dynamic, errors='replace')\n",
        "                        content_parts.append(decoded_part.replace(\"\\n\", \" \"))\n",
        "                    elif part.get_content_type() == \"text/html\":\n",
        "                        soup = BeautifulSoup(part.get_payload(decode=True).decode(encoding_dynamic, errors='replace'), 'html.parser')\n",
        "                        decoded_part = soup.get_text().replace(\"\\n\", \" \")\n",
        "                        content_parts.append(decoded_part)\n",
        "                content = \"\\n\".join(content_parts)\n",
        "                contents.append(content)\n",
        "                types.append(x.get_content_type())\n",
        "\n",
        "            elif \"text/plain\" in x.get_content_type():\n",
        "                decoded_content = x.get_payload(decode=True).decode(encoding_dynamic, errors='replace')\n",
        "                contents.append(decoded_content.replace(\"\\n\", \" \"))\n",
        "                types.append(x.get_content_type())\n",
        "\n",
        "            elif \"text/html\" in x.get_content_type():\n",
        "                soup = BeautifulSoup(x.get_payload(decode=True).decode(encoding_dynamic, errors='replace'), 'html.parser')\n",
        "                decoded_content = soup.get_text().replace(\"\\n\", \" \")\n",
        "                contents.append(decoded_content)\n",
        "                types.append(x.get_content_type())\n",
        "\n",
        "            if \"ham\" in root:\n",
        "                labels.append(0)\n",
        "            elif \"spam\" in root:\n",
        "                labels.append(1)\n",
        "            else:\n",
        "                print(\"YOU HAVE A BIG PROBLEM -- LABEL NOT FOUND\")\n"
      ],
      "metadata": {
        "id": "0OTw9EHz94DN"
      },
      "id": "0OTw9EHz94DN",
      "execution_count": 7,
      "outputs": []
    },
    {
      "cell_type": "code",
      "source": [
        "print('contents length: ', len(contents))\n",
        "print('types length: ', len(types))\n",
        "print('labels length: ', len(labels))\n",
        "print('file list length: ', len(file_list_full))\n",
        "print('sender length: ', len(sender))"
      ],
      "metadata": {
        "id": "aQT5bxdC4eca",
        "colab": {
          "base_uri": "https://localhost:8080/"
        },
        "outputId": "53b41219-0c7f-4e14-cd91-9d89262b1cbc"
      },
      "id": "aQT5bxdC4eca",
      "execution_count": 8,
      "outputs": [
        {
          "output_type": "stream",
          "name": "stdout",
          "text": [
            "contents length:  9353\n",
            "types length:  9353\n",
            "labels length:  9353\n",
            "file list length:  9353\n",
            "sender length:  9353\n"
          ]
        }
      ]
    },
    {
      "cell_type": "code",
      "source": [
        "# Encode the contents array to utf-8, before it gets added to pandas dataframe\n",
        "encoded_contents = [content.encode('utf-8', errors='replace') for content in contents]"
      ],
      "metadata": {
        "id": "-ethc5H8AiVG"
      },
      "id": "-ethc5H8AiVG",
      "execution_count": 9,
      "outputs": []
    },
    {
      "cell_type": "code",
      "source": [
        "data = pd.DataFrame({\"Text\":encoded_contents,\"Label\":labels, \"Type\":types, \"Filename\": file_list_full, \"Sender\": sender})\n",
        "data"
      ],
      "metadata": {
        "id": "H-r-QIpQLYWN",
        "outputId": "c100ba16-d348-4ca4-af10-bfc10b904170",
        "colab": {
          "base_uri": "https://localhost:8080/",
          "height": 424
        }
      },
      "id": "H-r-QIpQLYWN",
      "execution_count": 10,
      "outputs": [
        {
          "output_type": "execute_result",
          "data": {
            "text/plain": [
              "                                                   Text  Label  \\\n",
              "0     b' \"Kerry Nice\" said:  > What about some reali...      0   \n",
              "1     b\" This may be a little off topic but thought ...      0   \n",
              "2     b' \"Clark C . Evans\" said:  > Hello.  I\\'m hos...      0   \n",
              "3     b'This is not directly SpamAssassin related, b...      0   \n",
              "4     b'On Wed, Sep 11, 2002 at 01:46:19PM -0700, Da...      0   \n",
              "...                                                 ...    ...   \n",
              "9348  b\"  Tell Me Where to Send Your Health Card    ...      1   \n",
              "9349  b\" What does it mean to be made in the USA?  C...      1   \n",
              "9350  b'_/ _/ _/ _/ _/ _/ _/ _/ _/ _/ _/ _/ _/ _/ _/...      1   \n",
              "9351  b'mv 00001.7848dde101aa985090474a91ec93fcf0 00...      1   \n",
              "9352  b'    Click Here Now ! Simply Amateur Just lik...      1   \n",
              "\n",
              "                       Type  \\\n",
              "0                text/plain   \n",
              "1                text/plain   \n",
              "2                text/plain   \n",
              "3                text/plain   \n",
              "4                text/plain   \n",
              "...                     ...   \n",
              "9348              text/html   \n",
              "9349  multipart/alternative   \n",
              "9350             text/plain   \n",
              "9351             text/plain   \n",
              "9352              text/html   \n",
              "\n",
              "                                               Filename  \\\n",
              "0     /content/drive/MyDrive/SpamAssassinMessages/ea...   \n",
              "1     /content/drive/MyDrive/SpamAssassinMessages/ea...   \n",
              "2     /content/drive/MyDrive/SpamAssassinMessages/ea...   \n",
              "3     /content/drive/MyDrive/SpamAssassinMessages/ea...   \n",
              "4     /content/drive/MyDrive/SpamAssassinMessages/ea...   \n",
              "...                                                 ...   \n",
              "9348  /content/drive/MyDrive/SpamAssassinMessages/sp...   \n",
              "9349  /content/drive/MyDrive/SpamAssassinMessages/sp...   \n",
              "9350  /content/drive/MyDrive/SpamAssassinMessages/sp...   \n",
              "9351  /content/drive/MyDrive/SpamAssassinMessages/sp...   \n",
              "9352  /content/drive/MyDrive/SpamAssassinMessages/sp...   \n",
              "\n",
              "                          Sender  \n",
              "0     example.com (Justin Mason)  \n",
              "1                    b2unow.com>  \n",
              "2     example.com (Justin Mason)  \n",
              "3                     attbi.com>  \n",
              "4               ansf.alcatel.fr>  \n",
              "...                          ...  \n",
              "9348        sendgreatoffers.com>  \n",
              "9349                   insiq.us>  \n",
              "9350                    msn.com>  \n",
              "9351                     missing  \n",
              "9352        free4pornlovers.com>  \n",
              "\n",
              "[9353 rows x 5 columns]"
            ],
            "text/html": [
              "\n",
              "  <div id=\"df-512da9c2-3379-418a-b665-8bf83bafa9ac\">\n",
              "    <div class=\"colab-df-container\">\n",
              "      <div>\n",
              "<style scoped>\n",
              "    .dataframe tbody tr th:only-of-type {\n",
              "        vertical-align: middle;\n",
              "    }\n",
              "\n",
              "    .dataframe tbody tr th {\n",
              "        vertical-align: top;\n",
              "    }\n",
              "\n",
              "    .dataframe thead th {\n",
              "        text-align: right;\n",
              "    }\n",
              "</style>\n",
              "<table border=\"1\" class=\"dataframe\">\n",
              "  <thead>\n",
              "    <tr style=\"text-align: right;\">\n",
              "      <th></th>\n",
              "      <th>Text</th>\n",
              "      <th>Label</th>\n",
              "      <th>Type</th>\n",
              "      <th>Filename</th>\n",
              "      <th>Sender</th>\n",
              "    </tr>\n",
              "  </thead>\n",
              "  <tbody>\n",
              "    <tr>\n",
              "      <th>0</th>\n",
              "      <td>b' \"Kerry Nice\" said:  &gt; What about some reali...</td>\n",
              "      <td>0</td>\n",
              "      <td>text/plain</td>\n",
              "      <td>/content/drive/MyDrive/SpamAssassinMessages/ea...</td>\n",
              "      <td>example.com (Justin Mason)</td>\n",
              "    </tr>\n",
              "    <tr>\n",
              "      <th>1</th>\n",
              "      <td>b\" This may be a little off topic but thought ...</td>\n",
              "      <td>0</td>\n",
              "      <td>text/plain</td>\n",
              "      <td>/content/drive/MyDrive/SpamAssassinMessages/ea...</td>\n",
              "      <td>b2unow.com&gt;</td>\n",
              "    </tr>\n",
              "    <tr>\n",
              "      <th>2</th>\n",
              "      <td>b' \"Clark C . Evans\" said:  &gt; Hello.  I\\'m hos...</td>\n",
              "      <td>0</td>\n",
              "      <td>text/plain</td>\n",
              "      <td>/content/drive/MyDrive/SpamAssassinMessages/ea...</td>\n",
              "      <td>example.com (Justin Mason)</td>\n",
              "    </tr>\n",
              "    <tr>\n",
              "      <th>3</th>\n",
              "      <td>b'This is not directly SpamAssassin related, b...</td>\n",
              "      <td>0</td>\n",
              "      <td>text/plain</td>\n",
              "      <td>/content/drive/MyDrive/SpamAssassinMessages/ea...</td>\n",
              "      <td>attbi.com&gt;</td>\n",
              "    </tr>\n",
              "    <tr>\n",
              "      <th>4</th>\n",
              "      <td>b'On Wed, Sep 11, 2002 at 01:46:19PM -0700, Da...</td>\n",
              "      <td>0</td>\n",
              "      <td>text/plain</td>\n",
              "      <td>/content/drive/MyDrive/SpamAssassinMessages/ea...</td>\n",
              "      <td>ansf.alcatel.fr&gt;</td>\n",
              "    </tr>\n",
              "    <tr>\n",
              "      <th>...</th>\n",
              "      <td>...</td>\n",
              "      <td>...</td>\n",
              "      <td>...</td>\n",
              "      <td>...</td>\n",
              "      <td>...</td>\n",
              "    </tr>\n",
              "    <tr>\n",
              "      <th>9348</th>\n",
              "      <td>b\"  Tell Me Where to Send Your Health Card    ...</td>\n",
              "      <td>1</td>\n",
              "      <td>text/html</td>\n",
              "      <td>/content/drive/MyDrive/SpamAssassinMessages/sp...</td>\n",
              "      <td>sendgreatoffers.com&gt;</td>\n",
              "    </tr>\n",
              "    <tr>\n",
              "      <th>9349</th>\n",
              "      <td>b\" What does it mean to be made in the USA?  C...</td>\n",
              "      <td>1</td>\n",
              "      <td>multipart/alternative</td>\n",
              "      <td>/content/drive/MyDrive/SpamAssassinMessages/sp...</td>\n",
              "      <td>insiq.us&gt;</td>\n",
              "    </tr>\n",
              "    <tr>\n",
              "      <th>9350</th>\n",
              "      <td>b'_/ _/ _/ _/ _/ _/ _/ _/ _/ _/ _/ _/ _/ _/ _/...</td>\n",
              "      <td>1</td>\n",
              "      <td>text/plain</td>\n",
              "      <td>/content/drive/MyDrive/SpamAssassinMessages/sp...</td>\n",
              "      <td>msn.com&gt;</td>\n",
              "    </tr>\n",
              "    <tr>\n",
              "      <th>9351</th>\n",
              "      <td>b'mv 00001.7848dde101aa985090474a91ec93fcf0 00...</td>\n",
              "      <td>1</td>\n",
              "      <td>text/plain</td>\n",
              "      <td>/content/drive/MyDrive/SpamAssassinMessages/sp...</td>\n",
              "      <td>missing</td>\n",
              "    </tr>\n",
              "    <tr>\n",
              "      <th>9352</th>\n",
              "      <td>b'    Click Here Now ! Simply Amateur Just lik...</td>\n",
              "      <td>1</td>\n",
              "      <td>text/html</td>\n",
              "      <td>/content/drive/MyDrive/SpamAssassinMessages/sp...</td>\n",
              "      <td>free4pornlovers.com&gt;</td>\n",
              "    </tr>\n",
              "  </tbody>\n",
              "</table>\n",
              "<p>9353 rows × 5 columns</p>\n",
              "</div>\n",
              "      <button class=\"colab-df-convert\" onclick=\"convertToInteractive('df-512da9c2-3379-418a-b665-8bf83bafa9ac')\"\n",
              "              title=\"Convert this dataframe to an interactive table.\"\n",
              "              style=\"display:none;\">\n",
              "        \n",
              "  <svg xmlns=\"http://www.w3.org/2000/svg\" height=\"24px\"viewBox=\"0 0 24 24\"\n",
              "       width=\"24px\">\n",
              "    <path d=\"M0 0h24v24H0V0z\" fill=\"none\"/>\n",
              "    <path d=\"M18.56 5.44l.94 2.06.94-2.06 2.06-.94-2.06-.94-.94-2.06-.94 2.06-2.06.94zm-11 1L8.5 8.5l.94-2.06 2.06-.94-2.06-.94L8.5 2.5l-.94 2.06-2.06.94zm10 10l.94 2.06.94-2.06 2.06-.94-2.06-.94-.94-2.06-.94 2.06-2.06.94z\"/><path d=\"M17.41 7.96l-1.37-1.37c-.4-.4-.92-.59-1.43-.59-.52 0-1.04.2-1.43.59L10.3 9.45l-7.72 7.72c-.78.78-.78 2.05 0 2.83L4 21.41c.39.39.9.59 1.41.59.51 0 1.02-.2 1.41-.59l7.78-7.78 2.81-2.81c.8-.78.8-2.07 0-2.86zM5.41 20L4 18.59l7.72-7.72 1.47 1.35L5.41 20z\"/>\n",
              "  </svg>\n",
              "      </button>\n",
              "      \n",
              "  <style>\n",
              "    .colab-df-container {\n",
              "      display:flex;\n",
              "      flex-wrap:wrap;\n",
              "      gap: 12px;\n",
              "    }\n",
              "\n",
              "    .colab-df-convert {\n",
              "      background-color: #E8F0FE;\n",
              "      border: none;\n",
              "      border-radius: 50%;\n",
              "      cursor: pointer;\n",
              "      display: none;\n",
              "      fill: #1967D2;\n",
              "      height: 32px;\n",
              "      padding: 0 0 0 0;\n",
              "      width: 32px;\n",
              "    }\n",
              "\n",
              "    .colab-df-convert:hover {\n",
              "      background-color: #E2EBFA;\n",
              "      box-shadow: 0px 1px 2px rgba(60, 64, 67, 0.3), 0px 1px 3px 1px rgba(60, 64, 67, 0.15);\n",
              "      fill: #174EA6;\n",
              "    }\n",
              "\n",
              "    [theme=dark] .colab-df-convert {\n",
              "      background-color: #3B4455;\n",
              "      fill: #D2E3FC;\n",
              "    }\n",
              "\n",
              "    [theme=dark] .colab-df-convert:hover {\n",
              "      background-color: #434B5C;\n",
              "      box-shadow: 0px 1px 3px 1px rgba(0, 0, 0, 0.15);\n",
              "      filter: drop-shadow(0px 1px 2px rgba(0, 0, 0, 0.3));\n",
              "      fill: #FFFFFF;\n",
              "    }\n",
              "  </style>\n",
              "\n",
              "      <script>\n",
              "        const buttonEl =\n",
              "          document.querySelector('#df-512da9c2-3379-418a-b665-8bf83bafa9ac button.colab-df-convert');\n",
              "        buttonEl.style.display =\n",
              "          google.colab.kernel.accessAllowed ? 'block' : 'none';\n",
              "\n",
              "        async function convertToInteractive(key) {\n",
              "          const element = document.querySelector('#df-512da9c2-3379-418a-b665-8bf83bafa9ac');\n",
              "          const dataTable =\n",
              "            await google.colab.kernel.invokeFunction('convertToInteractive',\n",
              "                                                     [key], {});\n",
              "          if (!dataTable) return;\n",
              "\n",
              "          const docLinkHtml = 'Like what you see? Visit the ' +\n",
              "            '<a target=\"_blank\" href=https://colab.research.google.com/notebooks/data_table.ipynb>data table notebook</a>'\n",
              "            + ' to learn more about interactive tables.';\n",
              "          element.innerHTML = '';\n",
              "          dataTable['output_type'] = 'display_data';\n",
              "          await google.colab.output.renderOutput(dataTable, element);\n",
              "          const docLink = document.createElement('div');\n",
              "          docLink.innerHTML = docLinkHtml;\n",
              "          element.appendChild(docLink);\n",
              "        }\n",
              "      </script>\n",
              "    </div>\n",
              "  </div>\n",
              "  "
            ]
          },
          "metadata": {},
          "execution_count": 10
        }
      ]
    },
    {
      "cell_type": "code",
      "source": [
        "data.info()"
      ],
      "metadata": {
        "colab": {
          "base_uri": "https://localhost:8080/"
        },
        "id": "c8RlomWm3Dw0",
        "outputId": "dbb1017f-13c0-444d-f46e-495361f8fad1"
      },
      "id": "c8RlomWm3Dw0",
      "execution_count": 11,
      "outputs": [
        {
          "output_type": "stream",
          "name": "stdout",
          "text": [
            "<class 'pandas.core.frame.DataFrame'>\n",
            "RangeIndex: 9353 entries, 0 to 9352\n",
            "Data columns (total 5 columns):\n",
            " #   Column    Non-Null Count  Dtype \n",
            "---  ------    --------------  ----- \n",
            " 0   Text      9353 non-null   object\n",
            " 1   Label     9353 non-null   int64 \n",
            " 2   Type      9353 non-null   object\n",
            " 3   Filename  9353 non-null   object\n",
            " 4   Sender    9353 non-null   object\n",
            "dtypes: int64(1), object(4)\n",
            "memory usage: 365.5+ KB\n"
          ]
        }
      ]
    },
    {
      "cell_type": "code",
      "source": [
        "data['Text'] = data['Text'].astype('|S') # which will by default set the length to the max len it encounters\n",
        "data.info()"
      ],
      "metadata": {
        "colab": {
          "base_uri": "https://localhost:8080/"
        },
        "id": "lFV4h24o5fEN",
        "outputId": "759b665b-8722-436c-868e-172d090f5a27"
      },
      "id": "lFV4h24o5fEN",
      "execution_count": 12,
      "outputs": [
        {
          "output_type": "stream",
          "name": "stdout",
          "text": [
            "<class 'pandas.core.frame.DataFrame'>\n",
            "RangeIndex: 9353 entries, 0 to 9352\n",
            "Data columns (total 5 columns):\n",
            " #   Column    Non-Null Count  Dtype   \n",
            "---  ------    --------------  -----   \n",
            " 0   Text      9353 non-null   |S202500\n",
            " 1   Label     9353 non-null   int64   \n",
            " 2   Type      9353 non-null   object  \n",
            " 3   Filename  9353 non-null   object  \n",
            " 4   Sender    9353 non-null   object  \n",
            "dtypes: bytes1620000(1), int64(1), object(3)\n",
            "memory usage: 1.8+ GB\n"
          ]
        }
      ]
    },
    {
      "cell_type": "code",
      "source": [
        "counts = data['Label'].replace(to_replace = [0,1],value = ['Ham','Spam']).value_counts().plot(kind = 'bar',title = \"Email Type Counts\",ylabel = \"Count\")\n"
      ],
      "metadata": {
        "id": "FqZpFTJfs_Po",
        "colab": {
          "base_uri": "https://localhost:8080/",
          "height": 478
        },
        "outputId": "ee584844-065c-490c-8be3-7a6ca57d0cac"
      },
      "id": "FqZpFTJfs_Po",
      "execution_count": 13,
      "outputs": [
        {
          "output_type": "display_data",
          "data": {
            "text/plain": [
              "<Figure size 640x480 with 1 Axes>"
            ],
            "image/png": "[encoded data removed]"
          },
          "metadata": {}
        }
      ]
    },
    {
      "cell_type": "code",
      "source": [
        "special_chr = ['br','subject','spamassassin']\n",
        "stop = list(stopwords.words('english')) + special_chr\n",
        "\n",
        "# MultiNB\n",
        "X = data['Text']\n",
        "y = data['Label'].values\n",
        "\n",
        "skf = StratifiedKFold(n_splits=10,random_state=610,shuffle=True)\n",
        "skf.get_n_splits(X,y)\n",
        "\n",
        "#need to vectorize within pipeline to prevent data leakage (otherwise tfidf would be fitted over all the data)\n",
        "my_pipe = Pipeline([\n",
        "    ('vectorizer',TfidfVectorizer(token_pattern=r\"(?u)\\b\\w+\\b\", stop_words=stop, ngram_range=(2,2), analyzer='word')),\n",
        "    ('estimator',MultinomialNB())\n",
        "])\n",
        "pipe_params = {\n",
        "    'estimator__alpha':[.01,.05,.1]\n",
        "}\n",
        "\n",
        "grid = GridSearchCV(my_pipe,pipe_params,cv=skf,scoring='accuracy',n_jobs=-1)\n",
        "results = grid.fit(X,y)\n",
        "print(results.best_estimator_)\n",
        "print(results.best_score_)"
      ],
      "metadata": {
        "id": "hZ5uOZg-FUtw",
        "colab": {
          "base_uri": "https://localhost:8080/"
        },
        "outputId": "dd8d3f21-086b-4e8a-958a-4ca70ff775a7"
      },
      "id": "hZ5uOZg-FUtw",
      "execution_count": 14,
      "outputs": [
        {
          "output_type": "stream",
          "name": "stdout",
          "text": [
            "Pipeline(steps=[('vectorizer',\n",
            "                 TfidfVectorizer(ngram_range=(2, 2),\n",
            "                                 stop_words=['i', 'me', 'my', 'myself', 'we',\n",
            "                                             'our', 'ours', 'ourselves', 'you',\n",
            "                                             \"you're\", \"you've\", \"you'll\",\n",
            "                                             \"you'd\", 'your', 'yours',\n",
            "                                             'yourself', 'yourselves', 'he',\n",
            "                                             'him', 'his', 'himself', 'she',\n",
            "                                             \"she's\", 'her', 'hers', 'herself',\n",
            "                                             'it', \"it's\", 'its', 'itself', ...],\n",
            "                                 token_pattern='(?u)\\\\b\\\\w+\\\\b')),\n",
            "                ('estimator', MultinomialNB(alpha=0.01))])\n",
            "0.9921947986653871\n"
          ]
        }
      ]
    },
    {
      "cell_type": "code",
      "source": [
        "results_df=pd.DataFrame(results.cv_results_)\n",
        "results_df"
      ],
      "metadata": {
        "colab": {
          "base_uri": "https://localhost:8080/",
          "height": 260
        },
        "id": "IX1sleeFvTL2",
        "outputId": "dbbcba17-cf03-4fcc-cc83-93d916514c5e"
      },
      "id": "IX1sleeFvTL2",
      "execution_count": 15,
      "outputs": [
        {
          "output_type": "execute_result",
          "data": {
            "text/plain": [
              "   mean_fit_time  std_fit_time  mean_score_time  std_score_time  \\\n",
              "0      13.114884      1.181471         0.997332        0.148264   \n",
              "1      12.152415      0.516994         0.998375        0.159187   \n",
              "2      12.246654      1.739952         0.826179        0.112911   \n",
              "\n",
              "  param_estimator__alpha                      params  split0_test_score  \\\n",
              "0                   0.01  {'estimator__alpha': 0.01}           0.994658   \n",
              "1                   0.05  {'estimator__alpha': 0.05}           0.989316   \n",
              "2                    0.1   {'estimator__alpha': 0.1}           0.988248   \n",
              "\n",
              "   split1_test_score  split2_test_score  split3_test_score  split4_test_score  \\\n",
              "0           0.994658           0.989316           0.993583           0.986096   \n",
              "1           0.993590           0.986111           0.989305           0.988235   \n",
              "2           0.987179           0.985043           0.986096           0.983957   \n",
              "\n",
              "   split5_test_score  split6_test_score  split7_test_score  split8_test_score  \\\n",
              "0           0.990374           0.993583           0.992513           0.991444   \n",
              "1           0.989305           0.987166           0.989305           0.990374   \n",
              "2           0.985027           0.982888           0.989305           0.986096   \n",
              "\n",
              "   split9_test_score  mean_test_score  std_test_score  rank_test_score  \n",
              "0           0.995722         0.992195        0.002791                1  \n",
              "1           0.993583         0.989629        0.002295                2  \n",
              "2           0.990374         0.986421        0.002246                3  "
            ],
            "text/html": [
              "\n",
              "  <div id=\"df-3d7469d5-6437-428a-99e5-5da845fab5e2\">\n",
              "    <div class=\"colab-df-container\">\n",
              "      <div>\n",
              "<style scoped>\n",
              "    .dataframe tbody tr th:only-of-type {\n",
              "        vertical-align: middle;\n",
              "    }\n",
              "\n",
              "    .dataframe tbody tr th {\n",
              "        vertical-align: top;\n",
              "    }\n",
              "\n",
              "    .dataframe thead th {\n",
              "        text-align: right;\n",
              "    }\n",
              "</style>\n",
              "<table border=\"1\" class=\"dataframe\">\n",
              "  <thead>\n",
              "    <tr style=\"text-align: right;\">\n",
              "      <th></th>\n",
              "      <th>mean_fit_time</th>\n",
              "      <th>std_fit_time</th>\n",
              "      <th>mean_score_time</th>\n",
              "      <th>std_score_time</th>\n",
              "      <th>param_estimator__alpha</th>\n",
              "      <th>params</th>\n",
              "      <th>split0_test_score</th>\n",
              "      <th>split1_test_score</th>\n",
              "      <th>split2_test_score</th>\n",
              "      <th>split3_test_score</th>\n",
              "      <th>split4_test_score</th>\n",
              "      <th>split5_test_score</th>\n",
              "      <th>split6_test_score</th>\n",
              "      <th>split7_test_score</th>\n",
              "      <th>split8_test_score</th>\n",
              "      <th>split9_test_score</th>\n",
              "      <th>mean_test_score</th>\n",
              "      <th>std_test_score</th>\n",
              "      <th>rank_test_score</th>\n",
              "    </tr>\n",
              "  </thead>\n",
              "  <tbody>\n",
              "    <tr>\n",
              "      <th>0</th>\n",
              "      <td>13.114884</td>\n",
              "      <td>1.181471</td>\n",
              "      <td>0.997332</td>\n",
              "      <td>0.148264</td>\n",
              "      <td>0.01</td>\n",
              "      <td>{'estimator__alpha': 0.01}</td>\n",
              "      <td>0.994658</td>\n",
              "      <td>0.994658</td>\n",
              "      <td>0.989316</td>\n",
              "      <td>0.993583</td>\n",
              "      <td>0.986096</td>\n",
              "      <td>0.990374</td>\n",
              "      <td>0.993583</td>\n",
              "      <td>0.992513</td>\n",
              "      <td>0.991444</td>\n",
              "      <td>0.995722</td>\n",
              "      <td>0.992195</td>\n",
              "      <td>0.002791</td>\n",
              "      <td>1</td>\n",
              "    </tr>\n",
              "    <tr>\n",
              "      <th>1</th>\n",
              "      <td>12.152415</td>\n",
              "      <td>0.516994</td>\n",
              "      <td>0.998375</td>\n",
              "      <td>0.159187</td>\n",
              "      <td>0.05</td>\n",
              "      <td>{'estimator__alpha': 0.05}</td>\n",
              "      <td>0.989316</td>\n",
              "      <td>0.993590</td>\n",
              "      <td>0.986111</td>\n",
              "      <td>0.989305</td>\n",
              "      <td>0.988235</td>\n",
              "      <td>0.989305</td>\n",
              "      <td>0.987166</td>\n",
              "      <td>0.989305</td>\n",
              "      <td>0.990374</td>\n",
              "      <td>0.993583</td>\n",
              "      <td>0.989629</td>\n",
              "      <td>0.002295</td>\n",
              "      <td>2</td>\n",
              "    </tr>\n",
              "    <tr>\n",
              "      <th>2</th>\n",
              "      <td>12.246654</td>\n",
              "      <td>1.739952</td>\n",
              "      <td>0.826179</td>\n",
              "      <td>0.112911</td>\n",
              "      <td>0.1</td>\n",
              "      <td>{'estimator__alpha': 0.1}</td>\n",
              "      <td>0.988248</td>\n",
              "      <td>0.987179</td>\n",
              "      <td>0.985043</td>\n",
              "      <td>0.986096</td>\n",
              "      <td>0.983957</td>\n",
              "      <td>0.985027</td>\n",
              "      <td>0.982888</td>\n",
              "      <td>0.989305</td>\n",
              "      <td>0.986096</td>\n",
              "      <td>0.990374</td>\n",
              "      <td>0.986421</td>\n",
              "      <td>0.002246</td>\n",
              "      <td>3</td>\n",
              "    </tr>\n",
              "  </tbody>\n",
              "</table>\n",
              "</div>\n",
              "      <button class=\"colab-df-convert\" onclick=\"convertToInteractive('df-3d7469d5-6437-428a-99e5-5da845fab5e2')\"\n",
              "              title=\"Convert this dataframe to an interactive table.\"\n",
              "              style=\"display:none;\">\n",
              "        \n",
              "  <svg xmlns=\"http://www.w3.org/2000/svg\" height=\"24px\"viewBox=\"0 0 24 24\"\n",
              "       width=\"24px\">\n",
              "    <path d=\"M0 0h24v24H0V0z\" fill=\"none\"/>\n",
              "    <path d=\"M18.56 5.44l.94 2.06.94-2.06 2.06-.94-2.06-.94-.94-2.06-.94 2.06-2.06.94zm-11 1L8.5 8.5l.94-2.06 2.06-.94-2.06-.94L8.5 2.5l-.94 2.06-2.06.94zm10 10l.94 2.06.94-2.06 2.06-.94-2.06-.94-.94-2.06-.94 2.06-2.06.94z\"/><path d=\"M17.41 7.96l-1.37-1.37c-.4-.4-.92-.59-1.43-.59-.52 0-1.04.2-1.43.59L10.3 9.45l-7.72 7.72c-.78.78-.78 2.05 0 2.83L4 21.41c.39.39.9.59 1.41.59.51 0 1.02-.2 1.41-.59l7.78-7.78 2.81-2.81c.8-.78.8-2.07 0-2.86zM5.41 20L4 18.59l7.72-7.72 1.47 1.35L5.41 20z\"/>\n",
              "  </svg>\n",
              "      </button>\n",
              "      \n",
              "  <style>\n",
              "    .colab-df-container {\n",
              "      display:flex;\n",
              "      flex-wrap:wrap;\n",
              "      gap: 12px;\n",
              "    }\n",
              "\n",
              "    .colab-df-convert {\n",
              "      background-color: #E8F0FE;\n",
              "      border: none;\n",
              "      border-radius: 50%;\n",
              "      cursor: pointer;\n",
              "      display: none;\n",
              "      fill: #1967D2;\n",
              "      height: 32px;\n",
              "      padding: 0 0 0 0;\n",
              "      width: 32px;\n",
              "    }\n",
              "\n",
              "    .colab-df-convert:hover {\n",
              "      background-color: #E2EBFA;\n",
              "      box-shadow: 0px 1px 2px rgba(60, 64, 67, 0.3), 0px 1px 3px 1px rgba(60, 64, 67, 0.15);\n",
              "      fill: #174EA6;\n",
              "    }\n",
              "\n",
              "    [theme=dark] .colab-df-convert {\n",
              "      background-color: #3B4455;\n",
              "      fill: #D2E3FC;\n",
              "    }\n",
              "\n",
              "    [theme=dark] .colab-df-convert:hover {\n",
              "      background-color: #434B5C;\n",
              "      box-shadow: 0px 1px 3px 1px rgba(0, 0, 0, 0.15);\n",
              "      filter: drop-shadow(0px 1px 2px rgba(0, 0, 0, 0.3));\n",
              "      fill: #FFFFFF;\n",
              "    }\n",
              "  </style>\n",
              "\n",
              "      <script>\n",
              "        const buttonEl =\n",
              "          document.querySelector('#df-3d7469d5-6437-428a-99e5-5da845fab5e2 button.colab-df-convert');\n",
              "        buttonEl.style.display =\n",
              "          google.colab.kernel.accessAllowed ? 'block' : 'none';\n",
              "\n",
              "        async function convertToInteractive(key) {\n",
              "          const element = document.querySelector('#df-3d7469d5-6437-428a-99e5-5da845fab5e2');\n",
              "          const dataTable =\n",
              "            await google.colab.kernel.invokeFunction('convertToInteractive',\n",
              "                                                     [key], {});\n",
              "          if (!dataTable) return;\n",
              "\n",
              "          const docLinkHtml = 'Like what you see? Visit the ' +\n",
              "            '<a target=\"_blank\" href=https://colab.research.google.com/notebooks/data_table.ipynb>data table notebook</a>'\n",
              "            + ' to learn more about interactive tables.';\n",
              "          element.innerHTML = '';\n",
              "          dataTable['output_type'] = 'display_data';\n",
              "          await google.colab.output.renderOutput(dataTable, element);\n",
              "          const docLink = document.createElement('div');\n",
              "          docLink.innerHTML = docLinkHtml;\n",
              "          element.appendChild(docLink);\n",
              "        }\n",
              "      </script>\n",
              "    </div>\n",
              "  </div>\n",
              "  "
            ]
          },
          "metadata": {},
          "execution_count": 15
        }
      ]
    },
    {
      "cell_type": "code",
      "source": [
        "\n",
        "skf = StratifiedKFold(n_splits=10,random_state=610,shuffle=True)\n",
        "skf.get_n_splits(X,y)\n",
        "\n",
        "#need to vectorize within pipeline to prevent data leakage (otherwise tfidf would be fitted over all the data)\n",
        "my_pipe = Pipeline([\n",
        "    ('vectorizer',TfidfVectorizer(token_pattern=r\"(?u)\\b\\w+\\b\", stop_words=stop, ngram_range=(2,2), analyzer='word')),\n",
        "    ('estimator',MultinomialNB())\n",
        "])\n",
        "pipe_params = {\n",
        "    'estimator__alpha':[.01,.05,.1]\n",
        "}\n",
        "\n",
        "grid = GridSearchCV(my_pipe,pipe_params,cv=skf,scoring='recall',n_jobs=-1)\n",
        "results = grid.fit(X,y)\n",
        "print(results.best_estimator_)\n",
        "print(results.best_score_)"
      ],
      "metadata": {
        "colab": {
          "base_uri": "https://localhost:8080/"
        },
        "id": "6ez4ySpM9g10",
        "outputId": "35601f04-a535-4e87-e299-3a39bd6ae0da"
      },
      "id": "6ez4ySpM9g10",
      "execution_count": 16,
      "outputs": [
        {
          "output_type": "stream",
          "name": "stdout",
          "text": [
            "Pipeline(steps=[('vectorizer',\n",
            "                 TfidfVectorizer(ngram_range=(2, 2),\n",
            "                                 stop_words=['i', 'me', 'my', 'myself', 'we',\n",
            "                                             'our', 'ours', 'ourselves', 'you',\n",
            "                                             \"you're\", \"you've\", \"you'll\",\n",
            "                                             \"you'd\", 'your', 'yours',\n",
            "                                             'yourself', 'yourselves', 'he',\n",
            "                                             'him', 'his', 'himself', 'she',\n",
            "                                             \"she's\", 'her', 'hers', 'herself',\n",
            "                                             'it', \"it's\", 'its', 'itself', ...],\n",
            "                                 token_pattern='(?u)\\\\b\\\\w+\\\\b')),\n",
            "                ('estimator', MultinomialNB(alpha=0.01))])\n",
            "0.9783246164574615\n"
          ]
        }
      ]
    },
    {
      "cell_type": "code",
      "source": [
        "#running model on messages\n",
        "X = data['Text']\n",
        "y = data['Label'].values\n",
        "\n",
        "# MultiNB with best params\n",
        "my_pipe = Pipeline([\n",
        "    ('vectorizer',TfidfVectorizer(token_pattern=r\"(?u)\\b\\w+\\b\", stop_words=stop, ngram_range=(2,2), analyzer='word')),\n",
        "    ('estimator',MultinomialNB(alpha=.01))\n",
        "])\n",
        "acc_score = []\n",
        "rec_score = []\n",
        "feature_names = []\n",
        "\n",
        "for i, (train,test) in enumerate(skf.split(X,y)):\n",
        "    my_pipe.fit(X[train],y[train])\n",
        "    p = my_pipe.predict(X[test])\n",
        "    acc_score.append(accuracy_score(y[test],p))\n",
        "    rec_score.append(recall_score(y[test],p))\n",
        "    print(classification_report(y[test],p))\n",
        "\n",
        "    #feature importance by word\n",
        "    feature_log_probs = my_pipe.named_steps['estimator'].feature_log_prob_\n",
        "    feature_names = my_pipe.named_steps['vectorizer'].get_feature_names_out()\n",
        "\n",
        "\n",
        "# Convert feature log probabilities to probabilities\n",
        "feature_probs = np.exp(feature_log_probs)\n",
        "\n",
        "# Create a DataFrame to store feature importance\n",
        "feature_probability = pd.DataFrame({'Feature': feature_names,\n",
        "                                   'Probability': feature_probs[1]})\n",
        "\n",
        "# Sort feature importance by importance score\n",
        "feature_probability = feature_probability.sort_values(by='Probability', ascending=False)\n",
        "\n",
        "\n",
        "# saving scores for comparison    \n",
        "mNB_scores = pd.DataFrame({'accuracy':acc_score,\n",
        "                           'recall':rec_score})\n"
      ],
      "metadata": {
        "colab": {
          "base_uri": "https://localhost:8080/"
        },
        "id": "IImrlqolcLbk",
        "outputId": "863c90b5-71f1-4b8b-90fa-ed238a070a3d"
      },
      "id": "IImrlqolcLbk",
      "execution_count": 17,
      "outputs": [
        {
          "output_type": "stream",
          "name": "stdout",
          "text": [
            "              precision    recall  f1-score   support\n",
            "\n",
            "           0       1.00      1.00      1.00       696\n",
            "           1       0.99      0.99      0.99       240\n",
            "\n",
            "    accuracy                           0.99       936\n",
            "   macro avg       0.99      0.99      0.99       936\n",
            "weighted avg       0.99      0.99      0.99       936\n",
            "\n",
            "              precision    recall  f1-score   support\n",
            "\n",
            "           0       1.00      1.00      1.00       696\n",
            "           1       0.99      0.99      0.99       240\n",
            "\n",
            "    accuracy                           0.99       936\n",
            "   macro avg       0.99      0.99      0.99       936\n",
            "weighted avg       0.99      0.99      0.99       936\n",
            "\n",
            "              precision    recall  f1-score   support\n",
            "\n",
            "           0       0.99      1.00      0.99       696\n",
            "           1       0.99      0.97      0.98       240\n",
            "\n",
            "    accuracy                           0.99       936\n",
            "   macro avg       0.99      0.98      0.99       936\n",
            "weighted avg       0.99      0.99      0.99       936\n",
            "\n",
            "              precision    recall  f1-score   support\n",
            "\n",
            "           0       0.99      1.00      1.00       696\n",
            "           1       1.00      0.98      0.99       239\n",
            "\n",
            "    accuracy                           0.99       935\n",
            "   macro avg       0.99      0.99      0.99       935\n",
            "weighted avg       0.99      0.99      0.99       935\n",
            "\n",
            "              precision    recall  f1-score   support\n",
            "\n",
            "           0       0.99      0.99      0.99       695\n",
            "           1       0.98      0.96      0.97       240\n",
            "\n",
            "    accuracy                           0.99       935\n",
            "   macro avg       0.99      0.98      0.98       935\n",
            "weighted avg       0.99      0.99      0.99       935\n",
            "\n",
            "              precision    recall  f1-score   support\n",
            "\n",
            "           0       0.99      1.00      0.99       695\n",
            "           1       0.99      0.97      0.98       240\n",
            "\n",
            "    accuracy                           0.99       935\n",
            "   macro avg       0.99      0.98      0.99       935\n",
            "weighted avg       0.99      0.99      0.99       935\n",
            "\n",
            "              precision    recall  f1-score   support\n",
            "\n",
            "           0       0.99      1.00      1.00       695\n",
            "           1       1.00      0.98      0.99       240\n",
            "\n",
            "    accuracy                           0.99       935\n",
            "   macro avg       0.99      0.99      0.99       935\n",
            "weighted avg       0.99      0.99      0.99       935\n",
            "\n",
            "              precision    recall  f1-score   support\n",
            "\n",
            "           0       0.99      1.00      0.99       695\n",
            "           1       0.99      0.98      0.99       240\n",
            "\n",
            "    accuracy                           0.99       935\n",
            "   macro avg       0.99      0.99      0.99       935\n",
            "weighted avg       0.99      0.99      0.99       935\n",
            "\n",
            "              precision    recall  f1-score   support\n",
            "\n",
            "           0       0.99      1.00      0.99       695\n",
            "           1       0.99      0.98      0.98       240\n",
            "\n",
            "    accuracy                           0.99       935\n",
            "   macro avg       0.99      0.99      0.99       935\n",
            "weighted avg       0.99      0.99      0.99       935\n",
            "\n",
            "              precision    recall  f1-score   support\n",
            "\n",
            "           0       0.99      1.00      1.00       695\n",
            "           1       1.00      0.98      0.99       240\n",
            "\n",
            "    accuracy                           1.00       935\n",
            "   macro avg       1.00      0.99      0.99       935\n",
            "weighted avg       1.00      1.00      1.00       935\n",
            "\n"
          ]
        }
      ]
    },
    {
      "cell_type": "code",
      "source": [
        "idx = feature_probability['Probability'].sort_values(ascending = False).head(20).index\n",
        "feature_probability2 = feature_probability.loc[idx]\n",
        "\n",
        "plt.style.use('ggplot')\n",
        "plt.figure(figsize = (15,8))\n",
        "sns.barplot(x='Probability',y='Feature',data=feature_probability2).set(title='Top Email keywords by Probability for Multinomial Naive Bayes')"
      ],
      "metadata": {
        "colab": {
          "base_uri": "https://localhost:8080/",
          "height": 740
        },
        "id": "ZymPRee6cCqB",
        "outputId": "26aaf78c-8cb8-4712-866d-eda78d21382a"
      },
      "id": "ZymPRee6cCqB",
      "execution_count": 20,
      "outputs": [
        {
          "output_type": "execute_result",
          "data": {
            "text/plain": [
              "[Text(0.5, 1.0, 'Top Email keywords by Probability for Multinomial Naive Bayes')]"
            ]
          },
          "metadata": {},
          "execution_count": 20
        },
        {
          "output_type": "display_data",
          "data": {
            "text/plain": [
              "<Figure size 1500x800 with 1 Axes>"
            ],
            "image/png": "[encoded data removed]"
          },
          "metadata": {}
        }
      ]
    },
    {
      "cell_type": "code",
      "source": [
        "plt.rcParams[\"figure.figsize\"] = (7,7)\n",
        "ConfusionMatrixDisplay.from_predictions(y[test],my_pipe.predict(X[test]),cmap='Blues')\n",
        "plt.title(\"Confusion Matrix Multinomial NB for Email Text\")\n",
        "plt.grid(False)\n",
        "plt.show()"
      ],
      "metadata": {
        "id": "XKEmXiEzAl-K",
        "outputId": "3eba909e-5128-4f15-a250-07f7af0397b2",
        "colab": {
          "base_uri": "https://localhost:8080/",
          "height": 584
        }
      },
      "id": "XKEmXiEzAl-K",
      "execution_count": 21,
      "outputs": [
        {
          "output_type": "display_data",
          "data": {
            "text/plain": [
              "<Figure size 700x700 with 2 Axes>"
            ],
            "image/png": "[encoded data removed]"
          },
          "metadata": {}
        }
      ]
    },
    {
      "cell_type": "code",
      "source": [
        "#rerunning model on Sender Domain\n",
        "X_s = data['Sender']\n",
        "y = data['Label'].values\n",
        "\n",
        "# MultiNB with best params\n",
        "my_pipe = Pipeline([\n",
        "    ('vectorizer',TfidfVectorizer(token_pattern=r\"(?u)\\b\\w+\\b\", stop_words=stop, ngram_range=(2,2), analyzer='word')),\n",
        "    ('estimator',MultinomialNB(alpha=results.best_params_.get('estimator__alpha')))\n",
        "])\n",
        "acc_score = []\n",
        "rec_score = []\n",
        "feature_names = []\n",
        "\n",
        "for i, (train,test) in enumerate(skf.split(X_s,y)):\n",
        "    my_pipe.fit(X_s[train],y[train])\n",
        "    p = my_pipe.predict(X_s[test])\n",
        "    acc_score.append(accuracy_score(y[test],p))\n",
        "    rec_score.append(recall_score(y[test],p))\n",
        "    print(classification_report(y[test],p))\n",
        "\n",
        "    #feature importance by word\n",
        "    feature_log_probs = my_pipe.named_steps['estimator'].feature_log_prob_\n",
        "    feature_names = my_pipe.named_steps['vectorizer'].get_feature_names_out()\n",
        "\n",
        "\n",
        "# Convert feature log probabilities to probabilities\n",
        "feature_probs = np.exp(feature_log_probs)\n",
        "\n",
        "# Create a DataFrame to store feature importance\n",
        "feature_probability = pd.DataFrame({'Feature': feature_names,\n",
        "                                   'Probability': feature_probs[1]})\n",
        "\n",
        "# Sort feature importance by importance score\n",
        "feature_probability = feature_probability.sort_values(by='Probability', ascending=False)\n",
        "\n",
        "\n",
        "# saving scores for comparison    \n",
        "mNB_scores2 = pd.DataFrame({'accuracy':acc_score,\n",
        "                           'recall':rec_score})\n"
      ],
      "metadata": {
        "colab": {
          "base_uri": "https://localhost:8080/"
        },
        "id": "iFwLDIxR896F",
        "outputId": "a02ed8bf-84e1-4349-925c-121ea16da3d8"
      },
      "id": "iFwLDIxR896F",
      "execution_count": 22,
      "outputs": [
        {
          "output_type": "stream",
          "name": "stdout",
          "text": [
            "              precision    recall  f1-score   support\n",
            "\n",
            "           0       0.95      0.97      0.96       696\n",
            "           1       0.90      0.84      0.87       240\n",
            "\n",
            "    accuracy                           0.94       936\n",
            "   macro avg       0.92      0.91      0.91       936\n",
            "weighted avg       0.94      0.94      0.94       936\n",
            "\n",
            "              precision    recall  f1-score   support\n",
            "\n",
            "           0       0.94      0.97      0.95       696\n",
            "           1       0.90      0.82      0.86       240\n",
            "\n",
            "    accuracy                           0.93       936\n",
            "   macro avg       0.92      0.89      0.91       936\n",
            "weighted avg       0.93      0.93      0.93       936\n",
            "\n",
            "              precision    recall  f1-score   support\n",
            "\n",
            "           0       0.93      0.96      0.95       696\n",
            "           1       0.88      0.80      0.84       240\n",
            "\n",
            "    accuracy                           0.92       936\n",
            "   macro avg       0.90      0.88      0.89       936\n",
            "weighted avg       0.92      0.92      0.92       936\n",
            "\n",
            "              precision    recall  f1-score   support\n",
            "\n",
            "           0       0.93      0.95      0.94       696\n",
            "           1       0.85      0.80      0.83       239\n",
            "\n",
            "    accuracy                           0.91       935\n",
            "   macro avg       0.89      0.88      0.88       935\n",
            "weighted avg       0.91      0.91      0.91       935\n",
            "\n",
            "              precision    recall  f1-score   support\n",
            "\n",
            "           0       0.93      0.96      0.95       695\n",
            "           1       0.88      0.80      0.84       240\n",
            "\n",
            "    accuracy                           0.92       935\n",
            "   macro avg       0.90      0.88      0.89       935\n",
            "weighted avg       0.92      0.92      0.92       935\n",
            "\n",
            "              precision    recall  f1-score   support\n",
            "\n",
            "           0       0.95      0.96      0.96       695\n",
            "           1       0.89      0.85      0.87       240\n",
            "\n",
            "    accuracy                           0.93       935\n",
            "   macro avg       0.92      0.90      0.91       935\n",
            "weighted avg       0.93      0.93      0.93       935\n",
            "\n",
            "              precision    recall  f1-score   support\n",
            "\n",
            "           0       0.94      0.96      0.95       695\n",
            "           1       0.89      0.84      0.86       240\n",
            "\n",
            "    accuracy                           0.93       935\n",
            "   macro avg       0.92      0.90      0.91       935\n",
            "weighted avg       0.93      0.93      0.93       935\n",
            "\n",
            "              precision    recall  f1-score   support\n",
            "\n",
            "           0       0.94      0.95      0.95       695\n",
            "           1       0.86      0.84      0.85       240\n",
            "\n",
            "    accuracy                           0.92       935\n",
            "   macro avg       0.90      0.90      0.90       935\n",
            "weighted avg       0.92      0.92      0.92       935\n",
            "\n",
            "              precision    recall  f1-score   support\n",
            "\n",
            "           0       0.94      0.97      0.95       695\n",
            "           1       0.90      0.81      0.85       240\n",
            "\n",
            "    accuracy                           0.93       935\n",
            "   macro avg       0.92      0.89      0.90       935\n",
            "weighted avg       0.93      0.93      0.93       935\n",
            "\n",
            "              precision    recall  f1-score   support\n",
            "\n",
            "           0       0.94      0.96      0.95       695\n",
            "           1       0.86      0.81      0.83       240\n",
            "\n",
            "    accuracy                           0.92       935\n",
            "   macro avg       0.90      0.88      0.89       935\n",
            "weighted avg       0.92      0.92      0.92       935\n",
            "\n"
          ]
        }
      ]
    },
    {
      "cell_type": "code",
      "source": [
        "idx = feature_probability['Probability'].sort_values(ascending = False).head(10).index\n",
        "feature_probability2 = feature_probability.loc[idx]\n",
        "\n",
        "plt.style.use('ggplot')\n",
        "plt.figure(figsize = (15,5))\n",
        "sns.barplot(x='Probability',y='Feature',data=feature_probability2).set(title='Top Sender Domains by Probability for Multinomial Naive Bayes')"
      ],
      "metadata": {
        "colab": {
          "base_uri": "https://localhost:8080/",
          "height": 509
        },
        "id": "s7AKFm6oD5wD",
        "outputId": "717265b0-0706-4ba9-e4ad-d39d29702611"
      },
      "id": "s7AKFm6oD5wD",
      "execution_count": 23,
      "outputs": [
        {
          "output_type": "execute_result",
          "data": {
            "text/plain": [
              "[Text(0.5, 1.0, 'Top Sender Domains by Probability for Multinomial Naive Bayes')]"
            ]
          },
          "metadata": {},
          "execution_count": 23
        },
        {
          "output_type": "display_data",
          "data": {
            "text/plain": [
              "<Figure size 1500x500 with 1 Axes>"
            ],
            "image/png": "[encoded data removed]"
          },
          "metadata": {}
        }
      ]
    },
    {
      "cell_type": "code",
      "execution_count": 24,
      "id": "57a436b3",
      "metadata": {
        "id": "57a436b3",
        "colab": {
          "base_uri": "https://localhost:8080/",
          "height": 576
        },
        "outputId": "ac7a417a-9460-40a3-ae5b-32c76040c842"
      },
      "outputs": [
        {
          "output_type": "display_data",
          "data": {
            "text/plain": [
              "<Figure size 700x700 with 2 Axes>"
            ],
            "image/png": "[encoded data removed]"
          },
          "metadata": {}
        }
      ],
      "source": [
        "cm = confusion_matrix(y[test],p)\n",
        "plt.rcParams[\"figure.figsize\"] = (7,7)\n",
        "dist =ConfusionMatrixDisplay(confusion_matrix = cm,display_labels = ['Ham','Spam'])\n",
        "dist.plot(cmap = \"Blues\")\n",
        "plt.title(\"Confusion Matrix for Multinomial NB\")\n",
        "plt.grid(False)\n",
        "plt.show()"
      ]
    },
    {
      "cell_type": "code",
      "source": [
        "# support vector machine - classifier\n",
        "from sklearnex import patch_sklearn\n",
        "patch_sklearn()\n",
        "from sklearn.svm import SVC\n",
        "\n",
        "my_pipe = Pipeline([\n",
        "    ('vectorizer',TfidfVectorizer(token_pattern=r\"(?u)\\b\\w+\\b\", stop_words=None, ngram_range=(2,2), analyzer='word')),\n",
        "    ('estimator',SVC(random_state=610))\n",
        "])\n",
        "pipe_params = {\n",
        "    'estimator__C':[.01,.1,.5,1],\n",
        "    'estimator__gamma':['scale','auto']\n",
        "}\n",
        "\n",
        "grid = GridSearchCV(my_pipe,pipe_params,cv=skf,scoring='accuracy',n_jobs=-1)\n",
        "results = grid.fit(X,y)\n",
        "print(results.best_estimator_)\n",
        "print(results.best_score_)"
      ],
      "metadata": {
        "colab": {
          "base_uri": "https://localhost:8080/"
        },
        "id": "6RzoIf4s7xGa",
        "outputId": "f84a3d92-f297-48ef-dd8a-f1870839d28b"
      },
      "id": "6RzoIf4s7xGa",
      "execution_count": 25,
      "outputs": [
        {
          "output_type": "stream",
          "name": "stderr",
          "text": [
            "Intel(R) Extension for Scikit-learn* enabled (https://github.com/intel/scikit-learn-intelex)\n",
            "/usr/local/lib/python3.10/dist-packages/joblib/externals/loky/process_executor.py:700: UserWarning:\n",
            "\n",
            "A worker stopped while some jobs were given to the executor. This can be caused by a too short worker timeout or by a memory leak.\n",
            "\n"
          ]
        },
        {
          "output_type": "stream",
          "name": "stdout",
          "text": [
            "Pipeline(steps=[('vectorizer',\n",
            "                 TfidfVectorizer(ngram_range=(2, 2),\n",
            "                                 token_pattern='(?u)\\\\b\\\\w+\\\\b')),\n",
            "                ('estimator', SVC(C=1, random_state=610))])\n",
            "0.9868491475844416\n"
          ]
        }
      ]
    },
    {
      "cell_type": "code",
      "source": [
        "# svc with best params\n",
        "my_pipe = Pipeline([\n",
        "    ('vectorizer',TfidfVectorizer(token_pattern=r\"(?u)\\b\\w+\\b\", stop_words=None, ngram_range=(2,2), analyzer='word')),\n",
        "    ('estimator',SVC(random_state=610,C=1))#not returning best for gamma for some reason\n",
        "])\n",
        "acc_score = []\n",
        "rec_score = []\n",
        "for i, (train,test) in enumerate(skf.split(X,y)):\n",
        "    my_pipe.fit(X[train],y[train])\n",
        "    p = my_pipe.predict(X[test])\n",
        "    acc_score.append(accuracy_score(y[test],p))\n",
        "    rec_score.append(recall_score(y[test],p))\n",
        "    print(classification_report(y[test],p))\n",
        "    \n",
        "svc_scores = pd.DataFrame({'accuracy':acc_score,\n",
        "                           'recall':rec_score})"
      ],
      "metadata": {
        "colab": {
          "base_uri": "https://localhost:8080/"
        },
        "id": "7dXaWtC-lMhM",
        "outputId": "23cad128-b119-41be-d367-dab71c17140d"
      },
      "id": "7dXaWtC-lMhM",
      "execution_count": 26,
      "outputs": [
        {
          "output_type": "stream",
          "name": "stdout",
          "text": [
            "              precision    recall  f1-score   support\n",
            "\n",
            "           0       0.99      1.00      0.99       696\n",
            "           1       1.00      0.96      0.98       240\n",
            "\n",
            "    accuracy                           0.99       936\n",
            "   macro avg       0.99      0.98      0.98       936\n",
            "weighted avg       0.99      0.99      0.99       936\n",
            "\n",
            "              precision    recall  f1-score   support\n",
            "\n",
            "           0       0.98      1.00      0.99       696\n",
            "           1       0.99      0.95      0.97       240\n",
            "\n",
            "    accuracy                           0.99       936\n",
            "   macro avg       0.99      0.97      0.98       936\n",
            "weighted avg       0.99      0.99      0.98       936\n",
            "\n",
            "              precision    recall  f1-score   support\n",
            "\n",
            "           0       0.99      1.00      0.99       696\n",
            "           1       0.99      0.96      0.97       240\n",
            "\n",
            "    accuracy                           0.99       936\n",
            "   macro avg       0.99      0.98      0.98       936\n",
            "weighted avg       0.99      0.99      0.99       936\n",
            "\n",
            "              precision    recall  f1-score   support\n",
            "\n",
            "           0       0.98      1.00      0.99       696\n",
            "           1       1.00      0.95      0.97       239\n",
            "\n",
            "    accuracy                           0.99       935\n",
            "   macro avg       0.99      0.97      0.98       935\n",
            "weighted avg       0.99      0.99      0.98       935\n",
            "\n",
            "              precision    recall  f1-score   support\n",
            "\n",
            "           0       0.98      1.00      0.99       695\n",
            "           1       1.00      0.94      0.97       240\n",
            "\n",
            "    accuracy                           0.99       935\n",
            "   macro avg       0.99      0.97      0.98       935\n",
            "weighted avg       0.99      0.99      0.98       935\n",
            "\n",
            "              precision    recall  f1-score   support\n",
            "\n",
            "           0       0.98      1.00      0.99       695\n",
            "           1       0.99      0.95      0.97       240\n",
            "\n",
            "    accuracy                           0.99       935\n",
            "   macro avg       0.99      0.97      0.98       935\n",
            "weighted avg       0.99      0.99      0.98       935\n",
            "\n",
            "              precision    recall  f1-score   support\n",
            "\n",
            "           0       0.98      1.00      0.99       695\n",
            "           1       1.00      0.95      0.97       240\n",
            "\n",
            "    accuracy                           0.99       935\n",
            "   macro avg       0.99      0.97      0.98       935\n",
            "weighted avg       0.99      0.99      0.99       935\n",
            "\n",
            "              precision    recall  f1-score   support\n",
            "\n",
            "           0       0.99      1.00      1.00       695\n",
            "           1       1.00      0.97      0.99       240\n",
            "\n",
            "    accuracy                           0.99       935\n",
            "   macro avg       1.00      0.99      0.99       935\n",
            "weighted avg       0.99      0.99      0.99       935\n",
            "\n",
            "              precision    recall  f1-score   support\n",
            "\n",
            "           0       0.98      1.00      0.99       695\n",
            "           1       0.99      0.94      0.97       240\n",
            "\n",
            "    accuracy                           0.98       935\n",
            "   macro avg       0.99      0.97      0.98       935\n",
            "weighted avg       0.98      0.98      0.98       935\n",
            "\n",
            "              precision    recall  f1-score   support\n",
            "\n",
            "           0       0.99      1.00      0.99       695\n",
            "           1       1.00      0.96      0.98       240\n",
            "\n",
            "    accuracy                           0.99       935\n",
            "   macro avg       0.99      0.98      0.99       935\n",
            "weighted avg       0.99      0.99      0.99       935\n",
            "\n"
          ]
        }
      ]
    },
    {
      "cell_type": "code",
      "source": [
        "cm = confusion_matrix(y[test],p)\n",
        "plt.rcParams[\"figure.figsize\"] = (7,7)\n",
        "dist =ConfusionMatrixDisplay(confusion_matrix = cm,display_labels = ['Ham','Spam'])\n",
        "dist.plot(cmap = \"Blues\")\n",
        "plt.title(\"Confusion Matrix for SVC\")\n",
        "plt.grid(False)\n",
        "plt.show()"
      ],
      "metadata": {
        "id": "5KJPBdd_BAKZ",
        "outputId": "024daa1e-018f-4525-b50e-703b376f092a",
        "colab": {
          "base_uri": "https://localhost:8080/",
          "height": 584
        }
      },
      "id": "5KJPBdd_BAKZ",
      "execution_count": 27,
      "outputs": [
        {
          "output_type": "display_data",
          "data": {
            "text/plain": [
              "<Figure size 700x700 with 2 Axes>"
            ],
            "image/png": "[encoded data removed]"
          },
          "metadata": {}
        }
      ]
    },
    {
      "cell_type": "code",
      "source": [
        "# random forest classifier\n",
        "from sklearn.ensemble import RandomForestClassifier\n",
        "\n",
        "\n",
        "my_pipe = Pipeline([\n",
        "    ('vectorizer',TfidfVectorizer(token_pattern=r\"(?u)\\b\\w+\\b\", stop_words=None, ngram_range=(2,2), analyzer='word')),\n",
        "    ('estimator',RandomForestClassifier(random_state=610,max_depth = 100))\n",
        "])\n",
        "pipe_params = {\n",
        "    'estimator__n_estimators':[50,100,200],\n",
        "    'estimator__class_weight':['balanced',None]\n",
        "}\n",
        "\n",
        "grid = GridSearchCV(my_pipe,pipe_params,cv=skf,scoring='accuracy',n_jobs=-1)\n",
        "results = grid.fit(X,y)\n",
        "print(results.best_estimator_)\n",
        "print(results.best_score_)"
      ],
      "metadata": {
        "id": "sTKM-en-Jyvc"
      },
      "id": "sTKM-en-Jyvc",
      "execution_count": null,
      "outputs": []
    },
    {
      "cell_type": "code",
      "source": [
        "# random forest classifier\n",
        "from sklearn.ensemble import RandomForestClassifier\n",
        "# rf best params\n",
        "my_pipe = Pipeline([\n",
        "    ('vectorizer',TfidfVectorizer(token_pattern=r\"(?u)\\b\\w+\\b\", stop_words=None, ngram_range=(2,2), analyzer='word')),\n",
        "    ('estimator',RandomForestClassifier(max_depth = 100,\n",
        "                                        random_state=610,\n",
        "                                        n_estimators = 200))\n",
        "])\n",
        "acc_score = []\n",
        "rec_score = []\n",
        "for i, (train,test) in enumerate(skf.split(X,y)):\n",
        "    my_pipe.fit(X[train],y[train])\n",
        "    p = my_pipe.predict(X[test])\n",
        "    acc_score.append(accuracy_score(y[test],p))\n",
        "    rec_score.append(recall_score(y[test],p))\n",
        "    print(classification_report(y[test],p))\n",
        "    \n",
        "rf_scores = pd.DataFrame({'accuracy':acc_score,\n",
        "                           'recall':rec_score})"
      ],
      "metadata": {
        "id": "K2mUahZFlqrk",
        "colab": {
          "base_uri": "https://localhost:8080/"
        },
        "outputId": "7c2bd161-6cdc-4cf7-e435-aadff410da9c"
      },
      "id": "K2mUahZFlqrk",
      "execution_count": 28,
      "outputs": [
        {
          "output_type": "stream",
          "name": "stdout",
          "text": [
            "              precision    recall  f1-score   support\n",
            "\n",
            "           0       0.96      1.00      0.98       696\n",
            "           1       1.00      0.88      0.93       240\n",
            "\n",
            "    accuracy                           0.97       936\n",
            "   macro avg       0.98      0.94      0.96       936\n",
            "weighted avg       0.97      0.97      0.97       936\n",
            "\n",
            "              precision    recall  f1-score   support\n",
            "\n",
            "           0       0.97      1.00      0.98       696\n",
            "           1       0.99      0.90      0.94       240\n",
            "\n",
            "    accuracy                           0.97       936\n",
            "   macro avg       0.98      0.95      0.96       936\n",
            "weighted avg       0.97      0.97      0.97       936\n",
            "\n",
            "              precision    recall  f1-score   support\n",
            "\n",
            "           0       0.96      1.00      0.98       696\n",
            "           1       0.99      0.89      0.94       240\n",
            "\n",
            "    accuracy                           0.97       936\n",
            "   macro avg       0.98      0.94      0.96       936\n",
            "weighted avg       0.97      0.97      0.97       936\n",
            "\n",
            "              precision    recall  f1-score   support\n",
            "\n",
            "           0       0.96      1.00      0.98       696\n",
            "           1       1.00      0.87      0.93       239\n",
            "\n",
            "    accuracy                           0.97       935\n",
            "   macro avg       0.98      0.93      0.95       935\n",
            "weighted avg       0.97      0.97      0.96       935\n",
            "\n",
            "              precision    recall  f1-score   support\n",
            "\n",
            "           0       0.95      1.00      0.97       695\n",
            "           1       0.99      0.83      0.90       240\n",
            "\n",
            "    accuracy                           0.96       935\n",
            "   macro avg       0.97      0.92      0.94       935\n",
            "weighted avg       0.96      0.96      0.95       935\n",
            "\n",
            "              precision    recall  f1-score   support\n",
            "\n",
            "           0       0.95      1.00      0.98       695\n",
            "           1       0.99      0.86      0.92       240\n",
            "\n",
            "    accuracy                           0.96       935\n",
            "   macro avg       0.97      0.93      0.95       935\n",
            "weighted avg       0.96      0.96      0.96       935\n",
            "\n",
            "              precision    recall  f1-score   support\n",
            "\n",
            "           0       0.96      1.00      0.98       695\n",
            "           1       0.99      0.87      0.92       240\n",
            "\n",
            "    accuracy                           0.96       935\n",
            "   macro avg       0.97      0.93      0.95       935\n",
            "weighted avg       0.96      0.96      0.96       935\n",
            "\n",
            "              precision    recall  f1-score   support\n",
            "\n",
            "           0       0.97      1.00      0.98       695\n",
            "           1       1.00      0.90      0.95       240\n",
            "\n",
            "    accuracy                           0.97       935\n",
            "   macro avg       0.98      0.95      0.96       935\n",
            "weighted avg       0.97      0.97      0.97       935\n",
            "\n",
            "              precision    recall  f1-score   support\n",
            "\n",
            "           0       0.96      1.00      0.98       695\n",
            "           1       1.00      0.89      0.94       240\n",
            "\n",
            "    accuracy                           0.97       935\n",
            "   macro avg       0.98      0.95      0.96       935\n",
            "weighted avg       0.97      0.97      0.97       935\n",
            "\n",
            "              precision    recall  f1-score   support\n",
            "\n",
            "           0       0.96      1.00      0.98       695\n",
            "           1       1.00      0.88      0.93       240\n",
            "\n",
            "    accuracy                           0.97       935\n",
            "   macro avg       0.98      0.94      0.95       935\n",
            "weighted avg       0.97      0.97      0.97       935\n",
            "\n"
          ]
        }
      ]
    },
    {
      "cell_type": "code",
      "source": [
        "scores_df = pd.concat([mNB_scores.assign(Model = \"MultiNB\",Fold = mNB_scores.index),\n",
        "                                 svc_scores.assign(Model = \"SVC\", Fold = svc_scores.index),\n",
        "                                 rf_scores.assign(Model = \"RandomForest\", Fold = rf_scores.index)\n",
        "                                 ])\n",
        "scores = scores_df.melt(id_vars=[\"Model\"],value_vars=['accuracy','recall'],var_name='Metric')"
      ],
      "metadata": {
        "colab": {
          "base_uri": "https://localhost:8080/",
          "height": 236
        },
        "id": "S0tHPymR5tlh",
        "outputId": "55bcff39-1b45-41c4-85d6-a781b47884d1"
      },
      "id": "S0tHPymR5tlh",
      "execution_count": 3,
      "outputs": [
        {
          "output_type": "error",
          "ename": "NameError",
          "evalue": "ignored",
          "traceback": [
            "\u001b[0;31m---------------------------------------------------------------------------\u001b[0m",
            "\u001b[0;31mNameError\u001b[0m                                 Traceback (most recent call last)",
            "\u001b[0;32m<ipython-input-3-96fbb618433a>\u001b[0m in \u001b[0;36m<cell line: 1>\u001b[0;34m()\u001b[0m\n\u001b[0;32m----> 1\u001b[0;31m scores_df = pd.concat([mNB_scores.assign(Model = \"MultiNB\",Fold = mNB_scores.index),\n\u001b[0m\u001b[1;32m      2\u001b[0m                                  \u001b[0msvc_scores\u001b[0m\u001b[0;34m.\u001b[0m\u001b[0massign\u001b[0m\u001b[0;34m(\u001b[0m\u001b[0mModel\u001b[0m \u001b[0;34m=\u001b[0m \u001b[0;34m\"SVC\"\u001b[0m\u001b[0;34m,\u001b[0m \u001b[0mFold\u001b[0m \u001b[0;34m=\u001b[0m \u001b[0msvc_scores\u001b[0m\u001b[0;34m.\u001b[0m\u001b[0mindex\u001b[0m\u001b[0;34m)\u001b[0m\u001b[0;34m,\u001b[0m\u001b[0;34m\u001b[0m\u001b[0;34m\u001b[0m\u001b[0m\n\u001b[1;32m      3\u001b[0m                                  \u001b[0mrf_scores\u001b[0m\u001b[0;34m.\u001b[0m\u001b[0massign\u001b[0m\u001b[0;34m(\u001b[0m\u001b[0mModel\u001b[0m \u001b[0;34m=\u001b[0m \u001b[0;34m\"RandomForest\"\u001b[0m\u001b[0;34m,\u001b[0m \u001b[0mFold\u001b[0m \u001b[0;34m=\u001b[0m \u001b[0mrf_scores\u001b[0m\u001b[0;34m.\u001b[0m\u001b[0mindex\u001b[0m\u001b[0;34m)\u001b[0m\u001b[0;34m\u001b[0m\u001b[0;34m\u001b[0m\u001b[0m\n\u001b[1;32m      4\u001b[0m                                  ])\n\u001b[1;32m      5\u001b[0m \u001b[0mscores\u001b[0m \u001b[0;34m=\u001b[0m \u001b[0mscores_df\u001b[0m\u001b[0;34m.\u001b[0m\u001b[0mmelt\u001b[0m\u001b[0;34m(\u001b[0m\u001b[0mid_vars\u001b[0m\u001b[0;34m=\u001b[0m\u001b[0;34m[\u001b[0m\u001b[0;34m\"Model\"\u001b[0m\u001b[0;34m]\u001b[0m\u001b[0;34m,\u001b[0m\u001b[0mvalue_vars\u001b[0m\u001b[0;34m=\u001b[0m\u001b[0;34m[\u001b[0m\u001b[0;34m'accuracy'\u001b[0m\u001b[0;34m,\u001b[0m\u001b[0;34m'recall'\u001b[0m\u001b[0;34m]\u001b[0m\u001b[0;34m,\u001b[0m\u001b[0mvar_name\u001b[0m\u001b[0;34m=\u001b[0m\u001b[0;34m'Metric'\u001b[0m\u001b[0;34m)\u001b[0m\u001b[0;34m\u001b[0m\u001b[0;34m\u001b[0m\u001b[0m\n",
            "\u001b[0;31mNameError\u001b[0m: name 'mNB_scores' is not defined"
          ]
        }
      ]
    },
    {
      "cell_type": "code",
      "source": [
        "import seaborn as sns\n",
        "sns.boxplot(scores,x='Model',y='value',hue='Metric').set(title = 'Error Distribution by Model')"
      ],
      "metadata": {
        "colab": {
          "base_uri": "https://localhost:8080/",
          "height": 184
        },
        "id": "2n6UuPNG52-g",
        "outputId": "a5ca4d4e-040c-445e-83e1-79339447509c"
      },
      "id": "2n6UuPNG52-g",
      "execution_count": 29,
      "outputs": [
        {
          "output_type": "error",
          "ename": "NameError",
          "evalue": "ignored",
          "traceback": [
            "\u001b[0;31m---------------------------------------------------------------------------\u001b[0m",
            "\u001b[0;31mNameError\u001b[0m                                 Traceback (most recent call last)",
            "\u001b[0;32m<ipython-input-29-d25d8f26fc38>\u001b[0m in \u001b[0;36m<cell line: 2>\u001b[0;34m()\u001b[0m\n\u001b[1;32m      1\u001b[0m \u001b[0;32mimport\u001b[0m \u001b[0mseaborn\u001b[0m \u001b[0;32mas\u001b[0m \u001b[0msns\u001b[0m\u001b[0;34m\u001b[0m\u001b[0;34m\u001b[0m\u001b[0m\n\u001b[0;32m----> 2\u001b[0;31m \u001b[0msns\u001b[0m\u001b[0;34m.\u001b[0m\u001b[0mboxplot\u001b[0m\u001b[0;34m(\u001b[0m\u001b[0mscores\u001b[0m\u001b[0;34m,\u001b[0m\u001b[0mx\u001b[0m\u001b[0;34m=\u001b[0m\u001b[0;34m'Model'\u001b[0m\u001b[0;34m,\u001b[0m\u001b[0my\u001b[0m\u001b[0;34m=\u001b[0m\u001b[0;34m'value'\u001b[0m\u001b[0;34m,\u001b[0m\u001b[0mhue\u001b[0m\u001b[0;34m=\u001b[0m\u001b[0;34m'Metric'\u001b[0m\u001b[0;34m)\u001b[0m\u001b[0;34m.\u001b[0m\u001b[0mset\u001b[0m\u001b[0;34m(\u001b[0m\u001b[0mtitle\u001b[0m \u001b[0;34m=\u001b[0m \u001b[0;34m'Error Distribution by Model'\u001b[0m\u001b[0;34m)\u001b[0m\u001b[0;34m\u001b[0m\u001b[0;34m\u001b[0m\u001b[0m\n\u001b[0m",
            "\u001b[0;31mNameError\u001b[0m: name 'scores' is not defined"
          ]
        }
      ]
    },
    {
      "cell_type": "code",
      "source": [
        "mNB_scores[['accuracy','recall']].describe().T"
      ],
      "metadata": {
        "id": "1Qv3RcdB7YMQ"
      },
      "id": "1Qv3RcdB7YMQ",
      "execution_count": null,
      "outputs": []
    },
    {
      "cell_type": "code",
      "source": [
        "# clustering\n",
        "## checking to see if KMeans can find two clusters that match fairly well with target\n",
        "\n",
        "from sklearn.cluster import KMeans\n",
        "clustering = KMeans(n_clusters=2,n_init='auto',random_state=610).fit(X)\n",
        "km_labels = clustering.labels_\n"
      ],
      "metadata": {
        "id": "cFMu_b_ImspW",
        "colab": {
          "base_uri": "https://localhost:8080/",
          "height": 218
        },
        "outputId": "70085df4-a6a2-429b-e94f-09428fed5a09"
      },
      "id": "cFMu_b_ImspW",
      "execution_count": 32,
      "outputs": [
        {
          "output_type": "error",
          "ename": "NameError",
          "evalue": "ignored",
          "traceback": [
            "\u001b[0;31m---------------------------------------------------------------------------\u001b[0m",
            "\u001b[0;31mNameError\u001b[0m                                 Traceback (most recent call last)",
            "\u001b[0;32m<ipython-input-32-d84ed9250d35>\u001b[0m in \u001b[0;36m<cell line: 5>\u001b[0;34m()\u001b[0m\n\u001b[1;32m      3\u001b[0m \u001b[0;34m\u001b[0m\u001b[0m\n\u001b[1;32m      4\u001b[0m \u001b[0;32mfrom\u001b[0m \u001b[0msklearn\u001b[0m\u001b[0;34m.\u001b[0m\u001b[0mcluster\u001b[0m \u001b[0;32mimport\u001b[0m \u001b[0mKMeans\u001b[0m\u001b[0;34m\u001b[0m\u001b[0;34m\u001b[0m\u001b[0m\n\u001b[0;32m----> 5\u001b[0;31m \u001b[0mclustering\u001b[0m \u001b[0;34m=\u001b[0m \u001b[0mKMeans\u001b[0m\u001b[0;34m(\u001b[0m\u001b[0mn_clusters\u001b[0m\u001b[0;34m=\u001b[0m\u001b[0;36m2\u001b[0m\u001b[0;34m,\u001b[0m\u001b[0mn_init\u001b[0m\u001b[0;34m=\u001b[0m\u001b[0;34m'auto'\u001b[0m\u001b[0;34m,\u001b[0m\u001b[0mrandom_state\u001b[0m\u001b[0;34m=\u001b[0m\u001b[0;36m610\u001b[0m\u001b[0;34m)\u001b[0m\u001b[0;34m.\u001b[0m\u001b[0mfit\u001b[0m\u001b[0;34m(\u001b[0m\u001b[0mX\u001b[0m\u001b[0;34m)\u001b[0m\u001b[0;34m\u001b[0m\u001b[0;34m\u001b[0m\u001b[0m\n\u001b[0m\u001b[1;32m      6\u001b[0m \u001b[0mkm_labels\u001b[0m \u001b[0;34m=\u001b[0m \u001b[0mclustering\u001b[0m\u001b[0;34m.\u001b[0m\u001b[0mlabels_\u001b[0m\u001b[0;34m\u001b[0m\u001b[0;34m\u001b[0m\u001b[0m\n",
            "\u001b[0;31mNameError\u001b[0m: name 'X' is not defined"
          ]
        }
      ]
    },
    {
      "cell_type": "code",
      "source": [
        "# clustering\n",
        "from sklearn.cluster import DBSCAN #DBSCAN works with\n",
        "\n",
        "clustering = DBSCAN(eps=1,n_jobs=-1).fit(X)\n",
        "db_labels = clustering.labels_"
      ],
      "metadata": {
        "id": "6HaUa4Denf6v"
      },
      "execution_count": null,
      "outputs": [],
      "id": "6HaUa4Denf6v"
    },
    {
      "cell_type": "code",
      "source": [
        "# saved from previous run\n",
        "mNB_scores = pd.read_csv('/content/mNB_scores.csv')\n",
        "svc_scores = pd.read_csv('/content/svc_scores.csv')\n",
        "rf_scores = pd.read_csv('/content/rf_scores.csv')"
      ],
      "metadata": {
        "colab": {
          "base_uri": "https://localhost:8080/",
          "height": 364
        },
        "id": "RYss0Jg04o2J",
        "outputId": "5ef0a83d-6df3-4fe0-8d20-3f03941dcf99"
      },
      "id": "RYss0Jg04o2J",
      "execution_count": 4,
      "outputs": [
        {
          "output_type": "error",
          "ename": "FileNotFoundError",
          "evalue": "ignored",
          "traceback": [
            "\u001b[0;31m---------------------------------------------------------------------------\u001b[0m",
            "\u001b[0;31mFileNotFoundError\u001b[0m                         Traceback (most recent call last)",
            "\u001b[0;32m<ipython-input-4-c76ea4fb2dd1>\u001b[0m in \u001b[0;36m<cell line: 2>\u001b[0;34m()\u001b[0m\n\u001b[1;32m      1\u001b[0m \u001b[0;31m# saved from previous run\u001b[0m\u001b[0;34m\u001b[0m\u001b[0;34m\u001b[0m\u001b[0m\n\u001b[0;32m----> 2\u001b[0;31m \u001b[0mmNB_scores\u001b[0m \u001b[0;34m=\u001b[0m \u001b[0mpd\u001b[0m\u001b[0;34m.\u001b[0m\u001b[0mread_csv\u001b[0m\u001b[0;34m(\u001b[0m\u001b[0;34m'/content/mNB_scores.csv'\u001b[0m\u001b[0;34m)\u001b[0m\u001b[0;34m\u001b[0m\u001b[0;34m\u001b[0m\u001b[0m\n\u001b[0m\u001b[1;32m      3\u001b[0m \u001b[0msvc_scores\u001b[0m \u001b[0;34m=\u001b[0m \u001b[0mpd\u001b[0m\u001b[0;34m.\u001b[0m\u001b[0mread_csv\u001b[0m\u001b[0;34m(\u001b[0m\u001b[0;34m'/content/svc_scores.csv'\u001b[0m\u001b[0;34m)\u001b[0m\u001b[0;34m\u001b[0m\u001b[0;34m\u001b[0m\u001b[0m\n\u001b[1;32m      4\u001b[0m \u001b[0mrf_scores\u001b[0m \u001b[0;34m=\u001b[0m \u001b[0mpd\u001b[0m\u001b[0;34m.\u001b[0m\u001b[0mread_csv\u001b[0m\u001b[0;34m(\u001b[0m\u001b[0;34m'/content/rf_scores.csv'\u001b[0m\u001b[0;34m)\u001b[0m\u001b[0;34m\u001b[0m\u001b[0;34m\u001b[0m\u001b[0m\n",
            "\u001b[0;32m/usr/local/lib/python3.10/dist-packages/pandas/util/_decorators.py\u001b[0m in \u001b[0;36mwrapper\u001b[0;34m(*args, **kwargs)\u001b[0m\n\u001b[1;32m    209\u001b[0m                 \u001b[0;32melse\u001b[0m\u001b[0;34m:\u001b[0m\u001b[0;34m\u001b[0m\u001b[0;34m\u001b[0m\u001b[0m\n\u001b[1;32m    210\u001b[0m                     \u001b[0mkwargs\u001b[0m\u001b[0;34m[\u001b[0m\u001b[0mnew_arg_name\u001b[0m\u001b[0;34m]\u001b[0m \u001b[0;34m=\u001b[0m \u001b[0mnew_arg_value\u001b[0m\u001b[0;34m\u001b[0m\u001b[0;34m\u001b[0m\u001b[0m\n\u001b[0;32m--> 211\u001b[0;31m             \u001b[0;32mreturn\u001b[0m \u001b[0mfunc\u001b[0m\u001b[0;34m(\u001b[0m\u001b[0;34m*\u001b[0m\u001b[0margs\u001b[0m\u001b[0;34m,\u001b[0m \u001b[0;34m**\u001b[0m\u001b[0mkwargs\u001b[0m\u001b[0;34m)\u001b[0m\u001b[0;34m\u001b[0m\u001b[0;34m\u001b[0m\u001b[0m\n\u001b[0m\u001b[1;32m    212\u001b[0m \u001b[0;34m\u001b[0m\u001b[0m\n\u001b[1;32m    213\u001b[0m         \u001b[0;32mreturn\u001b[0m \u001b[0mcast\u001b[0m\u001b[0;34m(\u001b[0m\u001b[0mF\u001b[0m\u001b[0;34m,\u001b[0m \u001b[0mwrapper\u001b[0m\u001b[0;34m)\u001b[0m\u001b[0;34m\u001b[0m\u001b[0;34m\u001b[0m\u001b[0m\n",
            "\u001b[0;32m/usr/local/lib/python3.10/dist-packages/pandas/util/_decorators.py\u001b[0m in \u001b[0;36mwrapper\u001b[0;34m(*args, **kwargs)\u001b[0m\n\u001b[1;32m    329\u001b[0m                     \u001b[0mstacklevel\u001b[0m\u001b[0;34m=\u001b[0m\u001b[0mfind_stack_level\u001b[0m\u001b[0;34m(\u001b[0m\u001b[0;34m)\u001b[0m\u001b[0;34m,\u001b[0m\u001b[0;34m\u001b[0m\u001b[0;34m\u001b[0m\u001b[0m\n\u001b[1;32m    330\u001b[0m                 )\n\u001b[0;32m--> 331\u001b[0;31m             \u001b[0;32mreturn\u001b[0m \u001b[0mfunc\u001b[0m\u001b[0;34m(\u001b[0m\u001b[0;34m*\u001b[0m\u001b[0margs\u001b[0m\u001b[0;34m,\u001b[0m \u001b[0;34m**\u001b[0m\u001b[0mkwargs\u001b[0m\u001b[0;34m)\u001b[0m\u001b[0;34m\u001b[0m\u001b[0;34m\u001b[0m\u001b[0m\n\u001b[0m\u001b[1;32m    332\u001b[0m \u001b[0;34m\u001b[0m\u001b[0m\n\u001b[1;32m    333\u001b[0m         \u001b[0;31m# error: \"Callable[[VarArg(Any), KwArg(Any)], Any]\" has no\u001b[0m\u001b[0;34m\u001b[0m\u001b[0;34m\u001b[0m\u001b[0m\n",
            "\u001b[0;32m/usr/local/lib/python3.10/dist-packages/pandas/io/parsers/readers.py\u001b[0m in \u001b[0;36mread_csv\u001b[0;34m(filepath_or_buffer, sep, delimiter, header, names, index_col, usecols, squeeze, prefix, mangle_dupe_cols, dtype, engine, converters, true_values, false_values, skipinitialspace, skiprows, skipfooter, nrows, na_values, keep_default_na, na_filter, verbose, skip_blank_lines, parse_dates, infer_datetime_format, keep_date_col, date_parser, dayfirst, cache_dates, iterator, chunksize, compression, thousands, decimal, lineterminator, quotechar, quoting, doublequote, escapechar, comment, encoding, encoding_errors, dialect, error_bad_lines, warn_bad_lines, on_bad_lines, delim_whitespace, low_memory, memory_map, float_precision, storage_options)\u001b[0m\n\u001b[1;32m    948\u001b[0m     \u001b[0mkwds\u001b[0m\u001b[0;34m.\u001b[0m\u001b[0mupdate\u001b[0m\u001b[0;34m(\u001b[0m\u001b[0mkwds_defaults\u001b[0m\u001b[0;34m)\u001b[0m\u001b[0;34m\u001b[0m\u001b[0;34m\u001b[0m\u001b[0m\n\u001b[1;32m    949\u001b[0m \u001b[0;34m\u001b[0m\u001b[0m\n\u001b[0;32m--> 950\u001b[0;31m     \u001b[0;32mreturn\u001b[0m \u001b[0m_read\u001b[0m\u001b[0;34m(\u001b[0m\u001b[0mfilepath_or_buffer\u001b[0m\u001b[0;34m,\u001b[0m \u001b[0mkwds\u001b[0m\u001b[0;34m)\u001b[0m\u001b[0;34m\u001b[0m\u001b[0;34m\u001b[0m\u001b[0m\n\u001b[0m\u001b[1;32m    951\u001b[0m \u001b[0;34m\u001b[0m\u001b[0m\n\u001b[1;32m    952\u001b[0m \u001b[0;34m\u001b[0m\u001b[0m\n",
            "\u001b[0;32m/usr/local/lib/python3.10/dist-packages/pandas/io/parsers/readers.py\u001b[0m in \u001b[0;36m_read\u001b[0;34m(filepath_or_buffer, kwds)\u001b[0m\n\u001b[1;32m    603\u001b[0m \u001b[0;34m\u001b[0m\u001b[0m\n\u001b[1;32m    604\u001b[0m     \u001b[0;31m# Create the parser.\u001b[0m\u001b[0;34m\u001b[0m\u001b[0;34m\u001b[0m\u001b[0m\n\u001b[0;32m--> 605\u001b[0;31m     \u001b[0mparser\u001b[0m \u001b[0;34m=\u001b[0m \u001b[0mTextFileReader\u001b[0m\u001b[0;34m(\u001b[0m\u001b[0mfilepath_or_buffer\u001b[0m\u001b[0;34m,\u001b[0m \u001b[0;34m**\u001b[0m\u001b[0mkwds\u001b[0m\u001b[0;34m)\u001b[0m\u001b[0;34m\u001b[0m\u001b[0;34m\u001b[0m\u001b[0m\n\u001b[0m\u001b[1;32m    606\u001b[0m \u001b[0;34m\u001b[0m\u001b[0m\n\u001b[1;32m    607\u001b[0m     \u001b[0;32mif\u001b[0m \u001b[0mchunksize\u001b[0m \u001b[0;32mor\u001b[0m \u001b[0miterator\u001b[0m\u001b[0;34m:\u001b[0m\u001b[0;34m\u001b[0m\u001b[0;34m\u001b[0m\u001b[0m\n",
            "\u001b[0;32m/usr/local/lib/python3.10/dist-packages/pandas/io/parsers/readers.py\u001b[0m in \u001b[0;36m__init__\u001b[0;34m(self, f, engine, **kwds)\u001b[0m\n\u001b[1;32m   1440\u001b[0m \u001b[0;34m\u001b[0m\u001b[0m\n\u001b[1;32m   1441\u001b[0m         \u001b[0mself\u001b[0m\u001b[0;34m.\u001b[0m\u001b[0mhandles\u001b[0m\u001b[0;34m:\u001b[0m \u001b[0mIOHandles\u001b[0m \u001b[0;34m|\u001b[0m \u001b[0;32mNone\u001b[0m \u001b[0;34m=\u001b[0m \u001b[0;32mNone\u001b[0m\u001b[0;34m\u001b[0m\u001b[0;34m\u001b[0m\u001b[0m\n\u001b[0;32m-> 1442\u001b[0;31m         \u001b[0mself\u001b[0m\u001b[0;34m.\u001b[0m\u001b[0m_engine\u001b[0m \u001b[0;34m=\u001b[0m \u001b[0mself\u001b[0m\u001b[0;34m.\u001b[0m\u001b[0m_make_engine\u001b[0m\u001b[0;34m(\u001b[0m\u001b[0mf\u001b[0m\u001b[0;34m,\u001b[0m \u001b[0mself\u001b[0m\u001b[0;34m.\u001b[0m\u001b[0mengine\u001b[0m\u001b[0;34m)\u001b[0m\u001b[0;34m\u001b[0m\u001b[0;34m\u001b[0m\u001b[0m\n\u001b[0m\u001b[1;32m   1443\u001b[0m \u001b[0;34m\u001b[0m\u001b[0m\n\u001b[1;32m   1444\u001b[0m     \u001b[0;32mdef\u001b[0m \u001b[0mclose\u001b[0m\u001b[0;34m(\u001b[0m\u001b[0mself\u001b[0m\u001b[0;34m)\u001b[0m \u001b[0;34m->\u001b[0m \u001b[0;32mNone\u001b[0m\u001b[0;34m:\u001b[0m\u001b[0;34m\u001b[0m\u001b[0;34m\u001b[0m\u001b[0m\n",
            "\u001b[0;32m/usr/local/lib/python3.10/dist-packages/pandas/io/parsers/readers.py\u001b[0m in \u001b[0;36m_make_engine\u001b[0;34m(self, f, engine)\u001b[0m\n\u001b[1;32m   1733\u001b[0m                 \u001b[0;32mif\u001b[0m \u001b[0;34m\"b\"\u001b[0m \u001b[0;32mnot\u001b[0m \u001b[0;32min\u001b[0m \u001b[0mmode\u001b[0m\u001b[0;34m:\u001b[0m\u001b[0;34m\u001b[0m\u001b[0;34m\u001b[0m\u001b[0m\n\u001b[1;32m   1734\u001b[0m                     \u001b[0mmode\u001b[0m \u001b[0;34m+=\u001b[0m \u001b[0;34m\"b\"\u001b[0m\u001b[0;34m\u001b[0m\u001b[0;34m\u001b[0m\u001b[0m\n\u001b[0;32m-> 1735\u001b[0;31m             self.handles = get_handle(\n\u001b[0m\u001b[1;32m   1736\u001b[0m                 \u001b[0mf\u001b[0m\u001b[0;34m,\u001b[0m\u001b[0;34m\u001b[0m\u001b[0;34m\u001b[0m\u001b[0m\n\u001b[1;32m   1737\u001b[0m                 \u001b[0mmode\u001b[0m\u001b[0;34m,\u001b[0m\u001b[0;34m\u001b[0m\u001b[0;34m\u001b[0m\u001b[0m\n",
            "\u001b[0;32m/usr/local/lib/python3.10/dist-packages/pandas/io/common.py\u001b[0m in \u001b[0;36mget_handle\u001b[0;34m(path_or_buf, mode, encoding, compression, memory_map, is_text, errors, storage_options)\u001b[0m\n\u001b[1;32m    854\u001b[0m         \u001b[0;32mif\u001b[0m \u001b[0mioargs\u001b[0m\u001b[0;34m.\u001b[0m\u001b[0mencoding\u001b[0m \u001b[0;32mand\u001b[0m \u001b[0;34m\"b\"\u001b[0m \u001b[0;32mnot\u001b[0m \u001b[0;32min\u001b[0m \u001b[0mioargs\u001b[0m\u001b[0;34m.\u001b[0m\u001b[0mmode\u001b[0m\u001b[0;34m:\u001b[0m\u001b[0;34m\u001b[0m\u001b[0;34m\u001b[0m\u001b[0m\n\u001b[1;32m    855\u001b[0m             \u001b[0;31m# Encoding\u001b[0m\u001b[0;34m\u001b[0m\u001b[0;34m\u001b[0m\u001b[0m\n\u001b[0;32m--> 856\u001b[0;31m             handle = open(\n\u001b[0m\u001b[1;32m    857\u001b[0m                 \u001b[0mhandle\u001b[0m\u001b[0;34m,\u001b[0m\u001b[0;34m\u001b[0m\u001b[0;34m\u001b[0m\u001b[0m\n\u001b[1;32m    858\u001b[0m                 \u001b[0mioargs\u001b[0m\u001b[0;34m.\u001b[0m\u001b[0mmode\u001b[0m\u001b[0;34m,\u001b[0m\u001b[0;34m\u001b[0m\u001b[0;34m\u001b[0m\u001b[0m\n",
            "\u001b[0;31mFileNotFoundError\u001b[0m: [Errno 2] No such file or directory: '/content/mNB_scores.csv'"
          ]
        }
      ]
    }
  ],
  "metadata": {
    "kernelspec": {
      "display_name": "Python 3 (ipykernel)",
      "language": "python",
      "name": "python3"
    },
    "language_info": {
      "codemirror_mode": {
        "name": "ipython",
        "version": 3
      },
      "file_extension": ".py",
      "mimetype": "text/x-python",
      "name": "python",
      "nbconvert_exporter": "python",
      "pygments_lexer": "ipython3",
      "version": "3.10.10"
    },
    "colab": {
      "provenance": [],
      "machine_shape": "hm",
      "include_colab_link": true
    }
  },
  "nbformat": 4,
  "nbformat_minor": 5
}